{
 "cells": [
  {
   "cell_type": "markdown",
   "metadata": {},
   "source": [
    "# Sentiment analysis on restaurant reviews with NLTK and TextBlob"
   ]
  },
  {
   "cell_type": "markdown",
   "metadata": {},
   "source": [
    "<ins>Date Created/ Submitted: 25 Feb 19</ins>\n",
    "\n",
    "For this capstone project, the aim is to predict the sentiment of a review using sentiment analysis. And, apply topic modelling using LDA or similar analysis to identify key topics/ area within each sentiment class (e.g. which topics/areas garner mostly negative reviews and which topic/areas garner mostly postive reviews).\n",
    "\n",
    "This python implementation of this project is split into several python notebooks.\n",
    "* Part 1: Web-scraping review data (The code for this is not uploaded to github)\n",
    "* Part 2: Explore the data\n",
    "* Part 3: Prepare the data (pre-processing)\n",
    "* Part 4a: Modelling using word vector generated from CountVectorizer\n",
    "* Part 4b: Modelling using word vector generated from TDIDFVectorizer\n",
    "* Part 5: Summary Results with Topics Identified"
   ]
  },
  {
   "cell_type": "markdown",
   "metadata": {},
   "source": [
    "### Part 4b: Modelling using word vector generated from TFIDFVectorizer\n",
    "\n",
    "Modelling was performed on word vector generated from TFIDFVectorizer including using Logistic Regression, Support Vector Classifier, Decision Tree Classifier, Random Forest Classifier and Multinomial Naive Bayes. \n",
    "\n",
    "Note: Output of some cells have been cleared to desensitize the source of the web-scraping."
   ]
  },
  {
   "cell_type": "markdown",
   "metadata": {},
   "source": [
    "### Setting Up the Environment"
   ]
  },
  {
   "cell_type": "code",
   "execution_count": 1,
   "metadata": {},
   "outputs": [
    {
     "name": "stdout",
     "output_type": "stream",
     "text": [
      "[nltk_data] Downloading package stopwords to\n",
      "[nltk_data]     /Users/alphaniang/nltk_data...\n",
      "[nltk_data]   Package stopwords is already up-to-date!\n",
      "[nltk_data] Downloading package wordnet to\n",
      "[nltk_data]     /Users/alphaniang/nltk_data...\n",
      "[nltk_data]   Package wordnet is already up-to-date!\n"
     ]
    }
   ],
   "source": [
    "## import various nlp packages\n",
    "import nltk\n",
    "nltk.download('stopwords') \n",
    "nltk.download('wordnet')\n",
    "from nltk.corpus import stopwords\n",
    "from nltk.stem.wordnet import WordNetLemmatizer \n",
    "from nltk.stem import PorterStemmer \n",
    "from nltk import FreqDist\n",
    "import contractions\n",
    "import unicodedata\n",
    "\n",
    "import gensim\n",
    "from gensim import corpora \n",
    "\n",
    "import spacy\n",
    "\n",
    "from textblob import TextBlob\n",
    "\n",
    "import csv\n",
    "import random\n",
    "import re\n",
    "import string\n",
    "import time\n",
    "from pprint import pprint\n",
    "import numpy as np\n",
    "import pandas as pd\n",
    "import seaborn as sns\n",
    "import matplotlib.pyplot as plt\n",
    "%matplotlib inline\n",
    "\n",
    "# Set seed for replicability.\n",
    "seedno = 18704\n",
    "np.random.seed(seedno)\n",
    "\n",
    "# to facilitate viewing full text\n",
    "pd.set_option('display.max_colwidth', 120)\n",
    "#pd.options.display.html.use_mathjax = False"
   ]
  },
  {
   "cell_type": "code",
   "execution_count": 2,
   "metadata": {},
   "outputs": [],
   "source": [
    "def plot_bars(attribute,setpalette='Spectral',setrotation=0,showlabels=True,sortvalue='ascending',sortcount=None):\n",
    "    sns.set(style=\"whitegrid\")\n",
    "# Store frequency counts of each label where unique is the label and counts is its frequency\n",
    "    unique, counts = np.unique(attribute.astype(str), return_counts=True)\n",
    "    unique_counts = pd.DataFrame({'Value': unique, 'Count': counts})\n",
    "    if sortvalue == 'descending':\n",
    "        unique_counts = unique_counts.sort_values('Value', ascending=False)\n",
    "    if sortvalue == 'ascending':\n",
    "        unique_counts = unique_counts.sort_values('Value', ascending=True)\n",
    "    if sortcount == 'descending':\n",
    "        unique_counts = unique_counts.sort_values('Count', ascending=False)\n",
    "    if sortcount == 'ascending':\n",
    "        unique_counts = unique_counts.sort_values('Count', ascending=True)\n",
    "\n",
    "# plot frequency counts\n",
    "    fig, ax = plt.subplots(figsize=(10,5))\n",
    "    ax = sns.barplot(x=\"Value\", y=\"Count\", data=unique_counts,palette=setpalette)\n",
    "    if showlabels==True:\n",
    "        for p in ax.patches:\n",
    "            height = p.get_height()\n",
    "            ax.text(p.get_x()+p.get_width()/2.,\n",
    "            height + 3,\n",
    "            '{:1.2f}'.format(height),\n",
    "            ha=\"center\") \n",
    "    plt.setp(ax.get_xticklabels(), rotation=setrotation)\n",
    "    plt.show()"
   ]
  },
  {
   "cell_type": "markdown",
   "metadata": {},
   "source": [
    "### Restaurant Reviews\n",
    "### Read in files (from directory) for analysis "
   ]
  },
  {
   "cell_type": "code",
   "execution_count": 3,
   "metadata": {},
   "outputs": [],
   "source": [
    "rreviews = pd.read_csv('rreviews.csv')\n",
    "rreviews = rreviews.drop(['Unnamed: 0'], axis=1)"
   ]
  },
  {
   "cell_type": "code",
   "execution_count": 4,
   "metadata": {},
   "outputs": [
    {
     "data": {
      "text/plain": [
       "(451065, 22)"
      ]
     },
     "execution_count": 4,
     "metadata": {},
     "output_type": "execute_result"
    }
   ],
   "source": [
    "rreviews.shape"
   ]
  },
  {
   "cell_type": "code",
   "execution_count": 5,
   "metadata": {},
   "outputs": [],
   "source": [
    "# change date columns from string to date type. even though data preparation\n",
    "# was performed in restaurantPreparation.ipynb, because the results was \n",
    "# exported to csv, it is necessary to re-define date format\n",
    "import datetime\n",
    "date_format = '%Y/%m/%d'\n",
    "rreviews['review_date'] = pd.to_datetime(rreviews['review_date'])\n",
    "rreviews['experience_date'] = pd.to_datetime(rreviews['experience_date'])"
   ]
  },
  {
   "cell_type": "code",
   "execution_count": null,
   "metadata": {},
   "outputs": [],
   "source": [
    "# display first two document text\n",
    "display(rreviews.head(2))"
   ]
  },
  {
   "cell_type": "markdown",
   "metadata": {},
   "source": [
    "### Text (Review) Preprocessing Steps "
   ]
  },
  {
   "cell_type": "code",
   "execution_count": 7,
   "metadata": {},
   "outputs": [
    {
     "name": "stdout",
     "output_type": "stream",
     "text": [
      "[nltk_data] Downloading package punkt to\n",
      "[nltk_data]     /Users/alphaniang/nltk_data...\n",
      "[nltk_data]   Package punkt is already up-to-date!\n",
      "[nltk_data] Downloading package averaged_perceptron_tagger to\n",
      "[nltk_data]     /Users/alphaniang/nltk_data...\n",
      "[nltk_data]   Package averaged_perceptron_tagger is already up-to-\n",
      "[nltk_data]       date!\n"
     ]
    }
   ],
   "source": [
    "import nltk\n",
    "nltk.download('punkt')\n",
    "nltk.download('averaged_perceptron_tagger')\n",
    "from nltk import word_tokenize\n",
    "from nltk import sent_tokenize\n",
    "from nltk import pos_tag\n",
    "from nltk import pos_tag_sents"
   ]
  },
  {
   "cell_type": "code",
   "execution_count": 8,
   "metadata": {},
   "outputs": [],
   "source": [
    "#replace_punctuation = str.maketrans(string.punctuation, ' '*len(string.punctuation))\n",
    "lemma = WordNetLemmatizer()\n",
    "stopwords_list = stopwords.words('english')"
   ]
  },
  {
   "cell_type": "code",
   "execution_count": 9,
   "metadata": {},
   "outputs": [],
   "source": [
    "#define a new function clean that returns cleaned doc.\n",
    "from nltk.corpus import wordnet\n",
    "\n",
    "def get_wordnet_pos(treebank_tag):\n",
    "\n",
    "    if treebank_tag.startswith('J'):\n",
    "        return wordnet.ADJ\n",
    "    elif treebank_tag.startswith('V'):\n",
    "        return wordnet.VERB\n",
    "    elif treebank_tag.startswith('N'):\n",
    "        return wordnet.NOUN\n",
    "    elif treebank_tag.startswith('R'):\n",
    "        return wordnet.ADV\n",
    "    else:\n",
    "        return wordnet.NOUN\n",
    "\n",
    "def remove_accented_chars(text):\n",
    "    text = unicodedata.normalize('NFKD', text).encode('ascii', \\\n",
    "                    'ignore').decode('utf-8', 'ignore')\n",
    "    return text\n",
    "\n",
    "def clean(doc):\n",
    "    fix_accent=remove_accented_chars(doc)\n",
    "    tagged_words=[]\n",
    "    for sent in pos_tag_sents(map(word_tokenize, sent_tokenize(fix_accent))):\n",
    "        tagged_words += sent\n",
    "    normalized = ' '.join(lemma.lemmatize(str(word).lower(), \\\n",
    "                    get_wordnet_pos(pos)) for word, pos in tagged_words) \n",
    "    fix_contractions=contractions.fix(normalized)\n",
    "    fix_repeats=re.sub(r'(.)\\1{2,}', r'\\1\\1', fix_contractions)\n",
    "    keep_alpha=re.sub('[^a-z]+', ' ', fix_repeats)\n",
    "    min_len_three = ' '.join([i for i in keep_alpha.split() \\\n",
    "                    if (len(i)>2 and i!='no')])\n",
    "    stop_free = ' '.join([i for i in min_len_three.split() \\\n",
    "                    if i not in stopwords_list])\n",
    "    return stop_free\n",
    "\n",
    "def clean_bypos(doc, filtered_pos='N'):\n",
    "    fix_accent=remove_accented_chars(doc)\n",
    "    tagged_words=[]\n",
    "    for sent in pos_tag_sents(map(word_tokenize, sent_tokenize(fix_accent))):\n",
    "        tagged_words += sent\n",
    "\n",
    "    if filtered_pos=='all':\n",
    "        normalized = ' '.join(lemma.lemmatize(str(word).lower(), \\\n",
    "                    get_wordnet_pos(pos)) for word, pos in tagged_words) \n",
    "    \n",
    "    elif filtered_pos!='all':\n",
    "        if filtered_pos=='N':\n",
    "            filtered_pos = ['NN', 'NNS', 'NNP', 'NNPS']\n",
    "        elif filtered_pos=='J':\n",
    "            filtered_pos = ['JJ', 'JJR', 'JJS']\n",
    "        elif filtered_pos=='R':\n",
    "            filtered_pos = ['RB', 'RBR', 'RBS']\n",
    "        elif filtered_pos=='V':\n",
    "            filtered_pos = ['VB', 'VBD', 'VBG', 'VBN', 'VBP', 'VBZ']\n",
    "        elif filtered_pos=='JV':\n",
    "            filtered_pos = ['JJ', 'JJR', 'JJS','VB', 'VBD', 'VBG', 'VBN', 'VBP', 'VBZ']\n",
    "        \n",
    "        normalized = ' '.join(lemma.lemmatize(str(word).lower(), \\\n",
    "                    get_wordnet_pos(pos)) for word, pos in tagged_words if pos in filtered_pos) \n",
    "    \n",
    "    fix_contractions=contractions.fix(normalized)\n",
    "    fix_repeats=re.sub(r'(.)\\1{2,}', r'\\1\\1', fix_contractions)\n",
    "    keep_alpha=re.sub('[^a-z]+', ' ', fix_repeats)\n",
    "    min_len_three = ' '.join([i for i in keep_alpha.split() if (len(i)>2 and i!='no')])\n",
    "    stop_free = ' '.join([i for i in min_len_three.split() \\\n",
    "                    if i not in stopwords_list])\n",
    "    return stop_free"
   ]
  },
  {
   "cell_type": "markdown",
   "metadata": {},
   "source": [
    "### Classifying Review Sentiment"
   ]
  },
  {
   "cell_type": "markdown",
   "metadata": {},
   "source": [
    "### Sentiment Polarity"
   ]
  },
  {
   "cell_type": "code",
   "execution_count": 10,
   "metadata": {},
   "outputs": [
    {
     "data": {
      "image/png": "[encoded data removed]",
      "text/plain": [
       "<Figure size 720x360 with 1 Axes>"
      ]
     },
     "metadata": {},
     "output_type": "display_data"
    }
   ],
   "source": [
    "plot_bars(rreviews['rating'])"
   ]
  },
  {
   "cell_type": "code",
   "execution_count": 11,
   "metadata": {},
   "outputs": [
    {
     "data": {
      "image/png": "[encoded data removed]",
      "text/plain": [
       "<Figure size 720x360 with 1 Axes>"
      ]
     },
     "metadata": {},
     "output_type": "display_data"
    }
   ],
   "source": [
    "plot_bars(rreviews['rating_polarity'])"
   ]
  },
  {
   "cell_type": "code",
   "execution_count": 12,
   "metadata": {},
   "outputs": [],
   "source": [
    "rreviews_polarity = rreviews[rreviews.rating_polarity != 0]"
   ]
  },
  {
   "cell_type": "code",
   "execution_count": 13,
   "metadata": {},
   "outputs": [
    {
     "data": {
      "image/png": "[encoded data removed]",
      "text/plain": [
       "<Figure size 720x360 with 1 Axes>"
      ]
     },
     "metadata": {},
     "output_type": "display_data"
    }
   ],
   "source": [
    "plot_bars(rreviews_polarity['rating_polarity'])"
   ]
  },
  {
   "cell_type": "code",
   "execution_count": 14,
   "metadata": {},
   "outputs": [
    {
     "data": {
      "text/plain": [
       "396530"
      ]
     },
     "execution_count": 14,
     "metadata": {},
     "output_type": "execute_result"
    }
   ],
   "source": [
    "len(rreviews_polarity)"
   ]
  },
  {
   "cell_type": "markdown",
   "metadata": {},
   "source": [
    "### Train Test Split"
   ]
  },
  {
   "cell_type": "code",
   "execution_count": 15,
   "metadata": {},
   "outputs": [],
   "source": [
    "# separate the features from the label. For X - drop labels, unnecessary attributes. \n",
    "# remaining attributes are review_date, word_count, char_count, avg_word_len,\n",
    "# stop_perword, punc_perchar, alpha_perchar, numeric_count, upper_perchar, user_islocal\n",
    "rreviews_X = rreviews_polarity.drop(['type','id','review_id','rating','review_date',\\\n",
    "                                     'experience_date','contributions','helpful_vote',\\\n",
    "                                     'user_id','user_name'], axis=1) \n",
    "rreviews_y = rreviews_polarity['rating_polarity'].copy()"
   ]
  },
  {
   "cell_type": "code",
   "execution_count": 16,
   "metadata": {},
   "outputs": [],
   "source": [
    "from sklearn.model_selection import train_test_split\n",
    "X_train, X_test, y_train, y_test = train_test_split(rreviews_X, rreviews_y,\\\n",
    "                                train_size=0.80, test_size=0.20, random_state=seedno)"
   ]
  },
  {
   "cell_type": "code",
   "execution_count": 17,
   "metadata": {},
   "outputs": [
    {
     "data": {
      "text/plain": [
       "396530"
      ]
     },
     "execution_count": 17,
     "metadata": {},
     "output_type": "execute_result"
    }
   ],
   "source": [
    "#Check total count match\n",
    "len(X_train)+len(X_test)"
   ]
  },
  {
   "cell_type": "markdown",
   "metadata": {},
   "source": [
    "### Create the Word Matrix"
   ]
  },
  {
   "cell_type": "markdown",
   "metadata": {},
   "source": [
    "### TF-IDF Vectorizer"
   ]
  },
  {
   "cell_type": "code",
   "execution_count": 18,
   "metadata": {},
   "outputs": [],
   "source": [
    "# we also try the tfidf vectorizer function (w the clean function as defined prior) \n",
    "from sklearn.feature_extraction.text import TfidfVectorizer\n",
    "xtrain_tvec = TfidfVectorizer(preprocessor=clean,min_df=0.0001)"
   ]
  },
  {
   "cell_type": "code",
   "execution_count": 19,
   "metadata": {},
   "outputs": [
    {
     "data": {
      "text/plain": [
       "TfidfVectorizer(analyzer='word', binary=False, decode_error='strict',\n",
       "        dtype=<class 'numpy.float64'>, encoding='utf-8', input='content',\n",
       "        lowercase=True, max_df=1.0, max_features=None, min_df=0.0001,\n",
       "        ngram_range=(1, 1), norm='l2',\n",
       "        preprocessor=<function clean at 0x1a22720c80>, smooth_idf=True,\n",
       "        stop_words=None, strip_accents=None, sublinear_tf=False,\n",
       "        token_pattern='(?u)\\\\b\\\\w\\\\w+\\\\b', tokenizer=None, use_idf=True,\n",
       "        vocabulary=None)"
      ]
     },
     "execution_count": 19,
     "metadata": {},
     "output_type": "execute_result"
    }
   ],
   "source": [
    "# we fit a word matrix based on the review text\n",
    "xtrain_tvec.fit(X_train['review_text'])"
   ]
  },
  {
   "cell_type": "code",
   "execution_count": 20,
   "metadata": {},
   "outputs": [],
   "source": [
    "# we create a word matrix based on the review text\n",
    "xtrain_tvec_matrix = xtrain_tvec.transform(X_train['review_text'])"
   ]
  },
  {
   "cell_type": "code",
   "execution_count": 21,
   "metadata": {},
   "outputs": [
    {
     "name": "stdout",
     "output_type": "stream",
     "text": [
      "['aback', 'abalone', 'abandon', 'abba', 'abd', 'abhi', 'ability', 'abit', 'able', 'abode', 'abound', 'abroad', 'abrupt', 'abruptly', 'absence', 'absent', 'absolute', 'absolutely', 'absolutley', 'absolutly', 'absorb', 'absurd', 'abundance', 'abundant', 'abuse', 'abusive', 'abuzz', 'abysmal', 'acai', 'accent', 'accentuate', 'accept', 'acceptable', 'access', 'accessible', 'accident', 'accidentally', 'accidently', 'acclaim', 'accolade', 'accommodate', 'accommodated', 'accommodating', 'accommodation', 'accomodate', 'accomodated', 'accomodating', 'accomodation', 'accompaniment', 'accompany', 'accompanying', 'accomplish', 'accor', 'accord', 'accordingly', 'account', 'accross', 'accurate', 'accurately', 'accuse', 'accustom', 'ace', 'ache', 'achieve', 'achievement', 'acid', 'acidic', 'acidity', 'acknowledge', 'acknowledgement', 'acknowledgment', 'acme', 'acoustic', 'acquaintance', 'acquire', 'acre', 'across', 'act', 'action', 'active', 'actively', 'activity', 'actual', 'actually', 'adam', 'adapt', 'add', 'added', 'addict', 'addictive', 'addition', 'additional', 'additionally', 'address', 'adelaide', 'adequate', 'adequately', 'adina', 'adjacent', 'adjoin', 'adjoining', 'adjust', 'adjustment', 'admirable', 'admire', 'admit', 'admittedly', 'adopt', 'adorable', 'adore', 'adorn', 'adria', 'adrian', 'adult', 'adults', 'advance', 'advanced', 'advantage', 'adventure', 'adventurous', 'advertise', 'advertised', 'advertisement', 'advertising', 'advice', 'advisable', 'advise', 'adviser', 'advisor', 'aesthetic', 'aesthetically', 'afar', 'affable', 'affair', 'affect', 'affogato', 'affogatos', 'afford', 'affordable', 'afghan', 'aficionado', 'afl', 'aforementioned', 'afous', 'afraid', 'africa', 'african', 'afternoon', 'aftertaste', 'afterthought', 'afterward', 'afterwards', 'age', 'aged', 'agenda', 'agent', 'aggressive', 'aggressively', 'agnolotti', 'ago', 'agree', 'agreeable', 'agreed', 'agreement', 'ahead', 'ahh', 'aid', 'aim', 'aimlessly', 'aioli', 'air', 'airbnb', 'aircon', 'airconditioning', 'airline', 'airport', 'airy', 'aisle', 'aka', 'aki', 'akin', 'ala', 'alan', 'alarm', 'alas', 'alaska', 'alaskan', 'albans', 'albeit', 'albi', 'albis', 'alcohol', 'alcoholic', 'alcove', 'aldi', 'ale', 'alegrias', 'alert', 'alessandro', 'alex', 'alexandra', 'alexandria', 'alfredo', 'alfresco', 'alice', 'alight', 'align', 'alike', 'alittle', 'alive', 'alla', 'allergic', 'allergies', 'allergy', 'alley', 'alleyway', 'allocate', 'allocated', 'allot', 'allotted', 'allow', 'allows', 'ally', 'almond', 'almost', 'alone', 'along', 'alongside', 'aloo', 'aloof', 'alot', 'alpha', 'alphabet', 'already', 'alright', 'also', 'alta', 'alter', 'alteration', 'alternate', 'alternative', 'alternatively', 'although', 'altitude', 'altogether', 'alway', 'always', 'amanda', 'amandas', 'amaretto', 'amateur', 'amateurish', 'amaze', 'amazed', 'amazement', 'amazing', 'amazingly', 'amber', 'ambiance', 'ambience', 'ambient', 'amd', 'amend', 'amends', 'amenity', 'america', 'american', 'amex', 'amidst', 'amigo', 'amiss', 'among', 'amongst', 'amount', 'ample', 'amuse', 'amusement', 'amusing', 'amy', 'anason', 'anchor', 'anchorage', 'anchovy', 'ancient', 'andre', 'andrea', 'andrew', 'andy', 'angel', 'angela', 'angeles', 'angelo', 'anger', 'angle', 'angry', 'angus', 'animal', 'anise', 'anna', 'anniversary', 'announce', 'annoy', 'annoyance', 'annoyed', 'annoying', 'annoyingly', 'annual', 'anonymous', 'another', 'answer', 'ant', 'anthony', 'anti', 'anticipate', 'anticipated', 'anticipation', 'antipasti', 'antipasto', 'antique', 'antonio', 'anxious', 'anybody', 'anyhow', 'anymore', 'anyone', 'anyones', 'anything', 'anytime', 'anyway', 'anyways', 'anywhere', 'anzac', 'aoli', 'apart', 'apartment', 'aperitif', 'aperol', 'aplenty', 'aplomb', 'apollo', 'apologetic', 'apologise', 'apologised', 'apologize', 'apology', 'app', 'appal', 'appalling', 'appallingly', 'apparent', 'apparently', 'appeal', 'appealing', 'appear', 'appearance', 'appetiser', 'appetising', 'appetit', 'appetite', 'appetito', 'appetizer', 'appetizing', 'applaud', 'apple', 'applies', 'apply', 'appoint', 'appointed', 'appointment', 'appreciate', 'appreciated', 'appreciation', 'appreciative', 'apprehensive', 'apprentice', 'approach', 'approachable', 'appropriate', 'appropriately', 'approval', 'approve', 'approx', 'approximately', 'apps', 'apricot', 'april', 'apron', 'apt', 'aptly', 'aqua', 'aquarium', 'arabian', 'arabic', 'aranchini', 'arancini', 'arcade', 'arch', 'architectural', 'architecture', 'area', 'areal', 'areas', 'arena', 'argentina', 'argentinian', 'arguably', 'argue', 'argument', 'argumentative', 'argyle', 'aria', 'arise', 'aristotle', 'arjuna', 'arm', 'armando', 'armchair', 'army', 'aroma', 'aromatic', 'around', 'arrancini', 'arrange', 'arranged', 'arrangement', 'array', 'arrival', 'arrive', 'arrived', 'arrives', 'arriving', 'arrogance', 'arrogant', 'art', 'artfully', 'arthur', 'artichoke', 'article', 'artificial', 'artisan', 'artist', 'artistic', 'artistically', 'artistry', 'artwork', 'arty', 'arugula', 'arvo', 'asa', 'asahi', 'aseel', 'ash', 'ashamed', 'ashfield', 'asia', 'asian', 'aside', 'ask', 'asked', 'asking', 'asleep', 'asparagus', 'aspect', 'aspire', 'assault', 'assemble', 'assessment', 'asset', 'assign', 'assist', 'assistance', 'assistant', 'associate', 'association', 'assort', 'assorted', 'assortment', 'assume', 'assumption', 'assure', 'astonish', 'astonishing', 'astound', 'astray', 'aswell', 'ate', 'athmosphere', 'atlantic', 'atlantis', 'atleast', 'atm', 'atmoshere', 'atmospher', 'atmosphere', 'atmospheric', 'atmostphere', 'atom', 'atop', 'atrium', 'atrocious', 'attach', 'attached', 'attack', 'attempt', 'attend', 'attendance', 'attendant', 'attended', 'attendee', 'attentative', 'attention', 'attentive', 'attentively', 'attentiveness', 'attest', 'attire', 'attitude', 'attract', 'attraction', 'attractive', 'attractively', 'attribute', 'aubergine', 'auckland', 'aud', 'audacity', 'audience', 'aug', 'august', 'aunt', 'auntie', 'aunty', 'aus', 'aussie', 'australia', 'australian', 'austria', 'austrian', 'authentic', 'authentically', 'authenticity', 'authority', 'automatic', 'automatically', 'automaton', 'autumn', 'avacado', 'avail', 'availability', 'available', 'avalon', 'ave', 'avenue', 'average', 'avid', 'avo', 'avocado', 'avoid', 'await', 'awaited', 'awaits', 'awake', 'award', 'aware', 'away', 'aways', 'awe', 'aweful', 'awesome', 'awesomeness', 'awful', 'awfully', 'awhile', 'awkward', 'awkwardly', 'awning', 'awsome', 'ayam', 'azuma', 'baba', 'babaganoush', 'babbingtons', 'baby', 'baccomatto', 'bach', 'back', 'backdrop', 'background', 'backpacker', 'backstrap', 'backwards', 'backyard', 'bacon', 'bad', 'badly', 'baffle', 'bag', 'bagel', 'baguette', 'bahn', 'baia', 'bailey', 'bain', 'bait', 'bake', 'baked', 'bakehouse', 'baker', 'bakery', 'baking', 'baklava', 'balance', 'balanced', 'balcony', 'bald', 'balgowlah', 'bali', 'balinese', 'balkan', 'ball', 'balla', 'ballet', 'balloon', 'balmain', 'balmoral', 'balmy', 'balsamic', 'bambino', 'bamboo', 'ban', 'banana', 'band', 'bang', 'banger', 'bangkok', 'banh', 'banjo', 'bank', 'banksii', 'banoffee', 'banquet', 'banquette', 'banter', 'bao', 'bar', 'baramundi', 'barangaroo', 'barbecue', 'barbeque', 'barbuto', 'barcelona', 'bare', 'barely', 'bargain', 'barista', 'baristas', 'bark', 'barley', 'barmaid', 'barman', 'barn', 'baroque', 'barossa', 'barra', 'barrack', 'barramundi', 'barrel', 'barrenjoey', 'barrier', 'barrio', 'barrumundi', 'bars', 'bartender', 'barzura', 'base', 'based', 'basement', 'bash', 'basic', 'basically', 'basil', 'basin', 'basis', 'bask', 'basket', 'basmati', 'bass', 'baste', 'bastille', 'basting', 'bat', 'batch', 'bath', 'bather', 'bathroom', 'bathurst', 'batter', 'battered', 'battle', 'bau', 'baume', 'bavarian', 'bay', 'bbq', 'bday', 'bea', 'beach', 'beaches', 'beachfront', 'beachside', 'beachy', 'beam', 'bean', 'beans', 'bear', 'bearable', 'beard', 'bearing', 'bearnaise', 'beast', 'beat', 'beaten', 'beatiful', 'beatles', 'beau', 'beaumont', 'beaut', 'beautiful', 'beautifull', 'beautifully', 'beauty', 'bec', 'bechamel', 'beckon', 'become', 'becomes', 'bed', 'bedroom', 'bee', 'beef', 'beeper', 'beer', 'beers', 'beet', 'beetroot', 'befit', 'beforehand', 'beg', 'begin', 'beginning', 'begrudgingly', 'behalf', 'behave', 'behaved', 'behavior', 'behaviour', 'behind', 'behold', 'beignet', 'beijing', 'bel', 'belated', 'belgian', 'belgium', 'belie', 'belief', 'believe', 'belinda', 'bell', 'bella', 'belle', 'bellini', 'bellisimo', 'bellissimo', 'belly', 'belmont', 'belong', 'beloved', 'belt', 'ben', 'bench', 'benchmark', 'bend', 'bene', 'beneath', 'benedict', 'benefit', 'bennelong', 'benny', 'bent', 'bentley', 'bento', 'beppi', 'berate', 'berkshire', 'bernaise', 'bernard', 'berowra', 'berry', 'berta', 'berth', 'beside', 'besides', 'best', 'bet', 'betal', 'betel', 'better', 'betty', 'bettys', 'beurre', 'beverage', 'beverages', 'beverly', 'beware', 'beyond', 'bhaji', 'bianca', 'bianco', 'bias', 'bib', 'bier', 'big', 'bigger', 'biggest', 'biggie', 'biggles', 'bike', 'bill', 'billing', 'billu', 'billy', 'bimbadgen', 'bin', 'bind', 'bingo', 'bircher', 'bird', 'birdcage', 'biriyani', 'birra', 'birth', 'birthday', 'birubi', 'biryani', 'biscotti', 'biscuit', 'bishop', 'bisque', 'bistro', 'bistrot', 'bit', 'bite', 'bitter', 'bitterly', 'bitterness', 'bitton', 'bizarre', 'bizarrely', 'black', 'blackberry', 'blackbird', 'blackboard', 'blacken', 'blackheath', 'blackmore', 'blackwattle', 'blah', 'blake', 'blame', 'blanc', 'blanca', 'bland', 'blank', 'blanket', 'blankly', 'blare', 'blaring', 'blast', 'blat', 'blatant', 'blatantly', 'blaxland', 'blaxlands', 'blaze', 'blazing', 'bleak', 'blend', 'bless', 'blessing', 'bleu', 'blew', 'blind', 'blink', 'bliss', 'blissful', 'bloat', 'blob', 'block', 'blog', 'bloke', 'blond', 'blonde', 'blood', 'bloodwood', 'bloody', 'bloom', 'blossom', 'blow', 'blowing', 'blown', 'blt', 'blu', 'blue', 'blueberry', 'bluewater', 'blunt', 'bluntly', 'blustery', 'boar', 'board', 'boarding', 'boardwalk', 'boast', 'boat', 'boathouse', 'boatshed', 'bob', 'boca', 'bocados', 'bocconcini', 'boccone', 'bodega', 'bodhi', 'body', 'boeuf', 'bog', 'bohemian', 'boil', 'boiled', 'boiler', 'boilerhouse', 'boisterous', 'bok', 'bol', 'bold', 'bolognaise', 'bolognese', 'bomb', 'bombay', 'bombe', 'bombora', 'bon', 'bond', 'bondi', 'bone', 'boneless', 'bonita', 'bonito', 'bonus', 'boo', 'book', 'booked', 'booking', 'bookings', 'bookshop', 'bookstore', 'boom', 'boost', 'boot', 'booth', 'booze', 'boozy', 'bordeaux', 'border', 'bordering', 'borderline', 'bore', 'bored', 'boring', 'boris', 'born', 'borrow', 'bos', 'boscaiola', 'bosciola', 'boss', 'boston', 'botanic', 'botanica', 'botanical', 'botanist', 'botany', 'bother', 'bottle', 'bottled', 'bottles', 'bottom', 'bottomless', 'bouche', 'bouchon', 'boudin', 'bought', 'bouillabaisse', 'boulevard', 'bounce', 'bouncer', 'bound', 'boundary', 'bountiful', 'bourbon', 'bourguignon', 'bourke', 'bout', 'boutique', 'bow', 'bowel', 'bower', 'bowery', 'bowl', 'bowling', 'bowls', 'box', 'boxes', 'boxing', 'boy', 'boyfriend', 'boys', 'bracket', 'brad', 'brag', 'brain', 'brainer', 'braise', 'braised', 'branch', 'brand', 'brandy', 'brasserie', 'brassiere', 'brauhaus', 'bravas', 'brave', 'bravo', 'braza', 'brazil', 'brazilian', 'brazillian', 'breach', 'bread', 'breadcrumb', 'break', 'breaker', 'breakfast', 'breakie', 'breakkie', 'breakky', 'breaky', 'breast', 'breath', 'breathe', 'breathtaking', 'breed', 'breeze', 'breezy', 'brekkie', 'brekkies', 'brekky', 'brenner', 'bresaola', 'brew', 'brewer', 'brewery', 'brewhouse', 'brewing', 'brewtown', 'brezel', 'brian', 'brick', 'bridal', 'bride', 'bridge', 'brie', 'brief', 'briefly', 'brigade', 'bright', 'brighten', 'brighter', 'brightly', 'brighton', 'brillant', 'brilliance', 'brilliant', 'brilliantly', 'brim', 'brine', 'bring', 'brings', 'brio', 'brioche', 'brisbane', 'brisk', 'brisket', 'brit', 'british', 'brittle', 'broad', 'broadway', 'broccoli', 'broccolini', 'brochure', 'brocollini', 'broke', 'broken', 'brokenback', 'bronte', 'brooklyn', 'broth', 'brother', 'brought', 'brown', 'brownie', 'browse', 'bruce', 'bruchetta', 'brule', 'brulee', 'brunch', 'bruno', 'bruscetta', 'bruschetta', 'brush', 'brushetta', 'brusque', 'brussel', 'brussels', 'btw', 'bub', 'bubble', 'bubbly', 'bubs', 'bucco', 'buck', 'bucket', 'buckley', 'buckwheat', 'buco', 'bud', 'buddha', 'buddy', 'budget', 'buds', 'bufala', 'buff', 'buffalo', 'buffet', 'buffett', 'bug', 'bugger', 'build', 'building', 'bulgogi', 'bulk', 'bull', 'bullet', 'bulli', 'bully', 'bum', 'bummer', 'bump', 'bun', 'bunch', 'bundle', 'buns', 'buon', 'burbs', 'burden', 'burger', 'burgers', 'burgundy', 'burn', 'burner', 'burning', 'burnt', 'burrata', 'burrito', 'burst', 'burwood', 'bus', 'bush', 'bushland', 'busier', 'business', 'businessmen', 'bust', 'bustle', 'bustling', 'busy', 'busyness', 'butcher', 'butler', 'butt', 'butter', 'buttered', 'butterflied', 'butterfly', 'buttermilk', 'butternut', 'butterscotch', 'buttery', 'button', 'buy', 'buying', 'buzz', 'buzzer', 'buzzing', 'buzzy', 'byblos', 'bye', 'bygone', 'byo', 'byob', 'byog', 'bypass', 'byron', 'cab', 'cabbage', 'cabernet', 'cabin', 'cabinet', 'cacciatore', 'cacio', 'caesar', 'cafe', 'cafes', 'cafeteria', 'caffe', 'caffeine', 'cage', 'cairn', 'cairo', 'cajun', 'cake', 'cakeage', 'cakes', 'cal', 'calais', 'calamari', 'caliber', 'calibre', 'california', 'californian', 'calimari', 'call', 'called', 'calm', 'calming', 'calmly', 'calorie', 'calzone', 'cam', 'cambridge', 'camden', 'came', 'camel', 'camembert', 'camera', 'caminetto', 'camino', 'cammeray', 'camp', 'campbell', 'campbelltown', 'camper', 'campos', 'canada', 'canadian', 'canai', 'canape', 'canard', 'canberra', 'cancel', 'cancellation', 'cancer', 'candelori', 'candied', 'candle', 'candlelight', 'candy', 'cane', 'cannelloni', 'cannoli', 'cannot', 'canoli', 'canopy', 'canteen', 'cantina', 'canton', 'cantonese', 'canyon', 'cap', 'capable', 'capacity', 'cape', 'caper', 'capital', 'capitan', 'capitol', 'cappuccino', 'caprese', 'capriccio', 'capricciosa', 'capsicum', 'captain', 'captivate', 'captive', 'capture', 'car', 'carafe', 'caramel', 'caramelise', 'caramelised', 'caramelize', 'caramelized', 'caravan', 'carb', 'carbonara', 'carbs', 'card', 'cardamom', 'cardboard', 'care', 'career', 'careful', 'carefully', 'careless', 'cargo', 'caribbean', 'caring', 'carne', 'carnival', 'carnivore', 'carol', 'carpaccio', 'carpark', 'carpet', 'carrington', 'carrot', 'carry', 'cart', 'carte', 'cartel', 'carve', 'carvery', 'casa', 'case', 'cash', 'cashew', 'cashier', 'casino', 'casserole', 'cassoulet', 'cast', 'castle', 'casual', 'casually', 'cat', 'catalan', 'catalina', 'catch', 'catching', 'catchup', 'category', 'cater', 'catered', 'catering', 'caters', 'cathedral', 'cattle', 'caucasian', 'caught', 'cauliflower', 'causal', 'caution', 'cautious', 'cave', 'caveat', 'caveau', 'cavernous', 'caviar', 'cbd', 'ceasar', 'cease', 'ceaser', 'ceiling', 'celebrate', 'celebration', 'celebratory', 'celebrity', 'celeriac', 'celery', 'celiac', 'cellar', 'cement', 'cent', 'center', 'central', 'centrally', 'centre', 'century', 'ceramic', 'cereal', 'ceremony', 'certain', 'certainly', 'certificate', 'cerviche', 'cesar', 'cessnock', 'ceviche', 'cha', 'chaat', 'chablis', 'chai', 'chain', 'chair', 'chairs', 'chalk', 'chalkboard', 'challenge', 'challenging', 'champagne', 'champers', 'champion', 'chan', 'chance', 'chandelier', 'chandon', 'chang', 'change', 'changed', 'changing', 'channel', 'chantilly', 'chaos', 'chaotic', 'chap', 'char', 'character', 'characteristic', 'charcoal', 'charcuterie', 'chard', 'chardonnay', 'chardy', 'charge', 'charged', 'chargrilled', 'charismatic', 'charity', 'charles', 'charlestown', 'charlie', 'charlotte', 'charm', 'charming', 'charred', 'chart', 'chase', 'chat', 'chateau', 'chateaubriand', 'chatswood', 'chatter', 'chatting', 'chatty', 'cheap', 'cheaper', 'cheapest', 'cheat', 'check', 'checked', 'checking', 'checkout', 'cheddar', 'chee', 'cheek', 'cheeky', 'cheep', 'cheer', 'cheerful', 'cheerfully', 'cheers', 'cheery', 'cheese', 'cheeseboard', 'cheeseburger', 'cheesecake', 'cheesy', 'chef', 'chefs', 'chemical', 'chenin', 'cheque', 'cherish', 'cherry', 'chess', 'chestnut', 'chew', 'chewy', 'chi', 'chia', 'chianti', 'chic', 'chica', 'chicago', 'chick', 'chicken', 'chickpea', 'chief', 'child', 'childhood', 'children', 'childrens', 'chile', 'chili', 'chilies', 'chill', 'chilled', 'chilli', 'chilly', 'chim', 'chimichurri', 'chin', 'china', 'chinatown', 'chinese', 'chiosco', 'chip', 'chipotle', 'chippendale', 'chippy', 'chips', 'chiswick', 'chit', 'chive', 'cho', 'choc', 'chock', 'choco', 'chocoholic', 'chocoholics', 'chocolat', 'chocolate', 'chocolates', 'chocolatey', 'choi', 'choice', 'choices', 'choke', 'choo', 'chook', 'chooks', 'choose', 'choosing', 'chop', 'chophouse', 'chopped', 'chopstick', 'chore', 'chorizo', 'chose', 'chosen', 'chow', 'chowder', 'choy', 'chris', 'christen', 'christening', 'christian', 'christmas', 'chu', 'chuck', 'chunk', 'chunky', 'chur', 'church', 'churn', 'churrasco', 'churros', 'chutney', 'ciabatta', 'ciao', 'cider', 'cigar', 'cigarette', 'cinema', 'cinnamon', 'cipri', 'circa', 'circle', 'circular', 'circulate', 'circumstance', 'circus', 'cirque', 'cirrus', 'citizen', 'citrus', 'city', 'civic', 'civilised', 'claim', 'claire', 'clam', 'clap', 'clare', 'clarence', 'clareville', 'clarify', 'clash', 'class', 'classic', 'classical', 'classify', 'classy', 'claustrophobic', 'claw', 'clay', 'clean', 'cleaner', 'cleaning', 'cleanliness', 'cleanse', 'cleanser', 'clear', 'cleared', 'clearing', 'clearly', 'cleveland', 'clever', 'cleverly', 'cliche', 'click', 'client', 'clientele', 'cliff', 'climate', 'climb', 'clinical', 'clip', 'clock', 'clockwork', 'close', 'closed', 'closely', 'closer', 'closest', 'closing', 'closure', 'cloth', 'clothes', 'clothing', 'cloud', 'cloudy', 'clovelly', 'club', 'clue', 'clueless', 'clump', 'clumsy', 'cluster', 'clutter', 'coach', 'coal', 'coarse', 'coast', 'coastal', 'coaster', 'coastline', 'coat', 'coating', 'cob', 'coca', 'cockatoo', 'cockle', 'cockroach', 'cocktail', 'cocktails', 'coco', 'cocoa', 'coconut', 'cod', 'code', 'coeliac', 'coeliacs', 'coffe', 'coffee', 'coffees', 'coffin', 'cognac', 'coin', 'coincide', 'coincidence', 'coke', 'cola', 'colada', 'cold', 'colder', 'cole', 'coleslaw', 'colin', 'collapse', 'collar', 'collaroy', 'colleague', 'colleagues', 'collect', 'collection', 'collective', 'college', 'collegues', 'colonial', 'color', 'colorful', 'colour', 'coloured', 'colourful', 'colouring', 'column', 'com', 'coma', 'combination', 'combinations', 'combine', 'combined', 'combo', 'come', 'comeback', 'comedy', 'comer', 'comfort', 'comfortable', 'comfortably', 'comforting', 'comfy', 'comical', 'coming', 'command', 'commence', 'commend', 'commendable', 'commensurate', 'comment', 'commentary', 'commercial', 'commit', 'commitment', 'common', 'commonly', 'communal', 'communicate', 'communication', 'community', 'como', 'comp', 'compact', 'companion', 'company', 'comparable', 'comparatively', 'compare', 'comparison', 'compel', 'compensate', 'compensation', 'compete', 'competent', 'competition', 'competitive', 'competitor', 'complacent', 'complain', 'complaining', 'complains', 'complaint', 'complaints', 'complement', 'complementary', 'complete', 'completely', 'completion', 'complex', 'complexity', 'complicate', 'complicated', 'compliment', 'complimentary', 'comply', 'component', 'compose', 'composition', 'compote', 'compound', 'comprehend', 'comprehensive', 'comprise', 'compromise', 'compulsory', 'computer', 'con', 'conceive', 'concentrate', 'concept', 'concern', 'concerned', 'concert', 'concierge', 'concise', 'conclude', 'conclusion', 'concoction', 'concord', 'concourse', 'concrete', 'concur', 'condescend', 'condescending', 'condiment', 'condition', 'conditioned', 'conditioner', 'conditioning', 'conducive', 'conduct', 'cone', 'conference', 'confess', 'confidence', 'confident', 'confidently', 'confine', 'confirm', 'confirmation', 'confirmed', 'confit', 'conflict', 'confront', 'confuse', 'confused', 'confusing', 'confusion', 'congee', 'congenial', 'congrats', 'congratulate', 'congratulation', 'congratulations', 'congregate', 'conjure', 'connect', 'connection', 'connoisseur', 'cons', 'conscious', 'consecutive', 'consensus', 'consequence', 'consequently', 'conservation', 'conservative', 'conservatory', 'consider', 'considerable', 'considerably', 'considerate', 'consideration', 'considering', 'consist', 'consistant', 'consistantly', 'consistency', 'consistent', 'consistently', 'consisting', 'consomme', 'constant', 'constantly', 'constitute', 'constraint', 'construct', 'construction', 'constructive', 'consult', 'consume', 'consumer', 'consumption', 'contact', 'contain', 'container', 'contamination', 'contemplate', 'contemporary', 'contempt', 'contender', 'content', 'context', 'continent', 'continental', 'continual', 'continually', 'continue', 'continues', 'continuous', 'continuously', 'contrary', 'contrast', 'contribute', 'control', 'convenience', 'convenient', 'conveniently', 'convent', 'convention', 'conventional', 'conversation', 'converse', 'conversion', 'convert', 'converted', 'convey', 'conveyor', 'convict', 'convince', 'convivial', 'coogee', 'cooh', 'cook', 'cookbook', 'cooked', 'cookie', 'cooking', 'cooky', 'cool', 'cooler', 'cooling', 'coonawarra', 'cooper', 'coordinate', 'coordinator', 'cop', 'cope', 'copious', 'copper', 'copy', 'coq', 'coral', 'cordial', 'core', 'coriander', 'cork', 'corkage', 'corn', 'corned', 'corner', 'corona', 'corporate', 'correct', 'correctly', 'corridor', 'corso', 'cortile', 'cos', 'cosmopolitan', 'cost', 'costa', 'costly', 'costume', 'costumer', 'cosy', 'cote', 'cotta', 'cottage', 'couch', 'cough', 'could', 'coulis', 'council', 'count', 'counter', 'counterpart', 'countless', 'country', 'countryside', 'couple', 'couples', 'coupon', 'courgette', 'course', 'courses', 'court', 'courteous', 'courteously', 'courtesy', 'courtney', 'courtyard', 'cous', 'couscous', 'cousin', 'cove', 'cover', 'covered', 'covering', 'cow', 'cowper', 'cowrie', 'coz', 'cozy', 'crab', 'crabmeat', 'crack', 'cracked', 'cracker', 'cracking', 'crackle', 'crackling', 'craft', 'cram', 'crammed', 'cramp', 'cramped', 'cranberry', 'cranky', 'cranny', 'crap', 'crappy', 'crash', 'crave', 'craving', 'crawl', 'crayfish', 'crayon', 'crazy', 'cream', 'creamed', 'creaminess', 'creamy', 'create', 'creation', 'creative', 'creatively', 'creativity', 'creature', 'credit', 'creek', 'creep', 'crema', 'creme', 'cremino', 'cremorne', 'crepe', 'creperie', 'crest', 'crew', 'cricket', 'crime', 'criminal', 'cringe', 'criniti', 'crinitis', 'crisp', 'crispness', 'crispy', 'criterion', 'critic', 'critical', 'criticise', 'criticism', 'critique', 'croc', 'crockery', 'crocodile', 'croissant', 'cronulla', 'cronut', 'cronuts', 'croque', 'croquet', 'croquette', 'croquettes', 'cross', 'crostini', 'crouton', 'crow', 'crowd', 'crowded', 'crowds', 'crown', 'crowne', 'crudo', 'cruise', 'cruisy', 'crumb', 'crumbed', 'crumble', 'crumbly', 'crumpet', 'crunch', 'crunchy', 'crush', 'crushed', 'crust', 'crustacean', 'crusted', 'crusty', 'cry', 'crystal', 'cuba', 'cuban', 'cubano', 'cube', 'cubicle', 'cucina', 'cucumber', 'cudo', 'cue', 'cuisine', 'culinary', 'cult', 'cultural', 'culture', 'cultured', 'cumberland', 'cumin', 'cup', 'cupcake', 'cuppa', 'curated', 'curb', 'curd', 'cure', 'cured', 'curiosity', 'curious', 'curl', 'curly', 'currant', 'current', 'currently', 'curried', 'curry', 'curt', 'curtain', 'curve', 'cushion', 'cusine', 'custard', 'custom', 'customer', 'customers', 'customise', 'cut', 'cute', 'cutlery', 'cutlet', 'cutting', 'cuttlefish', 'cuvee', 'cycle', 'cyclist', 'cypriot', 'cyren', 'czech', 'daal', 'dad', 'daddy', 'dahl', 'daikon', 'daily', 'dainty', 'daiquiri', 'dairy', 'dal', 'dam', 'damage', 'damn', 'damp', 'dampen', 'dampener', 'damper', 'dan', 'dance', 'dancer', 'dancing', 'danger', 'dangerous', 'daniel', 'daniele', 'danielle', 'danish', 'danny', 'darby', 'dare', 'dark', 'darker', 'darkness', 'darley', 'darleys', 'darling', 'darlinghurst', 'darn', 'darren', 'dash', 'dashi', 'date', 'dated', 'daughter', 'daunt', 'dave', 'david', 'dawn', 'day', 'daylight', 'days', 'daytime', 'dazzle', 'dead', 'deaf', 'deafen', 'deal', 'dealt', 'dear', 'dearer', 'death', 'debacle', 'debate', 'debit', 'debone', 'dec', 'decade', 'decadence', 'decadent', 'decaf', 'decant', 'deceive', 'december', 'decent', 'decently', 'deceptive', 'deceptively', 'decibel', 'decide', 'decided', 'decidedly', 'decipher', 'decision', 'deck', 'deckhouse', 'declare', 'decline', 'deco', 'deconstruct', 'deconstructed', 'decor', 'decorate', 'decorated', 'decorating', 'decoration', 'decorative', 'decore', 'decrease', 'dedicate', 'dedicated', 'dedication', 'deduct', 'dee', 'deem', 'deep', 'deeply', 'def', 'default', 'defeat', 'defend', 'defensive', 'defiantly', 'definately', 'definatley', 'definatly', 'define', 'definetely', 'definetly', 'definite', 'definitely', 'definition', 'definitively', 'definitley', 'definitly', 'defintely', 'defo', 'defrost', 'defy', 'deg', 'degree', 'degustation', 'del', 'delay', 'delayed', 'delcious', 'delectable', 'delete', 'delhi', 'deli', 'deliberate', 'deliberately', 'delicacy', 'delicado', 'delicate', 'delicately', 'delicatessen', 'delice', 'delicious', 'deliciously', 'deliciousness', 'delicous', 'delight', 'delighted', 'delightful', 'delightfully', 'delish', 'deliver', 'delivered', 'delivers', 'delivery', 'deluxe', 'demand', 'demeanour', 'demographic', 'demolish', 'demonstrate', 'den', 'dense', 'dent', 'dente', 'deny', 'depart', 'department', 'departure', 'depend', 'dependable', 'deposit', 'depot', 'depth', 'descend', 'descent', 'describe', 'described', 'descript', 'description', 'desert', 'deserts', 'deserve', 'deserved', 'deservedly', 'deserves', 'deserving', 'design', 'designate', 'designated', 'designer', 'desirable', 'desire', 'desired', 'desk', 'despair', 'desperate', 'desperately', 'despite', 'dessert', 'desserts', 'destination', 'destroy', 'detail', 'detailed', 'detect', 'deter', 'deteriorate', 'determine', 'detour', 'detract', 'deus', 'devastate', 'develop', 'development', 'device', 'devil', 'devine', 'devoid', 'devon', 'devonshire', 'devour', 'dhal', 'diabetic', 'diabolical', 'dial', 'diamond', 'diane', 'dianne', 'diary', 'diavola', 'dice', 'diced', 'die', 'diet', 'dietary', 'diethnes', 'differ', 'difference', 'different', 'differentiate', 'differently', 'difficult', 'difficulty', 'dig', 'digest', 'digestive', 'digger', 'diggies', 'dijon', 'dilemma', 'diligent', 'dill', 'dilute', 'dim', 'dimension', 'diminish', 'dimly', 'dimmed', 'dimmi', 'dimsum', 'din', 'dine', 'dined', 'diner', 'diners', 'ding', 'dingy', 'dining', 'dinner', 'dinners', 'dinning', 'dip', 'dipping', 'dips', 'dire', 'direct', 'direction', 'directly', 'director', 'dirt', 'dirty', 'dis', 'disability', 'disable', 'disabled', 'disadvantage', 'disagree', 'disapoint', 'disapointed', 'disapointing', 'disapointment', 'disappear', 'disappoint', 'disappointed', 'disappointing', 'disappointingly', 'disappointment', 'disappoints', 'disaster', 'disastrous', 'disbelief', 'disc', 'discern', 'discerning', 'disco', 'discomfort', 'disconnect', 'discount', 'discourage', 'discover', 'discovery', 'discreet', 'discreetly', 'discrete', 'discretely', 'discretion', 'discriminate', 'discrimination', 'discuss', 'discussion', 'disdain', 'disease', 'disembark', 'disfida', 'disgrace', 'disgraceful', 'disguise', 'disgust', 'disgusted', 'disgusting', 'disgustingly', 'dish', 'dishes', 'dishonest', 'dishwasher', 'dishwater', 'disinterested', 'dislike', 'dismal', 'dismay', 'dismiss', 'dismissive', 'disorganise', 'disorganised', 'dispenser', 'display', 'displayed', 'displeasure', 'disposable', 'dispute', 'disregard', 'disrespect', 'disrespectful', 'disrupt', 'dissapoint', 'dissapointed', 'dissapointing', 'dissapointment', 'dissapoints', 'dissappointed', 'dissappointing', 'dissatisfaction', 'dissatisfied', 'dissatisfy', 'dissolve', 'distance', 'distant', 'distinct', 'distinctive', 'distinctly', 'distinguish', 'distract', 'distracted', 'distraction', 'distress', 'distribute', 'district', 'disturb', 'ditch', 'ditto', 'dive', 'diverse', 'diversity', 'divide', 'divine', 'dixon', 'diy', 'dock', 'docket', 'dockyard', 'doctor', 'dodgy', 'doe', 'dog', 'doggie', 'doggy', 'dolce', 'doll', 'dollar', 'dollars', 'dollop', 'dolmades', 'dolphin', 'dom', 'domain', 'dome', 'domestic', 'dominate', 'domino', 'donald', 'donalds', 'donate', 'donation', 'done', 'donna', 'donut', 'door', 'doorman', 'doors', 'doorstep', 'doorway', 'dory', 'dosa', 'dosai', 'dosas', 'dose', 'dot', 'double', 'doubt', 'dough', 'doughnut', 'doughy', 'douse', 'downer', 'downfall', 'downhill', 'download', 'downpour', 'downright', 'downside', 'downstairs', 'downtown', 'doyle', 'doyles', 'doz', 'dozen', 'drab', 'draft', 'drag', 'dragon', 'drain', 'drake', 'drama', 'dramatic', 'dramatically', 'drank', 'drape', 'draught', 'draw', 'drawback', 'drawcard', 'drawer', 'drawing', 'dread', 'dreadful', 'dream', 'dreamy', 'dreary', 'drench', 'dress', 'dressed', 'dressing', 'drew', 'dribble', 'dried', 'drift', 'drill', 'drink', 'drinkable', 'drinker', 'drinking', 'drinks', 'drip', 'drive', 'driven', 'driver', 'driveway', 'driving', 'drizzle', 'drizzly', 'drool', 'drop', 'dropped', 'drove', 'drown', 'drum', 'drummoyne', 'drumstick', 'drunk', 'drunken', 'dry', 'dtf', 'dubai', 'dubious', 'duck', 'duckling', 'dud', 'dude', 'due', 'dukkah', 'dulce', 'dull', 'duly', 'dumb', 'dump', 'dumpling', 'dumplings', 'dunbar', 'dune', 'dunk', 'duo', 'dural', 'duration', 'dusk', 'dust', 'dusty', 'dutch', 'duty', 'dynamic', 'dynamite', 'eager', 'eagerly', 'eagle', 'ear', 'earl', 'earlier', 'early', 'earn', 'earned', 'earth', 'earthy', 'ease', 'easier', 'easily', 'east', 'eastbank', 'easter', 'eastern', 'eastwood', 'easy', 'eat', 'eatable', 'eaten', 'eater', 'eateries', 'eaters', 'eatery', 'eating', 'eats', 'eccentric', 'echo', 'eclair', 'eclectic', 'economical', 'economy', 'ecstatic', 'ect', 'edamame', 'edge', 'edgy', 'edible', 'educate', 'education', 'eel', 'efendy', 'effecient', 'effect', 'effective', 'effectively', 'efficent', 'efficiency', 'efficient', 'efficiently', 'effort', 'effortless', 'effortlessly', 'eftpos', 'egg', 'eggplant', 'eggs', 'ego', 'egyptian', 'eight', 'eighty', 'either', 'elaborate', 'elan', 'elbow', 'elderflower', 'elderly', 'eldest', 'elect', 'electric', 'electronic', 'elegance', 'elegant', 'elegantly', 'element', 'elevate', 'elevated', 'elevator', 'eleven', 'elite', 'elizabeth', 'else', 'elsewhere', 'elvis', 'email', 'emanate', 'embark', 'embarrass', 'embarrassed', 'embarrassing', 'embarrassment', 'ember', 'embrace', 'emerge', 'emergency', 'emerson', 'emily', 'emma', 'empanadas', 'empathy', 'emperor', 'emphasis', 'emphasise', 'empire', 'employ', 'employee', 'emporium', 'empty', 'emu', 'emulsion', 'enable', 'encasa', 'encase', 'enchant', 'enchilada', 'enclose', 'enclosed', 'encompass', 'encounter', 'encourage', 'encrust', 'end', 'endeavour', 'ended', 'ending', 'endive', 'endless', 'endorse', 'endure', 'enemy', 'energetic', 'energy', 'engage', 'engagement', 'engaging', 'engine', 'england', 'english', 'enhance', 'enigma', 'enjoy', 'enjoyable', 'enjoyed', 'enjoyment', 'enmore', 'enoki', 'enormous', 'enormously', 'enough', 'enquire', 'enquiry', 'ensure', 'enter', 'entering', 'entertain', 'entertainer', 'entertaining', 'entertainment', 'enthusiasm', 'enthusiast', 'enthusiastic', 'enthusiastically', 'entice', 'enticing', 'entire', 'entirely', 'entitle', 'entrance', 'entre', 'entrecote', 'entree', 'entrees', 'entres', 'entry', 'enviable', 'envious', 'environment', 'envy', 'enzo', 'enzos', 'epic', 'episode', 'epitome', 'equal', 'equally', 'equate', 'equip', 'equipment', 'equivalent', 'era', 'err', 'erratic', 'error', 'esca', 'escalator', 'escape', 'escargot', 'escarpment', 'escort', 'esp', 'especially', 'esplanade', 'espresso', 'esque', 'essen', 'essence', 'essential', 'essentially', 'est', 'estabar', 'establish', 'established', 'establishment', 'estate', 'ester', 'estimate', 'estuary', 'etc', 'eternity', 'ethic', 'ethical', 'ethnic', 'ethos', 'etiquette', 'eton', 'eucalypt', 'euro', 'europe', 'european', 'evan', 'eve', 'even', 'evening', 'evenings', 'evenly', 'event', 'eventhough', 'eventually', 'ever', 'everthing', 'every', 'everybody', 'everyday', 'everyone', 'everyones', 'everything', 'everytime', 'everywhere', 'evidence', 'evident', 'evidently', 'evoke', 'evolve', 'exact', 'exactly', 'exaggerate', 'exaggeration', 'example', 'exceed', 'exceeded', 'exceedingly', 'excel', 'excelent', 'excellant', 'excellence', 'excellent', 'excellently', 'excels', 'except', 'exception', 'exceptional', 'exceptionally', 'excess', 'excessive', 'excessively', 'exchange', 'excite', 'excited', 'excitement', 'exciting', 'exclaim', 'exclude', 'exclusive', 'exclusively', 'excursion', 'excuse', 'execute', 'executed', 'execution', 'executive', 'exellent', 'exemplary', 'exercise', 'exhaust', 'exhibit', 'exhibition', 'exist', 'existence', 'existent', 'exit', 'exorbitant', 'exotic', 'exp', 'expand', 'expansive', 'expect', 'expectation', 'expectations', 'expected', 'expense', 'expensive', 'expereince', 'experiance', 'experience', 'experienced', 'experiences', 'experiment', 'experimental', 'experince', 'expert', 'expertise', 'expertly', 'expire', 'explain', 'explanation', 'explode', 'exploration', 'explore', 'explorer', 'explosion', 'expose', 'exposed', 'express', 'expression', 'expresso', 'exquisite', 'exquisitely', 'extend', 'extended', 'extension', 'extensive', 'extensively', 'extent', 'exterior', 'external', 'extortionate', 'extra', 'extract', 'extraordinarily', 'extraordinary', 'extras', 'extravagant', 'extravaganza', 'extreme', 'extremely', 'extremly', 'exude', 'exxy', 'exy', 'eye', 'eyed', 'eyelid', 'ezard', 'fab', 'fabio', 'fabric', 'fabulous', 'fabulously', 'facade', 'face', 'facebook', 'facelift', 'facial', 'facilitate', 'facility', 'facing', 'fact', 'factor', 'factory', 'fade', 'fahrenheit', 'fail', 'fails', 'failure', 'faint', 'fair', 'fairly', 'fairmont', 'fairness', 'fairy', 'faith', 'faithful', 'fajita', 'fajitas', 'fake', 'falafel', 'fall', 'false', 'falter', 'fame', 'famed', 'familiar', 'families', 'family', 'famish', 'famous', 'fan', 'fanatic', 'fancy', 'fanfare', 'fantasic', 'fantastic', 'fantastically', 'fantastico', 'fantasy', 'far', 'fare', 'farewell', 'farm', 'farmer', 'farmhouse', 'fascinate', 'fascinating', 'fashion', 'fashionable', 'fashioned', 'fast', 'faster', 'fat', 'fate', 'father', 'fatoush', 'fattoush', 'fatty', 'fault', 'faulted', 'faultless', 'faulty', 'faux', 'fav', 'fave', 'faves', 'favor', 'favorite', 'favour', 'favourable', 'favourably', 'favourite', 'favourites', 'favs', 'fawlty', 'fear', 'feast', 'feat', 'feather', 'feature', 'feb', 'february', 'fed', 'fee', 'feed', 'feedback', 'feeding', 'feel', 'feeling', 'feels', 'feet', 'felafel', 'felix', 'fell', 'fella', 'fellow', 'felt', 'female', 'femme', 'fence', 'fennel', 'feral', 'ferment', 'fermented', 'ferris', 'ferry', 'fest', 'festival', 'festive', 'feta', 'fetch', 'fetta', 'fettuccine', 'fettuccini', 'fettucine', 'fettucini', 'feuille', 'fiance', 'fiancee', 'fiasco', 'fiddler', 'field', 'fiery', 'fiesta', 'fifteen', 'fifth', 'fifty', 'fig', 'fight', 'figure', 'file', 'filet', 'fill', 'filled', 'filler', 'fillet', 'filling', 'film', 'filo', 'filter', 'filthy', 'fin', 'final', 'finale', 'finalise', 'finally', 'financial', 'find', 'finding', 'fine', 'finely', 'finer', 'finesse', 'finest', 'fingal', 'finger', 'finish', 'finished', 'finishing', 'fir', 'fire', 'fired', 'firedoor', 'firefly', 'fireplace', 'firework', 'fireworks', 'firm', 'firmly', 'first', 'firstly', 'fish', 'fisherman', 'fishing', 'fishmonger', 'fishy', 'fist', 'fit', 'fitout', 'fitting', 'five', 'fix', 'fixe', 'fixed', 'fixture', 'fizz', 'fizzy', 'flag', 'flagship', 'flair', 'flake', 'flakey', 'flaky', 'flame', 'flamenco', 'flaming', 'flan', 'flank', 'flare', 'flash', 'flashy', 'flat', 'flatbread', 'flathead', 'flavor', 'flavored', 'flavorful', 'flavorless', 'flavorsome', 'flavour', 'flavoured', 'flavourful', 'flavouring', 'flavourless', 'flavours', 'flavoursome', 'flaw', 'flawless', 'flemish', 'flesh', 'flew', 'flexibility', 'flexible', 'flick', 'flight', 'flip', 'flirt', 'float', 'floating', 'flock', 'flood', 'floor', 'flooring', 'flop', 'floral', 'florence', 'florentine', 'florist', 'floss', 'flounder', 'flour', 'flourish', 'flourless', 'floury', 'flow', 'flower', 'flowerpot', 'flowing', 'fluffy', 'fluster', 'flustered', 'fly', 'flyer', 'foam', 'focaccia', 'foccacia', 'focus', 'focused', 'fog', 'foggy', 'foghorn', 'foie', 'foil', 'fold', 'folk', 'follow', 'followed', 'follower', 'following', 'fond', 'fondant', 'fondue', 'font', 'food', 'foodie', 'foods', 'foody', 'fool', 'foon', 'foot', 'football', 'foote', 'footpath', 'footy', 'force', 'fore', 'foreign', 'foreigner', 'foremost', 'foreshore', 'forest', 'forever', 'forewarn', 'forget', 'forgetful', 'forgettable', 'forgive', 'forgiven', 'forgo', 'forgot', 'forgotten', 'fork', 'form', 'formal', 'formally', 'format', 'former', 'formerly', 'formula', 'forth', 'forthcoming', 'fortnight', 'fortunate', 'fortunately', 'fortune', 'forty', 'forum', 'forward', 'foul', 'found', 'fountain', 'four', 'fours', 'fourteen', 'fourth', 'fowl', 'fox', 'foyer', 'fraction', 'fragrance', 'fragrant', 'fraiche', 'frame', 'france', 'franchise', 'francisco', 'frangelico', 'frank', 'frankie', 'frankly', 'frantic', 'frantically', 'frappe', 'fratelli', 'freak', 'fred', 'freddo', 'free', 'freebie', 'freely', 'freeze', 'freezer', 'freezing', 'fregola', 'freindly', 'freinds', 'french', 'frenetic', 'frenzy', 'frequent', 'frequently', 'fresco', 'fresh', 'freshen', 'fresher', 'freshest', 'freshly', 'freshness', 'freshwater', 'fri', 'friday', 'fridge', 'fried', 'friend', 'friendlier', 'friendliness', 'friendly', 'friends', 'friendship', 'fries', 'friggitoria', 'frill', 'frills', 'fringe', 'frites', 'frittata', 'fritter', 'fritti', 'fritto', 'fro', 'frog', 'front', 'frontage', 'frosty', 'froth', 'frothy', 'frown', 'frozen', 'fruit', 'fruity', 'frustrate', 'frustrated', 'frustrating', 'frustration', 'fry', 'fryer', 'frying', 'fudge', 'fuel', 'fulfil', 'fulfilling', 'full', 'fully', 'fume', 'fun', 'function', 'functional', 'fund', 'fung', 'funghi', 'fungi', 'funky', 'funnily', 'funny', 'fur', 'furious', 'furnish', 'furnishing', 'furniture', 'furthermore', 'fuse', 'fusion', 'fuss', 'fussy', 'future', 'fyi', 'gag', 'gai', 'gain', 'gal', 'galette', 'galettes', 'gallery', 'galley', 'galore', 'gamba', 'gamberi', 'gamble', 'game', 'gamey', 'gaming', 'ganache', 'gang', 'ganoush', 'gantry', 'gap', 'garage', 'garbage', 'garden', 'gardens', 'garfish', 'garlic', 'garlicky', 'garnish', 'gas', 'gastro', 'gastronomic', 'gastronomical', 'gastronomy', 'gate', 'gateau', 'gateway', 'gather', 'gathering', 'gauge', 'gave', 'gavroche', 'gay', 'gaze', 'gazebo', 'gazpacho', 'gear', 'geat', 'gee', 'gel', 'gelati', 'gelatinous', 'gelato', 'gelatos', 'gem', 'gemelle', 'general', 'generally', 'generate', 'generation', 'generic', 'generosity', 'generous', 'generously', 'genius', 'genre', 'gent', 'gentle', 'gentleman', 'gently', 'genuine', 'genuinely', 'geoff', 'george', 'georgia', 'german', 'germany', 'gesture', 'get', 'getaway', 'gets', 'getting', 'ghastly', 'gherkin', 'ghost', 'gianni', 'giant', 'gift', 'gig', 'gigantic', 'giggle', 'gigi', 'gill', 'gilmore', 'gimmick', 'gimmicky', 'gin', 'ginger', 'gingerbread', 'giovanni', 'girl', 'girlfriend', 'girls', 'girly', 'giro', 'give', 'given', 'glad', 'gladly', 'glamorous', 'glamour', 'glance', 'glare', 'glass', 'glasses', 'glassware', 'glaze', 'glazed', 'glebe', 'glenbrook', 'glenmore', 'glide', 'glimpse', 'glisten', 'glitch', 'global', 'globe', 'gloomy', 'glorified', 'glorious', 'glory', 'glove', 'glow', 'glowing', 'glue', 'gluey', 'gluggy', 'gluten', 'glutinous', 'gnocchi', 'gnocci', 'goal', 'goan', 'goat', 'goats', 'gobble', 'gobsmacked', 'god', 'goer', 'going', 'gold', 'goldberg', 'golden', 'goldfish', 'golf', 'gon', 'gone', 'gong', 'goo', 'good', 'goodbye', 'goodie', 'goodness', 'goody', 'gooey', 'google', 'goong', 'goose', 'gordon', 'goreng', 'gorge', 'gorgeous', 'gorgeously', 'gorgonzola', 'gosford', 'gosh', 'gossip', 'got', 'goto', 'gouge', 'goulash', 'goulburn', 'gourmet', 'government', 'gow', 'gowings', 'gpo', 'gps', 'grab', 'grabbed', 'grace', 'gracious', 'graciously', 'grade', 'gradually', 'graduation', 'graffiti', 'grain', 'grainy', 'gram', 'grand', 'grandchild', 'granddaughter', 'grande', 'grandeur', 'grandkids', 'grandma', 'grandmother', 'grandparent', 'grandson', 'grange', 'granita', 'granny', 'granola', 'grant', 'grape', 'grapefruit', 'grappa', 'gras', 'grasp', 'grass', 'grassed', 'grassy', 'grate', 'grated', 'grateful', 'gratin', 'gratis', 'gratuity', 'gravlax', 'gravy', 'graze', 'grazie', 'grazing', 'grease', 'greasy', 'great', 'greated', 'greatly', 'greatness', 'greece', 'greed', 'greedy', 'greek', 'green', 'greenery', 'greens', 'greet', 'greeted', 'greeter', 'greeting', 'greets', 'greg', 'grenache', 'greta', 'grey', 'griddle', 'grigio', 'grill', 'grillade', 'grilled', 'grim', 'grin', 'grind', 'grinder', 'grip', 'gripe', 'gris', 'grisly', 'gristle', 'gristly', 'grit', 'gritty', 'grocery', 'grog', 'groom', 'groove', 'groovy', 'gross', 'grossly', 'grotty', 'ground', 'group', 'grouper', 'groupon', 'groups', 'grove', 'grow', 'grown', 'grub', 'grubby', 'gruff', 'grumble', 'grumpy', 'grungy', 'grunt', 'gruyere', 'gst', 'guac', 'guacamole', 'guarantee', 'guaranteed', 'guard', 'guava', 'guess', 'guest', 'guests', 'guidance', 'guide', 'guillaume', 'guilt', 'guilty', 'guiness', 'guinness', 'guitar', 'guitarist', 'gulab', 'gull', 'gum', 'gun', 'gunner', 'gush', 'gusto', 'gut', 'gutted', 'guy', 'guylian', 'guys', 'gym', 'gyoza', 'gyozas', 'gyro', 'haberfield', 'habit', 'habour', 'haha', 'hahaha', 'hail', 'hainanese', 'hair', 'haired', 'hairy', 'hake', 'halal', 'half', 'halfway', 'hall', 'hallmark', 'halloumi', 'hallway', 'haloumi', 'halumi', 'halve', 'ham', 'hamburger', 'hamilton', 'hammer', 'hampton', 'han', 'hand', 'handbag', 'handful', 'handle', 'handling', 'handmade', 'hands', 'handsome', 'handy', 'hang', 'hanger', 'hanging', 'hangout', 'hangover', 'hanker', 'hanoi', 'haphazard', 'happen', 'happened', 'happening', 'happens', 'happier', 'happily', 'happiness', 'happy', 'hapuka', 'har', 'harass', 'harbor', 'harbour', 'harbourfront', 'harbourside', 'hard', 'harder', 'hardly', 'hardware', 'hardworking', 'harissa', 'harm', 'harmony', 'harp', 'harrigan', 'harrigans', 'harris', 'harry', 'harrys', 'harsh', 'hart', 'hartsyard', 'harvest', 'hash', 'hassle', 'hastily', 'hat', 'hate', 'hatted', 'hatter', 'haul', 'haunt', 'haute', 'havana', 'hawaii', 'hawaiian', 'hawker', 'hawkesbury', 'hay', 'hayat', 'haymarket', 'hazard', 'hazelnut', 'head', 'headache', 'heading', 'headland', 'health', 'healthier', 'healthy', 'heap', 'hear', 'heard', 'hearing', 'heart', 'heartbeat', 'hearted', 'heartily', 'hearty', 'heat', 'heated', 'heater', 'heating', 'heave', 'heaven', 'heavenly', 'heavily', 'heavy', 'heck', 'hectic', 'heed', 'heel', 'hefty', 'height', 'heighten', 'heirloom', 'held', 'helen', 'helicopter', 'hell', 'hello', 'helm', 'help', 'helpful', 'helpfull', 'helpfully', 'helpfulness', 'helping', 'hemingway', 'hemisphere', 'hemmes', 'hen', 'hence', 'henri', 'henry', 'hens', 'henson', 'herald', 'herb', 'herbal', 'herbed', 'herbs', 'herd', 'heritage', 'hermitage', 'hero', 'herring', 'hesitant', 'hesitate', 'hesitation', 'heston', 'hey', 'hiccup', 'hickson', 'hidden', 'hide', 'hideaway', 'hideous', 'high', 'highchair', 'higher', 'highlight', 'highlights', 'highly', 'highway', 'hike', 'hiking', 'hilarious', 'hill', 'hills', 'hilton', 'hindsight', 'hint', 'hip', 'hippo', 'hippy', 'hipster', 'hiramasa', 'hire', 'historic', 'historical', 'history', 'hit', 'hitch', 'hive', 'hmm', 'hobart', 'hobbit', 'hock', 'hog', 'hoi', 'hoisin', 'hoki', 'hokkien', 'hold', 'holder', 'hole', 'holiday', 'hollandaise', 'holy', 'homage', 'home', 'homebush', 'homely', 'homemade', 'homestead', 'homestyle', 'hometown', 'homewares', 'homey', 'hommus', 'hone', 'honest', 'honestly', 'honesty', 'honey', 'honeycomb', 'honeymoon', 'honeysuckle', 'hong', 'honor', 'honour', 'hood', 'hook', 'hooked', 'hoot', 'hooter', 'hop', 'hope', 'hopeful', 'hopefully', 'hopeless', 'hoping', 'hor', 'horde', 'horizon', 'horn', 'hornsby', 'horrendous', 'horrible', 'horribly', 'horrid', 'horrific', 'horrify', 'horror', 'horse', 'horseradish', 'hose', 'hospitable', 'hospital', 'hospitality', 'host', 'hostel', 'hostess', 'hostile', 'hot', 'hotcake', 'hotdog', 'hotel', 'hotpot', 'hotspot', 'hotter', 'hour', 'hours', 'house', 'housemade', 'housing', 'hover', 'hovering', 'however', 'hrc', 'hrs', 'html', 'http', 'hub', 'hubbie', 'hubby', 'hubert', 'huddle', 'huff', 'hug', 'huge', 'hugely', 'hugh', 'hughzies', 'hugo', 'huh', 'hum', 'human', 'humber', 'humble', 'humid', 'humiliate', 'hummus', 'humor', 'humorous', 'humour', 'humus', 'hundred', 'hung', 'hungarian', 'hunger', 'hungerford', 'hungover', 'hungry', 'hunk', 'hunt', 'hunter', 'hurricane', 'hurried', 'hurry', 'hurt', 'husband', 'hustle', 'hut', 'hyatt', 'hyde', 'hydro', 'hygiene', 'hygienic', 'hype', 'hyped', 'ian', 'iberico', 'ibis', 'icc', 'ice', 'iceberg', 'icebergs', 'icecream', 'iced', 'icing', 'icon', 'iconic', 'icy', 'idea', 'ideal', 'ideally', 'identical', 'identify', 'identity', 'idiot', 'idyllic', 'ignorance', 'ignorant', 'ignore', 'ignored', 'ill', 'illawarra', 'illegal', 'image', 'imaginable', 'imagination', 'imaginative', 'imagine', 'imho', 'imitation', 'immaculate', 'immaculately', 'immediate', 'immediately', 'immense', 'immensely', 'immerse', 'imo', 'impact', 'impatient', 'impecable', 'impeccable', 'impeccably', 'imperial', 'impersonal', 'implement', 'imply', 'impolite', 'import', 'importance', 'important', 'importantly', 'imported', 'impose', 'impossible', 'impress', 'impressed', 'impression', 'impressive', 'impressively', 'impromptu', 'improve', 'improved', 'improvement', 'inability', 'inadequate', 'inappropriate', 'inattentive', 'inc', 'incapable', 'incarnation', 'incentive', 'inch', 'incident', 'incidentally', 'incl', 'inclement', 'incline', 'inclined', 'include', 'included', 'inclusion', 'inclusive', 'incomparable', 'incompetence', 'incompetent', 'incomplete', 'inconsiderate', 'inconsistency', 'inconsistent', 'inconspicuous', 'inconvenience', 'inconvenient', 'incorporate', 'incorrect', 'incorrectly', 'increase', 'increasingly', 'incredible', 'incredibly', 'incur', 'indecisive', 'indeed', 'independent', 'indescribable', 'india', 'indian', 'indicate', 'indication', 'indicative', 'indicator', 'indifference', 'indifferent', 'indigo', 'individual', 'individually', 'indonesia', 'indonesian', 'indoor', 'indoors', 'indu', 'indulge', 'indulgence', 'indulgent', 'industrial', 'industry', 'inedible', 'inefficient', 'inept', 'inevitable', 'inevitably', 'inexcusable', 'inexpensive', 'inexperienced', 'infact', 'infamous', 'infant', 'infectious', 'inferior', 'inflate', 'inflated', 'inflexible', 'influence', 'influenced', 'info', 'inform', 'informal', 'information', 'informative', 'informed', 'infront', 'infuse', 'infused', 'infusion', 'infuzions', 'ing', 'ingredient', 'ingredients', 'inhale', 'initial', 'initially', 'initiative', 'injury', 'ink', 'inn', 'inner', 'innovation', 'innovative', 'input', 'inquire', 'inquiry', 'ins', 'insalata', 'insane', 'insanely', 'insect', 'insert', 'inside', 'insight', 'insipid', 'insist', 'inspect', 'inspection', 'inspiration', 'inspirational', 'inspire', 'inspired', 'inspiring', 'instagram', 'instal', 'instance', 'instant', 'instantly', 'instead', 'institution', 'instruct', 'instruction', 'insufficient', 'insult', 'insulting', 'intact', 'integrity', 'intelligent', 'intend', 'intense', 'intensely', 'intensity', 'intent', 'intention', 'intentionally', 'inter', 'interact', 'interaction', 'interactive', 'intercontinental', 'interest', 'interested', 'interesting', 'interestingly', 'interfere', 'interior', 'intermezzo', 'internal', 'international', 'internationally', 'internet', 'interpret', 'interpretation', 'interrupt', 'interruption', 'intersection', 'interstate', 'interval', 'intimacy', 'intimate', 'intimidate', 'intolerance', 'intolerant', 'intoxicate', 'intricate', 'intrigue', 'intriguing', 'introduce', 'introduction', 'intrude', 'intrusive', 'intuitive', 'invariably', 'invasive', 'inventive', 'invest', 'investigate', 'investment', 'invisible', 'invitation', 'invite', 'inviting', 'involtini', 'involve', 'involved', 'ipa', 'ipad', 'ippudo', 'ireland', 'irish', 'iron', 'ironically', 'irrelevant', 'irresistible', 'irrespective', 'irritate', 'irritating', 'isabella', 'ish', 'island', 'isle', 'isolated', 'israeli', 'issue', 'issues', 'istanbul', 'italia', 'italian', 'italiano', 'italy', 'item', 'items', 'itinerary', 'ivanhoe', 'ive', 'ivy', 'jack', 'jacket', 'jackie', 'jackson', 'jade', 'jah', 'jalapeno', 'jam', 'james', 'jamie', 'jamies', 'jamison', 'jamon', 'jamun', 'jan', 'jane', 'jannah', 'january', 'jap', 'japan', 'japanese', 'jar', 'jasmine', 'jason', 'jaw', 'jazz', 'jealous', 'jean', 'jelly', 'jellyfish', 'jenny', 'jenolan', 'jensen', 'jerk', 'jersey', 'jerusalem', 'jess', 'jessica', 'jet', 'jetty', 'jewel', 'jewellery', 'jewfish', 'jim', 'jimmy', 'jinja', 'job', 'joe', 'joel', 'john', 'join', 'joint', 'joke', 'jolly', 'jonah', 'jones', 'josh', 'jour', 'journey', 'jovial', 'jowl', 'joy', 'joyful', 'judge', 'judgement', 'judging', 'jug', 'juggle', 'juice', 'juices', 'juicy', 'julian', 'julie', 'july', 'jumbo', 'jump', 'jumper', 'jumping', 'junction', 'june', 'jungle', 'junior', 'junk', 'jus', 'justice', 'justifiably', 'justified', 'justify', 'justin', 'kaffir', 'kafta', 'kale', 'kangaroo', 'kapitan', 'karaage', 'karage', 'karaoke', 'karen', 'kari', 'karim', 'kate', 'katie', 'katoomba', 'katsu', 'kazbah', 'kebab', 'kee', 'keen', 'keep', 'keeper', 'keg', 'keith', 'kelly', 'ken', 'kensington', 'kent', 'kepos', 'kept', 'kerr', 'kerrs', 'ketchup', 'kevin', 'key', 'kfc', 'khao', 'kibbeh', 'kick', 'kid', 'kidding', 'kiddy', 'kidney', 'kids', 'kill', 'killer', 'kilo', 'kilometre', 'kilpatrick', 'kim', 'kimchi', 'kind', 'kinda', 'kindly', 'kindness', 'king', 'kingfish', 'kingfisher', 'kingsley', 'kingsleys', 'kinn', 'kiosk', 'kipfler', 'kipling', 'kirribilli', 'kiss', 'kit', 'kitchen', 'kitsch', 'kiwi', 'kms', 'knack', 'knee', 'knew', 'knife', 'knit', 'knock', 'knockout', 'know', 'knowing', 'knowledgable', 'knowledge', 'knowledgeable', 'known', 'knuckle', 'kobe', 'kofta', 'kohlrabi', 'koi', 'kombucha', 'kong', 'kookaburra', 'korea', 'korean', 'korma', 'kotara', 'kravings', 'kudos', 'kulfi', 'kung', 'kurrajong', 'kway', 'kwong', 'kwongs', 'kylie', 'kyushu', 'label', 'labna', 'labne', 'labneh', 'labour', 'lace', 'lachlan', 'lack', 'lacked', 'lacking', 'lackluster', 'lacklustre', 'lactose', 'lad', 'laden', 'ladies', 'lady', 'lag', 'lager', 'lago', 'lagoon', 'laid', 'lake', 'lakehouse', 'lakeside', 'laksa', 'lal', 'lamb', 'lambs', 'lambton', 'lame', 'lamington', 'lamp', 'land', 'landing', 'landmark', 'landscape', 'lane', 'laneway', 'langham', 'language', 'lankan', 'lantern', 'lao', 'lap', 'lapse', 'laptop', 'larb', 'large', 'largely', 'larger', 'largish', 'lasagna', 'lasagne', 'lash', 'lashing', 'lass', 'lassi', 'last', 'lasting', 'lastly', 'late', 'lately', 'later', 'latin', 'latte', 'latter', 'laugh', 'laughable', 'laughing', 'laughter', 'launch', 'laura', 'laurel', 'lauren', 'lava', 'lavender', 'lavish', 'law', 'lawn', 'laws', 'lawson', 'lay', 'layer', 'layered', 'layout', 'laze', 'lazy', 'lead', 'leader', 'leadership', 'leaf', 'leafy', 'league', 'leak', 'lean', 'leanne', 'leap', 'learn', 'learnt', 'lease', 'least', 'leather', 'leave', 'leaving', 'lebanese', 'lebanon', 'leche', 'lecture', 'lee', 'leek', 'left', 'leftover', 'leg', 'legal', 'legend', 'legendary', 'legit', 'legs', 'leichardt', 'leichhardt', 'leisure', 'leisurely', 'lemak', 'lemon', 'lemonade', 'lemoncello', 'lemongrass', 'lemony', 'lena', 'lend', 'length', 'lengthy', 'lentil', 'leogate', 'leonard', 'less', 'lesson', 'let', 'letdown', 'letter', 'lettuce', 'leura', 'level', 'levels', 'lewers', 'library', 'licence', 'licenced', 'license', 'licensed', 'lick', 'licking', 'licorice', 'lid', 'lie', 'life', 'lifeboat', 'lifeless', 'lifestyle', 'lifetime', 'lift', 'light', 'lighten', 'lighter', 'lighthouse', 'lighting', 'lightly', 'lightness', 'lightning', 'lights', 'like', 'liked', 'likely', 'likewise', 'liking', 'lil', 'lilianfels', 'lillino', 'lily', 'limani', 'lime', 'limit', 'limitation', 'limited', 'limoncello', 'limp', 'linda', 'lindfield', 'lindsay', 'lindt', 'line', 'linen', 'liner', 'lineup', 'ling', 'linger', 'linguine', 'linguini', 'link', 'lion', 'lip', 'lipstick', 'liqueur', 'liquid', 'liquor', 'liquorice', 'lisa', 'list', 'listen', 'listening', 'listing', 'lit', 'lite', 'literally', 'lithgow', 'litre', 'litter', 'little', 'live', 'lively', 'liver', 'liverpool', 'living', 'lizottes', 'load', 'loaded', 'loaf', 'lobby', 'lobo', 'lobster', 'local', 'locale', 'locality', 'locally', 'locals', 'locate', 'located', 'location', 'lochiel', 'lock', 'loco', 'lodge', 'loft', 'log', 'logo', 'loin', 'lol', 'lollipop', 'lolly', 'london', 'lone', 'lonely', 'long', 'longer', 'longrain', 'loo', 'look', 'looked', 'looking', 'lookout', 'looks', 'loong', 'loop', 'loose', 'lord', 'lorenzo', 'los', 'lose', 'loss', 'lost', 'lot', 'lots', 'lotus', 'loud', 'louder', 'loudly', 'louise', 'loukoumades', 'lounge', 'lousy', 'love', 'loved', 'lovedale', 'lovely', 'lover', 'lovers', 'lovey', 'loving', 'lovingly', 'lovley', 'low', 'lowenbrau', 'lower', 'lox', 'loyal', 'loyalty', 'luca', 'lucas', 'luch', 'lucio', 'luck', 'lucked', 'luckily', 'lucky', 'lucy', 'lugarno', 'luigi', 'luke', 'lukewarm', 'lumi', 'lump', 'lumpy', 'luna', 'lunch', 'luncheon', 'lunches', 'lunchtime', 'lure', 'lurline', 'luscious', 'lush', 'lustre', 'luv', 'luxurious', 'luxury', 'lychee', 'lyon', 'lyric', 'mac', 'macadamia', 'macaron', 'macaroni', 'macarons', 'macaroon', 'macca', 'maccas', 'macchiato', 'mach', 'machiavelli', 'machine', 'mackerel', 'macleay', 'macquarie', 'mad', 'madam', 'madame', 'madang', 'made', 'madness', 'madras', 'madrid', 'maestro', 'magazine', 'maggie', 'magic', 'magical', 'magically', 'magician', 'magnificent', 'magnificently', 'magnifique', 'magnum', 'mahi', 'mahon', 'mahons', 'mai', 'maiden', 'mail', 'main', 'mainly', 'mains', 'mainstream', 'maintain', 'maintenance', 'maitland', 'maitre', 'majestic', 'major', 'majority', 'make', 'makeover', 'maker', 'makhani', 'maki', 'making', 'makoto', 'malabar', 'malai', 'malay', 'malaya', 'malaysia', 'malaysian', 'malbec', 'male', 'mall', 'malt', 'mama', 'mamak', 'mamma', 'man', 'manage', 'manageable', 'management', 'manager', 'manageress', 'manchego', 'mandarin', 'mandatory', 'mangan', 'manger', 'mango', 'manhattan', 'manic', 'manjit', 'manley', 'manly', 'manner', 'mannered', 'manor', 'manta', 'mantecato', 'mantra', 'many', 'mao', 'map', 'maple', 'mar', 'marathon', 'marble', 'marbling', 'marc', 'march', 'marco', 'marcos', 'mardi', 'mare', 'margaret', 'margarita', 'margherita', 'margin', 'marginally', 'maria', 'marie', 'marigold', 'marina', 'marinade', 'marinara', 'marinate', 'marinated', 'marine', 'mario', 'maritime', 'mark', 'market', 'marketing', 'markup', 'marlborough', 'marmalade', 'marnier', 'maroubra', 'marque', 'marquee', 'marriage', 'marrickville', 'married', 'marriott', 'marron', 'marrow', 'marry', 'marsala', 'marscapone', 'marshmallow', 'martin', 'martini', 'marvel', 'marvellous', 'marvelous', 'mary', 'maryland', 'masala', 'masaman', 'mascarpone', 'mascot', 'mash', 'mashed', 'mask', 'mason', 'mass', 'massage', 'massaman', 'massamun', 'massive', 'massively', 'master', 'masterchef', 'masterful', 'masterpiece', 'masuya', 'mat', 'match', 'matched', 'matching', 'mate', 'material', 'math', 'matilda', 'matinee', 'matre', 'matt', 'matter', 'matthew', 'mature', 'maurice', 'maverick', 'max', 'maximise', 'maximum', 'may', 'maybe', 'mayo', 'mayonnaise', 'maze', 'mazing', 'mca', 'mcdonalds', 'meagre', 'meal', 'meals', 'mean', 'meander', 'meaning', 'meaningful', 'meant', 'meantime', 'meanwhile', 'measly', 'measure', 'meat', 'meatball', 'meatlovers', 'meats', 'meaty', 'mecca', 'med', 'medallion', 'medical', 'mediocre', 'mediocrity', 'mediterranean', 'medium', 'medley', 'medusa', 'mee', 'meet', 'meeting', 'mega', 'megalong', 'megan', 'meh', 'mein', 'mejico', 'mekong', 'mel', 'melb', 'melbourne', 'mellow', 'melon', 'melt', 'melted', 'melting', 'member', 'members', 'membership', 'memorabilia', 'memorable', 'memorial', 'memory', 'men', 'mental', 'mention', 'mentioning', 'menu', 'menue', 'menus', 'mer', 'mercado', 'merchant', 'merci', 'mercure', 'mere', 'merely', 'merewether', 'meringue', 'merit', 'meriton', 'merivale', 'merlot', 'merry', 'mesmerise', 'mess', 'message', 'messina', 'messy', 'met', 'metal', 'meter', 'method', 'meticulous', 'meticulously', 'metre', 'metres', 'metro', 'mex', 'mexican', 'mexico', 'meze', 'mezes', 'mezza', 'mezzanine', 'mezze', 'mia', 'michael', 'michelin', 'michelle', 'micro', 'microwave', 'mid', 'midday', 'middle', 'midnight', 'midst', 'midway', 'midweek', 'might', 'mighty', 'mignon', 'mike', 'milan', 'milanese', 'mild', 'milder', 'mildly', 'mile', 'milestone', 'military', 'milk', 'milkshake', 'milky', 'mill', 'mille', 'miller', 'million', 'milly', 'milo', 'milson', 'milsons', 'min', 'mince', 'minced', 'mind', 'minded', 'mindful', 'mine', 'mineral', 'minestrone', 'ming', 'mingara', 'mingle', 'mini', 'miniature', 'minimal', 'minimalist', 'minimalistic', 'minimum', 'miniscule', 'minor', 'mins', 'mint', 'minus', 'minuscule', 'minute', 'minutes', 'miracle', 'miraculously', 'miranda', 'mirror', 'mis', 'miscommunication', 'miserable', 'misfortune', 'mishap', 'mislead', 'misleading', 'mismatch', 'miso', 'misplace', 'miss', 'missed', 'missing', 'mission', 'missus', 'mist', 'mistake', 'mistakenly', 'misto', 'misty', 'misunderstand', 'misunderstanding', 'mix', 'mixed', 'mixer', 'mixing', 'mixture', 'moan', 'mob', 'mobile', 'mobility', 'mocha', 'mochi', 'mock', 'mocktail', 'mocktails', 'mod', 'mode', 'model', 'moderate', 'moderately', 'modern', 'modernise', 'modest', 'modestly', 'modify', 'moet', 'mohammed', 'moist', 'moisture', 'mojito', 'mojitos', 'mojo', 'molasses', 'molecular', 'moline', 'molly', 'molten', 'mom', 'moment', 'momo', 'momofuku', 'mon', 'mona', 'moncur', 'monday', 'monde', 'money', 'mongolian', 'monitor', 'monk', 'monkey', 'monopole', 'monopoly', 'monsieur', 'monster', 'monte', 'montepulciano', 'month', 'monthly', 'months', 'moo', 'mood', 'moody', 'moon', 'moor', 'moore', 'moorish', 'moose', 'mop', 'moran', 'morcilla', 'moreish', 'moreover', 'moreton', 'moretti', 'morish', 'morisset', 'mornay', 'morning', 'moroccan', 'morocco', 'morpeth', 'morrison', 'morrocan', 'morsel', 'mortadella', 'mortar', 'mortgage', 'mortify', 'morton', 'mosaic', 'moscato', 'mosman', 'mosquito', 'moss', 'mostly', 'motel', 'mother', 'motion', 'motivate', 'motor', 'motorbike', 'motorcycle', 'mould', 'mound', 'mount', 'mountain', 'mountains', 'mousaka', 'mouse', 'moussaka', 'mousse', 'mouth', 'mouthful', 'mouthwatering', 'move', 'movement', 'movida', 'movie', 'moving', 'mozarella', 'mozzarella', 'mrs', 'msg', 'mths', 'much', 'muck', 'mud', 'muddle', 'muddy', 'mudgee', 'muesli', 'muffin', 'mug', 'mule', 'mull', 'mulled', 'mullet', 'mulloway', 'multi', 'multiple', 'multitude', 'mum', 'mumbai', 'mumble', 'munch', 'munich', 'mural', 'murphy', 'murray', 'muscat', 'muscle', 'muse', 'museum', 'mush', 'mushroom', 'mushrooms', 'mushy', 'music', 'musical', 'musician', 'mussaman', 'mussel', 'mussells', 'mussels', 'must', 'mustard', 'mute', 'mutter', 'mutton', 'muum', 'mylan', 'myriad', 'myrtle', 'mysterious', 'mystery', 'naan', 'nab', 'nacho', 'nachos', 'nagisa', 'nah', 'nail', 'naked', 'nam', 'name', 'namely', 'nan', 'nana', 'nanna', 'napkin', 'napkins', 'naples', 'napoletana', 'napoli', 'napolitana', 'narrabeen', 'narrow', 'nasi', 'nasty', 'nathan', 'national', 'nationality', 'native', 'natural', 'naturally', 'nature', 'naughty', 'nautical', 'naval', 'navigate', 'navy', 'neapolitan', 'near', 'nearby', 'nearer', 'nearly', 'neat', 'neatly', 'necessarily', 'necessary', 'necessity', 'neck', 'nectarine', 'ned', 'need', 'needed', 'needle', 'needless', 'needs', 'negative', 'neglect', 'negotiate', 'negroni', 'neighbor', 'neighborhood', 'neighboring', 'neighbour', 'neighbourhood', 'neighbouring', 'neil', 'neither', 'nel', 'nelson', 'nepalese', 'nepean', 'nephew', 'neptune', 'nero', 'nerve', 'nervous', 'ness', 'nest', 'nestle', 'net', 'neutral', 'never', 'nevertheless', 'new', 'newbie', 'newborn', 'newcastle', 'newcomer', 'newie', 'newish', 'newly', 'newport', 'news', 'newspaper', 'newtown', 'newy', 'next', 'nguyen', 'nibble', 'nice', 'nicely', 'nicer', 'niche', 'nick', 'nicoise', 'nicole', 'niece', 'niggle', 'nigh', 'night', 'nightcap', 'nightclub', 'nightlife', 'nightly', 'nightmare', 'nights', 'nighttime', 'nigiri', 'nil', 'nine', 'nip', 'nit', 'nite', 'nitrogen', 'noah', 'nobody', 'nobu', 'nod', 'noir', 'noise', 'noisey', 'noisy', 'nok', 'nola', 'nom', 'nomad', 'non', 'nondescript', 'none', 'nonetheless', 'nonna', 'nonno', 'nonsense', 'noodle', 'noodles', 'nook', 'noon', 'noone', 'nope', 'nori', 'norm', 'norma', 'normal', 'normally', 'norman', 'north', 'northbeach', 'northern', 'norton', 'nose', 'nosh', 'nostalgia', 'nostalgic', 'notable', 'notably', 'notch', 'note', 'noteworthy', 'nothing', 'notice', 'noticeable', 'noticeably', 'noticed', 'notify', 'notwithstanding', 'nougat', 'nour', 'nourish', 'nouvelle', 'nov', 'novel', 'novelty', 'november', 'novotel', 'nowadays', 'nowhere', 'nrl', 'nsw', 'nth', 'nugget', 'nuisance', 'numb', 'number', 'numbing', 'numerous', 'nurse', 'nursery', 'nut', 'nutella', 'nutmeg', 'nutritious', 'nuts', 'nutshell', 'nutty', 'nyc', 'nye', 'oak', 'oasis', 'oat', 'oberon', 'object', 'obligatory', 'oblige', 'obliging', 'oblivious', 'obnoxious', 'obscure', 'observant', 'observation', 'observe', 'obsess', 'obstruct', 'obtain', 'obtrusive', 'obvious', 'obviously', 'ocassion', 'occasion', 'occasional', 'occasionally', 'occasions', 'occassion', 'occassions', 'occupied', 'occupy', 'occur', 'occurrence', 'ocean', 'oct', 'october', 'octopus', 'odd', 'oddly', 'odds', 'odour', 'ofcourse', 'offal', 'offend', 'offensive', 'offer', 'offered', 'offering', 'offerings', 'offhand', 'office', 'official', 'officially', 'offset', 'often', 'ohh', 'oil', 'oiled', 'oily', 'oishii', 'okay', 'okra', 'oktoberfest', 'old', 'olde', 'oldie', 'ole', 'olive', 'oliver', 'olives', 'olivo', 'olympic', 'oma', 'omar', 'omelet', 'omelette', 'omg', 'omit', 'omlette', 'omnivore', 'one', 'ones', 'ongoing', 'onion', 'online', 'onsite', 'onto', 'onwards', 'ooh', 'oops', 'ooze', 'open', 'opened', 'opener', 'opening', 'openly', 'opera', 'operate', 'operation', 'operator', 'opinion', 'opium', 'opportunity', 'oppose', 'opposite', 'opt', 'optimistic', 'option', 'optional', 'options', 'opulent', 'orange', 'ordeal', 'order', 'orderd', 'ordered', 'ordering', 'orders', 'ordinarily', 'ordinary', 'oregano', 'oreo', 'organic', 'organisation', 'organise', 'organised', 'organiser', 'organize', 'orient', 'oriental', 'orientate', 'origin', 'original', 'originality', 'originally', 'originate', 'orlando', 'orleans', 'ormeggio', 'ornate', 'orpheum', 'oscar', 'oscillate', 'osso', 'osteria', 'otago', 'otak', 'others', 'otherwise', 'ott', 'otto', 'ottoman', 'ouch', 'ought', 'ounce', 'oustanding', 'outback', 'outcome', 'outdated', 'outdo', 'outdoor', 'outdoors', 'outer', 'outfit', 'outing', 'outlet', 'outline', 'outlook', 'outrageous', 'outrageously', 'outs', 'outset', 'outside', 'outskirt', 'outstanding', 'outstandingly', 'outweigh', 'ouzeria', 'ouzo', 'oval', 'oven', 'overall', 'overated', 'overbear', 'overbearing', 'overboard', 'overbooked', 'overcast', 'overcharge', 'overcome', 'overcook', 'overcooked', 'overcrowd', 'overcrowded', 'overdo', 'overdone', 'overdue', 'overflow', 'overhaul', 'overhead', 'overhear', 'overheard', 'overhyped', 'overkill', 'overload', 'overlook', 'overlooked', 'overlooking', 'overly', 'overnight', 'overpower', 'overpowering', 'overprice', 'overpriced', 'overrate', 'overrated', 'overs', 'overseas', 'oversee', 'overshadow', 'oversight', 'oversized', 'overview', 'overwhelm', 'overwhelmed', 'overwhelming', 'overwhelmingly', 'overwork', 'ovolo', 'owe', 'owl', 'owner', 'owners', 'ownership', 'oxford', 'oxtail', 'oyster', 'oysters', 'ozzie', 'pace', 'paced', 'pacific', 'pacing', 'pack', 'package', 'packaging', 'packed', 'packer', 'packet', 'pad', 'paddington', 'paddle', 'paddo', 'paddock', 'paddy', 'paella', 'page', 'paid', 'pain', 'painful', 'painfully', 'paint', 'painting', 'pair', 'paired', 'pairing', 'pakistani', 'pakora', 'pal', 'palace', 'palak', 'palatable', 'palate', 'pale', 'paleo', 'palette', 'pallet', 'palm', 'palmer', 'pamper', 'pan', 'panache', 'panacotta', 'panang', 'pancake', 'pancakes', 'pancetta', 'pandan', 'pandora', 'pane', 'paneer', 'panel', 'pani', 'panic', 'panini', 'panko', 'panna', 'pannacotta', 'panorama', 'panoramic', 'pant', 'panther', 'pantry', 'pao', 'paolo', 'papa', 'papadelle', 'papadino', 'papadums', 'papardelle', 'papaya', 'paper', 'papillon', 'pappadums', 'pappardelle', 'paprika', 'par', 'parade', 'paradise', 'paradiso', 'parallel', 'paramount', 'paratha', 'parcel', 'parent', 'parfait', 'paring', 'paris', 'parisian', 'park', 'parking', 'parkland', 'parlour', 'parma', 'parmesan', 'parmi', 'parmigiana', 'parmigiano', 'parmy', 'parpadelle', 'parra', 'parramatta', 'parrot', 'parry', 'parsley', 'parsnip', 'part', 'partake', 'partial', 'partially', 'participate', 'particular', 'particularly', 'parties', 'partition', 'partly', 'partner', 'partridge', 'party', 'pas', 'pass', 'passable', 'passage', 'passenger', 'passer', 'passing', 'passion', 'passionate', 'passionfruit', 'passive', 'passport', 'past', 'pasta', 'pastas', 'paste', 'pastizzi', 'pasto', 'pastrami', 'pastries', 'pastry', 'pasty', 'pat', 'patatas', 'patch', 'patchy', 'pate', 'path', 'pathetic', 'patience', 'patient', 'patiently', 'patio', 'patisserie', 'patrick', 'patron', 'patronage', 'patronise', 'patronising', 'patronize', 'patrons', 'pattern', 'pattie', 'patty', 'paul', 'pause', 'pav', 'pave', 'pavement', 'pavilion', 'pavillion', 'pavlova', 'pax', 'pay', 'paying', 'paymaster', 'payment', 'pea', 'peace', 'peaceful', 'peach', 'peacock', 'peak', 'peanut', 'pear', 'pearl', 'peas', 'peat', 'pecan', 'peckish', 'pecorino', 'peculiar', 'pedestrian', 'pedro', 'peek', 'peel', 'peep', 'peer', 'peeve', 'peking', 'pelican', 'pen', 'penalty', 'penang', 'pencil', 'pendolino', 'penfolds', 'peninsula', 'penne', 'penny', 'penrith', 'people', 'pepe', 'pepper', 'peppercorn', 'peppered', 'peppermint', 'pepperoni', 'peppertree', 'peppery', 'pepsi', 'per', 'percent', 'perception', 'perch', 'perfect', 'perfection', 'perfectly', 'perfecto', 'perform', 'performance', 'performer', 'perfume', 'perfunctory', 'perhaps', 'peri', 'perience', 'period', 'permanent', 'permanently', 'permit', 'permitting', 'peroni', 'perry', 'persevere', 'persian', 'persist', 'person', 'personable', 'personal', 'personalise', 'personalised', 'personality', 'personally', 'personnel', 'perspective', 'persuade', 'perth', 'peruse', 'peruvian', 'pescatarian', 'pesce', 'pester', 'pestle', 'pesto', 'pet', 'petal', 'pete', 'peter', 'peterson', 'petit', 'petite', 'petits', 'petrol', 'petting', 'petty', 'phase', 'phenomenal', 'phil', 'philip', 'phillip', 'philosophy', 'pho', 'phoenician', 'phoenix', 'phone', 'photo', 'photograph', 'photographer', 'photography', 'photos', 'phrase', 'physical', 'physically', 'pianist', 'piano', 'piato', 'piazza', 'pic', 'piccolo', 'pick', 'picking', 'pickle', 'pickled', 'pickup', 'picky', 'picnic', 'picture', 'picturesque', 'pide', 'pie', 'piece', 'piedmont', 'pier', 'pies', 'pig', 'pigeon', 'piggy', 'pile', 'pilgrimage', 'pillar', 'pillow', 'pilu', 'pimms', 'pin', 'pina', 'pinball', 'pinch', 'pine', 'pineapple', 'ping', 'pink', 'pinnacle', 'pino', 'pinot', 'pint', 'pip', 'pipe', 'piping', 'pipis', 'pippies', 'pippis', 'piquant', 'piss', 'pistachio', 'pit', 'pita', 'pitch', 'pitcher', 'pitiful', 'pitt', 'pitta', 'pittwater', 'pity', 'pizza', 'pizzas', 'pizzeria', 'pla', 'place', 'placed', 'placement', 'places', 'plague', 'plain', 'plainly', 'plan', 'plane', 'planet', 'plank', 'planned', 'planning', 'plant', 'plantain', 'plantation', 'plastic', 'plat', 'plate', 'plated', 'plater', 'plates', 'platform', 'plating', 'platinum', 'platter', 'play', 'played', 'player', 'playfair', 'playful', 'playground', 'playing', 'playlist', 'plaza', 'pleasant', 'pleasantly', 'pleasantry', 'please', 'pleased', 'pleasent', 'pleaser', 'pleasing', 'pleasurable', 'pleasure', 'plentiful', 'plenty', 'plethora', 'plonk', 'plot', 'ploughman', 'plug', 'plum', 'plump', 'plunge', 'plus', 'plush', 'poach', 'poached', 'pocket', 'pod', 'point', 'pointless', 'points', 'poison', 'poisoning', 'poke', 'poker', 'pokey', 'pokolbin', 'poky', 'pole', 'polenta', 'police', 'policy', 'polish', 'polished', 'polite', 'politely', 'politeness', 'pollo', 'pom', 'pomegranate', 'pomme', 'pommes', 'pomodoro', 'pompei', 'pompous', 'pond', 'ponder', 'pong', 'pontoon', 'pony', 'ponzu', 'poo', 'pooch', 'pool', 'poor', 'poorer', 'poorly', 'pop', 'popcorn', 'poppadoms', 'popped', 'popper', 'popping', 'popular', 'popularity', 'populate', 'population', 'porch', 'porchetta', 'porcini', 'pork', 'porkbelly', 'porridge', 'port', 'portable', 'porteno', 'porter', 'porterhouse', 'portico', 'portion', 'portioned', 'portions', 'porto', 'portobello', 'portray', 'portuguese', 'pose', 'posh', 'position', 'positive', 'positively', 'positives', 'possibility', 'possible', 'possibly', 'post', 'postcard', 'poster', 'pot', 'potato', 'potatoe', 'potatoes', 'potential', 'potentially', 'pothong', 'potion', 'potter', 'potting', 'potts', 'poultry', 'pound', 'pour', 'pouring', 'pours', 'poutine', 'pow', 'powder', 'power', 'powerful', 'powering', 'ppl', 'practical', 'practically', 'practice', 'praise', 'praline', 'pram', 'prawn', 'prawns', 'pray', 'pre', 'prebooked', 'precede', 'precinct', 'precious', 'precise', 'precisely', 'precision', 'precook', 'predict', 'predictable', 'predictably', 'predominantly', 'prefect', 'prefer', 'preferable', 'preferably', 'preference', 'preferred', 'pregnant', 'premier', 'premise', 'premium', 'preordered', 'prep', 'preparation', 'prepare', 'prepared', 'prepped', 'presence', 'present', 'presentable', 'presentation', 'presented', 'presently', 'preservative', 'preserve', 'preserved', 'press', 'pressed', 'pressure', 'pressured', 'presumably', 'presume', 'pretence', 'pretend', 'pretension', 'pretentious', 'pretentiousness', 'pretty', 'pretzel', 'prevent', 'previous', 'previously', 'price', 'priced', 'priceless', 'prices', 'pricey', 'pricing', 'pricy', 'pride', 'prik', 'primarily', 'primary', 'prime', 'primo', 'prince', 'princess', 'principle', 'print', 'printed', 'prior', 'priority', 'pristine', 'privacy', 'private', 'privilege', 'prix', 'prize', 'pro', 'proactive', 'prob', 'probably', 'problem', 'problematic', 'problems', 'procedure', 'proceed', 'proceeding', 'process', 'processed', 'proclaim', 'produce', 'produced', 'producer', 'product', 'production', 'profession', 'professional', 'professionalism', 'professionally', 'proficient', 'profile', 'profit', 'profiterole', 'profusely', 'program', 'progress', 'progressively', 'prohibition', 'project', 'promenade', 'prominent', 'promise', 'promised', 'promising', 'promote', 'promotion', 'prompt', 'promptly', 'pronounce', 'proof', 'prop', 'proper', 'properly', 'property', 'proportion', 'proposal', 'propose', 'proposition', 'proprietor', 'pros', 'prosciutto', 'proscuitto', 'prosecco', 'prospect', 'protect', 'protection', 'protein', 'protest', 'proud', 'proudly', 'prove', 'provide', 'provided', 'providore', 'provincial', 'provision', 'proximity', 'prune', 'pub', 'public', 'publish', 'pubs', 'pud', 'pudding', 'puddle', 'puff', 'puffed', 'pull', 'pulled', 'pullman', 'pump', 'pumphouse', 'pumpkin', 'pun', 'punch', 'punchy', 'punctual', 'pungent', 'punjabi', 'punt', 'punter', 'pup', 'puppy', 'purchase', 'pure', 'puree', 'pureed', 'purely', 'puri', 'purple', 'purpose', 'purposely', 'purse', 'push', 'pushy', 'put', 'puttanesca', 'putting', 'puzzle', 'pymble', 'pyrmont', 'qantas', 'qila', 'qld', 'quail', 'quaint', 'qualify', 'quality', 'qualm', 'quantity', 'quarter', 'quattro', 'quay', 'quayside', 'que', 'queen', 'queensland', 'quench', 'query', 'quesadilla', 'queso', 'quest', 'question', 'questionable', 'queue', 'queuing', 'quibble', 'quiche', 'quick', 'quicker', 'quickly', 'quiet', 'quieten', 'quieter', 'quietly', 'quince', 'quinoa', 'quintessential', 'quirk', 'quirky', 'quit', 'quite', 'quiz', 'quote', 'qvb', 'rabbit', 'race', 'rachel', 'racist', 'rack', 'radar', 'radicchio', 'radio', 'radish', 'radisson', 'radius', 'raf', 'raffle', 'rafter', 'rag', 'ragout', 'ragu', 'rail', 'railing', 'railway', 'rain', 'rainbow', 'raining', 'rainy', 'raise', 'raisin', 'raita', 'raj', 'ram', 'ramen', 'ramp', 'ramsay', 'ramsey', 'ran', 'ranch', 'rancid', 'random', 'randomly', 'randwick', 'rang', 'range', 'ranger', 'ranging', 'rank', 'ranking', 'rant', 'rap', 'rapid', 'rapidly', 'rapport', 'rare', 'rarely', 'rarity', 'rashays', 'raspberry', 'rat', 'ratatouille', 'rate', 'rated', 'rather', 'rating', 'ratio', 'rattle', 'raucous', 'rave', 'ravenous', 'ravioli', 'raw', 'ray', 'raymond', 'reach', 'react', 'reaction', 'read', 'reader', 'readily', 'reading', 'ready', 'real', 'realise', 'realistic', 'realistically', 'reality', 'realize', 'really', 'realy', 'reappear', 'rear', 'rearrange', 'reason', 'reasonable', 'reasonably', 'reassure', 'reastaurant', 'reataurant', 'rebecca', 'recall', 'reccomend', 'reccomended', 'reccommend', 'receipt', 'receive', 'received', 'recent', 'recently', 'reception', 'receptionist', 'recharge', 'recieve', 'recieved', 'recipe', 'recital', 'reckon', 'recognise', 'recognition', 'recognize', 'recomend', 'recomended', 'recommand', 'recommend', 'recommendable', 'recommendation', 'recommendations', 'recommended', 'reconfirm', 'reconsider', 'record', 'recover', 'recovery', 'recreate', 'rectangular', 'rectify', 'recycle', 'red', 'redeem', 'redeeming', 'redfern', 'redo', 'redoak', 'reduce', 'reduced', 'reduction', 'reef', 'reel', 'refer', 'reference', 'refill', 'refine', 'refined', 'refinement', 'reflect', 'reflection', 'reflective', 'refresh', 'refresher', 'refreshing', 'refreshingly', 'refreshment', 'refrigerate', 'refuel', 'refuge', 'refund', 'refurb', 'refurbish', 'refurbished', 'refurbishment', 'refuse', 'refused', 'regard', 'regardless', 'regatta', 'reggio', 'region', 'regional', 'register', 'regret', 'regrettably', 'regular', 'regularly', 'regulars', 'regulation', 'reheat', 'reign', 'reinforce', 'reisling', 'reiterate', 'reject', 'relate', 'related', 'relation', 'relationship', 'relative', 'relatively', 'relax', 'relaxation', 'relaxed', 'relaxing', 'relay', 'release', 'relevant', 'reliable', 'reliably', 'relief', 'relieve', 'religious', 'relish', 'relive', 'relocate', 'reluctant', 'reluctantly', 'rely', 'remain', 'remainder', 'remains', 'remake', 'remark', 'remarkable', 'remarkably', 'remedied', 'remember', 'remind', 'reminder', 'reminds', 'reminisce', 'reminiscent', 'remnant', 'remote', 'remotely', 'remove', 'renaissance', 'rendang', 'render', 'rendezvous', 'rendition', 'rene', 'renew', 'reno', 'renovate', 'renovated', 'renovation', 'renowned', 'rent', 'reopen', 'reorder', 'repair', 'repeat', 'repeatedly', 'replace', 'replacement', 'replenish', 'replete', 'replicate', 'reply', 'report', 'represent', 'representation', 'representative', 'reprimand', 'reputable', 'reputation', 'request', 'requested', 'requests', 'require', 'required', 'requirement', 'requirements', 'rescue', 'research', 'resemblance', 'resemble', 'reservation', 'reservations', 'reserve', 'reserved', 'reset', 'reside', 'residence', 'resident', 'residential', 'resist', 'resistance', 'resolution', 'resolve', 'resonable', 'resort', 'respect', 'respectable', 'respectful', 'respectfully', 'respective', 'respectively', 'respite', 'respond', 'response', 'responsibility', 'responsible', 'responsive', 'rest', 'restaraunt', 'restauarant', 'restaurant', 'restaurants', 'restaurateur', 'restaurent', 'resteraunt', 'restful', 'restless', 'resto', 'restore', 'restored', 'restrain', 'restraint', 'restraunt', 'restrict', 'restricted', 'restriction', 'restroom', 'restuarant', 'restuarants', 'resturant', 'resturants', 'resturaunt', 'result', 'retail', 'retain', 'retaurant', 'rethink', 'retire', 'retired', 'retirement', 'retreat', 'retrieve', 'retro', 'return', 'returned', 'returning', 'reuben', 'reunion', 'revamp', 'reveal', 'revelation', 'revenue', 'reverse', 'review', 'reviewer', 'reviews', 'revise', 'revisit', 'revive', 'reviver', 'revolt', 'revolting', 'revolution', 'revolve', 'revolving', 'reward', 'rewarding', 'rex', 'reynold', 'rhodes', 'rhone', 'rhubarb', 'rhythm', 'ria', 'rib', 'ribbon', 'ribeye', 'ribs', 'rice', 'rich', 'richard', 'richly', 'richmond', 'richness', 'rick', 'ricordo', 'ricotta', 'rid', 'ride', 'rider', 'ridge', 'ridgeview', 'ridiculous', 'ridiculously', 'riesling', 'rigatoni', 'right', 'rightly', 'riley', 'rillette', 'rillettes', 'rim', 'rind', 'ring', 'rio', 'rioja', 'rip', 'ripe', 'ripoff', 'ripped', 'ripper', 'ripple', 'rise', 'risk', 'risotto', 'rissole', 'rissotto', 'ristorante', 'ritual', 'ritz', 'riva', 'rival', 'river', 'riverside', 'riverview', 'road', 'roadside', 'roam', 'roar', 'roaring', 'roast', 'roasted', 'roaster', 'rob', 'robbery', 'robert', 'robin', 'robot', 'robotic', 'robust', 'roche', 'rock', 'rocket', 'rockford', 'rockmelon', 'rockpool', 'rocks', 'rocksalt', 'rocky', 'rodney', 'roe', 'rogan', 'rojak', 'role', 'roll', 'rolled', 'roller', 'rolling', 'rolls', 'rom', 'roman', 'romance', 'romantic', 'rome', 'romesco', 'roo', 'roof', 'rooftop', 'rook', 'rookie', 'room', 'rooms', 'roomy', 'rooster', 'root', 'rope', 'rosa', 'rose', 'rosemary', 'rosetta', 'roseville', 'rosewater', 'ross', 'rossini', 'rosso', 'rosti', 'rotate', 'rotating', 'rotation', 'roti', 'rotis', 'rotisserie', 'rotten', 'rough', 'roughly', 'roulade', 'round', 'roundabout', 'rounded', 'rounder', 'rouse', 'route', 'routine', 'row', 'rowdy', 'rower', 'royal', 'royalty', 'rozelle', 'rsa', 'rsl', 'rub', 'rubber', 'rubbery', 'rubbish', 'ruby', 'rubyos', 'rude', 'rudely', 'rudeness', 'rudest', 'rug', 'rugby', 'ruin', 'ruined', 'rule', 'rum', 'rump', 'run', 'rundown', 'runner', 'running', 'runny', 'rural', 'rush', 'rushed', 'russell', 'russian', 'rustic', 'rustica', 'rusty', 'ryan', 'ryde', 'rydges', 'rye', 'saag', 'sabor', 'sachet', 'sack', 'sacrifice', 'sad', 'sadden', 'sadly', 'safe', 'safely', 'safety', 'saffron', 'saganaki', 'sage', 'sago', 'sagra', 'said', 'saigon', 'sail', 'sailing', 'sailor', 'saint', 'sake', 'saki', 'salad', 'salads', 'salami', 'sale', 'salina', 'salivate', 'sally', 'salmon', 'salon', 'salsa', 'salt', 'saltbush', 'salted', 'saltimbocca', 'saltiness', 'salty', 'salumi', 'sam', 'samara', 'sambal', 'samosa', 'sample', 'sampler', 'sampling', 'san', 'sancerre', 'sanctuary', 'sand', 'sandbar', 'sandpiper', 'sandstone', 'sandwhich', 'sandwich', 'sandy', 'sang', 'sangiovese', 'sangria', 'sans', 'santa', 'santorini', 'sapphire', 'sarah', 'sarcastic', 'sardine', 'sardinia', 'sardinian', 'sashimi', 'sat', 'satang', 'satay', 'satays', 'sate', 'satiate', 'satisfaction', 'satisfactory', 'satisfied', 'satisfy', 'satisfying', 'saturate', 'saturday', 'sauce', 'saucer', 'sauces', 'saucy', 'sauerkraut', 'sausage', 'sausages', 'saute', 'sauteed', 'sauv', 'sauvignon', 'sav', 'save', 'saveur', 'saving', 'saviour', 'savor', 'savory', 'savour', 'savoury', 'savoy', 'savvy', 'saw', 'say', 'saying', 'scale', 'scallop', 'scallopini', 'scallops', 'scaloppine', 'scam', 'scampi', 'scan', 'scant', 'scar', 'scarborough', 'scarce', 'scare', 'scary', 'scatter', 'scattered', 'scenario', 'scene', 'scenery', 'scenic', 'scent', 'sceptical', 'schedule', 'scheme', 'schnapper', 'schnapps', 'schnitty', 'schnitzel', 'school', 'schooner', 'science', 'scoff', 'scollop', 'scone', 'scones', 'scoop', 'scoopon', 'scope', 'score', 'scotch', 'scotland', 'scott', 'scottie', 'scottish', 'scowl', 'scrabble', 'scramble', 'scrambled', 'scrap', 'scrape', 'scratch', 'scratchley', 'scratchleys', 'scream', 'screaming', 'screen', 'screw', 'scroll', 'scrub', 'scruffy', 'scrummy', 'scrumptious', 'sculpture', 'scurry', 'sea', 'seabreeze', 'seafood', 'seafront', 'seagull', 'seal', 'sealevel', 'seam', 'seamless', 'seamlessly', 'sean', 'seaplane', 'sear', 'search', 'seared', 'searock', 'seasalt', 'seaside', 'season', 'seasonal', 'seasonally', 'seasoned', 'seasoning', 'seat', 'seated', 'seater', 'seating', 'seats', 'seattle', 'seaweed', 'sebel', 'sec', 'seclude', 'secluded', 'second', 'secondary', 'secondly', 'secret', 'section', 'secure', 'security', 'see', 'seed', 'seedy', 'seeing', 'seek', 'seem', 'seemed', 'seemingly', 'seems', 'seen', 'sefa', 'segment', 'seiobo', 'seldom', 'select', 'selected', 'selection', 'selections', 'selective', 'self', 'selfish', 'sell', 'seller', 'selling', 'semi', 'semifreddo', 'semillon', 'semolina', 'send', 'senior', 'sens', 'sensation', 'sensational', 'sense', 'sensible', 'sensibly', 'sensitive', 'sensory', 'sent', 'sentence', 'separate', 'separately', 'seperate', 'seperately', 'sephardi', 'sepia', 'sept', 'september', 'sequence', 'serenade', 'serene', 'serenity', 'serf', 'series', 'serious', 'seriously', 'serrano', 'servant', 'serve', 'served', 'server', 'servery', 'serves', 'service', 'serviced', 'servicing', 'serviette', 'serving', 'servings', 'sesame', 'sessa', 'session', 'set', 'setting', 'settle', 'settler', 'setup', 'seven', 'sever', 'several', 'severe', 'severely', 'sevice', 'sew', 'sex', 'sexy', 'shabby', 'shack', 'shade', 'shaded', 'shadow', 'shady', 'shake', 'shaker', 'shakshuka', 'shall', 'shallot', 'shallow', 'shamble', 'shame', 'shameful', 'shanghai', 'shangri', 'shank', 'shape', 'shaped', 'shard', 'share', 'shared', 'sharing', 'shark', 'sharon', 'sharp', 'shatter', 'shave', 'shaved', 'shaving', 'shawarma', 'sheaf', 'sheep', 'sheer', 'sheet', 'shelf', 'shelley', 'shellfish', 'shelly', 'shelter', 'sheltered', 'shepherd', 'sheraton', 'sherry', 'shh', 'shield', 'shift', 'shiitake', 'shin', 'shine', 'shining', 'shiny', 'ship', 'shiraz', 'shire', 'shirt', 'shish', 'shisha', 'shiso', 'shitake', 'shoal', 'shock', 'shocked', 'shocker', 'shocking', 'shockingly', 'shoddy', 'shoe', 'shoestring', 'shone', 'shoo', 'shoot', 'shop', 'shopfront', 'shopper', 'shopping', 'shore', 'short', 'shortage', 'shortbread', 'shortcoming', 'shortly', 'shot', 'shoulder', 'shout', 'shouting', 'shove', 'show', 'showcase', 'showcased', 'showcases', 'showcasing', 'shower', 'showing', 'shred', 'shredded', 'shrimp', 'shrink', 'shrivel', 'shrug', 'shuck', 'shuffle', 'shuk', 'shut', 'shuttle', 'shy', 'sibling', 'sichuan', 'sicilian', 'sicily', 'sick', 'sickly', 'side', 'sider', 'siders', 'sides', 'sidewalk', 'sidney', 'sienna', 'siew', 'sigh', 'sight', 'sightsee', 'sightseeing', 'sign', 'signage', 'signal', 'signature', 'significant', 'significantly', 'silence', 'silent', 'silk', 'silken', 'silky', 'silly', 'silo', 'silver', 'sim', 'similar', 'similarly', 'simon', 'simple', 'simpler', 'simplicity', 'simply', 'sims', 'simultaneously', 'sin', 'since', 'sincere', 'sincerely', 'sinew', 'sinewy', 'sinful', 'sing', 'singapore', 'singaporean', 'singer', 'singha', 'singing', 'single', 'sink', 'sip', 'sir', 'sirloin', 'sister', 'sit', 'site', 'sits', 'sitting', 'situ', 'situate', 'situated', 'situation', 'siu', 'six', 'sixpenny', 'sixth', 'sixty', 'sizable', 'size', 'sizeable', 'sized', 'sizes', 'sizing', 'sizzle', 'sizzling', 'skeptical', 'skewer', 'skewered', 'skiff', 'skill', 'skilled', 'skillfully', 'skills', 'skim', 'skimp', 'skimpy', 'skin', 'skinny', 'skip', 'skirt', 'sky', 'skyline', 'slab', 'slack', 'slam', 'slant', 'slap', 'slate', 'slather', 'slaw', 'sleek', 'sleep', 'sleepy', 'sleeve', 'slice', 'sliced', 'slick', 'slide', 'slider', 'slight', 'slightest', 'slightly', 'slim', 'slimy', 'slip', 'slipper', 'slippery', 'sliver', 'slop', 'slope', 'sloppy', 'slot', 'slow', 'slowly', 'slug', 'slurp', 'smack', 'small', 'smaller', 'smallish', 'smart', 'smartly', 'smash', 'smashed', 'smattering', 'smear', 'smell', 'smelly', 'smelt', 'smh', 'smile', 'smiley', 'smiling', 'smith', 'smoke', 'smoked', 'smoker', 'smokey', 'smoking', 'smoky', 'smooth', 'smoothie', 'smoothly', 'smoothy', 'smorgasbord', 'smother', 'smug', 'snack', 'snacks', 'snag', 'snail', 'snake', 'snap', 'snapper', 'snappy', 'snatch', 'snd', 'sneak', 'sneaky', 'snicker', 'snitty', 'snitzel', 'snob', 'snobbery', 'snobbish', 'snobby', 'snooty', 'snotty', 'snow', 'snug', 'soak', 'soap', 'soar', 'soba', 'sober', 'soccer', 'sociable', 'social', 'socialise', 'society', 'sock', 'soda', 'sofa', 'sofitel', 'soft', 'soften', 'softly', 'softshell', 'soggy', 'soil', 'soiree', 'sokyo', 'soldier', 'sole', 'soleil', 'solely', 'solid', 'solitary', 'solo', 'solution', 'solve', 'som', 'somebody', 'someday', 'somehow', 'somelier', 'somellier', 'someone', 'someplace', 'something', 'somethings', 'sometime', 'sometimes', 'somewhat', 'somewhere', 'sommelier', 'son', 'song', 'sonoma', 'soo', 'soon', 'sooner', 'soothe', 'soothing', 'sophie', 'sophisticate', 'sophisticated', 'sophistication', 'sopra', 'sorbet', 'sore', 'sorely', 'sorrel', 'sorry', 'sort', 'sou', 'souffle', 'soul', 'soulless', 'sound', 'sounding', 'soundtrack', 'soup', 'soupy', 'sour', 'source', 'sourced', 'sourdough', 'sous', 'south', 'southern', 'souvenir', 'souvlaki', 'soy', 'soya', 'spa', 'space', 'spaced', 'spacing', 'spacious', 'spade', 'spag', 'spagetti', 'spaghetti', 'spaghettini', 'spain', 'span', 'spanakopita', 'spanish', 'spanner', 'spar', 'spare', 'spark', 'sparkle', 'sparkler', 'sparkling', 'sparse', 'spat', 'spatchcock', 'speak', 'speakeasy', 'speaker', 'speaking', 'speaks', 'spec', 'special', 'specialise', 'specialist', 'speciality', 'specialize', 'specially', 'specials', 'specialty', 'specific', 'specifically', 'specify', 'speck', 'spectacle', 'spectacular', 'spectacularly', 'spectrum', 'speech', 'speechless', 'speed', 'speedily', 'speedy', 'spell', 'spelling', 'spelt', 'spend', 'spending', 'spent', 'sphere', 'spiaggia', 'spice', 'spiced', 'spicers', 'spices', 'spicey', 'spiciness', 'spicy', 'spider', 'spill', 'spilt', 'spin', 'spinach', 'spiral', 'spirit', 'spit', 'spite', 'splash', 'splendid', 'split', 'splurge', 'spoil', 'spoilt', 'spoke', 'spoken', 'sponge', 'spontaneous', 'spontaneously', 'spoon', 'spoonful', 'sport', 'spot', 'spotless', 'spotlessly', 'spotty', 'spouse', 'spray', 'spread', 'sprig', 'spring', 'sprinkle', 'sprinkling', 'spritz', 'sprout', 'spud', 'spur', 'spy', 'square', 'squash', 'squashed', 'squashy', 'squeeze', 'squeezed', 'squeezy', 'squid', 'squire', 'squish', 'squishy', 'sri', 'stable', 'stack', 'stadium', 'staff', 'staffed', 'staffer', 'staffing', 'stage', 'stagger', 'stain', 'stainless', 'stair', 'staircase', 'stairs', 'stairway', 'stake', 'stale', 'stalk', 'stall', 'stalwart', 'stamford', 'stamp', 'stand', 'standard', 'standards', 'standing', 'standout', 'standouts', 'stanley', 'staple', 'star', 'starch', 'stare', 'stark', 'stars', 'start', 'started', 'starter', 'starters', 'starting', 'starve', 'starving', 'state', 'statement', 'station', 'statue', 'status', 'stay', 'stayed', 'staying', 'steady', 'steak', 'steakhouse', 'steaks', 'steal', 'steam', 'steamed', 'steamer', 'steel', 'steep', 'steer', 'steersons', 'stefano', 'stein', 'stella', 'stellar', 'stem', 'step', 'stephen', 'sterile', 'steve', 'stew', 'steward', 'stewart', 'stewed', 'steyne', 'stick', 'sticker', 'sticky', 'stiff', 'still', 'sting', 'stingy', 'stink', 'stinking', 'stir', 'stirfry', 'stitch', 'stock', 'stocked', 'stockton', 'stodgy', 'stoke', 'stomach', 'stone', 'stoner', 'stood', 'stool', 'stop', 'stopover', 'stopped', 'stopper', 'stopping', 'storage', 'store', 'storey', 'storm', 'stormy', 'story', 'stout', 'stove', 'stracciatella', 'straight', 'straightaway', 'straightforward', 'strain', 'strand', 'strange', 'strangely', 'stranger', 'strap', 'strategically', 'strategy', 'straw', 'strawberry', 'stray', 'streak', 'stream', 'street', 'strength', 'stress', 'stressed', 'stressful', 'stretch', 'stretched', 'strict', 'strictly', 'stride', 'strike', 'string', 'stringy', 'strip', 'striploin', 'strive', 'stroke', 'stroll', 'stroller', 'strong', 'strongly', 'structure', 'strudel', 'struggle', 'stuart', 'stuck', 'student', 'studio', 'study', 'stuff', 'stuffed', 'stuffing', 'stuffy', 'stumble', 'stump', 'stun', 'stunning', 'stunningly', 'stupendous', 'stupid', 'stupidly', 'style', 'styled', 'styling', 'stylish', 'stylishly', 'sub', 'subdue', 'subject', 'subjective', 'sublime', 'submit', 'subo', 'subpar', 'subsequent', 'subsequently', 'subsolo', 'substance', 'substandard', 'substantial', 'substantially', 'substitute', 'substitution', 'subtle', 'subtlety', 'subtly', 'suburb', 'suburban', 'suburbia', 'suburbs', 'subway', 'succeed', 'success', 'successful', 'successfully', 'succession', 'succulent', 'succumb', 'suck', 'sucker', 'suckle', 'suckling', 'sudden', 'suddenly', 'sue', 'suffer', 'suffice', 'sufficient', 'sufficiently', 'sugar', 'sugarcane', 'sugary', 'suggest', 'suggested', 'suggestion', 'suggestions', 'sui', 'suit', 'suitable', 'suitably', 'suite', 'suited', 'sultana', 'sum', 'sumac', 'summarise', 'summary', 'summer', 'summery', 'summit', 'summon', 'sumptuous', 'sun', 'sundae', 'sunday', 'sundowner', 'sundried', 'sung', 'sunglass', 'sunlight', 'sunny', 'sunrise', 'sunscreen', 'sunset', 'sunshine', 'super', 'superb', 'superbly', 'superior', 'superlative', 'supermarket', 'supervise', 'supervision', 'supervisor', 'supper', 'supplement', 'supplier', 'supply', 'support', 'supportive', 'suppose', 'supposedly', 'supreme', 'suprise', 'suprised', 'suprisingly', 'supurb', 'sur', 'surcharge', 'sure', 'surely', 'surf', 'surface', 'surfer', 'surfhouse', 'surly', 'surpass', 'surprise', 'surprised', 'surprising', 'surprisingly', 'surreal', 'surrey', 'surround', 'surrounding', 'surroundings', 'surry', 'survive', 'sushi', 'sushimi', 'suspect', 'suspicious', 'sussex', 'sustainable', 'sustenance', 'sutherland', 'suzette', 'swallow', 'swamp', 'swan', 'swanky', 'swansea', 'swap', 'swarm', 'sway', 'swear', 'sweat', 'sweaty', 'sweep', 'sweeping', 'sweet', 'sweetbread', 'sweetcorn', 'sweeten', 'sweeter', 'sweetness', 'sweets', 'swift', 'swiftly', 'swim', 'swimmer', 'swimming', 'swing', 'swipe', 'swirl', 'swish', 'swiss', 'swissotel', 'switch', 'switzerland', 'swoop', 'sword', 'swordfish', 'syd', 'sydney', 'sydneysider', 'sydneysiders', 'sympathetic', 'symphony', 'syndey', 'syrian', 'syrup', 'system', 'szechuan', 'tab', 'tabasco', 'tabbouleh', 'table', 'tablecloth', 'tables', 'tablespoon', 'tablet', 'tableware', 'tabouli', 'tackle', 'tacky', 'taco', 'tacos', 'tad', 'tadka', 'tag', 'tagine', 'tagines', 'tagliatelle', 'tagliolini', 'tahini', 'tai', 'tail', 'tailor', 'taint', 'taiwan', 'taiwanese', 'take', 'takeaway', 'taken', 'takeout', 'taking', 'tale', 'talent', 'talented', 'talk', 'talkative', 'tall', 'talulah', 'tam', 'tamarin', 'tamarind', 'tame', 'tan', 'tandoor', 'tandoori', 'tang', 'tangy', 'tank', 'tantalise', 'tantalize', 'tap', 'tapa', 'tapas', 'tapavino', 'tapenade', 'tapioca', 'tappa', 'tarama', 'taramasalata', 'target', 'tarik', 'tarnish', 'taro', 'taronga', 'tarragon', 'tart', 'tartar', 'tartare', 'tarte', 'tartin', 'tartlet', 'task', 'tasmania', 'tasmanian', 'tassie', 'tast', 'taste', 'tastebud', 'tastebuds', 'tasted', 'tasteful', 'tastefully', 'tasteless', 'taster', 'tastes', 'tastey', 'tastiest', 'tasting', 'tastless', 'tasty', 'tataki', 'tatin', 'tatler', 'tattoo', 'tavern', 'taverna', 'tavola', 'tax', 'taxi', 'taylor', 'tea', 'teach', 'teacher', 'team', 'teapot', 'tear', 'tearoom', 'teas', 'tease', 'teaspoon', 'technical', 'technically', 'technique', 'technology', 'tee', 'teen', 'teenage', 'teenager', 'teeny', 'teeth', 'teethe', 'teh', 'telephone', 'television', 'tell', 'temasek', 'temp', 'temper', 'temperature', 'temple', 'temporary', 'tempranillo', 'tempt', 'temptation', 'tempting', 'tempura', 'tempus', 'ten', 'tend', 'tender', 'tenderloin', 'tenderness', 'tends', 'tennis', 'tent', 'tentative', 'teow', 'tepid', 'teppanyaki', 'tequila', 'teriyaki', 'term', 'terminal', 'ternary', 'terrace', 'terrey', 'terrible', 'terribly', 'terrific', 'terrigal', 'terrine', 'territory', 'terry', 'test', 'testament', 'testimony', 'tetsuya', 'tetsuyas', 'tex', 'texas', 'text', 'textural', 'texture', 'textured', 'textures', 'tge', 'tgi', 'tha', 'thai', 'thailand', 'thali', 'thank', 'thankful', 'thankfully', 'thanks', 'thankyou', 'thaw', 'theater', 'theatre', 'theatrical', 'thee', 'thelma', 'theme', 'themed', 'theory', 'ther', 'thereafter', 'therefore', 'thermidor', 'thick', 'thicker', 'thickly', 'thickness', 'thickshake', 'thier', 'thigh', 'thin', 'thing', 'things', 'thingy', 'think', 'thinking', 'thinly', 'thinner', 'third', 'thirdly', 'thirst', 'thirsty', 'thirty', 'tho', 'thomas', 'thompson', 'thong', 'thorough', 'thoroughfare', 'thoroughly', 'thou', 'though', 'thought', 'thoughtful', 'thoughtfully', 'thousand', 'thr', 'threaten', 'three', 'thrice', 'thrill', 'thrilled', 'thrive', 'throat', 'throng', 'throughly', 'throughout', 'throw', 'thrown', 'thru', 'thumb', 'thumbs', 'thump', 'thunderstorm', 'thurs', 'thursday', 'thus', 'thyme', 'tick', 'ticket', 'tickle', 'tide', 'tidy', 'tie', 'tier', 'tiered', 'tiger', 'tight', 'tightly', 'tikka', 'til', 'tilbury', 'tile', 'tiled', 'till', 'tim', 'timber', 'time', 'timed', 'timeframe', 'timeless', 'timely', 'timer', 'times', 'timing', 'tin', 'tingle', 'tinned', 'tiny', 'tip', 'tipping', 'tipple', 'tips', 'tipsy', 'tiramasu', 'tiramisu', 'tire', 'tired', 'tiring', 'tissue', 'title', 'tlc', 'toast', 'toasted', 'toastie', 'toasties', 'toasty', 'toblerone', 'toby', 'today', 'toddler', 'toe', 'toffee', 'tofu', 'together', 'togethers', 'toilet', 'toilets', 'token', 'tokio', 'toko', 'tokyo', 'told', 'tolerance', 'tolerant', 'tolerate', 'tom', 'tomahawk', 'tomato', 'tomatoe', 'tomatoes', 'tommy', 'tomorrow', 'ton', 'tone', 'tong', 'tongs', 'tongue', 'toni', 'tonic', 'tonight', 'tonnato', 'tonne', 'tony', 'took', 'tool', 'tooth', 'toothfish', 'top', 'topic', 'topped', 'topper', 'topping', 'toppings', 'tops', 'torch', 'torn', 'toro', 'toronto', 'toros', 'torres', 'torte', 'tortellini', 'tortilla', 'toss', 'tostada', 'tot', 'total', 'totally', 'touch', 'tough', 'tour', 'tourism', 'tourist', 'touristic', 'tourists', 'touristy', 'tout', 'tow', 'toward', 'towards', 'towel', 'tower', 'town', 'towner', 'toy', 'trace', 'track', 'trade', 'trader', 'trading', 'tradition', 'traditional', 'traditionally', 'traffic', 'tragic', 'trail', 'train', 'trained', 'trainee', 'training', 'tram', 'tramsheds', 'tranquil', 'tranquility', 'transaction', 'transfer', 'transform', 'transformation', 'transit', 'transition', 'translate', 'translation', 'transparent', 'transport', 'trap', 'trash', 'tratt', 'trattoria', 'travel', 'traveler', 'travelled', 'traveller', 'travelling', 'travelodge', 'tray', 'treasure', 'treat', 'treatment', 'tree', 'treehouse', 'trek', 'tremendous', 'tremendously', 'trend', 'trendy', 'trent', 'trepidation', 'tres', 'trevalla', 'trevi', 'trial', 'triangle', 'tribute', 'trick', 'tricky', 'tried', 'trifle', 'trim', 'trimming', 'trio', 'trip', 'tripadvisor', 'tripe', 'triple', 'tripper', 'triumph', 'trivia', 'trolley', 'tropical', 'trouble', 'trout', 'troy', 'truck', 'true', 'truely', 'truffle', 'truffled', 'truly', 'trump', 'trust', 'truth', 'try', 'trying', 'tub', 'tube', 'tuck', 'tucked', 'tucker', 'tues', 'tuesday', 'tug', 'tulloch', 'tum', 'tumbler', 'tumeric', 'tummy', 'tuna', 'tune', 'tunnel', 'turf', 'turkey', 'turkish', 'turmeric', 'turn', 'turnaround', 'turnip', 'turnover', 'turramurra', 'tuscan', 'tuscany', 'tweak', 'twelve', 'twenty', 'twice', 'twilight', 'twin', 'twine', 'twinkle', 'twist', 'two', 'type', 'typical', 'typically', 'tyre', 'tzatziki', 'uber', 'ubiquitous', 'uccello', 'udon', 'ugh', 'ugly', 'ultimate', 'ultimately', 'ultra', 'umami', 'umbrella', 'umbrellas', 'umii', 'umm', 'una', 'unable', 'unacceptable', 'unanimous', 'unannounced', 'unapologetic', 'unappealing', 'unappetising', 'unappetizing', 'unassuming', 'unattended', 'unattentive', 'unavailable', 'unaware', 'unbearable', 'unbeatable', 'unbelievable', 'unbelievably', 'uncaring', 'uncertain', 'unchanged', 'uncle', 'unclean', 'uncleared', 'uncomfortable', 'uncomfortably', 'uncommon', 'uncomplicated', 'uncooked', 'unctuous', 'undecided', 'undeniably', 'undercooked', 'undercover', 'underdone', 'undergo', 'undergone', 'underground', 'underneath', 'underrated', 'understaffed', 'understand', 'understandable', 'understandably', 'understanding', 'understate', 'understated', 'understatement', 'understood', 'underway', 'underwhelmed', 'underwhelming', 'undoubtedly', 'undrinkable', 'uneatable', 'uneaten', 'unenjoyable', 'uneven', 'unexciting', 'unexpected', 'unexpectedly', 'unfair', 'unfamiliar', 'unfinished', 'unfold', 'unforgettable', 'unforgivable', 'unfortunate', 'unfortunately', 'unfriendly', 'unfussy', 'unhappy', 'unhealthy', 'unheard', 'unhelpful', 'unhurried', 'unhygienic', 'uni', 'uniform', 'uniformly', 'unimaginative', 'unimpressed', 'unimpressive', 'uninspired', 'uninspiring', 'uninterested', 'uninteresting', 'uninterrupted', 'uninviting', 'union', 'unique', 'uniquely', 'uniqueness', 'unisex', 'unit', 'united', 'universe', 'university', 'unknown', 'unless', 'unlike', 'unlikely', 'unlimited', 'unlucky', 'unmatched', 'unnecessarily', 'unnecessary', 'unnoticed', 'unobstructed', 'unobtrusive', 'unobtrusively', 'unoccupied', 'unorganised', 'unpalatable', 'unparalleled', 'unplanned', 'unpleasant', 'unpretentious', 'unprofessional', 'unreal', 'unreasonable', 'unreasonably', 'unremarkable', 'unreserved', 'unrivalled', 'unrushed', 'unsatisfactory', 'unsatisfied', 'unseasoned', 'unsure', 'unsurpassed', 'unsurprisingly', 'unsuspecting', 'untidy', 'untouched', 'untrained', 'unusual', 'unusually', 'unwanted', 'unwelcome', 'unwelcoming', 'unwell', 'unwilling', 'unwind', 'upbeat', 'upcoming', 'update', 'updated', 'updating', 'upfront', 'upgrade', 'upmarket', 'upon', 'upper', 'ups', 'upscale', 'upsell', 'upset', 'upsetting', 'upside', 'upstairs', 'upto', 'upwards', 'urban', 'urchin', 'urge', 'urgency', 'urgent', 'urine', 'usa', 'usd', 'use', 'used', 'useful', 'useless', 'user', 'usher', 'ushered', 'usual', 'usually', 'utensil', 'utilise', 'utmost', 'utter', 'utterly', 'vacant', 'vacate', 'vacation', 'vacuum', 'vague', 'vaguely', 'vale', 'valentine', 'valet', 'valid', 'validate', 'valley', 'valuable', 'value', 'van', 'vancouver', 'vanessa', 'vanilla', 'vantage', 'vapiano', 'variable', 'variation', 'varied', 'varies', 'varietal', 'variety', 'various', 'vary', 'vast', 'vastly', 'vat', 'vaucluse', 'veal', 'veg', 'vega', 'vegan', 'vege', 'vegemite', 'veges', 'vegetable', 'vegetables', 'vegetarian', 'vegetarians', 'veggie', 'veggies', 'vegie', 'vegies', 'vego', 'vegos', 'vehicle', 'vein', 'veiw', 'veiws', 'velvet', 'velvety', 'vendor', 'venice', 'venison', 'vent', 'ventuno', 'venture', 'venue', 'venues', 'ver', 'verace', 'veranda', 'verandah', 'verbally', 'verde', 'verdelho', 'verdict', 'verge', 'vermicelli', 'vermouth', 'versatile', 'verse', 'version', 'versus', 'verve', 'vessel', 'veuve', 'vey', 'via', 'vibe', 'vibey', 'vibrancy', 'vibrant', 'vic', 'vicinity', 'victim', 'victoria', 'victorian', 'victory', 'vide', 'video', 'vie', 'vienna', 'viet', 'vietnam', 'vietnamese', 'view', 'viewing', 'views', 'viking', 'vile', 'villa', 'village', 'vin', 'vinaigrette', 'vincent', 'vindaloo', 'vine', 'vinegar', 'vineyard', 'vini', 'vino', 'vintage', 'violently', 'violet', 'vip', 'virgin', 'virtually', 'visa', 'visible', 'visibly', 'vision', 'visit', 'visited', 'visiting', 'visitor', 'visitors', 'visits', 'vist', 'vista', 'visted', 'visual', 'visually', 'vita', 'vitello', 'vivid', 'vocal', 'vodka', 'voice', 'void', 'volcano', 'volume', 'volunteer', 'vomit', 'vongole', 'vote', 'vouch', 'voucher', 'vow', 'vrindavan', 'vue', 'waay', 'wad', 'waddle', 'wafer', 'waffle', 'waft', 'wage', 'wagu', 'wagyu', 'wahroonga', 'waist', 'waistline', 'wait', 'waited', 'waiter', 'waiters', 'waiting', 'waitor', 'waitperson', 'waitress', 'waitresses', 'waitstaff', 'waive', 'wake', 'wale', 'walk', 'walked', 'walker', 'walking', 'walkway', 'wall', 'wallaby', 'wallet', 'wallpaper', 'walls', 'walnut', 'walsh', 'wan', 'wander', 'wannabe', 'want', 'wanted', 'wanting', 'wanton', 'war', 'ware', 'warehouse', 'warf', 'warm', 'warmed', 'warmer', 'warming', 'warmly', 'warmth', 'warn', 'warner', 'warning', 'warrant', 'wary', 'wasabi', 'wash', 'washed', 'washroom', 'waste', 'wasted', 'watch', 'watching', 'water', 'watercress', 'waterfront', 'watergrill', 'watering', 'wateringly', 'waterloo', 'watermelon', 'waterside', 'waterway', 'watery', 'watson', 'wattle', 'wave', 'wax', 'way', 'waygu', 'ways', 'wayzgoose', 'weak', 'wealth', 'wealthy', 'wear', 'weary', 'weather', 'web', 'website', 'wed', 'wedding', 'wedge', 'wednesday', 'wee', 'weed', 'week', 'weekday', 'weekend', 'weekender', 'weekends', 'weekly', 'weeknight', 'weeks', 'weigh', 'weight', 'weird', 'welcome', 'welcomed', 'welcoming', 'well', 'wellington', 'went', 'wentworth', 'wer', 'west', 'western', 'westerner', 'westernise', 'westernised', 'westfield', 'westfields', 'westin', 'wet', 'wether', 'whale', 'wharf', 'whatever', 'whatsoever', 'wheat', 'wheel', 'wheelchair', 'whenever', 'whereas', 'whereby', 'wherever', 'whet', 'whether', 'whilst', 'whim', 'whine', 'whinge', 'whip', 'whipped', 'whirl', 'whisk', 'whiskey', 'whisky', 'whisper', 'whist', 'whistle', 'white', 'whitebait', 'whitewater', 'whiting', 'whoa', 'whoever', 'whole', 'wholeheartedly', 'wholemeal', 'wholesome', 'whopping', 'whose', 'wich', 'wicked', 'wide', 'widely', 'wider', 'wife', 'wifes', 'wifi', 'wil', 'wild', 'wildlife', 'wildly', 'wildpear', 'wildwater', 'william', 'williams', 'willing', 'willingly', 'willingness', 'willoughby', 'wilson', 'wilt', 'wilted', 'win', 'wind', 'window', 'windows', 'windsor', 'windy', 'wine', 'winelist', 'winemaker', 'winery', 'wines', 'wing', 'wings', 'winner', 'winning', 'winter', 'wintergarden', 'wintery', 'wipe', 'wire', 'wise', 'wisely', 'wish', 'wisteria', 'wit', 'witch', 'within', 'without', 'witlof', 'witness', 'witty', 'wobble', 'wobbly', 'woeful', 'wok', 'wolf', 'wollombi', 'wollongong', 'woman', 'wombat', 'wonder', 'wonderful', 'wonderfull', 'wonderfully', 'wonderland', 'wong', 'wongs', 'wonton', 'wood', 'wooden', 'woodfire', 'woodfired', 'woodland', 'woody', 'woolies', 'woollahra', 'woolloomooloo', 'wooloomooloo', 'woolwich', 'woolworth', 'woonona', 'word', 'wore', 'work', 'worked', 'worker', 'working', 'workmate', 'workplace', 'works', 'workshop', 'world', 'worldly', 'worldwide', 'worm', 'worn', 'worried', 'worry', 'worse', 'worst', 'worth', 'worthwhile', 'worthy', 'would', 'woulday', 'wouldo', 'wow', 'wrap', 'wrapped', 'wrapper', 'wreck', 'write', 'writer', 'writing', 'wrong', 'wrongly', 'wtf', 'wth', 'wynyard', 'wyong', 'xenos', 'xiao', 'xmas', 'yabbies', 'yacht', 'yak', 'yam', 'yamba', 'yard', 'yarra', 'yay', 'yea', 'yeah', 'year', 'years', 'yeh', 'yell', 'yelling', 'yellow', 'yellowfin', 'yellowtail', 'yep', 'yes', 'yesterday', 'yesteryear', 'yet', 'yoghurt', 'yogurt', 'yok', 'yolk', 'york', 'yorkshire', 'young', 'youngster', 'youth', 'yrs', 'yuck', 'yuk', 'yullis', 'yum', 'yumcha', 'yumm', 'yummie', 'yumminess', 'yummo', 'yummy', 'yup', 'yuzu', 'zaaffran', 'zahli', 'zealand', 'zen', 'zero', 'zest', 'zesty', 'zetland', 'zia', 'zilver', 'zimzala', 'zinc', 'zing', 'zingy', 'zip', 'zone', 'zoo', 'zucchini', 'zuccini', 'zuchini', 'zuchinni', 'zumbo']\n"
     ]
    }
   ],
   "source": [
    "print(xtrain_tvec.get_feature_names())"
   ]
  },
  {
   "cell_type": "code",
   "execution_count": 22,
   "metadata": {},
   "outputs": [
    {
     "data": {
      "text/plain": [
       "9689"
      ]
     },
     "execution_count": 22,
     "metadata": {},
     "output_type": "execute_result"
    }
   ],
   "source": [
    "len(xtrain_tvec.get_feature_names())"
   ]
  },
  {
   "cell_type": "code",
   "execution_count": 23,
   "metadata": {
    "scrolled": true
   },
   "outputs": [],
   "source": [
    "xtest_tvec_matrix = xtrain_tvec.transform(X_test['review_text'])"
   ]
  },
  {
   "cell_type": "markdown",
   "metadata": {},
   "source": [
    "### Model Selection"
   ]
  },
  {
   "cell_type": "code",
   "execution_count": 24,
   "metadata": {},
   "outputs": [],
   "source": [
    "from sklearn.linear_model import LogisticRegression\n",
    "from sklearn.svm import SVC\n",
    "from sklearn.tree import DecisionTreeClassifier\n",
    "from sklearn.ensemble import RandomForestClassifier\n",
    "from sklearn.naive_bayes import MultinomialNB\n",
    "from sklearn.metrics import roc_curve, auc, roc_auc_score\n",
    "from sklearn.metrics import accuracy_score, precision_score, recall_score, f1_score\n",
    "from sklearn.metrics import classification_report, confusion_matrix"
   ]
  },
  {
   "cell_type": "markdown",
   "metadata": {},
   "source": [
    "### 1. Logistic Regression"
   ]
  },
  {
   "cell_type": "code",
   "execution_count": 25,
   "metadata": {},
   "outputs": [
    {
     "name": "stderr",
     "output_type": "stream",
     "text": [
      "/Users/alphaniang/anaconda3/lib/python3.6/site-packages/sklearn/linear_model/logistic.py:433: FutureWarning: Default solver will be changed to 'lbfgs' in 0.22. Specify a solver to silence this warning.\n",
      "  FutureWarning)\n"
     ]
    }
   ],
   "source": [
    "lrt_starttime=time.time()\n",
    "lrt = LogisticRegression()\n",
    "lrt.fit(xtrain_tvec_matrix, y_train)\n",
    "y_pred_lrt=lrt.predict(xtest_tvec_matrix)\n",
    "lrt_runtime=time.time()-lrt_starttime"
   ]
  },
  {
   "cell_type": "code",
   "execution_count": 26,
   "metadata": {},
   "outputs": [
    {
     "data": {
      "text/plain": [
       "0.97812271454871"
      ]
     },
     "metadata": {},
     "output_type": "display_data"
    },
    {
     "data": {
      "text/plain": [
       "0.9831261748291489"
      ]
     },
     "metadata": {},
     "output_type": "display_data"
    },
    {
     "data": {
      "text/plain": [
       "0.9915204420539047"
      ]
     },
     "metadata": {},
     "output_type": "display_data"
    },
    {
     "data": {
      "text/plain": [
       "0.9873054663320481"
      ]
     },
     "metadata": {},
     "output_type": "display_data"
    },
    {
     "data": {
      "text/plain": [
       "0.9443392618795278"
      ]
     },
     "metadata": {},
     "output_type": "display_data"
    },
    {
     "data": {
      "text/plain": [
       "5.145198822021484"
      ]
     },
     "metadata": {},
     "output_type": "display_data"
    }
   ],
   "source": [
    "display(accuracy_score(y_test, y_pred_lrt))\n",
    "display(precision_score(y_test, y_pred_lrt))\n",
    "display(recall_score(y_test, y_pred_lrt))\n",
    "display(f1_score(y_test, y_pred_lrt))\n",
    "display(roc_auc_score(y_test, y_pred_lrt))\n",
    "display(lrt_runtime)"
   ]
  },
  {
   "cell_type": "markdown",
   "metadata": {},
   "source": [
    "### 2. SVC"
   ]
  },
  {
   "cell_type": "code",
   "execution_count": 27,
   "metadata": {},
   "outputs": [
    {
     "name": "stderr",
     "output_type": "stream",
     "text": [
      "/Users/alphaniang/anaconda3/lib/python3.6/site-packages/sklearn/svm/base.py:196: FutureWarning: The default value of gamma will change from 'auto' to 'scale' in version 0.22 to account better for unscaled features. Set gamma explicitly to 'auto' or 'scale' to avoid this warning.\n",
      "  \"avoid this warning.\", FutureWarning)\n"
     ]
    }
   ],
   "source": [
    "svct_starttime=time.time()\n",
    "svct = SVC()\n",
    "svct.fit(xtrain_tvec_matrix, y_train)\n",
    "y_pred_svct=svct.predict(xtest_tvec_matrix)\n",
    "svct_runtime=time.time()-svct_starttime"
   ]
  },
  {
   "cell_type": "code",
   "execution_count": 28,
   "metadata": {},
   "outputs": [
    {
     "data": {
      "text/plain": [
       "0.8580183088290924"
      ]
     },
     "metadata": {},
     "output_type": "display_data"
    },
    {
     "data": {
      "text/plain": [
       "0.8580183088290924"
      ]
     },
     "metadata": {},
     "output_type": "display_data"
    },
    {
     "data": {
      "text/plain": [
       "1.0"
      ]
     },
     "metadata": {},
     "output_type": "display_data"
    },
    {
     "data": {
      "text/plain": [
       "0.9235843422552799"
      ]
     },
     "metadata": {},
     "output_type": "display_data"
    },
    {
     "data": {
      "text/plain": [
       "0.5"
      ]
     },
     "metadata": {},
     "output_type": "display_data"
    },
    {
     "data": {
      "text/plain": [
       "22726.683270931244"
      ]
     },
     "metadata": {},
     "output_type": "display_data"
    }
   ],
   "source": [
    "display(accuracy_score(y_test, y_pred_svct))\n",
    "display(precision_score(y_test, y_pred_svct))\n",
    "display(recall_score(y_test, y_pred_svct))\n",
    "display(f1_score(y_test, y_pred_svct))\n",
    "display(roc_auc_score(y_test, y_pred_svct))\n",
    "display(svct_runtime)"
   ]
  },
  {
   "cell_type": "markdown",
   "metadata": {},
   "source": [
    "### 3. Decision Tree Classifier"
   ]
  },
  {
   "cell_type": "code",
   "execution_count": 39,
   "metadata": {},
   "outputs": [
    {
     "data": {
      "text/plain": [
       "DecisionTreeClassifier(class_weight=None, criterion='gini', max_depth=None,\n",
       "            max_features=None, max_leaf_nodes=None,\n",
       "            min_impurity_decrease=0.0, min_impurity_split=None,\n",
       "            min_samples_leaf=1, min_samples_split=2,\n",
       "            min_weight_fraction_leaf=0.0, presort=False, random_state=None,\n",
       "            splitter='best')"
      ]
     },
     "execution_count": 39,
     "metadata": {},
     "output_type": "execute_result"
    }
   ],
   "source": [
    "dtct_starttime=time.time()\n",
    "dtct = DecisionTreeClassifier()\n",
    "dtct.fit(xtrain_tvec_matrix, y_train)"
   ]
  },
  {
   "cell_type": "code",
   "execution_count": 40,
   "metadata": {},
   "outputs": [],
   "source": [
    "y_pred_dtct=dtct.predict(xtest_tvec_matrix)\n",
    "dtct_runtime=time.time()-dtct_starttime"
   ]
  },
  {
   "cell_type": "code",
   "execution_count": 41,
   "metadata": {},
   "outputs": [
    {
     "data": {
      "text/plain": [
       "0.9308122966736438"
      ]
     },
     "metadata": {},
     "output_type": "display_data"
    },
    {
     "data": {
      "text/plain": [
       "0.9567750697294061"
      ]
     },
     "metadata": {},
     "output_type": "display_data"
    },
    {
     "data": {
      "text/plain": [
       "0.9628633571407578"
      ]
     },
     "metadata": {},
     "output_type": "display_data"
    },
    {
     "data": {
      "text/plain": [
       "0.9598095586888848"
      ]
     },
     "metadata": {},
     "output_type": "display_data"
    },
    {
     "data": {
      "text/plain": [
       "0.8499929574336116"
      ]
     },
     "metadata": {},
     "output_type": "display_data"
    },
    {
     "data": {
      "text/plain": [
       "700.5817368030548"
      ]
     },
     "metadata": {},
     "output_type": "display_data"
    }
   ],
   "source": [
    "display(accuracy_score(y_test, y_pred_dtct))\n",
    "display(precision_score(y_test, y_pred_dtct))\n",
    "display(recall_score(y_test, y_pred_dtct))\n",
    "display(f1_score(y_test, y_pred_dtct))\n",
    "display(roc_auc_score(y_test, y_pred_dtct))\n",
    "display(dtct_runtime)"
   ]
  },
  {
   "cell_type": "markdown",
   "metadata": {},
   "source": [
    "### 4. Random Forest Classifier"
   ]
  },
  {
   "cell_type": "code",
   "execution_count": 42,
   "metadata": {},
   "outputs": [
    {
     "name": "stderr",
     "output_type": "stream",
     "text": [
      "/Users/alphaniang/anaconda3/lib/python3.6/site-packages/sklearn/ensemble/forest.py:246: FutureWarning: The default value of n_estimators will change from 10 in version 0.20 to 100 in 0.22.\n",
      "  \"10 in version 0.20 to 100 in 0.22.\", FutureWarning)\n"
     ]
    }
   ],
   "source": [
    "rfct_starttime=time.time()\n",
    "rfct = RandomForestClassifier()\n",
    "rfct.fit(xtrain_tvec_matrix, y_train)\n",
    "y_pred_rfct=rfct.predict(xtest_tvec_matrix)\n",
    "rfct_runtime=time.time()-rfct_starttime"
   ]
  },
  {
   "cell_type": "code",
   "execution_count": 43,
   "metadata": {},
   "outputs": [
    {
     "data": {
      "text/plain": [
       "0.9518069250750258"
      ]
     },
     "metadata": {},
     "output_type": "display_data"
    },
    {
     "data": {
      "text/plain": [
       "0.9618836660721477"
      ]
     },
     "metadata": {},
     "output_type": "display_data"
    },
    {
     "data": {
      "text/plain": [
       "0.9827763571701496"
      ]
     },
     "metadata": {},
     "output_type": "display_data"
    },
    {
     "data": {
      "text/plain": [
       "0.9722177800392527"
      ]
     },
     "metadata": {},
     "output_type": "display_data"
    },
    {
     "data": {
      "text/plain": [
       "0.8737149991889825"
      ]
     },
     "metadata": {},
     "output_type": "display_data"
    },
    {
     "data": {
      "text/plain": [
       "123.79702925682068"
      ]
     },
     "metadata": {},
     "output_type": "display_data"
    }
   ],
   "source": [
    "display(accuracy_score(y_test, y_pred_rfct))\n",
    "display(precision_score(y_test, y_pred_rfct))\n",
    "display(recall_score(y_test, y_pred_rfct))\n",
    "display(f1_score(y_test, y_pred_rfct))\n",
    "display(roc_auc_score(y_test, y_pred_rfct))\n",
    "display(rfct_runtime)"
   ]
  },
  {
   "cell_type": "markdown",
   "metadata": {},
   "source": [
    "### 5. Multinomial Naive Bayes"
   ]
  },
  {
   "cell_type": "code",
   "execution_count": 44,
   "metadata": {},
   "outputs": [],
   "source": [
    "mnbt_starttime=time.time()\n",
    "mnbt = MultinomialNB()\n",
    "mnbt.fit(xtrain_tvec_matrix, y_train)\n",
    "y_pred_mnbt=mnbt.predict(xtest_tvec_matrix)\n",
    "mnbt_runtime=time.time()-mnbt_starttime"
   ]
  },
  {
   "cell_type": "code",
   "execution_count": 45,
   "metadata": {},
   "outputs": [
    {
     "data": {
      "text/plain": [
       "0.9591203692028346"
      ]
     },
     "metadata": {},
     "output_type": "display_data"
    },
    {
     "data": {
      "text/plain": [
       "0.9591339341381852"
      ]
     },
     "metadata": {},
     "output_type": "display_data"
    },
    {
     "data": {
      "text/plain": [
       "0.9947388531287659"
      ]
     },
     "metadata": {},
     "output_type": "display_data"
    },
    {
     "data": {
      "text/plain": [
       "0.9766119840136201"
      ]
     },
     "metadata": {},
     "output_type": "display_data"
    },
    {
     "data": {
      "text/plain": [
       "0.8693054834027488"
      ]
     },
     "metadata": {},
     "output_type": "display_data"
    },
    {
     "data": {
      "text/plain": [
       "0.126723051071167"
      ]
     },
     "metadata": {},
     "output_type": "display_data"
    }
   ],
   "source": [
    "display(accuracy_score(y_test, y_pred_mnbt))\n",
    "display(precision_score(y_test, y_pred_mnbt))\n",
    "display(recall_score(y_test, y_pred_mnbt))\n",
    "display(f1_score(y_test, y_pred_mnbt))\n",
    "display(roc_auc_score(y_test, y_pred_mnbt))\n",
    "display(mnbt_runtime)"
   ]
  }
 ],
 "metadata": {
  "kernelspec": {
   "display_name": "Python 3",
   "language": "python",
   "name": "python3"
  },
  "language_info": {
   "codemirror_mode": {
    "name": "ipython",
    "version": 3
   },
   "file_extension": ".py",
   "mimetype": "text/x-python",
   "name": "python",
   "nbconvert_exporter": "python",
   "pygments_lexer": "ipython3",
   "version": "3.6.5"
  }
 },
 "nbformat": 4,
 "nbformat_minor": 2
}
