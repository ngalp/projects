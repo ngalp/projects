{
 "cells": [
  {
   "cell_type": "markdown",
   "metadata": {},
   "source": [
    "# Sentiment Analysis using NLTK"
   ]
  },
  {
   "cell_type": "markdown",
   "metadata": {},
   "source": [
    "<ins>Date Created/ Submitted: 25 Feb 19</ins>\n",
    "\n",
    "For this capstone project, the aim is to predict the sentiment of a review using sentiment analysis. And, apply topic modelling using LDA or similar analysis to identify key topics/ area within each sentiment class (e.g. which topics/areas garner mostly negative reviews and which topic/areas garner mostly postive reviews).\n",
    "\n",
    "This python implementation of this project is split into several python notebooks.\n",
    "* Part 1: Web-scraping review data (The code for this is not uploaded to github)\n",
    "* Part 2: Explore the data\n",
    "* Part 3: Prepare the data (pre-processing)\n",
    "* Part 4a: Modelling using word vector generated from CountVectorizer\n",
    "* Part 4b: Modelling using word vector generated from TDIDFVectorizer\n",
    "* Part 5: Summary Results with Topics Identified"
   ]
  },
  {
   "cell_type": "markdown",
   "metadata": {},
   "source": [
    "### Part 3. Prepare the data\n",
    "Note: Output of some cells have been cleared to desensitize the source of the web-scraping."
   ]
  },
  {
   "cell_type": "markdown",
   "metadata": {},
   "source": [
    "### Setting Up the Environment"
   ]
  },
  {
   "cell_type": "code",
   "execution_count": 1,
   "metadata": {},
   "outputs": [
    {
     "name": "stdout",
     "output_type": "stream",
     "text": [
      "[nltk_data] Downloading package stopwords to\n",
      "[nltk_data]     /Users/alphaniang/nltk_data...\n",
      "[nltk_data]   Package stopwords is already up-to-date!\n",
      "[nltk_data] Downloading package wordnet to\n",
      "[nltk_data]     /Users/alphaniang/nltk_data...\n",
      "[nltk_data]   Package wordnet is already up-to-date!\n"
     ]
    }
   ],
   "source": [
    "# import various nlp packages\n",
    "import nltk\n",
    "nltk.download('stopwords') \n",
    "nltk.download('wordnet')\n",
    "from nltk.corpus import stopwords\n",
    "from nltk.stem.wordnet import WordNetLemmatizer \n",
    "from nltk.stem import PorterStemmer \n",
    "from nltk import FreqDist\n",
    "import contractions\n",
    "import unicodedata\n",
    "\n",
    "import gensim\n",
    "from gensim import corpora \n",
    "\n",
    "import spacy\n",
    "\n",
    "from textblob import TextBlob\n",
    "\n",
    "import csv\n",
    "import random\n",
    "import re\n",
    "import string\n",
    "import time\n",
    "from pprint import pprint\n",
    "import numpy as np\n",
    "import pandas as pd\n",
    "import seaborn as sns\n",
    "import matplotlib.pyplot as plt\n",
    "%matplotlib inline\n",
    "\n",
    "# Set seed for replicability.\n",
    "seedno = 18704\n",
    "np.random.seed(seedno)\n",
    "\n",
    "# to facilitate viewing full text\n",
    "pd.set_option('display.max_colwidth', -1)\n",
    "#pd.options.display.html.use_mathjax = False"
   ]
  },
  {
   "cell_type": "code",
   "execution_count": 2,
   "metadata": {},
   "outputs": [],
   "source": [
    "def plot_bars(attribute,setpalette='Spectral',setrotation=0,showlabels=True,sortvalue='ascending',sortcount=None):\n",
    "    sns.set(style=\"whitegrid\")\n",
    "# Store frequency counts of each label where unique is the label and counts is its frequency\n",
    "    unique, counts = np.unique(attribute.astype(str), return_counts=True)\n",
    "    unique_counts = pd.DataFrame({'Value': unique, 'Count': counts})\n",
    "    if sortvalue == 'descending':\n",
    "        unique_counts = unique_counts.sort_values('Value', ascending=False)\n",
    "    if sortvalue == 'ascending':\n",
    "        unique_counts = unique_counts.sort_values('Value', ascending=True)\n",
    "    if sortcount == 'descending':\n",
    "        unique_counts = unique_counts.sort_values('Count', ascending=False)\n",
    "    if sortcount == 'ascending':\n",
    "        unique_counts = unique_counts.sort_values('Count', ascending=True)\n",
    "\n",
    "# plot frequency counts\n",
    "    fig, ax = plt.subplots(figsize=(10,5))\n",
    "    ax = sns.barplot(x=\"Value\", y=\"Count\", data=unique_counts,palette=setpalette)\n",
    "    if showlabels==True:\n",
    "        for p in ax.patches:\n",
    "            height = p.get_height()\n",
    "            ax.text(p.get_x()+p.get_width()/2.,\n",
    "            height + 3,\n",
    "            '{:1.2f}'.format(height),\n",
    "            ha=\"center\") \n",
    "    plt.setp(ax.get_xticklabels(), rotation=setrotation)\n",
    "    plt.show()"
   ]
  },
  {
   "cell_type": "markdown",
   "metadata": {},
   "source": [
    "### Restaurant Reviews\n",
    "### Read in files (from directory) for analysis "
   ]
  },
  {
   "cell_type": "code",
   "execution_count": 3,
   "metadata": {},
   "outputs": [],
   "source": [
    "rreviews = pd.read_csv('restaurant_reviews.csv')\n",
    "rreviews = rreviews.drop(['Unnamed: 0'], axis=1)\n",
    "rreviews = rreviews.drop(['restaurant_url'], axis=1)"
   ]
  },
  {
   "cell_type": "code",
   "execution_count": 5,
   "metadata": {},
   "outputs": [
    {
     "data": {
      "text/plain": [
       "(451065, 13)"
      ]
     },
     "execution_count": 5,
     "metadata": {},
     "output_type": "execute_result"
    }
   ],
   "source": [
    "rreviews.shape"
   ]
  },
  {
   "cell_type": "code",
   "execution_count": null,
   "metadata": {},
   "outputs": [],
   "source": [
    "# display first two document text\n",
    "display(rreviews.head(2))"
   ]
  },
  {
   "cell_type": "markdown",
   "metadata": {},
   "source": [
    "### Data Preparation"
   ]
  },
  {
   "cell_type": "code",
   "execution_count": 5,
   "metadata": {},
   "outputs": [],
   "source": [
    "# rename columns for personal preference\n",
    "rreviews['type']='restaurant'\n",
    "rreviews['id']=rreviews['restaurant_id']\n",
    "rreviews['name']=rreviews['restaurant_name']\n",
    "rreviews = rreviews.drop(['restaurant_id','restaurant_name'], axis=1)"
   ]
  },
  {
   "cell_type": "code",
   "execution_count": 6,
   "metadata": {},
   "outputs": [],
   "source": [
    "# change date columns from string to date type\n",
    "import datetime\n",
    "date_format = '%Y/%m/%d'\n",
    "rreviews['review_date'] = pd.to_datetime(rreviews['review_date'])\n",
    "rreviews['experience_date'] = pd.to_datetime(rreviews['experience_date'])"
   ]
  },
  {
   "cell_type": "code",
   "execution_count": 7,
   "metadata": {},
   "outputs": [],
   "source": [
    "# extract user id from user review id column\n",
    "user_id=[]\n",
    "for ruser_review_id in rreviews['user_review_id']:\n",
    "    user_id.append(str(ruser_review_id).split('-')[0])\n",
    "rreviews['user_id']=user_id\n",
    "rreviews = rreviews.drop(['user_review_id'], axis=1)"
   ]
  },
  {
   "cell_type": "code",
   "execution_count": 8,
   "metadata": {},
   "outputs": [],
   "source": [
    "# join review title and body to form review text\n",
    "rreviews[\"review_text\"] = rreviews[\"review_title\"].map(str) + \". \" \\\n",
    "                        + rreviews[\"review_body\"].map(str)\n",
    "rreviews = rreviews.drop(['review_title','review_body'], axis=1)"
   ]
  },
  {
   "cell_type": "code",
   "execution_count": 9,
   "metadata": {},
   "outputs": [],
   "source": [
    "# normalise reviews\n",
    "review_text=[]\n",
    "for rtext in rreviews['review_text']:\n",
    "    review_text.append(re.sub(r'([a-z](?=[A-Z])|[A-Z](?=[A-Z][a-z]))', \\\n",
    "                              r'\\1 ', rtext))\n",
    "rreviews['review_text']=review_text"
   ]
  },
  {
   "cell_type": "code",
   "execution_count": 10,
   "metadata": {},
   "outputs": [],
   "source": [
    "# reorder columns\n",
    "rreviews = rreviews[['type','id', 'name', 'review_id', 'rating', \n",
    "                     'review_text', 'review_date', \n",
    "                     'experience_date', 'contributions', 'helpful_vote',\n",
    "                     'user_id', 'user_name', 'user_location']]"
   ]
  },
  {
   "cell_type": "code",
   "execution_count": 11,
   "metadata": {},
   "outputs": [
    {
     "data": {
      "text/plain": [
       "['type',\n",
       " 'id',\n",
       " 'name',\n",
       " 'review_id',\n",
       " 'rating',\n",
       " 'review_text',\n",
       " 'review_date',\n",
       " 'experience_date',\n",
       " 'contributions',\n",
       " 'helpful_vote',\n",
       " 'user_id',\n",
       " 'user_name',\n",
       " 'user_location']"
      ]
     },
     "execution_count": 11,
     "metadata": {},
     "output_type": "execute_result"
    }
   ],
   "source": [
    "rreviews.columns.tolist()"
   ]
  },
  {
   "cell_type": "code",
   "execution_count": null,
   "metadata": {},
   "outputs": [],
   "source": [
    "# display first two document text\n",
    "display(rreviews.head(2))"
   ]
  },
  {
   "cell_type": "code",
   "execution_count": 13,
   "metadata": {},
   "outputs": [
    {
     "data": {
      "text/plain": [
       "(451065, 13)"
      ]
     },
     "metadata": {},
     "output_type": "display_data"
    }
   ],
   "source": [
    "display(rreviews.shape)"
   ]
  },
  {
   "cell_type": "markdown",
   "metadata": {},
   "source": [
    "## Feature Extraction/ Generation from Text Data"
   ]
  },
  {
   "cell_type": "code",
   "execution_count": 14,
   "metadata": {},
   "outputs": [],
   "source": [
    "#assign a polarity score with rating 40 and 50 as 1 for positive \n",
    "# 30 as neutral and 10, 20 as negative\n",
    "rating_polarity=[]\n",
    "for rating in rreviews['rating']:\n",
    "    if rating >= 40:\n",
    "        rating_polarity.append(1)\n",
    "    elif rating <= 20:\n",
    "        rating_polarity.append(-1)\n",
    "    else:\n",
    "        rating_polarity.append(0)\n",
    "rreviews['rating_polarity']=rating_polarity"
   ]
  },
  {
   "cell_type": "code",
   "execution_count": 15,
   "metadata": {},
   "outputs": [],
   "source": [
    "#print(rreviews[rreviews['rating']==10]['review_text'].head(3))"
   ]
  },
  {
   "cell_type": "code",
   "execution_count": 16,
   "metadata": {},
   "outputs": [
    {
     "data": {
      "image/png": "[encoded data removed]",
      "text/plain": [
       "<Figure size 720x360 with 1 Axes>"
      ]
     },
     "metadata": {},
     "output_type": "display_data"
    }
   ],
   "source": [
    "plot_bars(rreviews['rating_polarity'])"
   ]
  },
  {
   "cell_type": "code",
   "execution_count": 17,
   "metadata": {},
   "outputs": [],
   "source": [
    "rreviews['word_count']= rreviews['review_text'].apply(lambda x: \\\n",
    "                        len(str(x).split(\" \")))"
   ]
  },
  {
   "cell_type": "code",
   "execution_count": 18,
   "metadata": {},
   "outputs": [
    {
     "data": {
      "text/plain": [
       "<matplotlib.axes._subplots.AxesSubplot at 0x1a3bba0198>"
      ]
     },
     "execution_count": 18,
     "metadata": {},
     "output_type": "execute_result"
    },
    {
     "data": {
      "image/png": "[encoded data removed]",
      "text/plain": [
       "<Figure size 720x360 with 1 Axes>"
      ]
     },
     "metadata": {},
     "output_type": "display_data"
    }
   ],
   "source": [
    "rreviews['word_count'].hist(bins=50,figsize=(10,5))"
   ]
  },
  {
   "cell_type": "code",
   "execution_count": 19,
   "metadata": {},
   "outputs": [
    {
     "data": {
      "image/png": "[encoded data removed]",
      "text/plain": [
       "<Figure size 720x360 with 1 Axes>"
      ]
     },
     "metadata": {},
     "output_type": "display_data"
    }
   ],
   "source": [
    "polarity_wordcount = pd.concat([rreviews['word_count'], \\\n",
    "                        rreviews['rating_polarity']], axis=1 \\\n",
    "                        ).sort_values(by='rating_polarity')\n",
    "f, ax = plt.subplots(figsize=(10, 5))\n",
    "fig = sns.boxplot(x='rating_polarity', y=\"word_count\", \\\n",
    "                  data=polarity_wordcount)\n",
    "fig.axis(ymin=0, ymax=1800);\n",
    "plt.show()"
   ]
  },
  {
   "cell_type": "code",
   "execution_count": 20,
   "metadata": {},
   "outputs": [],
   "source": [
    "rreviews['char_count'] = rreviews['review_text'].str.len() \n",
    "#count includes spaces and punctuation"
   ]
  },
  {
   "cell_type": "code",
   "execution_count": 21,
   "metadata": {},
   "outputs": [
    {
     "data": {
      "text/plain": [
       "<matplotlib.axes._subplots.AxesSubplot at 0x1a28e2eac8>"
      ]
     },
     "execution_count": 21,
     "metadata": {},
     "output_type": "execute_result"
    },
    {
     "data": {
      "image/png": "[encoded data removed]",
      "text/plain": [
       "<Figure size 720x360 with 1 Axes>"
      ]
     },
     "metadata": {},
     "output_type": "display_data"
    }
   ],
   "source": [
    "rreviews['char_count'].hist(bins=50,figsize=(10,5))"
   ]
  },
  {
   "cell_type": "code",
   "execution_count": 22,
   "metadata": {},
   "outputs": [
    {
     "data": {
      "image/png": "[encoded data removed]",
      "text/plain": [
       "<Figure size 720x360 with 1 Axes>"
      ]
     },
     "metadata": {},
     "output_type": "display_data"
    }
   ],
   "source": [
    "polarity_charcount = pd.concat([rreviews['char_count'], rreviews['rating_polarity']], axis=1).sort_values(by='rating_polarity')\n",
    "f, ax = plt.subplots(figsize=(10, 5))\n",
    "fig = sns.boxplot(x='rating_polarity', y=\"char_count\", data=polarity_charcount)\n",
    "fig.axis(ymin=0, ymax=7000);\n",
    "plt.show()"
   ]
  },
  {
   "cell_type": "code",
   "execution_count": 23,
   "metadata": {},
   "outputs": [],
   "source": [
    "def avg_word(sentence):\n",
    "    keep_alpha=re.sub('[^a-zA-Z]+', ' ', sentence)\n",
    "    words = keep_alpha.split() \n",
    "    try:\n",
    "        avg_word_count=sum(len(word) for word in words)/len(words)\n",
    "    except (ZeroDivisionError):\n",
    "        avg_word_count=0\n",
    "    return avg_word_count\n",
    "\n",
    "rreviews['avg_word_len'] = rreviews['review_text'].apply(lambda x: \\\n",
    "                            avg_word(x))"
   ]
  },
  {
   "cell_type": "code",
   "execution_count": 24,
   "metadata": {},
   "outputs": [
    {
     "data": {
      "text/plain": [
       "<matplotlib.axes._subplots.AxesSubplot at 0x1a3bba0128>"
      ]
     },
     "execution_count": 24,
     "metadata": {},
     "output_type": "execute_result"
    },
    {
     "data": {
      "image/png": "[encoded data removed]",
      "text/plain": [
       "<Figure size 720x360 with 1 Axes>"
      ]
     },
     "metadata": {},
     "output_type": "display_data"
    }
   ],
   "source": [
    "rreviews['avg_word_len'].hist(bins=10,figsize=(10,5))"
   ]
  },
  {
   "cell_type": "code",
   "execution_count": null,
   "metadata": {},
   "outputs": [
    {
     "data": {
      "image/png": "[encoded data removed]",
      "text/plain": [
       "<Figure size 720x360 with 1 Axes>"
      ]
     },
     "metadata": {},
     "output_type": "display_data"
    }
   ],
   "source": [
    "polarity_avgwordlen = pd.concat([rreviews['avg_word_len'], rreviews['rating_polarity']], axis=1).sort_values(by='rating_polarity')\n",
    "f, ax = plt.subplots(figsize=(10, 5))\n",
    "fig = sns.boxplot(x='rating_polarity', y=\"avg_word_len\", data=polarity_avgwordlen)\n",
    "fig.axis(ymin=0, ymax=12);\n",
    "plt.show()"
   ]
  },
  {
   "cell_type": "code",
   "execution_count": null,
   "metadata": {},
   "outputs": [],
   "source": [
    "stopwords_list = stopwords.words('english')\n",
    "rreviews['stopword_count'] = rreviews['review_text'].apply(lambda \\\n",
    "                            x: len([x for x in x.lower().split() \\\n",
    "                            if x in stopwords_list]))"
   ]
  },
  {
   "cell_type": "code",
   "execution_count": null,
   "metadata": {},
   "outputs": [],
   "source": [
    "rreviews['stopword_count'].hist(bins=50,figsize=(10,5))"
   ]
  },
  {
   "cell_type": "code",
   "execution_count": null,
   "metadata": {},
   "outputs": [],
   "source": [
    "polarity_stopwordcount = pd.concat([rreviews['stopword_count'], rreviews['rating_polarity']], axis=1).sort_values(by='rating_polarity')\n",
    "f, ax = plt.subplots(figsize=(10, 5))\n",
    "fig = sns.boxplot(x='rating_polarity', y=\"stopword_count\", data=polarity_stopwordcount)\n",
    "fig.axis(ymin=0, ymax=800);\n",
    "plt.show()"
   ]
  },
  {
   "cell_type": "code",
   "execution_count": null,
   "metadata": {},
   "outputs": [],
   "source": [
    "rreviews['stop_perword'] = rreviews['stopword_count'] \\\n",
    "                            / rreviews['word_count']\n",
    "rreviews = rreviews.drop(['stopword_count'], axis=1)"
   ]
  },
  {
   "cell_type": "code",
   "execution_count": null,
   "metadata": {},
   "outputs": [],
   "source": [
    "polarity_stopperword = pd.concat([rreviews['stop_perword'], rreviews['rating_polarity']], axis=1).sort_values(by='rating_polarity')\n",
    "f, ax = plt.subplots(figsize=(10, 5))\n",
    "fig = sns.boxplot(x='rating_polarity', y=\"stop_perword\", data=polarity_stopperword)\n",
    "fig.axis(ymin=0, ymax=1);\n",
    "plt.show()"
   ]
  },
  {
   "cell_type": "code",
   "execution_count": 31,
   "metadata": {},
   "outputs": [],
   "source": [
    "punc_list = set(string.punctuation) \n",
    "rreviews['punc_count'] = rreviews['review_text'].apply(lambda x: \\\n",
    "                            len([ch for ch in str(x).lower() \\\n",
    "                            if ch in punc_list]))"
   ]
  },
  {
   "cell_type": "code",
   "execution_count": 32,
   "metadata": {},
   "outputs": [
    {
     "data": {
      "text/plain": [
       "<matplotlib.axes._subplots.AxesSubplot at 0x1a342d39b0>"
      ]
     },
     "execution_count": 32,
     "metadata": {},
     "output_type": "execute_result"
    },
    {
     "data": {
      "image/png": "[encoded data removed]",
      "text/plain": [
       "<Figure size 720x360 with 1 Axes>"
      ]
     },
     "metadata": {},
     "output_type": "display_data"
    }
   ],
   "source": [
    "rreviews['punc_count'].hist(bins=50,figsize=(10,5))"
   ]
  },
  {
   "cell_type": "code",
   "execution_count": 33,
   "metadata": {},
   "outputs": [
    {
     "data": {
      "image/png": "[encoded data removed]",
      "text/plain": [
       "<Figure size 720x360 with 1 Axes>"
      ]
     },
     "metadata": {},
     "output_type": "display_data"
    }
   ],
   "source": [
    "polarity_punccount = pd.concat([rreviews['punc_count'], rreviews['rating_polarity']], axis=1).sort_values(by='rating_polarity')\n",
    "f, ax = plt.subplots(figsize=(10, 5))\n",
    "fig = sns.boxplot(x='rating_polarity', y=\"punc_count\", data=polarity_punccount)\n",
    "fig.axis(ymin=0, ymax=300);\n",
    "plt.show()"
   ]
  },
  {
   "cell_type": "code",
   "execution_count": 34,
   "metadata": {},
   "outputs": [],
   "source": [
    "rreviews['punc_perchar'] = rreviews['punc_count']/rreviews['char_count']\n",
    "rreviews = rreviews.drop(['punc_count'], axis=1)"
   ]
  },
  {
   "cell_type": "code",
   "execution_count": 35,
   "metadata": {
    "scrolled": false
   },
   "outputs": [
    {
     "data": {
      "image/png": "[encoded data removed]",
      "text/plain": [
       "<Figure size 720x360 with 1 Axes>"
      ]
     },
     "metadata": {},
     "output_type": "display_data"
    }
   ],
   "source": [
    "polarity_puncperchar = pd.concat([rreviews['punc_perchar'], rreviews['rating_polarity']], axis=1).sort_values(by='rating_polarity')\n",
    "f, ax = plt.subplots(figsize=(10, 5))\n",
    "fig = sns.boxplot(x='rating_polarity', y=\"punc_perchar\", data=polarity_puncperchar)\n",
    "fig.axis(ymin=0, ymax=0.5);\n",
    "plt.show()"
   ]
  },
  {
   "cell_type": "code",
   "execution_count": 36,
   "metadata": {},
   "outputs": [],
   "source": [
    "alpha_count=[]\n",
    "for text in rreviews['review_text']:\n",
    "    alpha_count.append(len(re.sub('[^a-z]+', '', str(text).lower())))\n",
    "rreviews['alpha_count']=alpha_count"
   ]
  },
  {
   "cell_type": "code",
   "execution_count": 37,
   "metadata": {},
   "outputs": [
    {
     "data": {
      "text/plain": [
       "<matplotlib.axes._subplots.AxesSubplot at 0x1a3a3fcf98>"
      ]
     },
     "execution_count": 37,
     "metadata": {},
     "output_type": "execute_result"
    },
    {
     "data": {
      "image/png": "[encoded data removed]",
      "text/plain": [
       "<Figure size 720x360 with 1 Axes>"
      ]
     },
     "metadata": {},
     "output_type": "display_data"
    }
   ],
   "source": [
    "rreviews['alpha_count'].hist(bins=50,figsize=(10,5))"
   ]
  },
  {
   "cell_type": "code",
   "execution_count": 38,
   "metadata": {},
   "outputs": [
    {
     "data": {
      "image/png": "[encoded data removed]",
      "text/plain": [
       "<Figure size 720x360 with 1 Axes>"
      ]
     },
     "metadata": {},
     "output_type": "display_data"
    }
   ],
   "source": [
    "polarity_alphacount = pd.concat([rreviews['alpha_count'], rreviews['rating_polarity']], axis=1).sort_values(by='rating_polarity')\n",
    "f, ax = plt.subplots(figsize=(10, 5))\n",
    "fig = sns.boxplot(x='rating_polarity', y=\"alpha_count\", data=polarity_alphacount)\n",
    "fig.axis(ymin=0, ymax=7000);\n",
    "plt.show()"
   ]
  },
  {
   "cell_type": "code",
   "execution_count": 39,
   "metadata": {},
   "outputs": [],
   "source": [
    "rreviews['alpha_perchar'] = rreviews['alpha_count']/rreviews['char_count']\n",
    "rreviews = rreviews.drop(['alpha_count'], axis=1)"
   ]
  },
  {
   "cell_type": "code",
   "execution_count": 40,
   "metadata": {
    "scrolled": true
   },
   "outputs": [
    {
     "data": {
      "image/png": "[encoded data removed]",
      "text/plain": [
       "<Figure size 720x360 with 1 Axes>"
      ]
     },
     "metadata": {},
     "output_type": "display_data"
    }
   ],
   "source": [
    "polarity_alphaperchar = pd.concat([rreviews['alpha_perchar'], rreviews['rating_polarity']], axis=1).sort_values(by='rating_polarity')\n",
    "f, ax = plt.subplots(figsize=(10, 5))\n",
    "fig = sns.boxplot(x='rating_polarity', y=\"alpha_perchar\", data=polarity_alphaperchar)\n",
    "fig.axis(ymin=0, ymax=1);\n",
    "plt.show()"
   ]
  },
  {
   "cell_type": "code",
   "execution_count": 41,
   "metadata": {},
   "outputs": [],
   "source": [
    "rreviews['numeric_count'] = rreviews['review_text'].apply(lambda x: \\\n",
    "                            len([x for x in x.split() if x.isdigit()]))"
   ]
  },
  {
   "cell_type": "code",
   "execution_count": 42,
   "metadata": {},
   "outputs": [
    {
     "data": {
      "text/plain": [
       "<matplotlib.axes._subplots.AxesSubplot at 0x1a2b9259e8>"
      ]
     },
     "execution_count": 42,
     "metadata": {},
     "output_type": "execute_result"
    },
    {
     "data": {
      "image/png": "[encoded data removed]",
      "text/plain": [
       "<Figure size 720x360 with 1 Axes>"
      ]
     },
     "metadata": {},
     "output_type": "display_data"
    }
   ],
   "source": [
    "rreviews['numeric_count'].hist(bins=10,figsize=(10,5))"
   ]
  },
  {
   "cell_type": "code",
   "execution_count": 43,
   "metadata": {},
   "outputs": [
    {
     "data": {
      "image/png": "[encoded data removed]",
      "text/plain": [
       "<Figure size 720x360 with 1 Axes>"
      ]
     },
     "metadata": {},
     "output_type": "display_data"
    }
   ],
   "source": [
    "polarity_numericcount = pd.concat([rreviews['numeric_count'], rreviews['rating_polarity']], axis=1).sort_values(by='rating_polarity')\n",
    "f, ax = plt.subplots(figsize=(10, 5))\n",
    "fig = sns.boxplot(x='rating_polarity', y=\"numeric_count\", data=polarity_numericcount)\n",
    "fig.axis(ymin=0, ymax=20);\n",
    "plt.show()"
   ]
  },
  {
   "cell_type": "code",
   "execution_count": 44,
   "metadata": {},
   "outputs": [],
   "source": [
    "rreviews['uppercase_count'] = rreviews['review_text'].apply(lambda x: \\\n",
    "                            len([x for x in x.split() if x.isupper()]))"
   ]
  },
  {
   "cell_type": "code",
   "execution_count": 45,
   "metadata": {},
   "outputs": [
    {
     "data": {
      "text/plain": [
       "<matplotlib.axes._subplots.AxesSubplot at 0x1a2dcaf940>"
      ]
     },
     "execution_count": 45,
     "metadata": {},
     "output_type": "execute_result"
    },
    {
     "data": {
      "image/png": "[encoded data removed]",
      "text/plain": [
       "<Figure size 720x360 with 1 Axes>"
      ]
     },
     "metadata": {},
     "output_type": "display_data"
    }
   ],
   "source": [
    "rreviews['uppercase_count'].hist(bins=10,figsize=(10,5))"
   ]
  },
  {
   "cell_type": "code",
   "execution_count": 46,
   "metadata": {},
   "outputs": [
    {
     "data": {
      "image/png": "[encoded data removed]",
      "text/plain": [
       "<Figure size 720x360 with 1 Axes>"
      ]
     },
     "metadata": {},
     "output_type": "display_data"
    }
   ],
   "source": [
    "polarity_uppercount = pd.concat([rreviews['uppercase_count'], rreviews['rating_polarity']], axis=1).sort_values(by='rating_polarity')\n",
    "f, ax = plt.subplots(figsize=(10, 5))\n",
    "fig = sns.boxplot(x='rating_polarity', y=\"uppercase_count\", data=polarity_uppercount)\n",
    "fig.axis(ymin=0, ymax=80);\n",
    "plt.show()"
   ]
  },
  {
   "cell_type": "code",
   "execution_count": 47,
   "metadata": {},
   "outputs": [],
   "source": [
    "rreviews['upper_perchar'] = rreviews['uppercase_count']/rreviews['char_count']\n",
    "rreviews = rreviews.drop(['uppercase_count'], axis=1)"
   ]
  },
  {
   "cell_type": "code",
   "execution_count": 48,
   "metadata": {},
   "outputs": [
    {
     "data": {
      "image/png": "[encoded data removed]",
      "text/plain": [
       "<Figure size 720x360 with 1 Axes>"
      ]
     },
     "metadata": {},
     "output_type": "display_data"
    }
   ],
   "source": [
    "polarity_upperperchar = pd.concat([rreviews['upper_perchar'], rreviews['rating_polarity']], axis=1).sort_values(by='rating_polarity')\n",
    "f, ax = plt.subplots(figsize=(10, 5))\n",
    "fig = sns.boxplot(x='rating_polarity', y=\"upper_perchar\", data=polarity_upperperchar)\n",
    "fig.axis(ymin=0, ymax=0.2);\n",
    "plt.show()"
   ]
  },
  {
   "cell_type": "code",
   "execution_count": 49,
   "metadata": {},
   "outputs": [
    {
     "data": {
      "text/plain": [
       "type               0    \n",
       "id                 0    \n",
       "name               0    \n",
       "review_id          0    \n",
       "rating             0    \n",
       "review_text        0    \n",
       "review_date        0    \n",
       "experience_date    27444\n",
       "contributions      0    \n",
       "helpful_vote       0    \n",
       "user_id            0    \n",
       "user_name          0    \n",
       "user_location      72390\n",
       "rating_polarity    0    \n",
       "word_count         0    \n",
       "char_count         0    \n",
       "avg_word_len       0    \n",
       "stop_perword       0    \n",
       "punc_perchar       0    \n",
       "alpha_perchar      0    \n",
       "numeric_count      0    \n",
       "upper_perchar      0    \n",
       "dtype: int64"
      ]
     },
     "execution_count": 49,
     "metadata": {},
     "output_type": "execute_result"
    }
   ],
   "source": [
    "rreviews.isnull().sum()"
   ]
  },
  {
   "cell_type": "code",
   "execution_count": 50,
   "metadata": {},
   "outputs": [
    {
     "data": {
      "text/plain": [
       "15242"
      ]
     },
     "execution_count": 50,
     "metadata": {},
     "output_type": "execute_result"
    }
   ],
   "source": [
    "len(rreviews['user_location'].unique())"
   ]
  },
  {
   "cell_type": "code",
   "execution_count": 51,
   "metadata": {},
   "outputs": [],
   "source": [
    "sa4 = pd.read_csv('SA4.csv')\n",
    "sa4 = sa4['List of SA4'].str.lower().tolist()"
   ]
  },
  {
   "cell_type": "code",
   "execution_count": 52,
   "metadata": {},
   "outputs": [],
   "source": [
    "user_islocal=[]\n",
    "for loc in rreviews['user_location'].str.lower():\n",
    "    islocal=0\n",
    "    try:\n",
    "        for w in loc.split(): \n",
    "            if w in sa4:\n",
    "                islocal=1\n",
    "    except (AttributeError):\n",
    "        pass\n",
    "    if islocal==1:\n",
    "        user_islocal.append(1)\n",
    "    else:\n",
    "        user_islocal.append(0)"
   ]
  },
  {
   "cell_type": "code",
   "execution_count": 53,
   "metadata": {},
   "outputs": [],
   "source": [
    "rreviews['user_islocal']=user_islocal\n",
    "rreviews = rreviews.drop(['user_location'], axis=1)"
   ]
  },
  {
   "cell_type": "code",
   "execution_count": 54,
   "metadata": {},
   "outputs": [],
   "source": [
    "# rreviews=rreviews[(rreviews['experience_date'] >= '2016-01-01') \\\n",
    "#                   & (rreviews['experience_date'] <= '2018-12-31')]"
   ]
  },
  {
   "cell_type": "code",
   "execution_count": null,
   "metadata": {},
   "outputs": [],
   "source": [
    "# display first two document text\n",
    "display(rreviews.head(2))"
   ]
  },
  {
   "cell_type": "code",
   "execution_count": 56,
   "metadata": {},
   "outputs": [],
   "source": [
    "# rest_reviewcount=rreviews.groupby(by='id')['id'].count()"
   ]
  },
  {
   "cell_type": "code",
   "execution_count": 57,
   "metadata": {},
   "outputs": [],
   "source": [
    "# rreviews=rreviews[rreviews['id'].isin(rest_reviewcount[ \\\n",
    "#                         rest_reviewcount >=100].keys())]"
   ]
  },
  {
   "cell_type": "code",
   "execution_count": 58,
   "metadata": {},
   "outputs": [
    {
     "data": {
      "text/plain": [
       "type               0    \n",
       "id                 0    \n",
       "name               0    \n",
       "review_id          0    \n",
       "rating             0    \n",
       "review_text        0    \n",
       "review_date        0    \n",
       "experience_date    27444\n",
       "contributions      0    \n",
       "helpful_vote       0    \n",
       "user_id            0    \n",
       "user_name          0    \n",
       "rating_polarity    0    \n",
       "word_count         0    \n",
       "char_count         0    \n",
       "avg_word_len       0    \n",
       "stop_perword       0    \n",
       "punc_perchar       0    \n",
       "alpha_perchar      0    \n",
       "numeric_count      0    \n",
       "upper_perchar      0    \n",
       "user_islocal       0    \n",
       "dtype: int64"
      ]
     },
     "execution_count": 58,
     "metadata": {},
     "output_type": "execute_result"
    }
   ],
   "source": [
    "rreviews.isnull().sum()"
   ]
  },
  {
   "cell_type": "code",
   "execution_count": 59,
   "metadata": {},
   "outputs": [
    {
     "data": {
      "text/plain": [
       "(451065, 22)"
      ]
     },
     "execution_count": 59,
     "metadata": {},
     "output_type": "execute_result"
    }
   ],
   "source": [
    "rreviews.shape"
   ]
  },
  {
   "cell_type": "code",
   "execution_count": 60,
   "metadata": {},
   "outputs": [],
   "source": [
    "# write dataframe to csv for exploration with other visualization tools\n",
    "rreviews.to_csv('rreviews.csv')"
   ]
  }
 ],
 "metadata": {
  "kernelspec": {
   "display_name": "Python 3",
   "language": "python",
   "name": "python3"
  },
  "language_info": {
   "codemirror_mode": {
    "name": "ipython",
    "version": 3
   },
   "file_extension": ".py",
   "mimetype": "text/x-python",
   "name": "python",
   "nbconvert_exporter": "python",
   "pygments_lexer": "ipython3",
   "version": "3.6.5"
  }
 },
 "nbformat": 4,
 "nbformat_minor": 2
}
