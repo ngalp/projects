{
 "cells": [
  {
   "cell_type": "markdown",
   "metadata": {},
   "source": [
    "### MNIST: Image Recognition ###\n",
    "\n",
    "The dataset for the assignment will be the <a href=\"http://yann.lecun.com/exdb/mnist/index.html\">MNIST (\"Modified National Institute of Standards and Technology\") database of handwritten digits.</a> The source file links as follows.\n",
    "\n",
    "  * <a href=\"http://yann.lecun.com/exdb/mnist/train-images-idx3-ubyte.gz\">train-images-idx3-ubyte.gz</a>:  training set images (9912422 bytes)\n",
    "  * <a href=\"http://yann.lecun.com/exdb/mnist/train-labels-idx1-ubyte.gz\">train-labels-idx1-ubyte.gz</a>:  training set labels (28881 bytes)\n",
    "  * <a href=\"http://yann.lecun.com/exdb/mnist/t10k-images-idx3-ubyte.gz\">t10k-images-idx3-ubyte.gz</a>:   test set images (1648877 bytes)\n",
    "  * <a href=\"http://yann.lecun.com/exdb/mnist/t10k-labels-idx1-ubyte.gz\">t10k-labels-idx1-ubyte.gz</a>:   test set labels (4542 bytes)\n",
    "\n",
    "The MNIST is widely known as the 'Hello World' dataset for computer vision. Records have already been size-normalized and centered in a fixed-size image, thus useful to try out different machine learning techniques as minimal efforts are required on preprocessing and formatting.\n",
    "\n",
    "#### Loading the Data ####\n",
    "\n",
    "The necessary packages are imported, and load the dataset using the load_mnist function. \n",
    "\n",
    "For the loading of the MNIST data (load_mnist function), code within *Python Machine Learning* by *Sebastian Raschka & Vahid Mirjalili* was referenced and used. Comments were added to explain the code. The source codes used in the book can also be found in <a href=\"https://github.com/rasbt/python-machine-learning-book/blob/master/code/ch12/ch12.ipynb\">github.</a> "
   ]
  },
  {
   "cell_type": "code",
   "execution_count": 1,
   "metadata": {},
   "outputs": [],
   "source": [
    "# Load necessary packages for data exploration\n",
    "import os\n",
    "import struct\n",
    "import numpy as np\n",
    "import pandas as pd\n",
    "import matplotlib.pyplot as plt\n",
    "import time\n",
    "%matplotlib inline"
   ]
  },
  {
   "cell_type": "code",
   "execution_count": 2,
   "metadata": {},
   "outputs": [],
   "source": [
    "#store a start time to track total time of notebook\n",
    "nbstarttime = time.time()"
   ]
  },
  {
   "cell_type": "markdown",
   "metadata": {},
   "source": [
    "We define load_mnist function which takes in two variables, in order to construct the full path-filename to load. \n",
    "\n",
    "The first is path, from the working directory, of the extracted mnist data. The second is kind, which specifies whether to load the training set (kind = 'train') or test set (kind = 't10k'), as indicated in the filename.\n",
    "The load_mnist function returns two arrays. The first is an array of images, and the second the label (ground truth) for the images (interger from 0-9)"
   ]
  },
  {
   "cell_type": "code",
   "execution_count": 3,
   "metadata": {},
   "outputs": [],
   "source": [
    "def load_mnist(path, kind='train'):\n",
    "    labels_path = os.path.join(path, \n",
    "                               '%s-labels-idx1-ubyte' % kind)\n",
    "    images_path = os.path.join(path, \n",
    "                               '%s-images-idx3-ubyte' % kind)\n",
    "    with open(labels_path, 'rb') as lbpath:\n",
    "        magic, n = struct.unpack('>II', \n",
    "                                 lbpath.read(8))\n",
    "        labels = np.fromfile(lbpath, \n",
    "                             dtype=np.uint8)\n",
    "    with open(images_path, 'rb') as imgpath:\n",
    "        magic, num, rows, cols = struct.unpack(\">IIII\", \n",
    "                                               imgpath.read(16))\n",
    "        images = np.fromfile(imgpath, \n",
    "                             dtype=np.uint8).reshape(len(labels), 784)\n",
    "    return images, labels"
   ]
  },
  {
   "cell_type": "code",
   "execution_count": 4,
   "metadata": {},
   "outputs": [],
   "source": [
    "# Stores the output of load_mnist for the training set into X_train (images) and y_train (label)\n",
    "X_train, y_train = load_mnist('mnist/', kind='train')\n",
    "\n",
    "# Stores the output of load_mnist for the testing set into X_test (images) and y_test (label)\n",
    "X_test, y_test = load_mnist('mnist/', kind='t10k')"
   ]
  },
  {
   "cell_type": "markdown",
   "metadata": {},
   "source": [
    "#### Describing the Data ####\n",
    "\n",
    "We assess the shape, type and min/ max properties of the dataset features."
   ]
  },
  {
   "cell_type": "code",
   "execution_count": 5,
   "metadata": {},
   "outputs": [
    {
     "data": {
      "text/html": [
       "<div>\n",
       "<style scoped>\n",
       "    .dataframe tbody tr th:only-of-type {\n",
       "        vertical-align: middle;\n",
       "    }\n",
       "\n",
       "    .dataframe tbody tr th {\n",
       "        vertical-align: top;\n",
       "    }\n",
       "\n",
       "    .dataframe thead th {\n",
       "        text-align: right;\n",
       "    }\n",
       "</style>\n",
       "<table border=\"1\" class=\"dataframe\">\n",
       "  <thead>\n",
       "    <tr style=\"text-align: right;\">\n",
       "      <th></th>\n",
       "      <th>Dataset</th>\n",
       "      <th>Rows</th>\n",
       "      <th>Columns</th>\n",
       "      <th>Format</th>\n",
       "      <th>Min Value</th>\n",
       "      <th>Max Value</th>\n",
       "    </tr>\n",
       "  </thead>\n",
       "  <tbody>\n",
       "    <tr>\n",
       "      <th>0</th>\n",
       "      <td>Train</td>\n",
       "      <td>60000</td>\n",
       "      <td>784</td>\n",
       "      <td>uint8</td>\n",
       "      <td>0</td>\n",
       "      <td>255</td>\n",
       "    </tr>\n",
       "    <tr>\n",
       "      <th>1</th>\n",
       "      <td>Test</td>\n",
       "      <td>10000</td>\n",
       "      <td>784</td>\n",
       "      <td>uint8</td>\n",
       "      <td>0</td>\n",
       "      <td>255</td>\n",
       "    </tr>\n",
       "  </tbody>\n",
       "</table>\n",
       "</div>"
      ],
      "text/plain": [
       "  Dataset   Rows  Columns Format  Min Value  Max Value\n",
       "0   Train  60000      784  uint8          0        255\n",
       "1    Test  10000      784  uint8          0        255"
      ]
     },
     "execution_count": 5,
     "metadata": {},
     "output_type": "execute_result"
    }
   ],
   "source": [
    "pd.DataFrame({'Dataset': ['Train','Test'],\n",
    "                         'Rows': [X_train.shape[0],X_test.shape[0]],\n",
    "                         'Columns': [X_train.shape[1],X_test.shape[1]],\n",
    "                         'Format': [X_train.dtype,X_test.dtype],\n",
    "                         'Min Value': [X_train.min(),X_test.min()],\n",
    "                         'Max Value': [X_train.max(),X_test.max()]})\n"
   ]
  },
  {
   "cell_type": "markdown",
   "metadata": {},
   "source": [
    "Each record (or row) contains 784 columns which represents an 28 x 28 pixel image (28 x 28 = 784). Pixel values 0 refers to the background (white), 255 refer to the foreground (black). "
   ]
  },
  {
   "cell_type": "code",
   "execution_count": 6,
   "metadata": {},
   "outputs": [
    {
     "data": {
      "image/png": "[encoded data removed]",
      "text/plain": [
       "<Figure size 432x288 with 1 Axes>"
      ]
     },
     "metadata": {},
     "output_type": "display_data"
    }
   ],
   "source": [
    "# Show first record\n",
    "plt.imshow(X_train[0,:].reshape((28,28)),cmap='Greys')\n",
    "plt.title('Label: %d' % (y_train[0]))\n",
    "plt.show()"
   ]
  },
  {
   "cell_type": "markdown",
   "metadata": {},
   "source": [
    "The first record in the dataset has a label 5."
   ]
  },
  {
   "cell_type": "code",
   "execution_count": 7,
   "metadata": {},
   "outputs": [
    {
     "data": {
      "image/png": "[encoded data removed]",
      "text/plain": [
       "<Figure size 720x216 with 30 Axes>"
      ]
     },
     "metadata": {},
     "output_type": "display_data"
    }
   ],
   "source": [
    "# Show 30 random records\n",
    "_, ax = plt.subplots(3,10,figsize=(10,3))\n",
    "for i in range(3):\n",
    "    for j in range(10):\n",
    "        r = np.random.randint(X_train.shape[0])\n",
    "        ax[i,j].imshow(X_train[r].reshape((28,28)), cmap='Greys')\n",
    "        ax[i,j].set_xticks([])\n",
    "        ax[i,j].set_yticks([])\n",
    "plt.show()\n",
    "plt.close()"
   ]
  },
  {
   "cell_type": "markdown",
   "metadata": {},
   "source": [
    "Thirty random records shown above, provides an insight on the different handwritings for the digits."
   ]
  },
  {
   "cell_type": "code",
   "execution_count": 8,
   "metadata": {},
   "outputs": [
    {
     "data": {
      "text/html": [
       "<div>\n",
       "<style scoped>\n",
       "    .dataframe tbody tr th:only-of-type {\n",
       "        vertical-align: middle;\n",
       "    }\n",
       "\n",
       "    .dataframe tbody tr th {\n",
       "        vertical-align: top;\n",
       "    }\n",
       "\n",
       "    .dataframe thead th {\n",
       "        text-align: right;\n",
       "    }\n",
       "</style>\n",
       "<table border=\"1\" class=\"dataframe\">\n",
       "  <thead>\n",
       "    <tr style=\"text-align: right;\">\n",
       "      <th></th>\n",
       "      <th>Dataset</th>\n",
       "      <th>Rows</th>\n",
       "      <th>Columns</th>\n",
       "      <th>Format</th>\n",
       "      <th>Min Value</th>\n",
       "      <th>Max Value</th>\n",
       "    </tr>\n",
       "  </thead>\n",
       "  <tbody>\n",
       "    <tr>\n",
       "      <th>0</th>\n",
       "      <td>Train</td>\n",
       "      <td>60000</td>\n",
       "      <td>1</td>\n",
       "      <td>uint8</td>\n",
       "      <td>0</td>\n",
       "      <td>9</td>\n",
       "    </tr>\n",
       "    <tr>\n",
       "      <th>1</th>\n",
       "      <td>Test</td>\n",
       "      <td>10000</td>\n",
       "      <td>1</td>\n",
       "      <td>uint8</td>\n",
       "      <td>0</td>\n",
       "      <td>9</td>\n",
       "    </tr>\n",
       "  </tbody>\n",
       "</table>\n",
       "</div>"
      ],
      "text/plain": [
       "  Dataset   Rows  Columns Format  Min Value  Max Value\n",
       "0   Train  60000        1  uint8          0          9\n",
       "1    Test  10000        1  uint8          0          9"
      ]
     },
     "execution_count": 8,
     "metadata": {},
     "output_type": "execute_result"
    }
   ],
   "source": [
    "pd.DataFrame({'Dataset': ['Train','Test'],\n",
    "                         'Rows': [np.matrix(y_train).shape[1],np.matrix(y_test).shape[1]],\n",
    "                         'Columns': [np.matrix(y_train).shape[0],np.matrix(y_test).shape[0]],\n",
    "                         'Format': [y_train.dtype,y_test.dtype],\n",
    "                         'Min Value': [y_train.min(),y_test.min()],\n",
    "                         'Max Value': [y_train.max(),y_test.max()]})\n"
   ]
  },
  {
   "cell_type": "markdown",
   "metadata": {},
   "source": [
    "The shape, type and min/ max properties of the dataset labels are shown above. There 60,000 records for training and 10,000 for testing. The labels are in integer format with a min value of 0 to a max value of 9."
   ]
  },
  {
   "cell_type": "code",
   "execution_count": 9,
   "metadata": {},
   "outputs": [
    {
     "data": {
      "image/png": "[encoded data removed]",
      "text/plain": [
       "<Figure size 432x288 with 1 Axes>"
      ]
     },
     "metadata": {},
     "output_type": "display_data"
    },
    {
     "data": {
      "text/plain": [
       "{0: 5923,\n",
       " 1: 6742,\n",
       " 2: 5958,\n",
       " 3: 6131,\n",
       " 4: 5842,\n",
       " 5: 5421,\n",
       " 6: 5918,\n",
       " 7: 6265,\n",
       " 8: 5851,\n",
       " 9: 5949}"
      ]
     },
     "metadata": {},
     "output_type": "display_data"
    }
   ],
   "source": [
    "# Store frequency counts of each label where unique is the label and counts is its frequency\n",
    "unique, counts = np.unique(y_train, return_counts=True)\n",
    "\n",
    "fig, ax = plt.subplots()\n",
    "\n",
    "plt.bar(np.arange(10), counts, color='grey')\n",
    "plt.ylabel('Occurences')\n",
    "plt.xlabel('Label')\n",
    "plt.title('Occurences of Each Label in Training Set')\n",
    "plt.xticks(np.arange(10), unique)\n",
    "plt.show()\n",
    "\n",
    "display(dict(zip(unique, counts)))"
   ]
  },
  {
   "cell_type": "markdown",
   "metadata": {},
   "source": [
    "The distribution of labels across the dataset is relatively balanced. \"1\" occurs most frequently with 6742 counts, and \"5\" the least at 5421."
   ]
  },
  {
   "cell_type": "code",
   "execution_count": 10,
   "metadata": {},
   "outputs": [
    {
     "name": "stdout",
     "output_type": "stream",
     "text": [
      "First 10 records with label 0\n"
     ]
    },
    {
     "data": {
      "image/png": "[encoded data removed]",
      "text/plain": [
       "<Figure size 720x72 with 10 Axes>"
      ]
     },
     "metadata": {},
     "output_type": "display_data"
    },
    {
     "name": "stdout",
     "output_type": "stream",
     "text": [
      "First 10 records with label 1\n"
     ]
    },
    {
     "data": {
      "image/png": "[encoded data removed]",
      "text/plain": [
       "<Figure size 720x72 with 10 Axes>"
      ]
     },
     "metadata": {},
     "output_type": "display_data"
    },
    {
     "name": "stdout",
     "output_type": "stream",
     "text": [
      "First 10 records with label 2\n"
     ]
    },
    {
     "data": {
      "image/png": "[encoded data removed]",
      "text/plain": [
       "<Figure size 720x72 with 10 Axes>"
      ]
     },
     "metadata": {},
     "output_type": "display_data"
    },
    {
     "name": "stdout",
     "output_type": "stream",
     "text": [
      "First 10 records with label 3\n"
     ]
    },
    {
     "data": {
      "image/png": "[encoded data removed]",
      "text/plain": [
       "<Figure size 720x72 with 10 Axes>"
      ]
     },
     "metadata": {},
     "output_type": "display_data"
    },
    {
     "name": "stdout",
     "output_type": "stream",
     "text": [
      "First 10 records with label 4\n"
     ]
    },
    {
     "data": {
      "image/png": "[encoded data removed]",
      "text/plain": [
       "<Figure size 720x72 with 10 Axes>"
      ]
     },
     "metadata": {},
     "output_type": "display_data"
    },
    {
     "name": "stdout",
     "output_type": "stream",
     "text": [
      "First 10 records with label 5\n"
     ]
    },
    {
     "data": {
      "image/png": "[encoded data removed]",
      "text/plain": [
       "<Figure size 720x72 with 10 Axes>"
      ]
     },
     "metadata": {},
     "output_type": "display_data"
    },
    {
     "name": "stdout",
     "output_type": "stream",
     "text": [
      "First 10 records with label 6\n"
     ]
    },
    {
     "data": {
      "image/png": "[encoded data removed]",
      "text/plain": [
       "<Figure size 720x72 with 10 Axes>"
      ]
     },
     "metadata": {},
     "output_type": "display_data"
    },
    {
     "name": "stdout",
     "output_type": "stream",
     "text": [
      "First 10 records with label 7\n"
     ]
    },
    {
     "data": {
      "image/png": "[encoded data removed]",
      "text/plain": [
       "<Figure size 720x72 with 10 Axes>"
      ]
     },
     "metadata": {},
     "output_type": "display_data"
    },
    {
     "name": "stdout",
     "output_type": "stream",
     "text": [
      "First 10 records with label 8\n"
     ]
    },
    {
     "data": {
      "image/png": "[encoded data removed]",
      "text/plain": [
       "<Figure size 720x72 with 10 Axes>"
      ]
     },
     "metadata": {},
     "output_type": "display_data"
    },
    {
     "name": "stdout",
     "output_type": "stream",
     "text": [
      "First 10 records with label 9\n"
     ]
    },
    {
     "data": {
      "image/png": "[encoded data removed]",
      "text/plain": [
       "<Figure size 720x72 with 10 Axes>"
      ]
     },
     "metadata": {},
     "output_type": "display_data"
    }
   ],
   "source": [
    "# Show 10 records for each label\n",
    "for dlbl in range(10):\n",
    "    print('First 10 records with label %d' % (dlbl))\n",
    "    _, ax = plt.subplots(1,10,figsize=(10,1)) \n",
    "    for dimg in range(10):\n",
    "        ax[dimg].imshow(X_train[y_train == dlbl][dimg].reshape((28,28)), cmap='Greys')\n",
    "        ax[dimg].set_xticks([])\n",
    "        ax[dimg].set_yticks([])\n",
    "    plt.show()\n",
    "    plt.close()"
   ]
  },
  {
   "cell_type": "markdown",
   "metadata": {},
   "source": [
    "In the above, we can see the differences in handwriting in detail for the first 10 records of each label. There are differences in how a digit may be written - two with loop or without. And, in some cases, it appears that even for humans, the classification might be a challenge. For example, and the 10th record with label \"9\", looks like an \"8\"."
   ]
  },
  {
   "cell_type": "markdown",
   "metadata": {},
   "source": [
    "#### Exploration of Models ####\n",
    "\n",
    "Before beginning with the classification and predictions, the necessary packages (models and scaling) were imported from sklearn. A variety of models had been selected to be explored:-\n",
    "\n",
    "- Linear Models: \n",
    "    1. Logistic Regression, \n",
    "    2. Stochastic Gradient Descent \n",
    "\n",
    "\n",
    "- Trees: \n",
    "    3. Decision Tree\n",
    "\n",
    "\n",
    "- Distance Based (Neighbors): \n",
    "    4. K Nearest Neighbors\n",
    "\n",
    "\n",
    "- Support Vector Machines: \n",
    "    5. Support Vector Classification (SVC), \n",
    "    6. Linear SVC\n",
    "\n",
    "\n",
    "- Naive Bayes: \n",
    "    7. Gaussian Naive Bayes\n",
    "\n",
    "\n",
    "- Ensemble Methods: \n",
    "    8. Random Forests and \n",
    "    9. Gradient Boosted Regression Tree\n",
    "\n",
    "\n",
    "- Neural Networks: \n",
    "    10. Multi Layer Perceptron\n",
    "\n",
    "Scaling is often recommended and will improve modelling time and accuracy. By default we scale the features from 0 to 1 by dividing the numbers by 255. "
   ]
  },
  {
   "cell_type": "code",
   "execution_count": 11,
   "metadata": {},
   "outputs": [],
   "source": [
    "# Import necessary models\n",
    "from sklearn.linear_model import LogisticRegression\n",
    "from sklearn.linear_model import SGDClassifier\n",
    "from sklearn.tree import DecisionTreeClassifier\n",
    "from sklearn.neighbors import KNeighborsClassifier\n",
    "from sklearn.svm import SVC\n",
    "from sklearn.svm import LinearSVC\n",
    "from sklearn.naive_bayes import GaussianNB\n",
    "from sklearn.ensemble import RandomForestClassifier\n",
    "from sklearn.ensemble import GradientBoostingClassifier\n",
    "from sklearn.neural_network import MLPClassifier"
   ]
  },
  {
   "cell_type": "code",
   "execution_count": 12,
   "metadata": {},
   "outputs": [],
   "source": [
    "# Other packages for experimentation\n",
    "from sklearn.model_selection import StratifiedKFold\n",
    "from sklearn.model_selection import cross_val_score\n",
    "import time"
   ]
  },
  {
   "cell_type": "code",
   "execution_count": 13,
   "metadata": {},
   "outputs": [],
   "source": [
    "# Set seed for replicability.\n",
    "seedno = 18704\n",
    "np.random.seed(seedno)"
   ]
  },
  {
   "cell_type": "code",
   "execution_count": 14,
   "metadata": {},
   "outputs": [],
   "source": [
    "# Create an array of models, with set random_state = seedno, hopefully to achieve replicability of results\n",
    "models = []\n",
    "models.append(('LR', LogisticRegression(random_state=seedno)))\n",
    "# the SGDClassifier uses default max_iter and tol as parameters to avoid warnings\n",
    "models.append(('SGD', SGDClassifier(max_iter=1000, tol=1e-3, random_state=seedno)))\n",
    "models.append(('DT', DecisionTreeClassifier(random_state=seedno)))\n",
    "models.append(('KNN', KNeighborsClassifier(n_neighbors=3)))\n",
    "models.append(('SVC', SVC(random_state=seedno)))\n",
    "models.append(('LSVC', LinearSVC(random_state=seedno)))\n",
    "models.append(('GNB', GaussianNB()))\n",
    "models.append(('RF', RandomForestClassifier(random_state=seedno)))\n",
    "models.append(('GB', GradientBoostingClassifier(random_state=seedno)))\n",
    "models.append(('MLP', MLPClassifier(random_state=seedno)))"
   ]
  },
  {
   "cell_type": "code",
   "execution_count": 15,
   "metadata": {},
   "outputs": [],
   "source": [
    "# Set display to fix at 4 decimal places\n",
    "pd.options.display.float_format = '{:,.4f}'.format"
   ]
  },
  {
   "cell_type": "code",
   "execution_count": 16,
   "metadata": {},
   "outputs": [],
   "source": [
    "# normalize data into 0,1 range\n",
    "Xtr_scale = np.true_divide(X_train, 255)"
   ]
  },
  {
   "cell_type": "code",
   "execution_count": 17,
   "metadata": {},
   "outputs": [
    {
     "data": {
      "text/html": [
       "<div>\n",
       "<style scoped>\n",
       "    .dataframe tbody tr th:only-of-type {\n",
       "        vertical-align: middle;\n",
       "    }\n",
       "\n",
       "    .dataframe tbody tr th {\n",
       "        vertical-align: top;\n",
       "    }\n",
       "\n",
       "    .dataframe thead th {\n",
       "        text-align: right;\n",
       "    }\n",
       "</style>\n",
       "<table border=\"1\" class=\"dataframe\">\n",
       "  <thead>\n",
       "    <tr style=\"text-align: right;\">\n",
       "      <th></th>\n",
       "      <th>Model</th>\n",
       "      <th>Scalers</th>\n",
       "      <th>CV</th>\n",
       "      <th>Score</th>\n",
       "      <th>Runtime</th>\n",
       "    </tr>\n",
       "  </thead>\n",
       "  <tbody>\n",
       "    <tr>\n",
       "      <th>0</th>\n",
       "      <td>LR</td>\n",
       "      <td>S255</td>\n",
       "      <td>skfold_n3</td>\n",
       "      <td>0.9137</td>\n",
       "      <td>146.8055</td>\n",
       "    </tr>\n",
       "  </tbody>\n",
       "</table>\n",
       "</div>"
      ],
      "text/plain": [
       "  Model Scalers         CV  Score  Runtime\n",
       "0    LR    S255  skfold_n3 0.9137 146.8055"
      ]
     },
     "metadata": {},
     "output_type": "display_data"
    },
    {
     "data": {
      "text/html": [
       "<div>\n",
       "<style scoped>\n",
       "    .dataframe tbody tr th:only-of-type {\n",
       "        vertical-align: middle;\n",
       "    }\n",
       "\n",
       "    .dataframe tbody tr th {\n",
       "        vertical-align: top;\n",
       "    }\n",
       "\n",
       "    .dataframe thead th {\n",
       "        text-align: right;\n",
       "    }\n",
       "</style>\n",
       "<table border=\"1\" class=\"dataframe\">\n",
       "  <thead>\n",
       "    <tr style=\"text-align: right;\">\n",
       "      <th></th>\n",
       "      <th>Model</th>\n",
       "      <th>Scalers</th>\n",
       "      <th>CV</th>\n",
       "      <th>Score</th>\n",
       "      <th>Runtime</th>\n",
       "    </tr>\n",
       "  </thead>\n",
       "  <tbody>\n",
       "    <tr>\n",
       "      <th>1</th>\n",
       "      <td>SGD</td>\n",
       "      <td>S255</td>\n",
       "      <td>skfold_n3</td>\n",
       "      <td>0.8998</td>\n",
       "      <td>22.0420</td>\n",
       "    </tr>\n",
       "  </tbody>\n",
       "</table>\n",
       "</div>"
      ],
      "text/plain": [
       "  Model Scalers         CV  Score  Runtime\n",
       "1   SGD    S255  skfold_n3 0.8998  22.0420"
      ]
     },
     "metadata": {},
     "output_type": "display_data"
    },
    {
     "data": {
      "text/html": [
       "<div>\n",
       "<style scoped>\n",
       "    .dataframe tbody tr th:only-of-type {\n",
       "        vertical-align: middle;\n",
       "    }\n",
       "\n",
       "    .dataframe tbody tr th {\n",
       "        vertical-align: top;\n",
       "    }\n",
       "\n",
       "    .dataframe thead th {\n",
       "        text-align: right;\n",
       "    }\n",
       "</style>\n",
       "<table border=\"1\" class=\"dataframe\">\n",
       "  <thead>\n",
       "    <tr style=\"text-align: right;\">\n",
       "      <th></th>\n",
       "      <th>Model</th>\n",
       "      <th>Scalers</th>\n",
       "      <th>CV</th>\n",
       "      <th>Score</th>\n",
       "      <th>Runtime</th>\n",
       "    </tr>\n",
       "  </thead>\n",
       "  <tbody>\n",
       "    <tr>\n",
       "      <th>2</th>\n",
       "      <td>DT</td>\n",
       "      <td>S255</td>\n",
       "      <td>skfold_n3</td>\n",
       "      <td>0.8596</td>\n",
       "      <td>38.8751</td>\n",
       "    </tr>\n",
       "  </tbody>\n",
       "</table>\n",
       "</div>"
      ],
      "text/plain": [
       "  Model Scalers         CV  Score  Runtime\n",
       "2    DT    S255  skfold_n3 0.8596  38.8751"
      ]
     },
     "metadata": {},
     "output_type": "display_data"
    },
    {
     "data": {
      "text/html": [
       "<div>\n",
       "<style scoped>\n",
       "    .dataframe tbody tr th:only-of-type {\n",
       "        vertical-align: middle;\n",
       "    }\n",
       "\n",
       "    .dataframe tbody tr th {\n",
       "        vertical-align: top;\n",
       "    }\n",
       "\n",
       "    .dataframe thead th {\n",
       "        text-align: right;\n",
       "    }\n",
       "</style>\n",
       "<table border=\"1\" class=\"dataframe\">\n",
       "  <thead>\n",
       "    <tr style=\"text-align: right;\">\n",
       "      <th></th>\n",
       "      <th>Model</th>\n",
       "      <th>Scalers</th>\n",
       "      <th>CV</th>\n",
       "      <th>Score</th>\n",
       "      <th>Runtime</th>\n",
       "    </tr>\n",
       "  </thead>\n",
       "  <tbody>\n",
       "    <tr>\n",
       "      <th>3</th>\n",
       "      <td>KNN</td>\n",
       "      <td>S255</td>\n",
       "      <td>skfold_n3</td>\n",
       "      <td>0.9682</td>\n",
       "      <td>3,020.6570</td>\n",
       "    </tr>\n",
       "  </tbody>\n",
       "</table>\n",
       "</div>"
      ],
      "text/plain": [
       "  Model Scalers         CV  Score    Runtime\n",
       "3   KNN    S255  skfold_n3 0.9682 3,020.6570"
      ]
     },
     "metadata": {},
     "output_type": "display_data"
    },
    {
     "data": {
      "text/html": [
       "<div>\n",
       "<style scoped>\n",
       "    .dataframe tbody tr th:only-of-type {\n",
       "        vertical-align: middle;\n",
       "    }\n",
       "\n",
       "    .dataframe tbody tr th {\n",
       "        vertical-align: top;\n",
       "    }\n",
       "\n",
       "    .dataframe thead th {\n",
       "        text-align: right;\n",
       "    }\n",
       "</style>\n",
       "<table border=\"1\" class=\"dataframe\">\n",
       "  <thead>\n",
       "    <tr style=\"text-align: right;\">\n",
       "      <th></th>\n",
       "      <th>Model</th>\n",
       "      <th>Scalers</th>\n",
       "      <th>CV</th>\n",
       "      <th>Score</th>\n",
       "      <th>Runtime</th>\n",
       "    </tr>\n",
       "  </thead>\n",
       "  <tbody>\n",
       "    <tr>\n",
       "      <th>4</th>\n",
       "      <td>SVC</td>\n",
       "      <td>S255</td>\n",
       "      <td>skfold_n3</td>\n",
       "      <td>0.9343</td>\n",
       "      <td>1,639.1866</td>\n",
       "    </tr>\n",
       "  </tbody>\n",
       "</table>\n",
       "</div>"
      ],
      "text/plain": [
       "  Model Scalers         CV  Score    Runtime\n",
       "4   SVC    S255  skfold_n3 0.9343 1,639.1866"
      ]
     },
     "metadata": {},
     "output_type": "display_data"
    },
    {
     "data": {
      "text/html": [
       "<div>\n",
       "<style scoped>\n",
       "    .dataframe tbody tr th:only-of-type {\n",
       "        vertical-align: middle;\n",
       "    }\n",
       "\n",
       "    .dataframe tbody tr th {\n",
       "        vertical-align: top;\n",
       "    }\n",
       "\n",
       "    .dataframe thead th {\n",
       "        text-align: right;\n",
       "    }\n",
       "</style>\n",
       "<table border=\"1\" class=\"dataframe\">\n",
       "  <thead>\n",
       "    <tr style=\"text-align: right;\">\n",
       "      <th></th>\n",
       "      <th>Model</th>\n",
       "      <th>Scalers</th>\n",
       "      <th>CV</th>\n",
       "      <th>Score</th>\n",
       "      <th>Runtime</th>\n",
       "    </tr>\n",
       "  </thead>\n",
       "  <tbody>\n",
       "    <tr>\n",
       "      <th>5</th>\n",
       "      <td>LSVC</td>\n",
       "      <td>S255</td>\n",
       "      <td>skfold_n3</td>\n",
       "      <td>0.9103</td>\n",
       "      <td>176.5021</td>\n",
       "    </tr>\n",
       "  </tbody>\n",
       "</table>\n",
       "</div>"
      ],
      "text/plain": [
       "  Model Scalers         CV  Score  Runtime\n",
       "5  LSVC    S255  skfold_n3 0.9103 176.5021"
      ]
     },
     "metadata": {},
     "output_type": "display_data"
    },
    {
     "data": {
      "text/html": [
       "<div>\n",
       "<style scoped>\n",
       "    .dataframe tbody tr th:only-of-type {\n",
       "        vertical-align: middle;\n",
       "    }\n",
       "\n",
       "    .dataframe tbody tr th {\n",
       "        vertical-align: top;\n",
       "    }\n",
       "\n",
       "    .dataframe thead th {\n",
       "        text-align: right;\n",
       "    }\n",
       "</style>\n",
       "<table border=\"1\" class=\"dataframe\">\n",
       "  <thead>\n",
       "    <tr style=\"text-align: right;\">\n",
       "      <th></th>\n",
       "      <th>Model</th>\n",
       "      <th>Scalers</th>\n",
       "      <th>CV</th>\n",
       "      <th>Score</th>\n",
       "      <th>Runtime</th>\n",
       "    </tr>\n",
       "  </thead>\n",
       "  <tbody>\n",
       "    <tr>\n",
       "      <th>6</th>\n",
       "      <td>GNB</td>\n",
       "      <td>S255</td>\n",
       "      <td>skfold_n3</td>\n",
       "      <td>0.5589</td>\n",
       "      <td>6.1772</td>\n",
       "    </tr>\n",
       "  </tbody>\n",
       "</table>\n",
       "</div>"
      ],
      "text/plain": [
       "  Model Scalers         CV  Score  Runtime\n",
       "6   GNB    S255  skfold_n3 0.5589   6.1772"
      ]
     },
     "metadata": {},
     "output_type": "display_data"
    },
    {
     "data": {
      "text/html": [
       "<div>\n",
       "<style scoped>\n",
       "    .dataframe tbody tr th:only-of-type {\n",
       "        vertical-align: middle;\n",
       "    }\n",
       "\n",
       "    .dataframe tbody tr th {\n",
       "        vertical-align: top;\n",
       "    }\n",
       "\n",
       "    .dataframe thead th {\n",
       "        text-align: right;\n",
       "    }\n",
       "</style>\n",
       "<table border=\"1\" class=\"dataframe\">\n",
       "  <thead>\n",
       "    <tr style=\"text-align: right;\">\n",
       "      <th></th>\n",
       "      <th>Model</th>\n",
       "      <th>Scalers</th>\n",
       "      <th>CV</th>\n",
       "      <th>Score</th>\n",
       "      <th>Runtime</th>\n",
       "    </tr>\n",
       "  </thead>\n",
       "  <tbody>\n",
       "    <tr>\n",
       "      <th>7</th>\n",
       "      <td>RF</td>\n",
       "      <td>S255</td>\n",
       "      <td>skfold_n3</td>\n",
       "      <td>0.9407</td>\n",
       "      <td>8.0147</td>\n",
       "    </tr>\n",
       "  </tbody>\n",
       "</table>\n",
       "</div>"
      ],
      "text/plain": [
       "  Model Scalers         CV  Score  Runtime\n",
       "7    RF    S255  skfold_n3 0.9407   8.0147"
      ]
     },
     "metadata": {},
     "output_type": "display_data"
    },
    {
     "data": {
      "text/html": [
       "<div>\n",
       "<style scoped>\n",
       "    .dataframe tbody tr th:only-of-type {\n",
       "        vertical-align: middle;\n",
       "    }\n",
       "\n",
       "    .dataframe tbody tr th {\n",
       "        vertical-align: top;\n",
       "    }\n",
       "\n",
       "    .dataframe thead th {\n",
       "        text-align: right;\n",
       "    }\n",
       "</style>\n",
       "<table border=\"1\" class=\"dataframe\">\n",
       "  <thead>\n",
       "    <tr style=\"text-align: right;\">\n",
       "      <th></th>\n",
       "      <th>Model</th>\n",
       "      <th>Scalers</th>\n",
       "      <th>CV</th>\n",
       "      <th>Score</th>\n",
       "      <th>Runtime</th>\n",
       "    </tr>\n",
       "  </thead>\n",
       "  <tbody>\n",
       "    <tr>\n",
       "      <th>8</th>\n",
       "      <td>GB</td>\n",
       "      <td>S255</td>\n",
       "      <td>skfold_n3</td>\n",
       "      <td>0.9426</td>\n",
       "      <td>6,553.1821</td>\n",
       "    </tr>\n",
       "  </tbody>\n",
       "</table>\n",
       "</div>"
      ],
      "text/plain": [
       "  Model Scalers         CV  Score    Runtime\n",
       "8    GB    S255  skfold_n3 0.9426 6,553.1821"
      ]
     },
     "metadata": {},
     "output_type": "display_data"
    },
    {
     "data": {
      "text/html": [
       "<div>\n",
       "<style scoped>\n",
       "    .dataframe tbody tr th:only-of-type {\n",
       "        vertical-align: middle;\n",
       "    }\n",
       "\n",
       "    .dataframe tbody tr th {\n",
       "        vertical-align: top;\n",
       "    }\n",
       "\n",
       "    .dataframe thead th {\n",
       "        text-align: right;\n",
       "    }\n",
       "</style>\n",
       "<table border=\"1\" class=\"dataframe\">\n",
       "  <thead>\n",
       "    <tr style=\"text-align: right;\">\n",
       "      <th></th>\n",
       "      <th>Model</th>\n",
       "      <th>Scalers</th>\n",
       "      <th>CV</th>\n",
       "      <th>Score</th>\n",
       "      <th>Runtime</th>\n",
       "    </tr>\n",
       "  </thead>\n",
       "  <tbody>\n",
       "    <tr>\n",
       "      <th>9</th>\n",
       "      <td>MLP</td>\n",
       "      <td>S255</td>\n",
       "      <td>skfold_n3</td>\n",
       "      <td>0.9708</td>\n",
       "      <td>155.9744</td>\n",
       "    </tr>\n",
       "  </tbody>\n",
       "</table>\n",
       "</div>"
      ],
      "text/plain": [
       "  Model Scalers         CV  Score  Runtime\n",
       "9   MLP    S255  skfold_n3 0.9708 155.9744"
      ]
     },
     "metadata": {},
     "output_type": "display_data"
    }
   ],
   "source": [
    "# !!! Warning, code took X hours to run. \n",
    "# Remove multi-line comment \"Ctl + /\" on Windows or \"Cmd + /\" on Mac to run code.\n",
    "\n",
    "model_names = []\n",
    "scaler_names = []\n",
    "fittypes = []\n",
    "scores = []\n",
    "runtimes = []\n",
    "index = 0\n",
    "# A StratifiedKFold of K=3 instead of the typical 10 fold is used to reduce code runtime.\n",
    "skfold = StratifiedKFold(n_splits=3,random_state=seedno)\n",
    "starttime = time.time()\n",
    "\n",
    "for model_name, model in models:\n",
    "    model_starttime = time.time()\n",
    "    score = cross_val_score(model,Xtr_scale,y_train, cv=skfold, scoring = 'accuracy').mean()\n",
    "    runtime = (time.time() - model_starttime)\n",
    "    model_names.append(model_name)\n",
    "    scaler_names.append('S255')\n",
    "    fittypes.append('skfold_n3')\n",
    "    scores.append(score)\n",
    "    runtimes.append(runtime)\n",
    "\n",
    "# too impatient to view results after X hours. display score and runtime per model/scaler after each run\n",
    "    models_fit = pd.DataFrame({\"Model\": model_names,\"Scalers\": scaler_names, \"CV\" : fittypes, \"Score\": scores, \"Runtime\": runtimes})\n",
    "    display(models_fit.loc[[index],:])\n",
    "    index += 1"
   ]
  },
  {
   "cell_type": "code",
   "execution_count": 18,
   "metadata": {},
   "outputs": [],
   "source": [
    "# As an alternative, to avoid running the 1.5 hour code above everytime the kernel \n",
    "# is restarted, the output from the code was writen to csv.\n",
    "# The csv was read as a dataframe to avoid re-running the code. Uncomment if you wish to read from csv \n",
    "\n",
    "models_fit.to_csv('models_fit.csv')\n",
    "models_fit = pd.read_csv('models_fit.csv')\n",
    "del models_fit['Unnamed: 0']\n",
    "# display(models_fit)"
   ]
  },
  {
   "cell_type": "code",
   "execution_count": 19,
   "metadata": {},
   "outputs": [
    {
     "data": {
      "text/html": [
       "<div>\n",
       "<style scoped>\n",
       "    .dataframe tbody tr th:only-of-type {\n",
       "        vertical-align: middle;\n",
       "    }\n",
       "\n",
       "    .dataframe tbody tr th {\n",
       "        vertical-align: top;\n",
       "    }\n",
       "\n",
       "    .dataframe thead th {\n",
       "        text-align: right;\n",
       "    }\n",
       "</style>\n",
       "<table border=\"1\" class=\"dataframe\">\n",
       "  <thead>\n",
       "    <tr style=\"text-align: right;\">\n",
       "      <th></th>\n",
       "      <th>Model</th>\n",
       "      <th>Score</th>\n",
       "      <th>Runtime</th>\n",
       "    </tr>\n",
       "  </thead>\n",
       "  <tbody>\n",
       "    <tr>\n",
       "      <th>9</th>\n",
       "      <td>MLP</td>\n",
       "      <td>0.9708</td>\n",
       "      <td>155.9744</td>\n",
       "    </tr>\n",
       "    <tr>\n",
       "      <th>3</th>\n",
       "      <td>KNN</td>\n",
       "      <td>0.9682</td>\n",
       "      <td>3,020.6570</td>\n",
       "    </tr>\n",
       "    <tr>\n",
       "      <th>8</th>\n",
       "      <td>GB</td>\n",
       "      <td>0.9426</td>\n",
       "      <td>6,553.1821</td>\n",
       "    </tr>\n",
       "    <tr>\n",
       "      <th>7</th>\n",
       "      <td>RF</td>\n",
       "      <td>0.9407</td>\n",
       "      <td>8.0147</td>\n",
       "    </tr>\n",
       "    <tr>\n",
       "      <th>4</th>\n",
       "      <td>SVC</td>\n",
       "      <td>0.9343</td>\n",
       "      <td>1,639.1866</td>\n",
       "    </tr>\n",
       "    <tr>\n",
       "      <th>0</th>\n",
       "      <td>LR</td>\n",
       "      <td>0.9137</td>\n",
       "      <td>146.8055</td>\n",
       "    </tr>\n",
       "    <tr>\n",
       "      <th>5</th>\n",
       "      <td>LSVC</td>\n",
       "      <td>0.9103</td>\n",
       "      <td>176.5021</td>\n",
       "    </tr>\n",
       "    <tr>\n",
       "      <th>1</th>\n",
       "      <td>SGD</td>\n",
       "      <td>0.8998</td>\n",
       "      <td>22.0420</td>\n",
       "    </tr>\n",
       "    <tr>\n",
       "      <th>2</th>\n",
       "      <td>DT</td>\n",
       "      <td>0.8596</td>\n",
       "      <td>38.8751</td>\n",
       "    </tr>\n",
       "    <tr>\n",
       "      <th>6</th>\n",
       "      <td>GNB</td>\n",
       "      <td>0.5589</td>\n",
       "      <td>6.1772</td>\n",
       "    </tr>\n",
       "  </tbody>\n",
       "</table>\n",
       "</div>"
      ],
      "text/plain": [
       "  Model  Score    Runtime\n",
       "9   MLP 0.9708   155.9744\n",
       "3   KNN 0.9682 3,020.6570\n",
       "8    GB 0.9426 6,553.1821\n",
       "7    RF 0.9407     8.0147\n",
       "4   SVC 0.9343 1,639.1866\n",
       "0    LR 0.9137   146.8055\n",
       "5  LSVC 0.9103   176.5021\n",
       "1   SGD 0.8998    22.0420\n",
       "2    DT 0.8596    38.8751\n",
       "6   GNB 0.5589     6.1772"
      ]
     },
     "metadata": {},
     "output_type": "display_data"
    },
    {
     "data": {
      "image/png": "[encoded data removed]",
      "text/plain": [
       "<Figure size 432x288 with 1 Axes>"
      ]
     },
     "metadata": {},
     "output_type": "display_data"
    }
   ],
   "source": [
    "groups = models_fit.groupby('Model')\n",
    "\n",
    "models_fit = pd.DataFrame({\"Model\": model_names,\"Scalers\": scaler_names, \"CV\": fittypes, \"Score\": scores, \"Runtime\": runtimes})\n",
    "display(models_fit.loc[:, ['Model', 'Score', 'Runtime']].sort_values(by='Score',ascending=False))\n",
    "\n",
    "# Plot\n",
    "fig, ax = plt.subplots()\n",
    "ax.margins(0.05) # Optional, just adds 5% padding to the autoscaling\n",
    "for name, group in groups:\n",
    "    ax.plot(group.Runtime, group.Score, marker='o', linestyle='', ms=5, label=name)\n",
    "ax.legend()\n",
    "plt.xlabel('Runtime')\n",
    "plt.ylabel('Score')\n",
    "\n",
    "plt.show()"
   ]
  },
  {
   "cell_type": "code",
   "execution_count": 20,
   "metadata": {},
   "outputs": [
    {
     "name": "stdout",
     "output_type": "stream",
     "text": [
      "Time taken to now: 196.22304143508276 mins\n"
     ]
    }
   ],
   "source": [
    "print('Time taken to now: {} mins'.format((time.time()-nbstarttime)/60))"
   ]
  },
  {
   "cell_type": "markdown",
   "metadata": {},
   "source": [
    "#### Feature Selection ####\n",
    "\n",
    "From the results above, the best results had been achieved by neural nets, nearest neighbors and ensemble methods. Naive Bayes results in the worst accuracy score at 56%. Whereas, Gradient Boosting Classifier, KNN and SVC results in long runtime of more than 25 minutes.\n",
    "\n",
    "For our further experimentation, we will use random forest classifier. As it produces good results in short run time."
   ]
  },
  {
   "cell_type": "code",
   "execution_count": 21,
   "metadata": {},
   "outputs": [],
   "source": [
    "# Build a forest and compute the feature importances\n",
    "rf_model = RandomForestClassifier(random_state=seedno)\n",
    "rf_model.fit(Xtr_scale, y_train)\n",
    "rf_feature_importances = rf_model.feature_importances_\n",
    "std = np.std([tree.feature_importances_ for tree in rf_model.estimators_],\n",
    "             axis=0)\n",
    "indices = np.argsort(rf_feature_importances)[::-1]"
   ]
  },
  {
   "cell_type": "code",
   "execution_count": 22,
   "metadata": {},
   "outputs": [
    {
     "name": "stdout",
     "output_type": "stream",
     "text": [
      "Feature ranking:\n",
      "1. feature 433 (0.011700)\n",
      "2. feature 405 (0.010283)\n",
      "3. feature 406 (0.010277)\n",
      "4. feature 427 (0.010126)\n",
      "5. feature 410 (0.009991)\n",
      "6. feature 155 (0.009828)\n",
      "7. feature 401 (0.009452)\n",
      "8. feature 543 (0.009400)\n",
      "9. feature 211 (0.009365)\n",
      "10. feature 377 (0.009353)\n",
      "11. feature 461 (0.009223)\n",
      "12. feature 375 (0.009112)\n",
      "13. feature 657 (0.008843)\n",
      "14. feature 407 (0.008550)\n",
      "15. feature 597 (0.008373)\n",
      "16. feature 432 (0.007631)\n",
      "17. feature 462 (0.007623)\n",
      "18. feature 486 (0.007524)\n",
      "19. feature 154 (0.007317)\n",
      "20. feature 541 (0.007008)\n",
      "21. feature 515 (0.006809)\n",
      "22. feature 430 (0.006806)\n",
      "23. feature 429 (0.006797)\n",
      "24. feature 378 (0.006719)\n",
      "25. feature 323 (0.006386)\n",
      "26. feature 514 (0.006318)\n",
      "27. feature 151 (0.006302)\n",
      "28. feature 516 (0.006276)\n",
      "29. feature 291 (0.006267)\n",
      "30. feature 431 (0.006192)\n",
      "31. feature 570 (0.005889)\n",
      "32. feature 428 (0.005857)\n",
      "33. feature 318 (0.005810)\n",
      "34. feature 436 (0.005789)\n",
      "35. feature 409 (0.005688)\n",
      "36. feature 290 (0.005640)\n",
      "37. feature 465 (0.005599)\n",
      "38. feature 153 (0.005585)\n",
      "39. feature 349 (0.005486)\n",
      "40. feature 488 (0.005457)\n",
      "41. feature 269 (0.005342)\n",
      "42. feature 353 (0.005299)\n",
      "43. feature 457 (0.005272)\n",
      "44. feature 319 (0.005268)\n",
      "45. feature 267 (0.005259)\n",
      "46. feature 374 (0.005249)\n",
      "47. feature 239 (0.005244)\n",
      "48. feature 351 (0.005180)\n",
      "49. feature 460 (0.005175)\n",
      "50. feature 271 (0.005152)\n",
      "51. feature 381 (0.005138)\n",
      "52. feature 568 (0.005120)\n",
      "53. feature 240 (0.005104)\n",
      "54. feature 270 (0.005041)\n",
      "55. feature 656 (0.005015)\n",
      "56. feature 373 (0.004975)\n",
      "57. feature 542 (0.004932)\n",
      "58. feature 625 (0.004892)\n",
      "59. feature 484 (0.004876)\n",
      "60. feature 157 (0.004759)\n",
      "61. feature 487 (0.004737)\n",
      "62. feature 272 (0.004640)\n",
      "63. feature 376 (0.004637)\n",
      "64. feature 352 (0.004631)\n",
      "65. feature 350 (0.004609)\n",
      "66. feature 403 (0.004608)\n",
      "67. feature 511 (0.004599)\n",
      "68. feature 156 (0.004590)\n",
      "69. feature 402 (0.004546)\n",
      "70. feature 209 (0.004435)\n",
      "71. feature 297 (0.004425)\n",
      "72. feature 264 (0.004405)\n",
      "73. feature 213 (0.004392)\n",
      "74. feature 181 (0.004352)\n",
      "75. feature 302 (0.004232)\n",
      "76. feature 325 (0.004177)\n",
      "77. feature 357 (0.004167)\n",
      "78. feature 626 (0.004114)\n",
      "79. feature 489 (0.004048)\n",
      "80. feature 241 (0.004047)\n",
      "81. feature 298 (0.004028)\n",
      "82. feature 262 (0.003910)\n",
      "83. feature 658 (0.003894)\n",
      "84. feature 522 (0.003878)\n",
      "85. feature 322 (0.003850)\n",
      "86. feature 521 (0.003840)\n",
      "87. feature 238 (0.003838)\n",
      "88. feature 210 (0.003836)\n",
      "89. feature 483 (0.003787)\n",
      "90. feature 212 (0.003786)\n",
      "91. feature 205 (0.003754)\n",
      "92. feature 187 (0.003753)\n",
      "93. feature 266 (0.003660)\n",
      "94. feature 571 (0.003659)\n",
      "95. feature 263 (0.003651)\n",
      "96. feature 185 (0.003646)\n",
      "97. feature 518 (0.003623)\n",
      "98. feature 347 (0.003610)\n",
      "99. feature 207 (0.003562)\n",
      "100. feature 490 (0.003551)\n",
      "101. feature 595 (0.003519)\n",
      "102. feature 177 (0.003517)\n",
      "103. feature 624 (0.003491)\n",
      "104. feature 295 (0.003478)\n",
      "105. feature 491 (0.003464)\n",
      "106. feature 296 (0.003405)\n",
      "107. feature 596 (0.003400)\n",
      "108. feature 513 (0.003289)\n",
      "109. feature 236 (0.003288)\n",
      "110. feature 434 (0.003149)\n",
      "111. feature 379 (0.003107)\n",
      "112. feature 660 (0.003092)\n",
      "113. feature 273 (0.003063)\n",
      "114. feature 459 (0.003052)\n",
      "115. feature 372 (0.003041)\n",
      "116. feature 180 (0.003036)\n",
      "117. feature 550 (0.003021)\n",
      "118. feature 235 (0.002988)\n",
      "119. feature 404 (0.002981)\n",
      "120. feature 573 (0.002973)\n",
      "121. feature 289 (0.002969)\n",
      "122. feature 328 (0.002949)\n",
      "123. feature 327 (0.002947)\n",
      "124. feature 101 (0.002933)\n",
      "125. feature 348 (0.002902)\n",
      "126. feature 242 (0.002897)\n",
      "127. feature 179 (0.002881)\n",
      "128. feature 321 (0.002872)\n",
      "129. feature 268 (0.002864)\n",
      "130. feature 183 (0.002840)\n",
      "131. feature 538 (0.002772)\n",
      "132. feature 628 (0.002748)\n",
      "133. feature 316 (0.002748)\n",
      "134. feature 215 (0.002743)\n",
      "135. feature 346 (0.002740)\n",
      "136. feature 517 (0.002721)\n",
      "137. feature 574 (0.002715)\n",
      "138. feature 380 (0.002715)\n",
      "139. feature 354 (0.002710)\n",
      "140. feature 371 (0.002691)\n",
      "141. feature 324 (0.002665)\n",
      "142. feature 400 (0.002647)\n",
      "143. feature 598 (0.002639)\n",
      "144. feature 576 (0.002633)\n",
      "145. feature 126 (0.002594)\n",
      "146. feature 382 (0.002554)\n",
      "147. feature 152 (0.002538)\n",
      "148. feature 326 (0.002506)\n",
      "149. feature 655 (0.002487)\n",
      "150. feature 245 (0.002486)\n",
      "151. feature 186 (0.002475)\n",
      "152. feature 493 (0.002440)\n",
      "153. feature 458 (0.002407)\n",
      "154. feature 317 (0.002396)\n",
      "155. feature 385 (0.002380)\n",
      "156. feature 244 (0.002365)\n",
      "157. feature 293 (0.002360)\n",
      "158. feature 124 (0.002351)\n",
      "159. feature 265 (0.002333)\n",
      "160. feature 634 (0.002321)\n",
      "161. feature 572 (0.002282)\n",
      "162. feature 208 (0.002281)\n",
      "163. feature 294 (0.002281)\n",
      "164. feature 439 (0.002261)\n",
      "165. feature 345 (0.002231)\n",
      "166. feature 623 (0.002205)\n",
      "167. feature 463 (0.002203)\n",
      "168. feature 544 (0.002178)\n",
      "169. feature 468 (0.002140)\n",
      "170. feature 631 (0.002131)\n",
      "171. feature 485 (0.002121)\n",
      "172. feature 189 (0.002114)\n",
      "173. feature 299 (0.002102)\n",
      "174. feature 408 (0.002094)\n",
      "175. feature 150 (0.002078)\n",
      "176. feature 355 (0.002035)\n",
      "177. feature 387 (0.002014)\n",
      "178. feature 158 (0.002008)\n",
      "179. feature 659 (0.002004)\n",
      "180. feature 512 (0.001990)\n",
      "181. feature 217 (0.001985)\n",
      "182. feature 237 (0.001985)\n",
      "183. feature 627 (0.001981)\n",
      "184. feature 464 (0.001972)\n",
      "185. feature 191 (0.001960)\n",
      "186. feature 182 (0.001942)\n",
      "187. feature 344 (0.001911)\n",
      "188. feature 569 (0.001910)\n",
      "189. feature 545 (0.001900)\n",
      "190. feature 243 (0.001880)\n",
      "191. feature 292 (0.001853)\n",
      "192. feature 567 (0.001844)\n",
      "193. feature 683 (0.001839)\n",
      "194. feature 159 (0.001831)\n",
      "195. feature 233 (0.001812)\n",
      "196. feature 320 (0.001797)\n",
      "197. feature 686 (0.001762)\n",
      "198. feature 546 (0.001744)\n",
      "199. feature 330 (0.001733)\n",
      "200. feature 654 (0.001727)\n",
      "201. feature 184 (0.001727)\n",
      "202. feature 435 (0.001713)\n",
      "203. feature 437 (0.001705)\n",
      "204. feature 261 (0.001702)\n",
      "205. feature 399 (0.001696)\n",
      "206. feature 552 (0.001695)\n",
      "207. feature 456 (0.001672)\n",
      "208. feature 234 (0.001664)\n",
      "209. feature 629 (0.001627)\n",
      "210. feature 440 (0.001621)\n",
      "211. feature 603 (0.001605)\n",
      "212. feature 711 (0.001601)\n",
      "213. feature 188 (0.001578)\n",
      "214. feature 602 (0.001564)\n",
      "215. feature 539 (0.001554)\n",
      "216. feature 600 (0.001546)\n",
      "217. feature 540 (0.001543)\n",
      "218. feature 214 (0.001537)\n",
      "219. feature 415 (0.001522)\n",
      "220. feature 519 (0.001509)\n",
      "221. feature 216 (0.001489)\n",
      "222. feature 547 (0.001481)\n",
      "223. feature 455 (0.001480)\n",
      "224. feature 441 (0.001452)\n",
      "225. feature 599 (0.001447)\n",
      "226. feature 712 (0.001444)\n",
      "227. feature 288 (0.001407)\n",
      "228. feature 438 (0.001379)\n",
      "229. feature 443 (0.001371)\n",
      "230. feature 652 (0.001353)\n",
      "231. feature 247 (0.001342)\n",
      "232. feature 411 (0.001338)\n",
      "233. feature 497 (0.001334)\n",
      "234. feature 495 (0.001325)\n",
      "235. feature 97 (0.001321)\n",
      "236. feature 383 (0.001313)\n",
      "237. feature 551 (0.001297)\n",
      "238. feature 123 (0.001295)\n",
      "239. feature 426 (0.001282)\n",
      "240. feature 492 (0.001274)\n",
      "241. feature 220 (0.001274)\n",
      "242. feature 300 (0.001271)\n",
      "243. feature 466 (0.001260)\n",
      "244. feature 553 (0.001250)\n",
      "245. feature 129 (0.001245)\n",
      "246. feature 682 (0.001244)\n",
      "247. feature 412 (0.001231)\n",
      "248. feature 384 (0.001225)\n",
      "249. feature 716 (0.001216)\n",
      "250. feature 630 (0.001214)\n",
      "251. feature 218 (0.001212)\n",
      "252. feature 103 (0.001192)\n",
      "253. feature 520 (0.001190)\n",
      "254. feature 358 (0.001178)\n",
      "255. feature 622 (0.001177)\n",
      "256. feature 122 (0.001176)\n",
      "257. feature 100 (0.001164)\n",
      "258. feature 681 (0.001163)\n",
      "259. feature 548 (0.001158)\n",
      "260. feature 301 (0.001153)\n",
      "261. feature 580 (0.001139)\n",
      "262. feature 606 (0.001133)\n",
      "263. feature 494 (0.001128)\n",
      "264. feature 653 (0.001127)\n",
      "265. feature 549 (0.001125)\n",
      "266. feature 204 (0.001091)\n",
      "267. feature 178 (0.001070)\n",
      "268. feature 356 (0.001067)\n",
      "269. feature 343 (0.001062)\n",
      "270. feature 149 (0.001032)\n",
      "271. feature 413 (0.001021)\n",
      "272. feature 232 (0.001019)\n",
      "273. feature 594 (0.001014)\n",
      "274. feature 470 (0.001011)\n",
      "275. feature 714 (0.001003)\n",
      "276. feature 601 (0.000996)\n",
      "277. feature 128 (0.000986)\n",
      "278. feature 575 (0.000981)\n",
      "279. feature 632 (0.000975)\n",
      "280. feature 577 (0.000974)\n",
      "281. feature 248 (0.000965)\n",
      "282. feature 607 (0.000964)\n",
      "283. feature 578 (0.000963)\n",
      "284. feature 510 (0.000958)\n",
      "285. feature 523 (0.000957)\n",
      "286. feature 260 (0.000952)\n",
      "287. feature 414 (0.000938)\n",
      "288. feature 579 (0.000935)\n",
      "289. feature 604 (0.000927)\n",
      "290. feature 342 (0.000922)\n",
      "291. feature 482 (0.000919)\n",
      "292. feature 176 (0.000910)\n",
      "293. feature 566 (0.000904)\n",
      "294. feature 717 (0.000896)\n",
      "295. feature 481 (0.000886)\n",
      "296. feature 315 (0.000867)\n",
      "297. feature 684 (0.000856)\n",
      "298. feature 710 (0.000848)\n",
      "299. feature 537 (0.000845)\n",
      "300. feature 581 (0.000838)\n",
      "301. feature 524 (0.000824)\n",
      "302. feature 206 (0.000816)\n",
      "303. feature 467 (0.000814)\n",
      "304. feature 454 (0.000805)\n",
      "305. feature 98 (0.000805)\n",
      "306. feature 102 (0.000805)\n",
      "307. feature 680 (0.000783)\n",
      "308. feature 370 (0.000755)\n",
      "309. feature 469 (0.000742)\n",
      "310. feature 661 (0.000737)\n",
      "311. feature 127 (0.000736)\n",
      "312. feature 605 (0.000727)\n",
      "313. feature 554 (0.000724)\n",
      "314. feature 685 (0.000723)\n",
      "315. feature 329 (0.000699)\n",
      "316. feature 662 (0.000692)\n",
      "317. feature 496 (0.000670)\n",
      "318. feature 633 (0.000665)\n",
      "319. feature 274 (0.000653)\n",
      "320. feature 96 (0.000646)\n",
      "321. feature 67 (0.000642)\n",
      "322. feature 386 (0.000634)\n",
      "323. feature 687 (0.000626)\n",
      "324. feature 287 (0.000602)\n",
      "325. feature 679 (0.000597)\n",
      "326. feature 709 (0.000585)\n",
      "327. feature 190 (0.000566)\n",
      "328. feature 246 (0.000565)\n",
      "329. feature 565 (0.000563)\n",
      "330. feature 526 (0.000545)\n",
      "331. feature 275 (0.000537)\n",
      "332. feature 203 (0.000517)\n",
      "333. feature 609 (0.000515)\n",
      "334. feature 219 (0.000513)\n",
      "335. feature 276 (0.000508)\n",
      "336. feature 161 (0.000502)\n",
      "337. feature 525 (0.000481)\n",
      "338. feature 331 (0.000479)\n",
      "339. feature 160 (0.000471)\n",
      "340. feature 688 (0.000468)\n",
      "341. feature 125 (0.000467)\n",
      "342. feature 715 (0.000465)\n",
      "343. feature 689 (0.000464)\n",
      "344. feature 104 (0.000460)\n",
      "345. feature 131 (0.000459)\n",
      "346. feature 303 (0.000455)\n",
      "347. feature 314 (0.000443)\n",
      "348. feature 583 (0.000442)\n",
      "349. feature 608 (0.000440)\n",
      "350. feature 635 (0.000436)\n",
      "351. feature 442 (0.000427)\n",
      "352. feature 231 (0.000420)\n",
      "353. feature 555 (0.000419)\n",
      "354. feature 498 (0.000402)\n",
      "355. feature 259 (0.000401)\n",
      "356. feature 313 (0.000401)\n",
      "357. feature 582 (0.000397)\n",
      "358. feature 398 (0.000389)\n",
      "359. feature 162 (0.000386)\n",
      "360. feature 453 (0.000380)\n",
      "361. feature 593 (0.000378)\n",
      "362. feature 663 (0.000377)\n",
      "363. feature 148 (0.000368)\n",
      "364. feature 258 (0.000364)\n",
      "365. feature 130 (0.000361)\n",
      "366. feature 257 (0.000360)\n",
      "367. feature 651 (0.000358)\n",
      "368. feature 499 (0.000350)\n",
      "369. feature 341 (0.000348)\n",
      "370. feature 713 (0.000342)\n",
      "371. feature 708 (0.000335)\n",
      "372. feature 690 (0.000333)\n",
      "373. feature 230 (0.000326)\n",
      "374. feature 509 (0.000320)\n",
      "375. feature 636 (0.000319)\n",
      "376. feature 500 (0.000318)\n",
      "377. feature 68 (0.000315)\n",
      "378. feature 202 (0.000314)\n",
      "379. feature 94 (0.000309)\n",
      "380. feature 650 (0.000307)\n",
      "381. feature 121 (0.000295)\n",
      "382. feature 304 (0.000293)\n",
      "383. feature 174 (0.000292)\n",
      "384. feature 718 (0.000291)\n",
      "385. feature 359 (0.000289)\n",
      "386. feature 425 (0.000281)\n",
      "387. feature 527 (0.000279)\n",
      "388. feature 286 (0.000274)\n",
      "389. feature 175 (0.000269)\n",
      "390. feature 249 (0.000263)\n",
      "391. feature 691 (0.000262)\n",
      "392. feature 637 (0.000253)\n",
      "393. feature 134 (0.000247)\n",
      "394. feature 105 (0.000239)\n",
      "395. feature 369 (0.000234)\n",
      "396. feature 99 (0.000230)\n",
      "397. feature 471 (0.000228)\n",
      "398. feature 707 (0.000224)\n",
      "399. feature 508 (0.000220)\n",
      "400. feature 610 (0.000214)\n",
      "401. feature 564 (0.000210)\n",
      "402. feature 388 (0.000208)\n",
      "403. feature 132 (0.000208)\n",
      "404. feature 173 (0.000207)\n",
      "405. feature 397 (0.000207)\n",
      "406. feature 664 (0.000201)\n",
      "407. feature 706 (0.000199)\n",
      "408. feature 95 (0.000199)\n",
      "409. feature 528 (0.000197)\n",
      "410. feature 133 (0.000193)\n",
      "411. feature 396 (0.000193)\n",
      "412. feature 285 (0.000187)\n",
      "413. feature 472 (0.000183)\n",
      "414. feature 621 (0.000182)\n",
      "415. feature 163 (0.000175)\n",
      "416. feature 312 (0.000173)\n",
      "417. feature 192 (0.000169)\n",
      "418. feature 229 (0.000165)\n",
      "419. feature 416 (0.000163)\n",
      "420. feature 592 (0.000162)\n",
      "421. feature 536 (0.000156)\n",
      "422. feature 277 (0.000151)\n",
      "423. feature 75 (0.000149)\n",
      "424. feature 93 (0.000147)\n",
      "425. feature 665 (0.000147)\n",
      "426. feature 147 (0.000146)\n",
      "427. feature 452 (0.000145)\n",
      "428. feature 201 (0.000144)\n",
      "429. feature 719 (0.000143)\n",
      "430. feature 742 (0.000142)\n",
      "431. feature 120 (0.000131)\n",
      "432. feature 556 (0.000123)\n",
      "433. feature 649 (0.000120)\n",
      "434. feature 743 (0.000119)\n",
      "435. feature 256 (0.000119)\n",
      "436. feature 92 (0.000115)\n",
      "437. feature 638 (0.000114)\n",
      "438. feature 424 (0.000112)\n",
      "439. feature 332 (0.000111)\n",
      "440. feature 666 (0.000110)\n",
      "441. feature 678 (0.000110)\n",
      "442. feature 692 (0.000109)\n",
      "443. feature 480 (0.000108)\n",
      "444. feature 591 (0.000108)\n",
      "445. feature 736 (0.000107)\n",
      "446. feature 740 (0.000104)\n",
      "447. feature 119 (0.000101)\n",
      "448. feature 360 (0.000097)\n",
      "449. feature 720 (0.000093)\n",
      "450. feature 620 (0.000093)\n",
      "451. feature 70 (0.000090)\n",
      "452. feature 612 (0.000090)\n",
      "453. feature 200 (0.000087)\n",
      "454. feature 146 (0.000081)\n",
      "455. feature 741 (0.000080)\n",
      "456. feature 145 (0.000076)\n",
      "457. feature 228 (0.000075)\n",
      "458. feature 745 (0.000074)\n",
      "459. feature 693 (0.000072)\n",
      "460. feature 71 (0.000072)\n",
      "461. feature 444 (0.000071)\n",
      "462. feature 73 (0.000068)\n",
      "463. feature 738 (0.000068)\n",
      "464. feature 164 (0.000068)\n",
      "465. feature 639 (0.000067)\n",
      "466. feature 746 (0.000066)\n",
      "467. feature 611 (0.000063)\n",
      "468. feature 584 (0.000060)\n",
      "469. feature 473 (0.000059)\n",
      "470. feature 535 (0.000059)\n",
      "471. feature 417 (0.000057)\n",
      "472. feature 135 (0.000057)\n",
      "473. feature 739 (0.000055)\n",
      "474. feature 284 (0.000055)\n",
      "475. feature 737 (0.000055)\n",
      "476. feature 340 (0.000053)\n",
      "477. feature 193 (0.000053)\n",
      "478. feature 507 (0.000053)\n",
      "479. feature 677 (0.000052)\n",
      "480. feature 445 (0.000052)\n",
      "481. feature 221 (0.000052)\n",
      "482. feature 137 (0.000050)\n",
      "483. feature 69 (0.000049)\n",
      "484. feature 305 (0.000048)\n",
      "485. feature 648 (0.000048)\n",
      "486. feature 479 (0.000047)\n",
      "487. feature 283 (0.000045)\n",
      "488. feature 74 (0.000044)\n",
      "489. feature 451 (0.000044)\n",
      "490. feature 368 (0.000043)\n",
      "491. feature 563 (0.000043)\n",
      "492. feature 501 (0.000042)\n",
      "493. feature 744 (0.000041)\n",
      "494. feature 748 (0.000041)\n",
      "495. feature 676 (0.000041)\n",
      "496. feature 557 (0.000041)\n",
      "497. feature 278 (0.000041)\n",
      "498. feature 118 (0.000040)\n",
      "499. feature 474 (0.000040)\n",
      "500. feature 66 (0.000040)\n",
      "501. feature 333 (0.000037)\n",
      "502. feature 250 (0.000035)\n",
      "503. feature 585 (0.000034)\n",
      "504. feature 172 (0.000034)\n",
      "505. feature 667 (0.000033)\n",
      "506. feature 63 (0.000032)\n",
      "507. feature 106 (0.000032)\n",
      "508. feature 619 (0.000032)\n",
      "509. feature 721 (0.000032)\n",
      "510. feature 136 (0.000029)\n",
      "511. feature 199 (0.000028)\n",
      "512. feature 423 (0.000027)\n",
      "513. feature 339 (0.000027)\n",
      "514. feature 227 (0.000026)\n",
      "515. feature 107 (0.000025)\n",
      "516. feature 749 (0.000025)\n",
      "517. feature 72 (0.000024)\n",
      "518. feature 306 (0.000023)\n",
      "519. feature 735 (0.000022)\n",
      "520. feature 502 (0.000021)\n",
      "521. feature 529 (0.000021)\n",
      "522. feature 647 (0.000019)\n",
      "523. feature 705 (0.000019)\n",
      "524. feature 76 (0.000018)\n",
      "525. feature 90 (0.000018)\n",
      "526. feature 675 (0.000018)\n",
      "527. feature 722 (0.000017)\n",
      "528. feature 171 (0.000017)\n",
      "529. feature 65 (0.000017)\n",
      "530. feature 361 (0.000016)\n",
      "531. feature 704 (0.000016)\n",
      "532. feature 362 (0.000016)\n",
      "533. feature 534 (0.000015)\n",
      "534. feature 223 (0.000015)\n",
      "535. feature 694 (0.000015)\n",
      "536. feature 558 (0.000014)\n",
      "537. feature 255 (0.000014)\n",
      "538. feature 505 (0.000014)\n",
      "539. feature 773 (0.000014)\n",
      "540. feature 117 (0.000013)\n",
      "541. feature 334 (0.000013)\n",
      "542. feature 91 (0.000013)\n",
      "543. feature 613 (0.000013)\n",
      "544. feature 734 (0.000013)\n",
      "545. feature 282 (0.000012)\n",
      "546. feature 194 (0.000011)\n",
      "547. feature 530 (0.000011)\n",
      "548. feature 506 (0.000011)\n",
      "549. feature 390 (0.000011)\n",
      "550. feature 62 (0.000011)\n",
      "551. feature 640 (0.000011)\n",
      "552. feature 165 (0.000010)\n",
      "553. feature 40 (0.000010)\n",
      "554. feature 389 (0.000010)\n",
      "555. feature 144 (0.000010)\n",
      "556. feature 562 (0.000010)\n",
      "557. feature 669 (0.000010)\n",
      "558. feature 77 (0.000010)\n",
      "559. feature 695 (0.000010)\n",
      "560. feature 590 (0.000010)\n",
      "561. feature 116 (0.000009)\n",
      "562. feature 446 (0.000009)\n",
      "563. feature 311 (0.000007)\n",
      "564. feature 51 (0.000007)\n",
      "565. feature 764 (0.000007)\n",
      "566. feature 668 (0.000007)\n",
      "567. feature 670 (0.000007)\n",
      "568. feature 41 (0.000007)\n",
      "569. feature 338 (0.000007)\n",
      "570. feature 703 (0.000007)\n",
      "571. feature 108 (0.000007)\n",
      "572. feature 733 (0.000007)\n",
      "573. feature 366 (0.000007)\n",
      "574. feature 747 (0.000007)\n",
      "575. feature 309 (0.000007)\n",
      "576. feature 169 (0.000007)\n",
      "577. feature 751 (0.000007)\n",
      "578. feature 166 (0.000006)\n",
      "579. feature 696 (0.000006)\n",
      "580. feature 64 (0.000006)\n",
      "581. feature 170 (0.000005)\n",
      "582. feature 618 (0.000005)\n",
      "583. feature 775 (0.000005)\n",
      "584. feature 222 (0.000004)\n",
      "585. feature 50 (0.000004)\n",
      "586. feature 475 (0.000004)\n",
      "587. feature 723 (0.000004)\n",
      "588. feature 477 (0.000004)\n",
      "589. feature 697 (0.000004)\n",
      "590. feature 641 (0.000004)\n",
      "591. feature 450 (0.000004)\n",
      "592. feature 395 (0.000004)\n",
      "593. feature 559 (0.000004)\n",
      "594. feature 78 (0.000003)\n",
      "595. feature 367 (0.000003)\n",
      "596. feature 251 (0.000003)\n",
      "597. feature 615 (0.000003)\n",
      "598. feature 36 (0.000003)\n",
      "599. feature 43 (0.000003)\n",
      "600. feature 226 (0.000003)\n",
      "601. feature 531 (0.000002)\n",
      "602. feature 768 (0.000001)\n",
      "603. feature 771 (0.000001)\n",
      "604. feature 783 (0.000000)\n",
      "605. feature 89 (0.000000)\n",
      "606. feature 24 (0.000000)\n",
      "607. feature 18 (0.000000)\n",
      "608. feature 19 (0.000000)\n",
      "609. feature 20 (0.000000)\n",
      "610. feature 21 (0.000000)\n",
      "611. feature 22 (0.000000)\n",
      "612. feature 23 (0.000000)\n",
      "613. feature 25 (0.000000)\n",
      "614. feature 88 (0.000000)\n",
      "615. feature 26 (0.000000)\n",
      "616. feature 27 (0.000000)\n",
      "617. feature 28 (0.000000)\n",
      "618. feature 29 (0.000000)\n",
      "619. feature 30 (0.000000)\n",
      "620. feature 31 (0.000000)\n",
      "621. feature 17 (0.000000)\n",
      "622. feature 16 (0.000000)\n",
      "623. feature 15 (0.000000)\n",
      "624. feature 14 (0.000000)\n",
      "625. feature 13 (0.000000)\n",
      "626. feature 12 (0.000000)\n",
      "627. feature 11 (0.000000)\n",
      "628. feature 10 (0.000000)\n",
      "629. feature 9 (0.000000)\n",
      "630. feature 8 (0.000000)\n",
      "631. feature 7 (0.000000)\n",
      "632. feature 6 (0.000000)\n",
      "633. feature 5 (0.000000)\n",
      "634. feature 4 (0.000000)\n",
      "635. feature 3 (0.000000)\n",
      "636. feature 2 (0.000000)\n",
      "637. feature 1 (0.000000)\n",
      "638. feature 32 (0.000000)\n",
      "639. feature 33 (0.000000)\n",
      "640. feature 34 (0.000000)\n",
      "641. feature 57 (0.000000)\n",
      "642. feature 87 (0.000000)\n",
      "643. feature 86 (0.000000)\n",
      "644. feature 85 (0.000000)\n",
      "645. feature 84 (0.000000)\n",
      "646. feature 83 (0.000000)\n",
      "647. feature 82 (0.000000)\n",
      "648. feature 81 (0.000000)\n",
      "649. feature 80 (0.000000)\n",
      "650. feature 79 (0.000000)\n",
      "651. feature 110 (0.000000)\n",
      "652. feature 61 (0.000000)\n",
      "653. feature 60 (0.000000)\n",
      "654. feature 59 (0.000000)\n",
      "655. feature 58 (0.000000)\n",
      "656. feature 56 (0.000000)\n",
      "657. feature 35 (0.000000)\n",
      "658. feature 55 (0.000000)\n",
      "659. feature 54 (0.000000)\n",
      "660. feature 53 (0.000000)\n",
      "661. feature 52 (0.000000)\n",
      "662. feature 49 (0.000000)\n",
      "663. feature 48 (0.000000)\n",
      "664. feature 47 (0.000000)\n",
      "665. feature 46 (0.000000)\n",
      "666. feature 45 (0.000000)\n",
      "667. feature 44 (0.000000)\n",
      "668. feature 42 (0.000000)\n",
      "669. feature 39 (0.000000)\n",
      "670. feature 38 (0.000000)\n",
      "671. feature 37 (0.000000)\n",
      "672. feature 109 (0.000000)\n",
      "673. feature 391 (0.000000)\n",
      "674. feature 111 (0.000000)\n",
      "675. feature 698 (0.000000)\n",
      "676. feature 730 (0.000000)\n",
      "677. feature 729 (0.000000)\n",
      "678. feature 728 (0.000000)\n",
      "679. feature 727 (0.000000)\n",
      "680. feature 726 (0.000000)\n",
      "681. feature 725 (0.000000)\n",
      "682. feature 724 (0.000000)\n",
      "683. feature 702 (0.000000)\n",
      "684. feature 701 (0.000000)\n",
      "685. feature 700 (0.000000)\n",
      "686. feature 699 (0.000000)\n",
      "687. feature 674 (0.000000)\n",
      "688. feature 732 (0.000000)\n",
      "689. feature 673 (0.000000)\n",
      "690. feature 672 (0.000000)\n",
      "691. feature 671 (0.000000)\n",
      "692. feature 646 (0.000000)\n",
      "693. feature 645 (0.000000)\n",
      "694. feature 644 (0.000000)\n",
      "695. feature 643 (0.000000)\n",
      "696. feature 642 (0.000000)\n",
      "697. feature 617 (0.000000)\n",
      "698. feature 616 (0.000000)\n",
      "699. feature 614 (0.000000)\n",
      "700. feature 731 (0.000000)\n",
      "701. feature 750 (0.000000)\n",
      "702. feature 588 (0.000000)\n",
      "703. feature 766 (0.000000)\n",
      "704. feature 781 (0.000000)\n",
      "705. feature 780 (0.000000)\n",
      "706. feature 779 (0.000000)\n",
      "707. feature 778 (0.000000)\n",
      "708. feature 777 (0.000000)\n",
      "709. feature 776 (0.000000)\n",
      "710. feature 774 (0.000000)\n",
      "711. feature 772 (0.000000)\n",
      "712. feature 770 (0.000000)\n",
      "713. feature 769 (0.000000)\n",
      "714. feature 767 (0.000000)\n",
      "715. feature 765 (0.000000)\n",
      "716. feature 752 (0.000000)\n",
      "717. feature 763 (0.000000)\n",
      "718. feature 762 (0.000000)\n",
      "719. feature 761 (0.000000)\n",
      "720. feature 760 (0.000000)\n",
      "721. feature 759 (0.000000)\n",
      "722. feature 758 (0.000000)\n",
      "723. feature 757 (0.000000)\n",
      "724. feature 756 (0.000000)\n",
      "725. feature 755 (0.000000)\n",
      "726. feature 754 (0.000000)\n",
      "727. feature 753 (0.000000)\n",
      "728. feature 589 (0.000000)\n",
      "729. feature 587 (0.000000)\n",
      "730. feature 112 (0.000000)\n",
      "731. feature 196 (0.000000)\n",
      "732. feature 307 (0.000000)\n",
      "733. feature 281 (0.000000)\n",
      "734. feature 280 (0.000000)\n",
      "735. feature 279 (0.000000)\n",
      "736. feature 254 (0.000000)\n",
      "737. feature 253 (0.000000)\n",
      "738. feature 252 (0.000000)\n",
      "739. feature 225 (0.000000)\n",
      "740. feature 224 (0.000000)\n",
      "741. feature 198 (0.000000)\n",
      "742. feature 197 (0.000000)\n",
      "743. feature 195 (0.000000)\n",
      "744. feature 310 (0.000000)\n",
      "745. feature 168 (0.000000)\n",
      "746. feature 167 (0.000000)\n",
      "747. feature 143 (0.000000)\n",
      "748. feature 142 (0.000000)\n",
      "749. feature 141 (0.000000)\n",
      "750. feature 140 (0.000000)\n",
      "751. feature 139 (0.000000)\n",
      "752. feature 138 (0.000000)\n",
      "753. feature 115 (0.000000)\n",
      "754. feature 114 (0.000000)\n",
      "755. feature 113 (0.000000)\n",
      "756. feature 308 (0.000000)\n",
      "757. feature 335 (0.000000)\n",
      "758. feature 586 (0.000000)\n",
      "759. feature 422 (0.000000)\n",
      "760. feature 561 (0.000000)\n",
      "761. feature 560 (0.000000)\n",
      "762. feature 533 (0.000000)\n",
      "763. feature 532 (0.000000)\n",
      "764. feature 504 (0.000000)\n",
      "765. feature 503 (0.000000)\n",
      "766. feature 478 (0.000000)\n",
      "767. feature 476 (0.000000)\n",
      "768. feature 449 (0.000000)\n",
      "769. feature 448 (0.000000)\n",
      "770. feature 447 (0.000000)\n",
      "771. feature 421 (0.000000)\n",
      "772. feature 336 (0.000000)\n",
      "773. feature 420 (0.000000)\n",
      "774. feature 419 (0.000000)\n",
      "775. feature 418 (0.000000)\n",
      "776. feature 394 (0.000000)\n",
      "777. feature 393 (0.000000)\n",
      "778. feature 392 (0.000000)\n",
      "779. feature 782 (0.000000)\n",
      "780. feature 365 (0.000000)\n",
      "781. feature 364 (0.000000)\n",
      "782. feature 363 (0.000000)\n",
      "783. feature 337 (0.000000)\n",
      "784. feature 0 (0.000000)\n"
     ]
    }
   ],
   "source": [
    "# Print the feature ranking\n",
    "print(\"Feature ranking:\")\n",
    "\n",
    "for f in range(Xtr_scale.shape[1]):\n",
    "    print(\"%d. feature %d (%f)\" % (f + 1, indices[f], rf_feature_importances[indices[f]]))"
   ]
  },
  {
   "cell_type": "code",
   "execution_count": 23,
   "metadata": {},
   "outputs": [
    {
     "data": {
      "image/png": "[encoded data removed]",
      "text/plain": [
       "<Figure size 432x288 with 1 Axes>"
      ]
     },
     "metadata": {},
     "output_type": "display_data"
    }
   ],
   "source": [
    "# Plot the feature importances of the forest\n",
    "plt.figure()\n",
    "plt.title(\"Feature importances\")\n",
    "plt.bar(range(Xtr_scale.shape[1]), rf_feature_importances[indices],\n",
    "       color=\"r\", yerr=std[indices], align=\"center\")\n",
    "#plt.xticks(range(Xtr_scale.shape[1]), indices)\n",
    "plt.xlim([-1, Xtr_scale.shape[1]])\n",
    "plt.xticks(np.arange(0,801,50))\n",
    "plt.show()"
   ]
  },
  {
   "cell_type": "code",
   "execution_count": 24,
   "metadata": {},
   "outputs": [
    {
     "data": {
      "image/png": "[encoded data removed]",
      "text/plain": [
       "<Figure size 432x288 with 1 Axes>"
      ]
     },
     "metadata": {},
     "output_type": "display_data"
    }
   ],
   "source": [
    "plt.imshow(rf_feature_importances.reshape((28,28)),cmap='Greys')\n",
    "plt.title('Mapping of Feature Importances to Pixels')\n",
    "plt.show()"
   ]
  },
  {
   "cell_type": "markdown",
   "metadata": {},
   "source": [
    "We explored feature selection using random forest."
   ]
  },
  {
   "cell_type": "code",
   "execution_count": 25,
   "metadata": {},
   "outputs": [
    {
     "data": {
      "text/plain": [
       "RFECV(cv=StratifiedKFold(n_splits=3, random_state=18704, shuffle=False),\n",
       "   estimator=RandomForestClassifier(bootstrap=True, class_weight=None, criterion='gini',\n",
       "            max_depth=None, max_features='auto', max_leaf_nodes=None,\n",
       "            min_impurity_decrease=0.0, min_impurity_split=None,\n",
       "            min_samples_leaf=1, min_samples_split=2,\n",
       "            min_weight_fraction_leaf=0.0, n_estimators=10, n_jobs=1,\n",
       "            oob_score=False, random_state=18704, verbose=0,\n",
       "            warm_start=False),\n",
       "   n_jobs=1, scoring='accuracy', step=1, verbose=0)"
      ]
     },
     "execution_count": 25,
     "metadata": {},
     "output_type": "execute_result"
    }
   ],
   "source": [
    "from sklearn.feature_selection import RFECV\n",
    "rf_model = RandomForestClassifier(random_state=seedno)\n",
    "rfecv = RFECV(estimator = rf_model, step=1, cv=skfold, scoring='accuracy')\n",
    "rfecv.fit(Xtr_scale, y_train)"
   ]
  },
  {
   "cell_type": "code",
   "execution_count": 26,
   "metadata": {},
   "outputs": [
    {
     "data": {
      "image/png": "[encoded data removed]",
      "text/plain": [
       "<Figure size 432x288 with 1 Axes>"
      ]
     },
     "metadata": {},
     "output_type": "display_data"
    }
   ],
   "source": [
    "plt.figure()\n",
    "plt.title('RandomForest CV Score vs No of Features')\n",
    "plt.xlabel('Number of Features Selected')\n",
    "plt.ylabel('Cross Validation Score')\n",
    "plt.plot(range(1, len(rfecv.grid_scores_) + 1),rfecv.grid_scores_)\n",
    "plt.show()"
   ]
  },
  {
   "cell_type": "code",
   "execution_count": 27,
   "metadata": {},
   "outputs": [],
   "source": [
    "fimpt_boolean = np.array(list(zip(Xtr_scale,rfecv.support_)))\n",
    "fimpt_boolean = np.array(fimpt_boolean[:,1].astype(bool))"
   ]
  },
  {
   "cell_type": "code",
   "execution_count": 28,
   "metadata": {},
   "outputs": [],
   "source": [
    "X_new = Xtr_scale[:,fimpt_boolean]\n",
    "initial_score = cross_val_score(rf_model, Xtr_scale, y_train, cv=skfold, scoring='accuracy').mean()\n",
    "new_score = cross_val_score(rf_model, X_new, y_train, cv=skfold, scoring='accuracy').mean()"
   ]
  },
  {
   "cell_type": "code",
   "execution_count": 29,
   "metadata": {},
   "outputs": [
    {
     "name": "stdout",
     "output_type": "stream",
     "text": [
      "Initial Accuracy : 0.9406501153750094 \n",
      "Accuracy after Feature Selection : 0.9401333203925896 \n",
      "Retained 545 features of 784\n"
     ]
    }
   ],
   "source": [
    "print(\"Initial Accuracy : {} \".format(initial_score))\n",
    "print(\"Accuracy after Feature Selection : {} \".format(new_score))\n",
    "print(\"Retained %d features of %d\" % (np.count_nonzero(fimpt_boolean), len(fimpt_boolean)))"
   ]
  },
  {
   "cell_type": "markdown",
   "metadata": {},
   "source": [
    "Based on the above, random forests had achieved slightly better results with feature selection."
   ]
  },
  {
   "cell_type": "markdown",
   "metadata": {},
   "source": [
    "#### Model Parameters"
   ]
  },
  {
   "cell_type": "code",
   "execution_count": 30,
   "metadata": {},
   "outputs": [
    {
     "data": {
      "text/plain": [
       "GridSearchCV(cv=10, error_score='raise',\n",
       "       estimator=RandomForestClassifier(bootstrap=True, class_weight=None, criterion='gini',\n",
       "            max_depth=None, max_features='auto', max_leaf_nodes=None,\n",
       "            min_impurity_decrease=0.0, min_impurity_split=None,\n",
       "            min_samples_leaf=1, min_samples_split=2,\n",
       "            min_weight_fraction_leaf=0.0, n_estimators=10, n_jobs=1,\n",
       "            oob_score=False, random_state=18704, verbose=0,\n",
       "            warm_start=False),\n",
       "       fit_params=None, iid=True, n_jobs=1,\n",
       "       param_grid=[{'n_estimators': [3, 10, 30], 'max_features': [2, 4, 6, 8]}, {'bootstrap': [False], 'n_estimators': [3, 10], 'max_features': [2, 3, 4]}],\n",
       "       pre_dispatch='2*n_jobs', refit=True, return_train_score=True,\n",
       "       scoring='accuracy', verbose=0)"
      ]
     },
     "execution_count": 30,
     "metadata": {},
     "output_type": "execute_result"
    }
   ],
   "source": [
    "from sklearn.model_selection import GridSearchCV\n",
    "\n",
    "rfr_param_grid = [\n",
    "    {'n_estimators': [3, 10, 30], 'max_features': [2, 4, 6, 8]},\n",
    "    {'bootstrap': [False], 'n_estimators': [3, 10], 'max_features': [2, 3, 4]},\n",
    "  ]\n",
    "\n",
    "grid_search = GridSearchCV(rf_model, rfr_param_grid, cv=10,\n",
    "                           scoring='accuracy', return_train_score=True)\n",
    "grid_search.fit(X_new, y_train)"
   ]
  },
  {
   "cell_type": "markdown",
   "metadata": {},
   "source": [
    "The best hyperparameter combination found:"
   ]
  },
  {
   "cell_type": "code",
   "execution_count": 31,
   "metadata": {},
   "outputs": [
    {
     "data": {
      "text/plain": [
       "{'max_features': 8, 'n_estimators': 30}"
      ]
     },
     "execution_count": 31,
     "metadata": {},
     "output_type": "execute_result"
    }
   ],
   "source": [
    "grid_search.best_params_"
   ]
  },
  {
   "cell_type": "code",
   "execution_count": 32,
   "metadata": {},
   "outputs": [
    {
     "data": {
      "text/plain": [
       "RandomForestClassifier(bootstrap=True, class_weight=None, criterion='gini',\n",
       "            max_depth=None, max_features=8, max_leaf_nodes=None,\n",
       "            min_impurity_decrease=0.0, min_impurity_split=None,\n",
       "            min_samples_leaf=1, min_samples_split=2,\n",
       "            min_weight_fraction_leaf=0.0, n_estimators=30, n_jobs=1,\n",
       "            oob_score=False, random_state=18704, verbose=0,\n",
       "            warm_start=False)"
      ]
     },
     "execution_count": 32,
     "metadata": {},
     "output_type": "execute_result"
    }
   ],
   "source": [
    "grid_search.best_estimator_"
   ]
  },
  {
   "cell_type": "markdown",
   "metadata": {},
   "source": [
    "Let's look at the score of each hyperparameter combination tested during the grid search:"
   ]
  },
  {
   "cell_type": "code",
   "execution_count": 33,
   "metadata": {},
   "outputs": [
    {
     "name": "stdout",
     "output_type": "stream",
     "text": [
      "0.79585 {'max_features': 2, 'n_estimators': 3}\n",
      "0.9137333333333333 {'max_features': 2, 'n_estimators': 10}\n",
      "0.9484333333333334 {'max_features': 2, 'n_estimators': 30}\n",
      "0.8251333333333334 {'max_features': 4, 'n_estimators': 3}\n",
      "0.9272666666666667 {'max_features': 4, 'n_estimators': 10}\n",
      "0.9543 {'max_features': 4, 'n_estimators': 30}\n",
      "0.8413333333333334 {'max_features': 6, 'n_estimators': 3}\n",
      "0.9336 {'max_features': 6, 'n_estimators': 10}\n",
      "0.9571666666666667 {'max_features': 6, 'n_estimators': 30}\n",
      "0.85135 {'max_features': 8, 'n_estimators': 3}\n",
      "0.93635 {'max_features': 8, 'n_estimators': 10}\n",
      "0.9579333333333333 {'max_features': 8, 'n_estimators': 30}\n",
      "0.8183666666666667 {'bootstrap': False, 'max_features': 2, 'n_estimators': 3}\n",
      "0.924 {'bootstrap': False, 'max_features': 2, 'n_estimators': 10}\n",
      "0.8349 {'bootstrap': False, 'max_features': 3, 'n_estimators': 3}\n",
      "0.9313666666666667 {'bootstrap': False, 'max_features': 3, 'n_estimators': 10}\n",
      "0.84295 {'bootstrap': False, 'max_features': 4, 'n_estimators': 3}\n",
      "0.9350666666666667 {'bootstrap': False, 'max_features': 4, 'n_estimators': 10}\n"
     ]
    }
   ],
   "source": [
    "gs_res = grid_search.cv_results_\n",
    "for mean_score, params in zip(gs_res[\"mean_test_score\"], gs_res[\"params\"]):\n",
    "    print(mean_score, params)"
   ]
  },
  {
   "cell_type": "markdown",
   "metadata": {},
   "source": [
    "We try using randomized seach cv to see if the performance can be improved."
   ]
  },
  {
   "cell_type": "code",
   "execution_count": 34,
   "metadata": {},
   "outputs": [
    {
     "data": {
      "text/plain": [
       "RandomizedSearchCV(cv=10, error_score='raise',\n",
       "          estimator=RandomForestClassifier(bootstrap=True, class_weight=None, criterion='gini',\n",
       "            max_depth=None, max_features='auto', max_leaf_nodes=None,\n",
       "            min_impurity_decrease=0.0, min_impurity_split=None,\n",
       "            min_samples_leaf=1, min_samples_split=2,\n",
       "            min_weight_fraction_leaf=0.0, n_estimators=10, n_jobs=1,\n",
       "            oob_score=False, random_state=18704, verbose=0,\n",
       "            warm_start=False),\n",
       "          fit_params=None, iid=True, n_iter=10, n_jobs=1,\n",
       "          param_distributions={'n_estimators': <scipy.stats._distn_infrastructure.rv_frozen object at 0x1141b1358>, 'max_features': <scipy.stats._distn_infrastructure.rv_frozen object at 0x1142b1780>},\n",
       "          pre_dispatch='2*n_jobs', random_state=18704, refit=True,\n",
       "          return_train_score='warn', scoring='accuracy', verbose=0)"
      ]
     },
     "execution_count": 34,
     "metadata": {},
     "output_type": "execute_result"
    }
   ],
   "source": [
    "from sklearn.model_selection import RandomizedSearchCV\n",
    "from scipy.stats import randint\n",
    "\n",
    "rfr_distr = {\n",
    "        'n_estimators': randint(low=1, high=50),\n",
    "        'max_features': randint(low=1, high=10),\n",
    "    }\n",
    "\n",
    "rnd_search = RandomizedSearchCV(rf_model, param_distributions=rfr_distr,\n",
    "                                n_iter=10, cv=10, scoring='accuracy',random_state=seedno)\n",
    "rnd_search.fit(X_new, y_train)"
   ]
  },
  {
   "cell_type": "code",
   "execution_count": 35,
   "metadata": {},
   "outputs": [
    {
     "name": "stdout",
     "output_type": "stream",
     "text": [
      "0.9546833333333333 {'max_features': 4, 'n_estimators': 31}\n",
      "0.9496 {'max_features': 6, 'n_estimators': 19}\n",
      "0.9500666666666666 {'max_features': 1, 'n_estimators': 45}\n",
      "0.94835 {'max_features': 1, 'n_estimators': 39}\n",
      "0.9452666666666667 {'max_features': 4, 'n_estimators': 18}\n",
      "0.9564166666666667 {'max_features': 8, 'n_estimators': 26}\n",
      "0.95765 {'max_features': 6, 'n_estimators': 31}\n",
      "0.9561333333333333 {'max_features': 3, 'n_estimators': 44}\n",
      "0.9554166666666667 {'max_features': 6, 'n_estimators': 26}\n",
      "0.9461166666666667 {'max_features': 5, 'n_estimators': 18}\n"
     ]
    }
   ],
   "source": [
    "rs_res = rnd_search.cv_results_\n",
    "for mean_score, params in zip(rs_res[\"mean_test_score\"], rs_res[\"params\"]):\n",
    "    print(mean_score, params)"
   ]
  },
  {
   "cell_type": "code",
   "execution_count": 36,
   "metadata": {},
   "outputs": [
    {
     "data": {
      "text/plain": [
       "{'max_features': 6, 'n_estimators': 31}"
      ]
     },
     "execution_count": 36,
     "metadata": {},
     "output_type": "execute_result"
    }
   ],
   "source": [
    "rnd_search.best_params_"
   ]
  },
  {
   "cell_type": "code",
   "execution_count": 37,
   "metadata": {},
   "outputs": [
    {
     "data": {
      "text/plain": [
       "RandomForestClassifier(bootstrap=True, class_weight=None, criterion='gini',\n",
       "            max_depth=None, max_features=6, max_leaf_nodes=None,\n",
       "            min_impurity_decrease=0.0, min_impurity_split=None,\n",
       "            min_samples_leaf=1, min_samples_split=2,\n",
       "            min_weight_fraction_leaf=0.0, n_estimators=31, n_jobs=1,\n",
       "            oob_score=False, random_state=18704, verbose=0,\n",
       "            warm_start=False)"
      ]
     },
     "execution_count": 37,
     "metadata": {},
     "output_type": "execute_result"
    }
   ],
   "source": [
    "rnd_search.best_estimator_"
   ]
  },
  {
   "cell_type": "markdown",
   "metadata": {},
   "source": [
    "The random search achieved a better accuracy score at a much shorter runtime. This is likely to be because in grid search we search through the entire grid of parameters. In order to manage run time, we select a smaller subset of possible combinations. On the other hand random search can cover a larger base, and yet with the capability to set the number of iterations we can reduce runtime."
   ]
  },
  {
   "cell_type": "code",
   "execution_count": 38,
   "metadata": {},
   "outputs": [
    {
     "name": "stdout",
     "output_type": "stream",
     "text": [
      "Initial Score: 0.9452999647418027\n",
      "RFECV Score: 0.9442170783843704\n",
      "Random Search Best Score: 0.9550664695064134\n",
      "RFECV RS Score: 0.9576499201405119\n"
     ]
    }
   ],
   "source": [
    "rfr=RandomForestClassifier(random_state=seedno)\n",
    "rnd_rfr=RandomForestClassifier(**rnd_search.best_params_,random_state=seedno)\n",
    "\n",
    "initial_score=cross_val_score(rfr,X=X_train, y=y_train,cv=10,scoring='accuracy').mean()\n",
    "print('Initial Score: {}'.format(initial_score))\n",
    "      \n",
    "rfecv_score=cross_val_score(rfr,X=X_new, y=y_train,cv=10,scoring='accuracy').mean()\n",
    "print('RFECV Score: {}'.format(rfecv_score))\n",
    " \n",
    "rndsearch_score=cross_val_score(rnd_rfr,X=X_train, y=y_train,cv=10,scoring='accuracy').mean()\n",
    "print('Random Search Best Score: {}'.format(rndsearch_score))\n",
    "\n",
    "rnd_rfecv_score=cross_val_score(rnd_rfr,X=X_new,y=y_train,cv=10,scoring='accuracy').mean()\n",
    "print('RFECV RS Score: {}'.format(rnd_rfecv_score))"
   ]
  },
  {
   "cell_type": "code",
   "execution_count": 39,
   "metadata": {},
   "outputs": [
    {
     "data": {
      "text/plain": [
       "0.9593"
      ]
     },
     "metadata": {},
     "output_type": "display_data"
    }
   ],
   "source": [
    "from sklearn.metrics import accuracy_score\n",
    "Xte_scale = np.true_divide(X_test, 255)\n",
    "Xte_new=Xte_scale[:,fimpt_boolean]\n",
    "rnd_rfr.fit(X_new, y_train)\n",
    "y_pred = rnd_rfr.predict(Xte_new)\n",
    "rnd_rfr_score = accuracy_score(y_test, y_pred)\n",
    "display(rnd_rfr_score)"
   ]
  },
  {
   "cell_type": "markdown",
   "metadata": {},
   "source": [
    "The model improved from 94.07% when we first ran RandomForestClassifier to 96.3%! Great!"
   ]
  },
  {
   "cell_type": "code",
   "execution_count": 40,
   "metadata": {},
   "outputs": [
    {
     "name": "stdout",
     "output_type": "stream",
     "text": [
      "Thanks for spending your time on this code! Total time taken (in mins):\n"
     ]
    },
    {
     "data": {
      "text/plain": [
       "552.9880541364352"
      ]
     },
     "metadata": {},
     "output_type": "display_data"
    }
   ],
   "source": [
    "print('Thanks for spending your time on this code! Total time taken (in mins):')\n",
    "display((time.time()-nbstarttime)/60)"
   ]
  },
  {
   "cell_type": "markdown",
   "metadata": {},
   "source": [
    "The End!"
   ]
  }
 ],
 "metadata": {
  "kernelspec": {
   "display_name": "Python 3",
   "language": "python",
   "name": "python3"
  },
  "language_info": {
   "codemirror_mode": {
    "name": "ipython",
    "version": 3
   },
   "file_extension": ".py",
   "mimetype": "text/x-python",
   "name": "python",
   "nbconvert_exporter": "python",
   "pygments_lexer": "ipython3",
   "version": "3.6.5"
  }
 },
 "nbformat": 4,
 "nbformat_minor": 2
}
