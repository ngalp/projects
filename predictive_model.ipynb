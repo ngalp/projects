{
 "cells": [
  {
   "cell_type": "markdown",
   "metadata": {},
   "source": [
    "# Predicting purchases using scikit-learn"
   ]
  },
  {
   "cell_type": "markdown",
   "metadata": {},
   "source": [
    "For this project, the aim is to predict purchases using the target field TargetBuy (Organics Purchase Indicator). \n",
    "\n",
    "This python notebook covers:\n",
    "\n",
    "Preparing the environment\n",
    "* Setting up the python environment, loading necessary libraries\n",
    "* Loading the dataset\n",
    "\n",
    "Analysing the Data\n",
    "* Defining a custom function for plotting bars with custom formatting to be used in data exploration\n",
    "* <ins>Exploring the data</ins>: checking for missing values, statistics and distribution of the target variable\n",
    "* <ins>Cleaning and preparing the data</ins>: dropping columns, dealing with missing data, replace values, create dummy variables\n",
    "* Splitting training and test data, inpute missing data where relevant\n",
    "\n",
    "Predicting the Data\n",
    "* <ins>Modelling with various sklearn (scikit-learn) models</ins>: \n",
    "```\n",
    "    1. Logistic Regression\n",
    "    2. SGD (Stocastic Gradient Descent/ Linear SVM) Classifier\n",
    "    3. Decision Tree Classifier\n",
    "    4. KNeighborsClassifier\n",
    "    5. SVC (Support Vector Classfier)\n",
    "    6. Linear SVC\n",
    "    7. Gaussian NB (Naive Bayes)\n",
    "    8. Random Forest Classifier\n",
    "    9. Gradient Boosting Classifier\n",
    "    10. MLP (Multi-layer Perceptron) Classifier\n",
    "```\n",
    "* Model Evaluation with f1 score"
   ]
  },
  {
   "cell_type": "markdown",
   "metadata": {},
   "source": [
    "### 1. Setting up the environment"
   ]
  },
  {
   "cell_type": "code",
   "execution_count": 1,
   "metadata": {},
   "outputs": [],
   "source": [
    "# Load necessary libraries for data exploration\n",
    "import time\n",
    "import numpy as np\n",
    "import pandas as pd\n",
    "from pandas.plotting import scatter_matrix\n",
    "import matplotlib\n",
    "import matplotlib.pyplot as plt\n",
    "%matplotlib inline\n",
    "import seaborn as sns\n",
    "\n",
    "# Set seed for replicability.\n",
    "seedno = 18704\n",
    "np.random.seed(seedno)\n",
    "\n",
    "# Set nb run start time to compute total runtime\n",
    "nbstarttime= time.time()\n",
    "\n",
    "# Define float display to 4 decimal places\n",
    "pd.options.display.float_format = '{:,.4f}'.format"
   ]
  },
  {
   "cell_type": "markdown",
   "metadata": {},
   "source": [
    "### 2. Define custom function"
   ]
  },
  {
   "cell_type": "code",
   "execution_count": 2,
   "metadata": {},
   "outputs": [],
   "source": [
    "#define plotting function to allow for custom colour scheme and formatting using seaborn\n",
    "def plot_bars(attribute,setpalette='Spectral',setrotation=0,showlabels=True,sortvalue='ascending',sortcount=None,typeas=str):\n",
    "    sns.set(style=\"whitegrid\")\n",
    "# Store frequency counts of each label where unique is the label and counts is its frequency\n",
    "    unique, counts = np.unique(attribute.astype(typeas), return_counts=True)\n",
    "    unique_counts = pd.DataFrame({'Value': unique, 'Count': counts})\n",
    "    if sortvalue == 'descending':\n",
    "        unique_counts = unique_counts.sort_values('Value', ascending=False)\n",
    "    if sortvalue == 'ascending':\n",
    "        unique_counts = unique_counts.sort_values('Value', ascending=True)\n",
    "    if sortcount == 'descending':\n",
    "        unique_counts = unique_counts.sort_values('Count', ascending=False)\n",
    "    if sortcount == 'ascending':\n",
    "        unique_counts = unique_counts.sort_values('Count', ascending=True)\n",
    "\n",
    "# plot frequency counts\n",
    "    fig, ax = plt.subplots(figsize=(15,5))\n",
    "    ax = sns.barplot(x=\"Value\", y=\"Count\", data=unique_counts,palette=setpalette)\n",
    "    if showlabels==True:\n",
    "        for p in ax.patches:\n",
    "            height = p.get_height()\n",
    "            ax.text(p.get_x()+p.get_width()/2.,\n",
    "            height + 3,\n",
    "            '{:1.2f}'.format(height),\n",
    "            ha=\"center\") \n",
    "    plt.setp(ax.get_xticklabels(), rotation=setrotation)\n",
    "    plt.show()"
   ]
  },
  {
   "cell_type": "markdown",
   "metadata": {},
   "source": [
    "### 3. Loading the Dataset\n",
    "\n",
    "We first load the dataset into a pandas dataframe. We also create and work on a copy of the dataframe so we do not amend and can retrieve the source values if we so require."
   ]
  },
  {
   "cell_type": "code",
   "execution_count": 3,
   "metadata": {},
   "outputs": [],
   "source": [
    "organics = pd.read_csv('organics.csv')"
   ]
  },
  {
   "cell_type": "code",
   "execution_count": 4,
   "metadata": {},
   "outputs": [],
   "source": [
    "organics_source = organics.copy"
   ]
  },
  {
   "cell_type": "markdown",
   "metadata": {},
   "source": [
    "### 4. Exploring Data\n",
    "\n",
    "#### Rows and Columns\n",
    "\n",
    "In order to understand the data, we look at its shape and columns. There are 22223 records and 15 attributes."
   ]
  },
  {
   "cell_type": "code",
   "execution_count": 5,
   "metadata": {},
   "outputs": [
    {
     "data": {
      "text/plain": [
       "(22223, 15)"
      ]
     },
     "metadata": {},
     "output_type": "display_data"
    },
    {
     "data": {
      "text/html": [
       "<div>\n",
       "<style scoped>\n",
       "    .dataframe tbody tr th:only-of-type {\n",
       "        vertical-align: middle;\n",
       "    }\n",
       "\n",
       "    .dataframe tbody tr th {\n",
       "        vertical-align: top;\n",
       "    }\n",
       "\n",
       "    .dataframe thead th {\n",
       "        text-align: right;\n",
       "    }\n",
       "</style>\n",
       "<table border=\"1\" class=\"dataframe\">\n",
       "  <thead>\n",
       "    <tr style=\"text-align: right;\">\n",
       "      <th></th>\n",
       "      <th>Customer Loyalty ID</th>\n",
       "      <th>Gender</th>\n",
       "      <th>Geographic Region</th>\n",
       "      <th>Loyalty Status</th>\n",
       "      <th>Neigborhood Cluster-55 Level</th>\n",
       "      <th>Neighborhood Cluster-7 Level</th>\n",
       "      <th>Television Region</th>\n",
       "      <th>Affluence Grade</th>\n",
       "      <th>Age</th>\n",
       "      <th>Frequency</th>\n",
       "      <th>Frequency Percent</th>\n",
       "      <th>Loyalty Card Tenure</th>\n",
       "      <th>Organics Purchase Count</th>\n",
       "      <th>Organics Purchase Indicator</th>\n",
       "      <th>Total Spend</th>\n",
       "    </tr>\n",
       "  </thead>\n",
       "  <tbody>\n",
       "    <tr>\n",
       "      <th>0</th>\n",
       "      <td>140</td>\n",
       "      <td>U</td>\n",
       "      <td>Midlands</td>\n",
       "      <td>Gold</td>\n",
       "      <td>16.0000</td>\n",
       "      <td>C</td>\n",
       "      <td>Wales &amp; West</td>\n",
       "      <td>10</td>\n",
       "      <td>76</td>\n",
       "      <td>1</td>\n",
       "      <td>0.00%</td>\n",
       "      <td>4</td>\n",
       "      <td>0</td>\n",
       "      <td>0</td>\n",
       "      <td>16,000.0000</td>\n",
       "    </tr>\n",
       "    <tr>\n",
       "      <th>1</th>\n",
       "      <td>620</td>\n",
       "      <td>U</td>\n",
       "      <td>Midlands</td>\n",
       "      <td>Gold</td>\n",
       "      <td>35.0000</td>\n",
       "      <td>D</td>\n",
       "      <td>Wales &amp; West</td>\n",
       "      <td>4</td>\n",
       "      <td>49</td>\n",
       "      <td>1</td>\n",
       "      <td>0.00%</td>\n",
       "      <td>5</td>\n",
       "      <td>0</td>\n",
       "      <td>0</td>\n",
       "      <td>6,000.0000</td>\n",
       "    </tr>\n",
       "    <tr>\n",
       "      <th>2</th>\n",
       "      <td>868</td>\n",
       "      <td>F</td>\n",
       "      <td>Midlands</td>\n",
       "      <td>Silver</td>\n",
       "      <td>27.0000</td>\n",
       "      <td>D</td>\n",
       "      <td>Wales &amp; West</td>\n",
       "      <td>5</td>\n",
       "      <td>70</td>\n",
       "      <td>1</td>\n",
       "      <td>0.00%</td>\n",
       "      <td>8</td>\n",
       "      <td>1</td>\n",
       "      <td>1</td>\n",
       "      <td>0.0200</td>\n",
       "    </tr>\n",
       "    <tr>\n",
       "      <th>3</th>\n",
       "      <td>1120</td>\n",
       "      <td>M</td>\n",
       "      <td>Midlands</td>\n",
       "      <td>Tin</td>\n",
       "      <td>51.0000</td>\n",
       "      <td>F</td>\n",
       "      <td>Midlands</td>\n",
       "      <td>10</td>\n",
       "      <td>65</td>\n",
       "      <td>1</td>\n",
       "      <td>0.00%</td>\n",
       "      <td>7</td>\n",
       "      <td>1</td>\n",
       "      <td>1</td>\n",
       "      <td>0.0100</td>\n",
       "    </tr>\n",
       "    <tr>\n",
       "      <th>4</th>\n",
       "      <td>2313</td>\n",
       "      <td>F</td>\n",
       "      <td>Midlands</td>\n",
       "      <td>Tin</td>\n",
       "      <td>4.0000</td>\n",
       "      <td>A</td>\n",
       "      <td>Midlands</td>\n",
       "      <td>11</td>\n",
       "      <td>68</td>\n",
       "      <td>1</td>\n",
       "      <td>0.00%</td>\n",
       "      <td>8</td>\n",
       "      <td>0</td>\n",
       "      <td>0</td>\n",
       "      <td>0.0100</td>\n",
       "    </tr>\n",
       "  </tbody>\n",
       "</table>\n",
       "</div>"
      ],
      "text/plain": [
       "   Customer Loyalty ID Gender Geographic Region Loyalty Status  \\\n",
       "0                  140      U          Midlands           Gold   \n",
       "1                  620      U          Midlands           Gold   \n",
       "2                  868      F          Midlands         Silver   \n",
       "3                 1120      M          Midlands            Tin   \n",
       "4                 2313      F          Midlands            Tin   \n",
       "\n",
       "   Neigborhood Cluster-55 Level Neighborhood Cluster-7 Level  \\\n",
       "0                       16.0000                            C   \n",
       "1                       35.0000                            D   \n",
       "2                       27.0000                            D   \n",
       "3                       51.0000                            F   \n",
       "4                        4.0000                            A   \n",
       "\n",
       "  Television Region Affluence Grade Age  Frequency Frequency Percent  \\\n",
       "0      Wales & West              10  76          1             0.00%   \n",
       "1      Wales & West               4  49          1             0.00%   \n",
       "2      Wales & West               5  70          1             0.00%   \n",
       "3          Midlands              10  65          1             0.00%   \n",
       "4          Midlands              11  68          1             0.00%   \n",
       "\n",
       "  Loyalty Card Tenure  Organics Purchase Count  Organics Purchase Indicator  \\\n",
       "0                   4                        0                            0   \n",
       "1                   5                        0                            0   \n",
       "2                   8                        1                            1   \n",
       "3                   7                        1                            1   \n",
       "4                   8                        0                            0   \n",
       "\n",
       "   Total Spend  \n",
       "0  16,000.0000  \n",
       "1   6,000.0000  \n",
       "2       0.0200  \n",
       "3       0.0100  \n",
       "4       0.0100  "
      ]
     },
     "metadata": {},
     "output_type": "display_data"
    }
   ],
   "source": [
    "display(organics.shape)\n",
    "display(organics.head(5))"
   ]
  },
  {
   "cell_type": "markdown",
   "metadata": {},
   "source": [
    "#### Are there any missing data?\n",
    "\n",
    "Using the isnull and dropna functions, we check for missing data. Unfortunately, there are 5 columns with missing values, namely, Gender, Geographic Region, Neighborbood Cluster-55 and 7, and Television Region. "
   ]
  },
  {
   "cell_type": "code",
   "execution_count": 6,
   "metadata": {},
   "outputs": [
    {
     "data": {
      "text/plain": [
       "Customer Loyalty ID                0\n",
       "Gender                          2512\n",
       "Geographic Region                465\n",
       "Loyalty Status                     0\n",
       "Neigborhood Cluster-55 Level     674\n",
       "Neighborhood Cluster-7 Level     674\n",
       "Television Region                465\n",
       "Affluence Grade                    0\n",
       "Age                                0\n",
       "Frequency                          0\n",
       "Frequency Percent                  0\n",
       "Loyalty Card Tenure                0\n",
       "Organics Purchase Count            0\n",
       "Organics Purchase Indicator        0\n",
       "Total Spend                        0\n",
       "dtype: int64"
      ]
     },
     "execution_count": 6,
     "metadata": {},
     "output_type": "execute_result"
    }
   ],
   "source": [
    "organics.isnull().sum()"
   ]
  },
  {
   "cell_type": "code",
   "execution_count": 7,
   "metadata": {},
   "outputs": [
    {
     "data": {
      "text/plain": [
       "3527"
      ]
     },
     "execution_count": 7,
     "metadata": {},
     "output_type": "execute_result"
    }
   ],
   "source": [
    "organics.shape[0] - organics.dropna().shape[0]"
   ]
  },
  {
   "cell_type": "markdown",
   "metadata": {},
   "source": [
    "#### Basic statistical information on numerical fields####\n",
    "\n",
    "By running the describe function, we can obtain basic statistical information on the the numerical and categorical fields."
   ]
  },
  {
   "cell_type": "code",
   "execution_count": 8,
   "metadata": {
    "scrolled": false
   },
   "outputs": [
    {
     "data": {
      "text/html": [
       "<div>\n",
       "<style scoped>\n",
       "    .dataframe tbody tr th:only-of-type {\n",
       "        vertical-align: middle;\n",
       "    }\n",
       "\n",
       "    .dataframe tbody tr th {\n",
       "        vertical-align: top;\n",
       "    }\n",
       "\n",
       "    .dataframe thead th {\n",
       "        text-align: right;\n",
       "    }\n",
       "</style>\n",
       "<table border=\"1\" class=\"dataframe\">\n",
       "  <thead>\n",
       "    <tr style=\"text-align: right;\">\n",
       "      <th></th>\n",
       "      <th>Customer Loyalty ID</th>\n",
       "      <th>Neigborhood Cluster-55 Level</th>\n",
       "      <th>Frequency</th>\n",
       "      <th>Organics Purchase Count</th>\n",
       "      <th>Organics Purchase Indicator</th>\n",
       "      <th>Total Spend</th>\n",
       "    </tr>\n",
       "  </thead>\n",
       "  <tbody>\n",
       "    <tr>\n",
       "      <th>count</th>\n",
       "      <td>22,223.0000</td>\n",
       "      <td>21,549.0000</td>\n",
       "      <td>22,223.0000</td>\n",
       "      <td>22,223.0000</td>\n",
       "      <td>22,223.0000</td>\n",
       "      <td>22,223.0000</td>\n",
       "    </tr>\n",
       "    <tr>\n",
       "      <th>mean</th>\n",
       "      <td>26,055,403.4399</td>\n",
       "      <td>27.1937</td>\n",
       "      <td>1.0000</td>\n",
       "      <td>0.2947</td>\n",
       "      <td>0.2477</td>\n",
       "      <td>4,420.5900</td>\n",
       "    </tr>\n",
       "    <tr>\n",
       "      <th>std</th>\n",
       "      <td>15,074,974.0574</td>\n",
       "      <td>15.7515</td>\n",
       "      <td>0.0000</td>\n",
       "      <td>0.5628</td>\n",
       "      <td>0.4317</td>\n",
       "      <td>7,559.0475</td>\n",
       "    </tr>\n",
       "    <tr>\n",
       "      <th>min</th>\n",
       "      <td>140.0000</td>\n",
       "      <td>1.0000</td>\n",
       "      <td>1.0000</td>\n",
       "      <td>0.0000</td>\n",
       "      <td>0.0000</td>\n",
       "      <td>0.0100</td>\n",
       "    </tr>\n",
       "    <tr>\n",
       "      <th>25%</th>\n",
       "      <td>11,694,023.0000</td>\n",
       "      <td>14.0000</td>\n",
       "      <td>1.0000</td>\n",
       "      <td>0.0000</td>\n",
       "      <td>0.0000</td>\n",
       "      <td>0.0100</td>\n",
       "    </tr>\n",
       "    <tr>\n",
       "      <th>50%</th>\n",
       "      <td>28,748,786.0000</td>\n",
       "      <td>27.0000</td>\n",
       "      <td>1.0000</td>\n",
       "      <td>0.0000</td>\n",
       "      <td>0.0000</td>\n",
       "      <td>2,000.0000</td>\n",
       "    </tr>\n",
       "    <tr>\n",
       "      <th>75%</th>\n",
       "      <td>37,454,019.5000</td>\n",
       "      <td>38.0000</td>\n",
       "      <td>1.0000</td>\n",
       "      <td>0.0000</td>\n",
       "      <td>0.0000</td>\n",
       "      <td>6,000.0000</td>\n",
       "    </tr>\n",
       "    <tr>\n",
       "      <th>max</th>\n",
       "      <td>52,856,469.0000</td>\n",
       "      <td>55.0000</td>\n",
       "      <td>1.0000</td>\n",
       "      <td>3.0000</td>\n",
       "      <td>1.0000</td>\n",
       "      <td>296,313.8500</td>\n",
       "    </tr>\n",
       "  </tbody>\n",
       "</table>\n",
       "</div>"
      ],
      "text/plain": [
       "       Customer Loyalty ID  Neigborhood Cluster-55 Level   Frequency  \\\n",
       "count          22,223.0000                   21,549.0000 22,223.0000   \n",
       "mean       26,055,403.4399                       27.1937      1.0000   \n",
       "std        15,074,974.0574                       15.7515      0.0000   \n",
       "min               140.0000                        1.0000      1.0000   \n",
       "25%        11,694,023.0000                       14.0000      1.0000   \n",
       "50%        28,748,786.0000                       27.0000      1.0000   \n",
       "75%        37,454,019.5000                       38.0000      1.0000   \n",
       "max        52,856,469.0000                       55.0000      1.0000   \n",
       "\n",
       "       Organics Purchase Count  Organics Purchase Indicator  Total Spend  \n",
       "count              22,223.0000                  22,223.0000  22,223.0000  \n",
       "mean                    0.2947                       0.2477   4,420.5900  \n",
       "std                     0.5628                       0.4317   7,559.0475  \n",
       "min                     0.0000                       0.0000       0.0100  \n",
       "25%                     0.0000                       0.0000       0.0100  \n",
       "50%                     0.0000                       0.0000   2,000.0000  \n",
       "75%                     0.0000                       0.0000   6,000.0000  \n",
       "max                     3.0000                       1.0000 296,313.8500  "
      ]
     },
     "execution_count": 8,
     "metadata": {},
     "output_type": "execute_result"
    }
   ],
   "source": [
    "organics.describe(include = [np.number]) #describe all numerical fields"
   ]
  },
  {
   "cell_type": "code",
   "execution_count": 9,
   "metadata": {},
   "outputs": [
    {
     "data": {
      "text/html": [
       "<div>\n",
       "<style scoped>\n",
       "    .dataframe tbody tr th:only-of-type {\n",
       "        vertical-align: middle;\n",
       "    }\n",
       "\n",
       "    .dataframe tbody tr th {\n",
       "        vertical-align: top;\n",
       "    }\n",
       "\n",
       "    .dataframe thead th {\n",
       "        text-align: right;\n",
       "    }\n",
       "</style>\n",
       "<table border=\"1\" class=\"dataframe\">\n",
       "  <thead>\n",
       "    <tr style=\"text-align: right;\">\n",
       "      <th></th>\n",
       "      <th>Gender</th>\n",
       "      <th>Geographic Region</th>\n",
       "      <th>Loyalty Status</th>\n",
       "      <th>Neighborhood Cluster-7 Level</th>\n",
       "      <th>Television Region</th>\n",
       "      <th>Affluence Grade</th>\n",
       "      <th>Age</th>\n",
       "      <th>Frequency Percent</th>\n",
       "      <th>Loyalty Card Tenure</th>\n",
       "    </tr>\n",
       "  </thead>\n",
       "  <tbody>\n",
       "    <tr>\n",
       "      <th>count</th>\n",
       "      <td>19711</td>\n",
       "      <td>21758</td>\n",
       "      <td>22223</td>\n",
       "      <td>21549</td>\n",
       "      <td>21758</td>\n",
       "      <td>22223</td>\n",
       "      <td>22223</td>\n",
       "      <td>22223</td>\n",
       "      <td>22223</td>\n",
       "    </tr>\n",
       "    <tr>\n",
       "      <th>unique</th>\n",
       "      <td>3</td>\n",
       "      <td>5</td>\n",
       "      <td>4</td>\n",
       "      <td>7</td>\n",
       "      <td>13</td>\n",
       "      <td>34</td>\n",
       "      <td>63</td>\n",
       "      <td>1</td>\n",
       "      <td>40</td>\n",
       "    </tr>\n",
       "    <tr>\n",
       "      <th>top</th>\n",
       "      <td>F</td>\n",
       "      <td>South East</td>\n",
       "      <td>Silver</td>\n",
       "      <td>C</td>\n",
       "      <td>London</td>\n",
       "      <td>8</td>\n",
       "      <td>.</td>\n",
       "      <td>0.00%</td>\n",
       "      <td>5</td>\n",
       "    </tr>\n",
       "    <tr>\n",
       "      <th>freq</th>\n",
       "      <td>12149</td>\n",
       "      <td>8634</td>\n",
       "      <td>8572</td>\n",
       "      <td>4566</td>\n",
       "      <td>6189</td>\n",
       "      <td>2634</td>\n",
       "      <td>1508</td>\n",
       "      <td>22223</td>\n",
       "      <td>4314</td>\n",
       "    </tr>\n",
       "  </tbody>\n",
       "</table>\n",
       "</div>"
      ],
      "text/plain": [
       "       Gender Geographic Region Loyalty Status Neighborhood Cluster-7 Level  \\\n",
       "count   19711             21758          22223                        21549   \n",
       "unique      3                 5              4                            7   \n",
       "top         F        South East         Silver                            C   \n",
       "freq    12149              8634           8572                         4566   \n",
       "\n",
       "       Television Region Affluence Grade    Age Frequency Percent  \\\n",
       "count              21758           22223  22223             22223   \n",
       "unique                13              34     63                 1   \n",
       "top               London               8      .             0.00%   \n",
       "freq                6189            2634   1508             22223   \n",
       "\n",
       "       Loyalty Card Tenure  \n",
       "count                22223  \n",
       "unique                  40  \n",
       "top                      5  \n",
       "freq                  4314  "
      ]
     },
     "execution_count": 9,
     "metadata": {},
     "output_type": "execute_result"
    }
   ],
   "source": [
    "organics.describe(include = ['O']) #describe all categorical fields"
   ]
  },
  {
   "cell_type": "markdown",
   "metadata": {},
   "source": [
    "Through the output from the describe function it is revealed that certain categorical attributes like Customer Loyalty ID and Neighborhood Cluster-55 Level had been wrongly detected as numerical type, and numerical attributes Affluence Grade, Age, Frequency Percent and Loyalty Card Tenure wrongly detected as categorical.\n",
    "\n",
    "On top of the missing values identified above, it appears that there may be further missing values in the data. For example Age = '.' is not a valid number, and hence such records should also be considered as missing values for Age. Let's look at each attribute one by one."
   ]
  },
  {
   "cell_type": "markdown",
   "metadata": {},
   "source": [
    "#### Field by field analysis####\n",
    "\n",
    "#### 1. Organics Purchase Indicator\n",
    "\n",
    "We first take a look at our target attribute - Organics Purchase Indicator. We note that this is an unbalanced target variable, and we would have to deal with balancing the classes later."
   ]
  },
  {
   "cell_type": "code",
   "execution_count": 10,
   "metadata": {},
   "outputs": [
    {
     "data": {
      "image/png": "[encoded data removed]",
      "text/plain": [
       "<Figure size 1080x360 with 1 Axes>"
      ]
     },
     "metadata": {},
     "output_type": "display_data"
    }
   ],
   "source": [
    "plot_bars(organics['Organics Purchase Indicator'])"
   ]
  },
  {
   "cell_type": "markdown",
   "metadata": {},
   "source": [
    "#### 2. Organics Purchase Count\n",
    "\n",
    "Then we look at Organics Purchase Count"
   ]
  },
  {
   "cell_type": "code",
   "execution_count": 11,
   "metadata": {},
   "outputs": [
    {
     "data": {
      "image/png": "[encoded data removed]",
      "text/plain": [
       "<Figure size 1080x360 with 1 Axes>"
      ]
     },
     "metadata": {},
     "output_type": "display_data"
    }
   ],
   "source": [
    "plot_bars(organics['Organics Purchase Count'])"
   ]
  },
  {
   "cell_type": "markdown",
   "metadata": {},
   "source": [
    "We look at whether Organics Purchase Count Organics Purchase Indicator is correlated. If so, we have to drop the column"
   ]
  },
  {
   "cell_type": "code",
   "execution_count": 12,
   "metadata": {},
   "outputs": [
    {
     "data": {
      "text/plain": [
       "Organics Purchase Count  Organics Purchase Indicator\n",
       "0                        0                              16718\n",
       "1                        1                               4625\n",
       "2                        1                                715\n",
       "3                        1                                165\n",
       "dtype: int64"
      ]
     },
     "execution_count": 12,
     "metadata": {},
     "output_type": "execute_result"
    }
   ],
   "source": [
    "organics.astype(str).groupby(by=['Organics Purchase Count','Organics Purchase Indicator']).size()"
   ]
  },
  {
   "cell_type": "markdown",
   "metadata": {},
   "source": [
    "It appears that Organics Purchase Count is directly related to Organics Purchase Indicator, showing the purchase count where the indicator = 1. If included, we do not need any models to predict the Organics Purchase Indicator, because Organics Purchase Count > 0, Organics Purchase Indicator = 1. Consequently in the assignment, Organics Purchase Count role is set as rejected."
   ]
  },
  {
   "cell_type": "markdown",
   "metadata": {},
   "source": [
    "#### 3. Frequency"
   ]
  },
  {
   "cell_type": "markdown",
   "metadata": {},
   "source": [
    "All items in the Frequency column is 1. There is no added information in this column and is to be dropped."
   ]
  },
  {
   "cell_type": "markdown",
   "metadata": {},
   "source": [
    "#### 4. Frequency Percent\n",
    "\n",
    "All items in the Frequency Percent column is 0. There is no added information in this column and is to be dropped."
   ]
  },
  {
   "cell_type": "markdown",
   "metadata": {},
   "source": [
    "#### 5. Customer Loyalty ID\n",
    "\n",
    "Customer Loyalty ID should be unique for each row. We use groupby to check if there are any duplicate rows."
   ]
  },
  {
   "cell_type": "code",
   "execution_count": 13,
   "metadata": {},
   "outputs": [
    {
     "data": {
      "text/plain": [
       "0"
      ]
     },
     "execution_count": 13,
     "metadata": {},
     "output_type": "execute_result"
    }
   ],
   "source": [
    "len(organics) - len(organics.astype(str).groupby(by='Customer Loyalty ID').size())"
   ]
  },
  {
   "cell_type": "markdown",
   "metadata": {},
   "source": [
    "There are no duplicates! But it is wrongly assessed to be numerical data - we convert it to categorical. Not that it matters since it will not be used in modeling. "
   ]
  },
  {
   "cell_type": "code",
   "execution_count": 14,
   "metadata": {},
   "outputs": [],
   "source": [
    "organics['Customer Loyalty ID'] = organics['Customer Loyalty ID'].astype('int64').astype(str)"
   ]
  },
  {
   "cell_type": "markdown",
   "metadata": {},
   "source": [
    "#### 6. Total Spend"
   ]
  },
  {
   "cell_type": "code",
   "execution_count": 15,
   "metadata": {},
   "outputs": [
    {
     "name": "stderr",
     "output_type": "stream",
     "text": [
      "/Users/alphaniang/anaconda3/lib/python3.6/site-packages/matplotlib/axes/_axes.py:6521: MatplotlibDeprecationWarning: \n",
      "The 'normed' kwarg was deprecated in Matplotlib 2.1 and will be removed in 3.1. Use 'density' instead.\n",
      "  alternative=\"'density'\", removal=\"3.1\")\n"
     ]
    },
    {
     "data": {
      "text/plain": [
       "<matplotlib.axes._subplots.AxesSubplot at 0x1a0ad2db70>"
      ]
     },
     "execution_count": 15,
     "metadata": {},
     "output_type": "execute_result"
    },
    {
     "data": {
      "image/png": "[encoded data removed]",
      "text/plain": [
       "<Figure size 432x288 with 1 Axes>"
      ]
     },
     "metadata": {},
     "output_type": "display_data"
    }
   ],
   "source": [
    "sns.distplot(organics['Total Spend'],kde=False)"
   ]
  },
  {
   "cell_type": "markdown",
   "metadata": {},
   "source": [
    "#### 7. Loyalty Status"
   ]
  },
  {
   "cell_type": "code",
   "execution_count": 16,
   "metadata": {},
   "outputs": [
    {
     "data": {
      "image/png": "[encoded data removed]",
      "text/plain": [
       "<Figure size 1080x360 with 1 Axes>"
      ]
     },
     "metadata": {},
     "output_type": "display_data"
    }
   ],
   "source": [
    "plot_bars(organics['Loyalty Status'],sortcount='descending')"
   ]
  },
  {
   "cell_type": "markdown",
   "metadata": {},
   "source": [
    "#### 8. Loyalty Card Tenure"
   ]
  },
  {
   "cell_type": "code",
   "execution_count": 17,
   "metadata": {},
   "outputs": [
    {
     "data": {
      "image/png": "[encoded data removed]",
      "text/plain": [
       "<Figure size 1080x360 with 1 Axes>"
      ]
     },
     "metadata": {},
     "output_type": "display_data"
    }
   ],
   "source": [
    "plot_bars(organics['Loyalty Card Tenure'],showlabels=False)"
   ]
  },
  {
   "cell_type": "markdown",
   "metadata": {},
   "source": [
    "It appears that Loyalty Card Tenure is an int but stored as str, due to a value '.', resulting in funny sorting orders. We convert '.' to nan. As this is a numerical field, we impute using median."
   ]
  },
  {
   "cell_type": "code",
   "execution_count": 18,
   "metadata": {},
   "outputs": [],
   "source": [
    "organics['Loyalty Card Tenure Missing'] = 0\n",
    "organics.loc[organics['Loyalty Card Tenure'] == '.', 'Loyalty Card Tenure Missing'] = 1\n",
    "organics.loc[organics['Loyalty Card Tenure'] == '.', 'Loyalty Card Tenure'] = np.nan\n",
    "organics['Loyalty Card Tenure'] = organics['Loyalty Card Tenure'].fillna(organics['Loyalty Card Tenure'].median())\n",
    "organics['Loyalty Card Tenure'] = organics['Loyalty Card Tenure'].astype('int64')"
   ]
  },
  {
   "cell_type": "markdown",
   "metadata": {},
   "source": [
    "#### 9. Age"
   ]
  },
  {
   "cell_type": "code",
   "execution_count": 19,
   "metadata": {},
   "outputs": [
    {
     "data": {
      "image/png": "[encoded data removed]",
      "text/plain": [
       "<Figure size 1080x360 with 1 Axes>"
      ]
     },
     "metadata": {},
     "output_type": "display_data"
    }
   ],
   "source": [
    "plot_bars(organics['Age'],showlabels=False,setrotation=90)"
   ]
  },
  {
   "cell_type": "markdown",
   "metadata": {},
   "source": [
    "Convert age '.' as nan. is an int but stored as str, due to a value '.', resulting in funny sorting orders. We convert '.' to nan. As this is a numerical field, we impute using median."
   ]
  },
  {
   "cell_type": "code",
   "execution_count": 20,
   "metadata": {},
   "outputs": [],
   "source": [
    "organics['Age Missing'] = 0\n",
    "organics.loc[organics['Age'] == '.', 'Age Missing'] = 1\n",
    "organics.loc[organics['Age'] == '.', 'Age'] = np.nan\n",
    "organics['Age'] = organics['Age'].fillna(organics['Age'].median())\n",
    "organics['Age'] = organics['Age'].astype('int64')"
   ]
  },
  {
   "cell_type": "markdown",
   "metadata": {},
   "source": [
    "#### 10. Affluence Grade"
   ]
  },
  {
   "cell_type": "code",
   "execution_count": 21,
   "metadata": {
    "scrolled": true
   },
   "outputs": [
    {
     "data": {
      "image/png": "[encoded data removed]",
      "text/plain": [
       "<Figure size 1080x360 with 1 Axes>"
      ]
     },
     "metadata": {},
     "output_type": "display_data"
    }
   ],
   "source": [
    "plot_bars(organics['Affluence Grade'],showlabels=False)"
   ]
  },
  {
   "cell_type": "markdown",
   "metadata": {},
   "source": [
    "Convert age '.' as nan. is an int but stored as str, due to a value '.', resulting in funny sorting orders. We convert '.' to nan. As this is a numerical field, we will use interpolate later. We will deal with categorical missing values first."
   ]
  },
  {
   "cell_type": "code",
   "execution_count": 22,
   "metadata": {},
   "outputs": [],
   "source": [
    "organics['Affluence Grade Missing'] = 0\n",
    "organics.loc[organics['Affluence Grade'] == '.', 'Affluence Grade Missing'] = 1\n",
    "organics.loc[organics['Affluence Grade'] == '.', 'Affluence Grade'] = np.nan\n",
    "organics['Affluence Grade'] = organics['Affluence Grade'].fillna(organics['Affluence Grade'].median())\n",
    "organics['Affluence Grade'] = organics['Affluence Grade'].astype('int64')"
   ]
  },
  {
   "cell_type": "markdown",
   "metadata": {},
   "source": [
    "#### 11. Gender\n",
    "\n",
    "Based on the category counts, there are 'F', 'M' and 'U'. As well as 2512 records where Gender is unknown."
   ]
  },
  {
   "cell_type": "code",
   "execution_count": 23,
   "metadata": {},
   "outputs": [
    {
     "data": {
      "image/png": "[encoded data removed]",
      "text/plain": [
       "<Figure size 1080x360 with 1 Axes>"
      ]
     },
     "metadata": {},
     "output_type": "display_data"
    }
   ],
   "source": [
    "plot_bars(organics['Gender'])"
   ]
  },
  {
   "cell_type": "markdown",
   "metadata": {},
   "source": [
    "In view that there can only be female and male gender, we presume that records with gender 'U' represent customers who do not wish to make their gender known. On the other hand records with gender null or nan are plainly missing. As such we will replace Gender where nan with 'Missing' to force a new category for nan."
   ]
  },
  {
   "cell_type": "code",
   "execution_count": 24,
   "metadata": {},
   "outputs": [],
   "source": [
    "organics.loc[organics['Gender'].isnull() , 'Gender'] = 'Missing'"
   ]
  },
  {
   "cell_type": "markdown",
   "metadata": {},
   "source": [
    "#### 12. Neighborhood Cluster-55 Level\n",
    "\n",
    "There is a typo in the column name for Neighborhood Cluster-55 Level. Lets correct it. \n",
    "\n",
    "Also, there are missing values for Neighborhood Cluster. We will force a new category for 'Missing' to identify the records with missing values. Also, highlighted above in when describing the data, the column is wrongly identified as numerical, we hence set it to categorical instead."
   ]
  },
  {
   "cell_type": "code",
   "execution_count": 25,
   "metadata": {},
   "outputs": [],
   "source": [
    "organics['Neighborhood Cluster-55 Level'] = organics['Neigborhood Cluster-55 Level']\n",
    "organics = organics.drop('Neigborhood Cluster-55 Level', axis=1)"
   ]
  },
  {
   "cell_type": "code",
   "execution_count": 26,
   "metadata": {
    "scrolled": false
   },
   "outputs": [
    {
     "data": {
      "image/png": "[encoded data removed]",
      "text/plain": [
       "<Figure size 1080x360 with 1 Axes>"
      ]
     },
     "metadata": {},
     "output_type": "display_data"
    }
   ],
   "source": [
    "plot_bars(organics['Neighborhood Cluster-55 Level'],showlabels=False,setrotation=90)"
   ]
  },
  {
   "cell_type": "code",
   "execution_count": 27,
   "metadata": {},
   "outputs": [],
   "source": [
    "organics.loc[pd.to_numeric(organics['Neighborhood Cluster-55 Level'], errors='coerce') == 0, 'Neighborhood Cluster-55 Level'] = np.nan\n",
    "organics.loc[organics['Neighborhood Cluster-55 Level'].isnull() , 'Neighborhood Cluster-55 Level'] = 'Missing'"
   ]
  },
  {
   "cell_type": "markdown",
   "metadata": {},
   "source": [
    "#### 13. Neighborhood Cluster-7 Level\n",
    "\n",
    "There is another column Neighborhood Cluster-7 Level. Are they correlated? If so we will only retain one. Lets find out."
   ]
  },
  {
   "cell_type": "code",
   "execution_count": 28,
   "metadata": {},
   "outputs": [
    {
     "data": {
      "image/png": "[encoded data removed]",
      "text/plain": [
       "<Figure size 1080x360 with 1 Axes>"
      ]
     },
     "metadata": {},
     "output_type": "display_data"
    }
   ],
   "source": [
    "plot_bars(organics['Neighborhood Cluster-7 Level'])"
   ]
  },
  {
   "cell_type": "code",
   "execution_count": 29,
   "metadata": {},
   "outputs": [
    {
     "data": {
      "text/html": [
       "<div>\n",
       "<style scoped>\n",
       "    .dataframe tbody tr th:only-of-type {\n",
       "        vertical-align: middle;\n",
       "    }\n",
       "\n",
       "    .dataframe tbody tr th {\n",
       "        vertical-align: top;\n",
       "    }\n",
       "\n",
       "    .dataframe thead th {\n",
       "        text-align: right;\n",
       "    }\n",
       "</style>\n",
       "<table border=\"1\" class=\"dataframe\">\n",
       "  <thead>\n",
       "    <tr style=\"text-align: right;\">\n",
       "      <th>Neighborhood Cluster-55 Level</th>\n",
       "      <th>1.0</th>\n",
       "      <th>10.0</th>\n",
       "      <th>11.0</th>\n",
       "      <th>12.0</th>\n",
       "      <th>13.0</th>\n",
       "      <th>14.0</th>\n",
       "      <th>15.0</th>\n",
       "      <th>16.0</th>\n",
       "      <th>17.0</th>\n",
       "      <th>18.0</th>\n",
       "      <th>...</th>\n",
       "      <th>51.0</th>\n",
       "      <th>52.0</th>\n",
       "      <th>53.0</th>\n",
       "      <th>54.0</th>\n",
       "      <th>55.0</th>\n",
       "      <th>6.0</th>\n",
       "      <th>7.0</th>\n",
       "      <th>8.0</th>\n",
       "      <th>9.0</th>\n",
       "      <th>Missing</th>\n",
       "    </tr>\n",
       "    <tr>\n",
       "      <th>Neighborhood Cluster-7 Level</th>\n",
       "      <th></th>\n",
       "      <th></th>\n",
       "      <th></th>\n",
       "      <th></th>\n",
       "      <th></th>\n",
       "      <th></th>\n",
       "      <th></th>\n",
       "      <th></th>\n",
       "      <th></th>\n",
       "      <th></th>\n",
       "      <th></th>\n",
       "      <th></th>\n",
       "      <th></th>\n",
       "      <th></th>\n",
       "      <th></th>\n",
       "      <th></th>\n",
       "      <th></th>\n",
       "      <th></th>\n",
       "      <th></th>\n",
       "      <th></th>\n",
       "      <th></th>\n",
       "    </tr>\n",
       "  </thead>\n",
       "  <tbody>\n",
       "    <tr>\n",
       "      <th>A</th>\n",
       "      <td>375.0000</td>\n",
       "      <td>nan</td>\n",
       "      <td>nan</td>\n",
       "      <td>nan</td>\n",
       "      <td>nan</td>\n",
       "      <td>nan</td>\n",
       "      <td>nan</td>\n",
       "      <td>nan</td>\n",
       "      <td>nan</td>\n",
       "      <td>nan</td>\n",
       "      <td>...</td>\n",
       "      <td>nan</td>\n",
       "      <td>nan</td>\n",
       "      <td>nan</td>\n",
       "      <td>nan</td>\n",
       "      <td>nan</td>\n",
       "      <td>nan</td>\n",
       "      <td>nan</td>\n",
       "      <td>nan</td>\n",
       "      <td>nan</td>\n",
       "      <td>nan</td>\n",
       "    </tr>\n",
       "    <tr>\n",
       "      <th>B</th>\n",
       "      <td>nan</td>\n",
       "      <td>564.0000</td>\n",
       "      <td>139.0000</td>\n",
       "      <td>810.0000</td>\n",
       "      <td>166.0000</td>\n",
       "      <td>589.0000</td>\n",
       "      <td>216.0000</td>\n",
       "      <td>nan</td>\n",
       "      <td>nan</td>\n",
       "      <td>nan</td>\n",
       "      <td>...</td>\n",
       "      <td>nan</td>\n",
       "      <td>nan</td>\n",
       "      <td>nan</td>\n",
       "      <td>nan</td>\n",
       "      <td>nan</td>\n",
       "      <td>319.0000</td>\n",
       "      <td>113.0000</td>\n",
       "      <td>716.0000</td>\n",
       "      <td>241.0000</td>\n",
       "      <td>nan</td>\n",
       "    </tr>\n",
       "    <tr>\n",
       "      <th>C</th>\n",
       "      <td>nan</td>\n",
       "      <td>nan</td>\n",
       "      <td>nan</td>\n",
       "      <td>nan</td>\n",
       "      <td>nan</td>\n",
       "      <td>nan</td>\n",
       "      <td>nan</td>\n",
       "      <td>456.0000</td>\n",
       "      <td>347.0000</td>\n",
       "      <td>365.0000</td>\n",
       "      <td>...</td>\n",
       "      <td>nan</td>\n",
       "      <td>nan</td>\n",
       "      <td>nan</td>\n",
       "      <td>nan</td>\n",
       "      <td>nan</td>\n",
       "      <td>nan</td>\n",
       "      <td>nan</td>\n",
       "      <td>nan</td>\n",
       "      <td>nan</td>\n",
       "      <td>nan</td>\n",
       "    </tr>\n",
       "    <tr>\n",
       "      <th>D</th>\n",
       "      <td>nan</td>\n",
       "      <td>nan</td>\n",
       "      <td>nan</td>\n",
       "      <td>nan</td>\n",
       "      <td>nan</td>\n",
       "      <td>nan</td>\n",
       "      <td>nan</td>\n",
       "      <td>nan</td>\n",
       "      <td>nan</td>\n",
       "      <td>nan</td>\n",
       "      <td>...</td>\n",
       "      <td>nan</td>\n",
       "      <td>nan</td>\n",
       "      <td>nan</td>\n",
       "      <td>nan</td>\n",
       "      <td>nan</td>\n",
       "      <td>nan</td>\n",
       "      <td>nan</td>\n",
       "      <td>nan</td>\n",
       "      <td>nan</td>\n",
       "      <td>nan</td>\n",
       "    </tr>\n",
       "    <tr>\n",
       "      <th>E</th>\n",
       "      <td>nan</td>\n",
       "      <td>nan</td>\n",
       "      <td>nan</td>\n",
       "      <td>nan</td>\n",
       "      <td>nan</td>\n",
       "      <td>nan</td>\n",
       "      <td>nan</td>\n",
       "      <td>nan</td>\n",
       "      <td>nan</td>\n",
       "      <td>nan</td>\n",
       "      <td>...</td>\n",
       "      <td>nan</td>\n",
       "      <td>nan</td>\n",
       "      <td>nan</td>\n",
       "      <td>nan</td>\n",
       "      <td>nan</td>\n",
       "      <td>nan</td>\n",
       "      <td>nan</td>\n",
       "      <td>nan</td>\n",
       "      <td>nan</td>\n",
       "      <td>nan</td>\n",
       "    </tr>\n",
       "    <tr>\n",
       "      <th>F</th>\n",
       "      <td>nan</td>\n",
       "      <td>nan</td>\n",
       "      <td>nan</td>\n",
       "      <td>nan</td>\n",
       "      <td>nan</td>\n",
       "      <td>nan</td>\n",
       "      <td>nan</td>\n",
       "      <td>nan</td>\n",
       "      <td>nan</td>\n",
       "      <td>nan</td>\n",
       "      <td>...</td>\n",
       "      <td>778.0000</td>\n",
       "      <td>1,205.0000</td>\n",
       "      <td>613.0000</td>\n",
       "      <td>31.0000</td>\n",
       "      <td>nan</td>\n",
       "      <td>nan</td>\n",
       "      <td>nan</td>\n",
       "      <td>nan</td>\n",
       "      <td>nan</td>\n",
       "      <td>nan</td>\n",
       "    </tr>\n",
       "    <tr>\n",
       "      <th>U</th>\n",
       "      <td>nan</td>\n",
       "      <td>nan</td>\n",
       "      <td>nan</td>\n",
       "      <td>nan</td>\n",
       "      <td>nan</td>\n",
       "      <td>nan</td>\n",
       "      <td>nan</td>\n",
       "      <td>nan</td>\n",
       "      <td>nan</td>\n",
       "      <td>nan</td>\n",
       "      <td>...</td>\n",
       "      <td>nan</td>\n",
       "      <td>nan</td>\n",
       "      <td>nan</td>\n",
       "      <td>nan</td>\n",
       "      <td>54.0000</td>\n",
       "      <td>nan</td>\n",
       "      <td>nan</td>\n",
       "      <td>nan</td>\n",
       "      <td>nan</td>\n",
       "      <td>nan</td>\n",
       "    </tr>\n",
       "    <tr>\n",
       "      <th>nan</th>\n",
       "      <td>nan</td>\n",
       "      <td>nan</td>\n",
       "      <td>nan</td>\n",
       "      <td>nan</td>\n",
       "      <td>nan</td>\n",
       "      <td>nan</td>\n",
       "      <td>nan</td>\n",
       "      <td>nan</td>\n",
       "      <td>nan</td>\n",
       "      <td>nan</td>\n",
       "      <td>...</td>\n",
       "      <td>nan</td>\n",
       "      <td>nan</td>\n",
       "      <td>nan</td>\n",
       "      <td>nan</td>\n",
       "      <td>nan</td>\n",
       "      <td>nan</td>\n",
       "      <td>nan</td>\n",
       "      <td>nan</td>\n",
       "      <td>nan</td>\n",
       "      <td>674.0000</td>\n",
       "    </tr>\n",
       "  </tbody>\n",
       "</table>\n",
       "<p>8 rows × 56 columns</p>\n",
       "</div>"
      ],
      "text/plain": [
       "Neighborhood Cluster-55 Level      1.0     10.0     11.0     12.0     13.0  \\\n",
       "Neighborhood Cluster-7 Level                                                 \n",
       "A                             375.0000      nan      nan      nan      nan   \n",
       "B                                  nan 564.0000 139.0000 810.0000 166.0000   \n",
       "C                                  nan      nan      nan      nan      nan   \n",
       "D                                  nan      nan      nan      nan      nan   \n",
       "E                                  nan      nan      nan      nan      nan   \n",
       "F                                  nan      nan      nan      nan      nan   \n",
       "U                                  nan      nan      nan      nan      nan   \n",
       "nan                                nan      nan      nan      nan      nan   \n",
       "\n",
       "Neighborhood Cluster-55 Level     14.0     15.0     16.0     17.0     18.0  \\\n",
       "Neighborhood Cluster-7 Level                                                 \n",
       "A                                  nan      nan      nan      nan      nan   \n",
       "B                             589.0000 216.0000      nan      nan      nan   \n",
       "C                                  nan      nan 456.0000 347.0000 365.0000   \n",
       "D                                  nan      nan      nan      nan      nan   \n",
       "E                                  nan      nan      nan      nan      nan   \n",
       "F                                  nan      nan      nan      nan      nan   \n",
       "U                                  nan      nan      nan      nan      nan   \n",
       "nan                                nan      nan      nan      nan      nan   \n",
       "\n",
       "Neighborhood Cluster-55 Level   ...        51.0       52.0     53.0    54.0  \\\n",
       "Neighborhood Cluster-7 Level    ...                                           \n",
       "A                               ...         nan        nan      nan     nan   \n",
       "B                               ...         nan        nan      nan     nan   \n",
       "C                               ...         nan        nan      nan     nan   \n",
       "D                               ...         nan        nan      nan     nan   \n",
       "E                               ...         nan        nan      nan     nan   \n",
       "F                               ...    778.0000 1,205.0000 613.0000 31.0000   \n",
       "U                               ...         nan        nan      nan     nan   \n",
       "nan                             ...         nan        nan      nan     nan   \n",
       "\n",
       "Neighborhood Cluster-55 Level    55.0      6.0      7.0      8.0      9.0  \\\n",
       "Neighborhood Cluster-7 Level                                                \n",
       "A                                 nan      nan      nan      nan      nan   \n",
       "B                                 nan 319.0000 113.0000 716.0000 241.0000   \n",
       "C                                 nan      nan      nan      nan      nan   \n",
       "D                                 nan      nan      nan      nan      nan   \n",
       "E                                 nan      nan      nan      nan      nan   \n",
       "F                                 nan      nan      nan      nan      nan   \n",
       "U                             54.0000      nan      nan      nan      nan   \n",
       "nan                               nan      nan      nan      nan      nan   \n",
       "\n",
       "Neighborhood Cluster-55 Level  Missing  \n",
       "Neighborhood Cluster-7 Level            \n",
       "A                                  nan  \n",
       "B                                  nan  \n",
       "C                                  nan  \n",
       "D                                  nan  \n",
       "E                                  nan  \n",
       "F                                  nan  \n",
       "U                                  nan  \n",
       "nan                           674.0000  \n",
       "\n",
       "[8 rows x 56 columns]"
      ]
     },
     "execution_count": 29,
     "metadata": {},
     "output_type": "execute_result"
    }
   ],
   "source": [
    "organics.astype(str).groupby(by=['Neighborhood Cluster-7 Level','Neighborhood Cluster-55 Level']).size().unstack()"
   ]
  },
  {
   "cell_type": "markdown",
   "metadata": {},
   "source": [
    "It appears that Neighborhood Cluster 55 Level are sub categories of Neighborhood Cluster 7 Level. Due to colinearity only one of these two columns are necessary. We will leave both in and let feature selection handle it. We also note that nan records in Neighborhood Cluster-55 Level, were also nan in Neighborhood Cluster-7 Level.\n",
    "\n",
    "It appears that there are missing values for Neighborhood Cluster. We will force a new category for nan 'Z'"
   ]
  },
  {
   "cell_type": "code",
   "execution_count": 30,
   "metadata": {},
   "outputs": [],
   "source": [
    "organics.loc[organics['Neighborhood Cluster-7 Level'].isnull() , 'Neighborhood Cluster-7 Level'] = 'Missing'"
   ]
  },
  {
   "cell_type": "markdown",
   "metadata": {},
   "source": [
    "#### 14. Geographic Region"
   ]
  },
  {
   "cell_type": "code",
   "execution_count": 31,
   "metadata": {},
   "outputs": [
    {
     "data": {
      "image/png": "[encoded data removed]",
      "text/plain": [
       "<Figure size 1080x360 with 1 Axes>"
      ]
     },
     "metadata": {},
     "output_type": "display_data"
    }
   ],
   "source": [
    "plot_bars(organics['Geographic Region'])"
   ]
  },
  {
   "cell_type": "code",
   "execution_count": 32,
   "metadata": {},
   "outputs": [],
   "source": [
    "organics.loc[organics['Geographic Region'].isnull() , 'Geographic Region'] = 'Missing'"
   ]
  },
  {
   "cell_type": "markdown",
   "metadata": {},
   "source": [
    "#### 15. Television Region"
   ]
  },
  {
   "cell_type": "code",
   "execution_count": 33,
   "metadata": {},
   "outputs": [
    {
     "data": {
      "image/png": "[encoded data removed]",
      "text/plain": [
       "<Figure size 1080x360 with 1 Axes>"
      ]
     },
     "metadata": {},
     "output_type": "display_data"
    }
   ],
   "source": [
    "plot_bars(organics['Television Region'],setrotation=45)"
   ]
  },
  {
   "cell_type": "code",
   "execution_count": 34,
   "metadata": {},
   "outputs": [
    {
     "data": {
      "text/html": [
       "<div>\n",
       "<style scoped>\n",
       "    .dataframe tbody tr th:only-of-type {\n",
       "        vertical-align: middle;\n",
       "    }\n",
       "\n",
       "    .dataframe tbody tr th {\n",
       "        vertical-align: top;\n",
       "    }\n",
       "\n",
       "    .dataframe thead th {\n",
       "        text-align: right;\n",
       "    }\n",
       "</style>\n",
       "<table border=\"1\" class=\"dataframe\">\n",
       "  <thead>\n",
       "    <tr style=\"text-align: right;\">\n",
       "      <th>Television Region</th>\n",
       "      <th>Border</th>\n",
       "      <th>C Scotland</th>\n",
       "      <th>East</th>\n",
       "      <th>London</th>\n",
       "      <th>Midlands</th>\n",
       "      <th>N East</th>\n",
       "      <th>N Scot</th>\n",
       "      <th>N West</th>\n",
       "      <th>S &amp; S East</th>\n",
       "      <th>S West</th>\n",
       "      <th>Ulster</th>\n",
       "      <th>Wales &amp; West</th>\n",
       "      <th>Yorkshire</th>\n",
       "      <th>nan</th>\n",
       "    </tr>\n",
       "    <tr>\n",
       "      <th>Geographic Region</th>\n",
       "      <th></th>\n",
       "      <th></th>\n",
       "      <th></th>\n",
       "      <th></th>\n",
       "      <th></th>\n",
       "      <th></th>\n",
       "      <th></th>\n",
       "      <th></th>\n",
       "      <th></th>\n",
       "      <th></th>\n",
       "      <th></th>\n",
       "      <th></th>\n",
       "      <th></th>\n",
       "      <th></th>\n",
       "    </tr>\n",
       "  </thead>\n",
       "  <tbody>\n",
       "    <tr>\n",
       "      <th>Midlands</th>\n",
       "      <td>nan</td>\n",
       "      <td>nan</td>\n",
       "      <td>1,649.0000</td>\n",
       "      <td>nan</td>\n",
       "      <td>3,123.0000</td>\n",
       "      <td>nan</td>\n",
       "      <td>nan</td>\n",
       "      <td>nan</td>\n",
       "      <td>nan</td>\n",
       "      <td>nan</td>\n",
       "      <td>266.0000</td>\n",
       "      <td>1,703.0000</td>\n",
       "      <td>nan</td>\n",
       "      <td>nan</td>\n",
       "    </tr>\n",
       "    <tr>\n",
       "      <th>Missing</th>\n",
       "      <td>nan</td>\n",
       "      <td>nan</td>\n",
       "      <td>nan</td>\n",
       "      <td>nan</td>\n",
       "      <td>nan</td>\n",
       "      <td>nan</td>\n",
       "      <td>nan</td>\n",
       "      <td>nan</td>\n",
       "      <td>nan</td>\n",
       "      <td>nan</td>\n",
       "      <td>nan</td>\n",
       "      <td>nan</td>\n",
       "      <td>nan</td>\n",
       "      <td>465.0000</td>\n",
       "    </tr>\n",
       "    <tr>\n",
       "      <th>North</th>\n",
       "      <td>nan</td>\n",
       "      <td>nan</td>\n",
       "      <td>nan</td>\n",
       "      <td>nan</td>\n",
       "      <td>nan</td>\n",
       "      <td>785.0000</td>\n",
       "      <td>nan</td>\n",
       "      <td>2,096.0000</td>\n",
       "      <td>nan</td>\n",
       "      <td>nan</td>\n",
       "      <td>nan</td>\n",
       "      <td>nan</td>\n",
       "      <td>1,443.0000</td>\n",
       "      <td>nan</td>\n",
       "    </tr>\n",
       "    <tr>\n",
       "      <th>Scottish</th>\n",
       "      <td>203.0000</td>\n",
       "      <td>836.0000</td>\n",
       "      <td>nan</td>\n",
       "      <td>nan</td>\n",
       "      <td>nan</td>\n",
       "      <td>nan</td>\n",
       "      <td>329.0000</td>\n",
       "      <td>nan</td>\n",
       "      <td>nan</td>\n",
       "      <td>nan</td>\n",
       "      <td>nan</td>\n",
       "      <td>nan</td>\n",
       "      <td>nan</td>\n",
       "      <td>nan</td>\n",
       "    </tr>\n",
       "    <tr>\n",
       "      <th>South East</th>\n",
       "      <td>nan</td>\n",
       "      <td>nan</td>\n",
       "      <td>nan</td>\n",
       "      <td>6,189.0000</td>\n",
       "      <td>nan</td>\n",
       "      <td>nan</td>\n",
       "      <td>nan</td>\n",
       "      <td>nan</td>\n",
       "      <td>2,445.0000</td>\n",
       "      <td>nan</td>\n",
       "      <td>nan</td>\n",
       "      <td>nan</td>\n",
       "      <td>nan</td>\n",
       "      <td>nan</td>\n",
       "    </tr>\n",
       "    <tr>\n",
       "      <th>South West</th>\n",
       "      <td>nan</td>\n",
       "      <td>nan</td>\n",
       "      <td>nan</td>\n",
       "      <td>nan</td>\n",
       "      <td>nan</td>\n",
       "      <td>nan</td>\n",
       "      <td>nan</td>\n",
       "      <td>nan</td>\n",
       "      <td>nan</td>\n",
       "      <td>691.0000</td>\n",
       "      <td>nan</td>\n",
       "      <td>nan</td>\n",
       "      <td>nan</td>\n",
       "      <td>nan</td>\n",
       "    </tr>\n",
       "  </tbody>\n",
       "</table>\n",
       "</div>"
      ],
      "text/plain": [
       "Television Region   Border  C Scotland       East     London   Midlands  \\\n",
       "Geographic Region                                                         \n",
       "Midlands               nan         nan 1,649.0000        nan 3,123.0000   \n",
       "Missing                nan         nan        nan        nan        nan   \n",
       "North                  nan         nan        nan        nan        nan   \n",
       "Scottish          203.0000    836.0000        nan        nan        nan   \n",
       "South East             nan         nan        nan 6,189.0000        nan   \n",
       "South West             nan         nan        nan        nan        nan   \n",
       "\n",
       "Television Region   N East   N Scot     N West  S & S East   S West   Ulster  \\\n",
       "Geographic Region                                                              \n",
       "Midlands               nan      nan        nan         nan      nan 266.0000   \n",
       "Missing                nan      nan        nan         nan      nan      nan   \n",
       "North             785.0000      nan 2,096.0000         nan      nan      nan   \n",
       "Scottish               nan 329.0000        nan         nan      nan      nan   \n",
       "South East             nan      nan        nan  2,445.0000      nan      nan   \n",
       "South West             nan      nan        nan         nan 691.0000      nan   \n",
       "\n",
       "Television Region  Wales & West  Yorkshire      nan  \n",
       "Geographic Region                                    \n",
       "Midlands             1,703.0000        nan      nan  \n",
       "Missing                     nan        nan 465.0000  \n",
       "North                       nan 1,443.0000      nan  \n",
       "Scottish                    nan        nan      nan  \n",
       "South East                  nan        nan      nan  \n",
       "South West                  nan        nan      nan  "
      ]
     },
     "execution_count": 34,
     "metadata": {},
     "output_type": "execute_result"
    }
   ],
   "source": [
    "organics.astype(str).groupby(by=['Geographic Region','Television Region']).size().unstack()"
   ]
  },
  {
   "cell_type": "markdown",
   "metadata": {},
   "source": [
    "Similarly it appears that Television Region are sub categories of Geographic Region. Due to colinearity only one of these two columns are necessary. We will leave both in and let feature selection handle it. We also note that nan records in Television Region, were also nan in Geographic Region."
   ]
  },
  {
   "cell_type": "code",
   "execution_count": 35,
   "metadata": {},
   "outputs": [],
   "source": [
    "organics.loc[organics['Television Region'].isnull() , 'Television Region'] = 'Missing'"
   ]
  },
  {
   "cell_type": "code",
   "execution_count": 36,
   "metadata": {},
   "outputs": [],
   "source": [
    "gender_dummies = pd.get_dummies(organics['Gender'])\n",
    "gender_dummies = gender_dummies.add_prefix('Gender_')\n",
    "organics = pd.concat([organics, gender_dummies],axis=1)"
   ]
  },
  {
   "cell_type": "code",
   "execution_count": 37,
   "metadata": {},
   "outputs": [],
   "source": [
    "geog_dummies = pd.get_dummies(organics['Geographic Region'])\n",
    "geog_dummies = geog_dummies.add_prefix('Geog_')\n",
    "organics = pd.concat([organics, geog_dummies],axis=1)"
   ]
  },
  {
   "cell_type": "code",
   "execution_count": 38,
   "metadata": {},
   "outputs": [],
   "source": [
    "loyaltyst_dummies = pd.get_dummies(organics['Loyalty Status'])\n",
    "loyaltyst_dummies = loyaltyst_dummies.add_prefix('LoyaltySt_')\n",
    "organics = pd.concat([organics, loyaltyst_dummies],axis=1)"
   ]
  },
  {
   "cell_type": "code",
   "execution_count": 39,
   "metadata": {},
   "outputs": [],
   "source": [
    "tv_dummies = pd.get_dummies(organics['Television Region'])\n",
    "tv_dummies = tv_dummies.add_prefix('Tv_')\n",
    "organics = pd.concat([organics, tv_dummies],axis=1)"
   ]
  },
  {
   "cell_type": "code",
   "execution_count": 40,
   "metadata": {},
   "outputs": [],
   "source": [
    "nb7_dummies = pd.get_dummies(organics['Neighborhood Cluster-7 Level'])\n",
    "nb7_dummies = nb7_dummies.add_prefix('Nb7_')\n",
    "organics = pd.concat([organics, nb7_dummies],axis=1)"
   ]
  },
  {
   "cell_type": "code",
   "execution_count": 41,
   "metadata": {},
   "outputs": [],
   "source": [
    "nb55_dummies = pd.get_dummies(organics['Neighborhood Cluster-55 Level'])\n",
    "nb55_dummies = nb55_dummies.add_prefix('Nb55_')\n",
    "organics = pd.concat([organics, nb55_dummies],axis=1)"
   ]
  },
  {
   "cell_type": "code",
   "execution_count": 42,
   "metadata": {},
   "outputs": [],
   "source": [
    "col_cats = ['Gender','Geographic Region', 'Television Region','Loyalty Status','Neighborhood Cluster-7 Level','Neighborhood Cluster-55 Level']\n",
    "col_notreq = ['Customer Loyalty ID','Frequency','Frequency Percent','Organics Purchase Count']"
   ]
  },
  {
   "cell_type": "code",
   "execution_count": 43,
   "metadata": {},
   "outputs": [],
   "source": [
    "organics_clean = organics.drop(col_cats,axis=1).drop(col_notreq,axis=1)"
   ]
  },
  {
   "cell_type": "code",
   "execution_count": 44,
   "metadata": {},
   "outputs": [],
   "source": [
    "col_clean = organics_clean.columns.tolist()"
   ]
  },
  {
   "cell_type": "code",
   "execution_count": 45,
   "metadata": {},
   "outputs": [],
   "source": [
    "# organics.head(20)"
   ]
  },
  {
   "cell_type": "code",
   "execution_count": 46,
   "metadata": {},
   "outputs": [
    {
     "data": {
      "text/plain": [
       "0"
      ]
     },
     "execution_count": 46,
     "metadata": {},
     "output_type": "execute_result"
    }
   ],
   "source": [
    "organics.isnull().any().sum()"
   ]
  },
  {
   "cell_type": "code",
   "execution_count": 47,
   "metadata": {},
   "outputs": [
    {
     "data": {
      "text/plain": [
       "0"
      ]
     },
     "execution_count": 47,
     "metadata": {},
     "output_type": "execute_result"
    }
   ],
   "source": [
    "organics.shape[0] - organics.dropna().shape[0]"
   ]
  },
  {
   "cell_type": "markdown",
   "metadata": {},
   "source": [
    "### 4. Split train test set\n",
    "\n",
    "We separate the features from the label. "
   ]
  },
  {
   "cell_type": "code",
   "execution_count": 48,
   "metadata": {},
   "outputs": [],
   "source": [
    "organics_X = organics_clean.drop('Organics Purchase Indicator', axis=1) # drop labels for training/ test X values\n",
    "organics_y = organics_clean['Organics Purchase Indicator'].copy()"
   ]
  },
  {
   "cell_type": "code",
   "execution_count": 49,
   "metadata": {},
   "outputs": [
    {
     "data": {
      "text/plain": [
       "(22223, 99)"
      ]
     },
     "execution_count": 49,
     "metadata": {},
     "output_type": "execute_result"
    }
   ],
   "source": [
    "organics_X.shape"
   ]
  },
  {
   "cell_type": "code",
   "execution_count": 50,
   "metadata": {},
   "outputs": [
    {
     "data": {
      "text/plain": [
       "(22223,)"
      ]
     },
     "execution_count": 50,
     "metadata": {},
     "output_type": "execute_result"
    }
   ],
   "source": [
    "organics_y.shape"
   ]
  },
  {
   "cell_type": "code",
   "execution_count": 51,
   "metadata": {},
   "outputs": [],
   "source": [
    "from sklearn.model_selection import train_test_split\n",
    "X_train, X_test, y_train, y_test = train_test_split(organics_X, organics_y,train_size=0.80, test_size=0.20, random_state=seedno)"
   ]
  },
  {
   "cell_type": "code",
   "execution_count": 52,
   "metadata": {},
   "outputs": [],
   "source": [
    "X_train.reset_index(inplace=True,drop=True)\n",
    "y_train.reset_index(inplace=True,drop=True)\n",
    "X_test.reset_index(inplace=True,drop=True)\n",
    "y_test.reset_index(inplace=True,drop=True)"
   ]
  },
  {
   "cell_type": "markdown",
   "metadata": {},
   "source": [
    "Now that we have split the training and test dataset, we will re-impute the missing numerical values with the median of the training set. \n",
    "\n",
    "We will also standardize the numerical values which are not in 0 to 1 range. For columns already in 0 (e.g. dummy variables), 1 form we will not further standardization. Standardization is only performed after splitting the dataset in order to avoid contamination of data between the training and test dataset. "
   ]
  },
  {
   "cell_type": "code",
   "execution_count": 53,
   "metadata": {},
   "outputs": [
    {
     "name": "stderr",
     "output_type": "stream",
     "text": [
      "/Users/alphaniang/anaconda3/lib/python3.6/site-packages/pandas/core/indexing.py:543: SettingWithCopyWarning: \n",
      "A value is trying to be set on a copy of a slice from a DataFrame.\n",
      "Try using .loc[row_indexer,col_indexer] = value instead\n",
      "\n",
      "See the caveats in the documentation: http://pandas.pydata.org/pandas-docs/stable/indexing.html#indexing-view-versus-copy\n",
      "  self.obj[item] = s\n"
     ]
    }
   ],
   "source": [
    "X_train_age_median = X_train.loc[X_train['Age Missing'] == 0, 'Age'].median()\n",
    "X_train_loyalty_median = X_train.loc[X_train['Loyalty Card Tenure Missing'] == 0, 'Loyalty Card Tenure'].median()\n",
    "X_train_affluence_median = X_train.loc[X_train['Affluence Grade Missing'] == 0, 'Affluence Grade'].median()\n",
    "\n",
    "X_train.loc[X_train['Age Missing'] == 1, 'Age'] = X_train_age_median\n",
    "X_train.loc[X_train['Loyalty Card Tenure Missing'] == 1, 'Loyalty Card Tenure'] = X_train_loyalty_median\n",
    "X_train.loc[X_train['Affluence Grade Missing'] == 1, 'Affluence Grade'] = X_train_affluence_median\n",
    "\n",
    "X_test.loc[X_test['Age Missing'] == 1, 'Age'] = X_train_age_median\n",
    "X_test.loc[X_test['Loyalty Card Tenure Missing'] == 1, 'Loyalty Card Tenure'] = X_train_loyalty_median\n",
    "X_test.loc[X_test['Affluence Grade Missing'] == 1, 'Affluence Grade'] = X_train_affluence_median"
   ]
  },
  {
   "cell_type": "code",
   "execution_count": 54,
   "metadata": {},
   "outputs": [],
   "source": [
    "from sklearn.preprocessing import StandardScaler\n",
    "numericals = ['Affluence Grade','Age','Loyalty Card Tenure','Total Spend']\n",
    "numericals_scale = StandardScaler().fit(X_train[numericals])\n",
    "\n",
    "X_train_scaled = numericals_scale.transform(X_train[numericals])\n",
    "X_train = pd.concat([X_train.drop(numericals,axis=1), pd.DataFrame(X_train_scaled,columns=numericals)],axis=1)\n",
    "\n",
    "X_test_scaled = numericals_scale.transform(X_test[numericals])\n",
    "X_test = pd.concat([X_test.drop(numericals,axis=1), pd.DataFrame(X_test_scaled,columns=numericals)],axis=1)"
   ]
  },
  {
   "cell_type": "markdown",
   "metadata": {},
   "source": [
    "### 5. Prediction"
   ]
  },
  {
   "cell_type": "markdown",
   "metadata": {},
   "source": [
    "#### Review of Performance Different Models\n",
    "\n",
    "After the tedious process of reviewing and preparing the data, its time to predict prices! For large datasets, we may not have computational resources to look at the performance of all models, but our dataset size is reasonable. We run 10 models to review the performance of each."
   ]
  },
  {
   "cell_type": "code",
   "execution_count": 55,
   "metadata": {},
   "outputs": [],
   "source": [
    "# Copy import statements of models from PolyMall and run them.\n",
    "from sklearn.linear_model import LogisticRegression\n",
    "from sklearn.linear_model import SGDClassifier\n",
    "from sklearn.tree import DecisionTreeClassifier\n",
    "from sklearn.neighbors import KNeighborsClassifier\n",
    "from sklearn.svm import SVC\n",
    "from sklearn.svm import LinearSVC\n",
    "from sklearn.naive_bayes import GaussianNB\n",
    "from sklearn.ensemble import RandomForestClassifier\n",
    "from sklearn.ensemble import GradientBoostingClassifier\n",
    "from sklearn.neural_network import MLPClassifier\n",
    "import time"
   ]
  },
  {
   "cell_type": "code",
   "execution_count": 56,
   "metadata": {},
   "outputs": [],
   "source": [
    "models = []\n",
    "models.append(('LR', LogisticRegression(random_state=seedno,solver='lbfgs',max_iter=20000)))\n",
    "models.append(('SGD', SGDClassifier(max_iter=1000, tol=1e-3, random_state=seedno)))\n",
    "models.append(('DT', DecisionTreeClassifier(random_state=seedno)))\n",
    "models.append(('KNN', KNeighborsClassifier(n_neighbors=3)))\n",
    "models.append(('SVC', SVC(random_state=seedno,gamma='auto',max_iter=20000)))\n",
    "models.append(('LSVC', LinearSVC(random_state=seedno,max_iter=20000)))\n",
    "models.append(('GNB', GaussianNB()))\n",
    "models.append(('RF', RandomForestClassifier(random_state=seedno,n_estimators=100)))\n",
    "models.append(('GB', GradientBoostingClassifier(random_state=seedno)))\n",
    "models.append(('MLP', MLPClassifier(random_state=seedno,max_iter=20000)))"
   ]
  },
  {
   "cell_type": "code",
   "execution_count": 57,
   "metadata": {},
   "outputs": [],
   "source": [
    "from sklearn.model_selection import StratifiedKFold\n",
    "from sklearn.model_selection import cross_val_score\n",
    "from sklearn.model_selection import cross_validate\n",
    "from sklearn.metrics import roc_curve, auc, roc_auc_score\n",
    "from sklearn.metrics import classification_report\n",
    "import time"
   ]
  },
  {
   "cell_type": "code",
   "execution_count": 58,
   "metadata": {},
   "outputs": [],
   "source": [
    "cat_names=[]\n",
    "model_names = []\n",
    "accuracy_scores=[]\n",
    "precision_scores = []\n",
    "recall_scores = []\n",
    "f1_scores = []\n",
    "roc_auc_scores = []\n",
    "index = 0\n",
    "\n",
    "for model_name, model in models:\n",
    "    scores = cross_validate(model,X_train,y_train, cv=10, scoring =('accuracy','precision','recall','f1','roc_auc'))\n",
    "\n",
    "    accuracy_score = scores['test_accuracy'].mean()\n",
    "    precision_score = scores['test_precision'].mean()\n",
    "    recall_score = scores['test_recall'].mean()\n",
    "    roc_auc_score = scores['test_roc_auc'].mean()\n",
    "    f1_score = scores['test_f1'].mean()\n",
    "    model_names.append(model_name)\n",
    "\n",
    "    accuracy_scores.append(accuracy_score)\n",
    "    precision_scores.append(precision_score)\n",
    "    recall_scores.append(recall_score)\n",
    "    f1_scores.append(f1_score)\n",
    "    roc_auc_scores.append(roc_auc_score)\n",
    "    cat_names.append('baseline')\n",
    "\n",
    "# # too impatient to view results after X hours. display score and runtime per model/scaler after each run\n",
    "#     models_fit = pd.DataFrame({\"Model\": model_names,\"Accuracy\":accuracy_scores,\"Precision\": precision_scores,\"Recall\": recall_scores,\"f1\":f1_scores,\"AUC\": roc_auc_scores})\n",
    "#     display(models_fit.loc[[index],:])\n",
    "#     index += 1"
   ]
  },
  {
   "cell_type": "code",
   "execution_count": 59,
   "metadata": {},
   "outputs": [
    {
     "data": {
      "text/html": [
       "<div>\n",
       "<style scoped>\n",
       "    .dataframe tbody tr th:only-of-type {\n",
       "        vertical-align: middle;\n",
       "    }\n",
       "\n",
       "    .dataframe tbody tr th {\n",
       "        vertical-align: top;\n",
       "    }\n",
       "\n",
       "    .dataframe thead th {\n",
       "        text-align: right;\n",
       "    }\n",
       "</style>\n",
       "<table border=\"1\" class=\"dataframe\">\n",
       "  <thead>\n",
       "    <tr style=\"text-align: right;\">\n",
       "      <th></th>\n",
       "      <th>Type</th>\n",
       "      <th>Model</th>\n",
       "      <th>Accuracy</th>\n",
       "      <th>Precision</th>\n",
       "      <th>Recall</th>\n",
       "      <th>f1</th>\n",
       "      <th>AUC</th>\n",
       "    </tr>\n",
       "  </thead>\n",
       "  <tbody>\n",
       "    <tr>\n",
       "      <th>0</th>\n",
       "      <td>baseline</td>\n",
       "      <td>GB</td>\n",
       "      <td>0.8151</td>\n",
       "      <td>0.6945</td>\n",
       "      <td>0.4444</td>\n",
       "      <td>0.5417</td>\n",
       "      <td>0.8263</td>\n",
       "    </tr>\n",
       "    <tr>\n",
       "      <th>1</th>\n",
       "      <td>baseline</td>\n",
       "      <td>LR</td>\n",
       "      <td>0.8097</td>\n",
       "      <td>0.6974</td>\n",
       "      <td>0.4007</td>\n",
       "      <td>0.5086</td>\n",
       "      <td>0.8028</td>\n",
       "    </tr>\n",
       "    <tr>\n",
       "      <th>2</th>\n",
       "      <td>baseline</td>\n",
       "      <td>RF</td>\n",
       "      <td>0.8040</td>\n",
       "      <td>0.6674</td>\n",
       "      <td>0.4058</td>\n",
       "      <td>0.5045</td>\n",
       "      <td>0.7941</td>\n",
       "    </tr>\n",
       "    <tr>\n",
       "      <th>3</th>\n",
       "      <td>baseline</td>\n",
       "      <td>LSVC</td>\n",
       "      <td>0.8081</td>\n",
       "      <td>0.7173</td>\n",
       "      <td>0.3639</td>\n",
       "      <td>0.4824</td>\n",
       "      <td>0.8021</td>\n",
       "    </tr>\n",
       "    <tr>\n",
       "      <th>4</th>\n",
       "      <td>baseline</td>\n",
       "      <td>DT</td>\n",
       "      <td>0.7342</td>\n",
       "      <td>0.4615</td>\n",
       "      <td>0.4742</td>\n",
       "      <td>0.4675</td>\n",
       "      <td>0.6468</td>\n",
       "    </tr>\n",
       "    <tr>\n",
       "      <th>5</th>\n",
       "      <td>baseline</td>\n",
       "      <td>MLP</td>\n",
       "      <td>0.7484</td>\n",
       "      <td>0.4904</td>\n",
       "      <td>0.4458</td>\n",
       "      <td>0.4659</td>\n",
       "      <td>0.7266</td>\n",
       "    </tr>\n",
       "    <tr>\n",
       "      <th>6</th>\n",
       "      <td>baseline</td>\n",
       "      <td>KNN</td>\n",
       "      <td>0.7626</td>\n",
       "      <td>0.5243</td>\n",
       "      <td>0.3895</td>\n",
       "      <td>0.4467</td>\n",
       "      <td>0.6927</td>\n",
       "    </tr>\n",
       "    <tr>\n",
       "      <th>7</th>\n",
       "      <td>baseline</td>\n",
       "      <td>SGD</td>\n",
       "      <td>0.8018</td>\n",
       "      <td>0.7327</td>\n",
       "      <td>0.3207</td>\n",
       "      <td>0.4361</td>\n",
       "      <td>0.7938</td>\n",
       "    </tr>\n",
       "    <tr>\n",
       "      <th>8</th>\n",
       "      <td>baseline</td>\n",
       "      <td>GNB</td>\n",
       "      <td>0.6800</td>\n",
       "      <td>0.3822</td>\n",
       "      <td>0.4886</td>\n",
       "      <td>0.4287</td>\n",
       "      <td>0.6633</td>\n",
       "    </tr>\n",
       "    <tr>\n",
       "      <th>9</th>\n",
       "      <td>baseline</td>\n",
       "      <td>SVC</td>\n",
       "      <td>0.8034</td>\n",
       "      <td>0.7759</td>\n",
       "      <td>0.2827</td>\n",
       "      <td>0.4142</td>\n",
       "      <td>0.8057</td>\n",
       "    </tr>\n",
       "  </tbody>\n",
       "</table>\n",
       "</div>"
      ],
      "text/plain": [
       "       Type Model  Accuracy  Precision  Recall     f1    AUC\n",
       "0  baseline    GB    0.8151     0.6945  0.4444 0.5417 0.8263\n",
       "1  baseline    LR    0.8097     0.6974  0.4007 0.5086 0.8028\n",
       "2  baseline    RF    0.8040     0.6674  0.4058 0.5045 0.7941\n",
       "3  baseline  LSVC    0.8081     0.7173  0.3639 0.4824 0.8021\n",
       "4  baseline    DT    0.7342     0.4615  0.4742 0.4675 0.6468\n",
       "5  baseline   MLP    0.7484     0.4904  0.4458 0.4659 0.7266\n",
       "6  baseline   KNN    0.7626     0.5243  0.3895 0.4467 0.6927\n",
       "7  baseline   SGD    0.8018     0.7327  0.3207 0.4361 0.7938\n",
       "8  baseline   GNB    0.6800     0.3822  0.4886 0.4287 0.6633\n",
       "9  baseline   SVC    0.8034     0.7759  0.2827 0.4142 0.8057"
      ]
     },
     "metadata": {},
     "output_type": "display_data"
    }
   ],
   "source": [
    "models_fit = pd.DataFrame({\"Type\":cat_names,\"Model\": model_names,\"Accuracy\":accuracy_scores,\"Precision\": precision_scores,\"Recall\": recall_scores,\"f1\": f1_scores,\"AUC\": roc_auc_scores}).sort_values(by='f1',ascending=False).reset_index(drop=True)\n",
    "display(models_fit.loc[models_fit['Type']=='baseline',:])"
   ]
  },
  {
   "cell_type": "markdown",
   "metadata": {},
   "source": [
    "We try oversampling the minority class to see if we could improve the results"
   ]
  },
  {
   "cell_type": "code",
   "execution_count": 60,
   "metadata": {},
   "outputs": [],
   "source": [
    "from imblearn.pipeline import Pipeline\n",
    "from imblearn.over_sampling import SMOTE\n",
    "sm = SMOTE(random_state=seedno)\n",
    "\n",
    "for model_name, model in models:\n",
    "    pipeline = Pipeline([('sm', sm), (model_name, model)])\n",
    "    scores = cross_validate(pipeline,X_train,y_train, cv=10, scoring =('accuracy','precision','recall','f1','roc_auc'))\n",
    "\n",
    "    accuracy_score = scores['test_accuracy'].mean()\n",
    "    precision_score = scores['test_precision'].mean()\n",
    "    recall_score = scores['test_recall'].mean()\n",
    "    roc_auc_score = scores['test_roc_auc'].mean()\n",
    "    f1_score = scores['test_f1'].mean()\n",
    "    model_names.append(model_name)\n",
    "\n",
    "    accuracy_scores.append(accuracy_score)\n",
    "    precision_scores.append(precision_score)\n",
    "    recall_scores.append(recall_score)\n",
    "    f1_scores.append(f1_score)\n",
    "    roc_auc_scores.append(roc_auc_score)\n",
    "    cat_names.append('balanced')\n",
    "\n",
    "# # too impatient to view results after X hours. display score and runtime per model/scaler after each run\n",
    "#     models_fit = pd.DataFrame({\"Model\": model_names,\"Accuracy\":accuracy_scores,\"Precision\": precision_scores,\"Recall\": recall_scores,\"f1\":f1_scores,\"AUC\": roc_auc_scores})\n",
    "#     display(models_fit.loc[[index],:])\n",
    "#     index += 1"
   ]
  },
  {
   "cell_type": "code",
   "execution_count": 61,
   "metadata": {},
   "outputs": [
    {
     "data": {
      "text/html": [
       "<div>\n",
       "<style scoped>\n",
       "    .dataframe tbody tr th:only-of-type {\n",
       "        vertical-align: middle;\n",
       "    }\n",
       "\n",
       "    .dataframe tbody tr th {\n",
       "        vertical-align: top;\n",
       "    }\n",
       "\n",
       "    .dataframe thead th {\n",
       "        text-align: right;\n",
       "    }\n",
       "</style>\n",
       "<table border=\"1\" class=\"dataframe\">\n",
       "  <thead>\n",
       "    <tr style=\"text-align: right;\">\n",
       "      <th></th>\n",
       "      <th>Type</th>\n",
       "      <th>Model</th>\n",
       "      <th>Accuracy</th>\n",
       "      <th>Precision</th>\n",
       "      <th>Recall</th>\n",
       "      <th>f1</th>\n",
       "      <th>AUC</th>\n",
       "    </tr>\n",
       "  </thead>\n",
       "  <tbody>\n",
       "    <tr>\n",
       "      <th>0</th>\n",
       "      <td>balanced</td>\n",
       "      <td>GB</td>\n",
       "      <td>0.7986</td>\n",
       "      <td>0.5919</td>\n",
       "      <td>0.5844</td>\n",
       "      <td>0.5879</td>\n",
       "      <td>0.8223</td>\n",
       "    </tr>\n",
       "    <tr>\n",
       "      <th>1</th>\n",
       "      <td>balanced</td>\n",
       "      <td>SVC</td>\n",
       "      <td>0.7382</td>\n",
       "      <td>0.4783</td>\n",
       "      <td>0.7043</td>\n",
       "      <td>0.5696</td>\n",
       "      <td>0.8066</td>\n",
       "    </tr>\n",
       "    <tr>\n",
       "      <th>2</th>\n",
       "      <td>balanced</td>\n",
       "      <td>LR</td>\n",
       "      <td>0.7277</td>\n",
       "      <td>0.4651</td>\n",
       "      <td>0.7114</td>\n",
       "      <td>0.5624</td>\n",
       "      <td>0.8012</td>\n",
       "    </tr>\n",
       "    <tr>\n",
       "      <th>3</th>\n",
       "      <td>balanced</td>\n",
       "      <td>LSVC</td>\n",
       "      <td>0.7272</td>\n",
       "      <td>0.4645</td>\n",
       "      <td>0.7125</td>\n",
       "      <td>0.5623</td>\n",
       "      <td>0.8013</td>\n",
       "    </tr>\n",
       "    <tr>\n",
       "      <th>4</th>\n",
       "      <td>balanced</td>\n",
       "      <td>SGD</td>\n",
       "      <td>0.7222</td>\n",
       "      <td>0.4593</td>\n",
       "      <td>0.7104</td>\n",
       "      <td>0.5574</td>\n",
       "      <td>0.7985</td>\n",
       "    </tr>\n",
       "    <tr>\n",
       "      <th>6</th>\n",
       "      <td>balanced</td>\n",
       "      <td>RF</td>\n",
       "      <td>0.7955</td>\n",
       "      <td>0.6061</td>\n",
       "      <td>0.4829</td>\n",
       "      <td>0.5373</td>\n",
       "      <td>0.7942</td>\n",
       "    </tr>\n",
       "    <tr>\n",
       "      <th>10</th>\n",
       "      <td>balanced</td>\n",
       "      <td>KNN</td>\n",
       "      <td>0.6695</td>\n",
       "      <td>0.3908</td>\n",
       "      <td>0.6137</td>\n",
       "      <td>0.4775</td>\n",
       "      <td>0.6910</td>\n",
       "    </tr>\n",
       "    <tr>\n",
       "      <th>11</th>\n",
       "      <td>balanced</td>\n",
       "      <td>MLP</td>\n",
       "      <td>0.7348</td>\n",
       "      <td>0.4634</td>\n",
       "      <td>0.4840</td>\n",
       "      <td>0.4731</td>\n",
       "      <td>0.7164</td>\n",
       "    </tr>\n",
       "    <tr>\n",
       "      <th>14</th>\n",
       "      <td>balanced</td>\n",
       "      <td>DT</td>\n",
       "      <td>0.7276</td>\n",
       "      <td>0.4488</td>\n",
       "      <td>0.4643</td>\n",
       "      <td>0.4563</td>\n",
       "      <td>0.6389</td>\n",
       "    </tr>\n",
       "    <tr>\n",
       "      <th>16</th>\n",
       "      <td>balanced</td>\n",
       "      <td>GNB</td>\n",
       "      <td>0.6127</td>\n",
       "      <td>0.3422</td>\n",
       "      <td>0.6231</td>\n",
       "      <td>0.4416</td>\n",
       "      <td>0.6525</td>\n",
       "    </tr>\n",
       "  </tbody>\n",
       "</table>\n",
       "</div>"
      ],
      "text/plain": [
       "        Type Model  Accuracy  Precision  Recall     f1    AUC\n",
       "0   balanced    GB    0.7986     0.5919  0.5844 0.5879 0.8223\n",
       "1   balanced   SVC    0.7382     0.4783  0.7043 0.5696 0.8066\n",
       "2   balanced    LR    0.7277     0.4651  0.7114 0.5624 0.8012\n",
       "3   balanced  LSVC    0.7272     0.4645  0.7125 0.5623 0.8013\n",
       "4   balanced   SGD    0.7222     0.4593  0.7104 0.5574 0.7985\n",
       "6   balanced    RF    0.7955     0.6061  0.4829 0.5373 0.7942\n",
       "10  balanced   KNN    0.6695     0.3908  0.6137 0.4775 0.6910\n",
       "11  balanced   MLP    0.7348     0.4634  0.4840 0.4731 0.7164\n",
       "14  balanced    DT    0.7276     0.4488  0.4643 0.4563 0.6389\n",
       "16  balanced   GNB    0.6127     0.3422  0.6231 0.4416 0.6525"
      ]
     },
     "metadata": {},
     "output_type": "display_data"
    }
   ],
   "source": [
    "models_fit = pd.DataFrame({\"Type\":cat_names,\"Model\": model_names,\"Accuracy\":accuracy_scores,\"Precision\": precision_scores,\"Recall\": recall_scores,\"f1\": f1_scores,\"AUC\": roc_auc_scores}).sort_values(by='f1',ascending=False).reset_index(drop=True)\n",
    "display(models_fit.loc[models_fit['Type']=='balanced',:])"
   ]
  },
  {
   "cell_type": "markdown",
   "metadata": {},
   "source": [
    "Lastly, we look at the effect of dimensionality reduction"
   ]
  },
  {
   "cell_type": "code",
   "execution_count": 62,
   "metadata": {},
   "outputs": [],
   "source": [
    "from imblearn.pipeline import Pipeline\n",
    "from sklearn.decomposition import PCA\n",
    "from imblearn.over_sampling import SMOTE\n",
    "sm = SMOTE(random_state=seedno)\n",
    "pca = PCA(random_state=seedno)\n",
    "\n",
    "for model_name, model in models:\n",
    "    pipeline = Pipeline([('sm', sm), ('pca',pca), (model_name, model)])\n",
    "    scores = cross_validate(pipeline,X_train,y_train, cv=10, scoring =('accuracy','precision','recall','f1','roc_auc'))\n",
    "\n",
    "    accuracy_score = scores['test_accuracy'].mean()\n",
    "    precision_score = scores['test_precision'].mean()\n",
    "    recall_score = scores['test_recall'].mean()\n",
    "    roc_auc_score = scores['test_roc_auc'].mean()\n",
    "    f1_score = scores['test_f1'].mean()\n",
    "    model_names.append(model_name)\n",
    "\n",
    "    accuracy_scores.append(accuracy_score)\n",
    "    precision_scores.append(precision_score)\n",
    "    recall_scores.append(recall_score)\n",
    "    f1_scores.append(f1_score)\n",
    "    roc_auc_scores.append(roc_auc_score)\n",
    "    cat_names.append('pca_wbal')\n",
    "        \n",
    "# # too impatient to view results after X hours. display score and runtime per model/scaler after each run\n",
    "#     models_fit = pd.DataFrame({\"Model\": model_names,\"Accuracy\":accuracy_scores,\"Precision\": precision_scores,\"Recall\": recall_scores,\"f1\":f1_scores,\"AUC\": roc_auc_scores})\n",
    "#     display(models_fit.loc[[index],:])\n",
    "#     index += 1"
   ]
  },
  {
   "cell_type": "code",
   "execution_count": 63,
   "metadata": {},
   "outputs": [
    {
     "data": {
      "text/html": [
       "<div>\n",
       "<style scoped>\n",
       "    .dataframe tbody tr th:only-of-type {\n",
       "        vertical-align: middle;\n",
       "    }\n",
       "\n",
       "    .dataframe tbody tr th {\n",
       "        vertical-align: top;\n",
       "    }\n",
       "\n",
       "    .dataframe thead th {\n",
       "        text-align: right;\n",
       "    }\n",
       "</style>\n",
       "<table border=\"1\" class=\"dataframe\">\n",
       "  <thead>\n",
       "    <tr style=\"text-align: right;\">\n",
       "      <th></th>\n",
       "      <th>Type</th>\n",
       "      <th>Model</th>\n",
       "      <th>Accuracy</th>\n",
       "      <th>Precision</th>\n",
       "      <th>Recall</th>\n",
       "      <th>f1</th>\n",
       "    </tr>\n",
       "  </thead>\n",
       "  <tbody>\n",
       "    <tr>\n",
       "      <th>1</th>\n",
       "      <td>pca_wbal</td>\n",
       "      <td>GB</td>\n",
       "      <td>0.8051</td>\n",
       "      <td>0.5044</td>\n",
       "      <td>0.6651</td>\n",
       "      <td>0.5735</td>\n",
       "    </tr>\n",
       "    <tr>\n",
       "      <th>3</th>\n",
       "      <td>pca_wbal</td>\n",
       "      <td>SVC</td>\n",
       "      <td>0.8066</td>\n",
       "      <td>0.4783</td>\n",
       "      <td>0.7043</td>\n",
       "      <td>0.5696</td>\n",
       "    </tr>\n",
       "    <tr>\n",
       "      <th>6</th>\n",
       "      <td>pca_wbal</td>\n",
       "      <td>LSVC</td>\n",
       "      <td>0.8013</td>\n",
       "      <td>0.4645</td>\n",
       "      <td>0.7125</td>\n",
       "      <td>0.5623</td>\n",
       "    </tr>\n",
       "    <tr>\n",
       "      <th>7</th>\n",
       "      <td>pca_wbal</td>\n",
       "      <td>LR</td>\n",
       "      <td>0.8012</td>\n",
       "      <td>0.4650</td>\n",
       "      <td>0.7114</td>\n",
       "      <td>0.5623</td>\n",
       "    </tr>\n",
       "    <tr>\n",
       "      <th>9</th>\n",
       "      <td>pca_wbal</td>\n",
       "      <td>SGD</td>\n",
       "      <td>0.7962</td>\n",
       "      <td>0.4540</td>\n",
       "      <td>0.7066</td>\n",
       "      <td>0.5527</td>\n",
       "    </tr>\n",
       "    <tr>\n",
       "      <th>12</th>\n",
       "      <td>pca_wbal</td>\n",
       "      <td>RF</td>\n",
       "      <td>0.7752</td>\n",
       "      <td>0.5563</td>\n",
       "      <td>0.5055</td>\n",
       "      <td>0.5295</td>\n",
       "    </tr>\n",
       "    <tr>\n",
       "      <th>16</th>\n",
       "      <td>pca_wbal</td>\n",
       "      <td>KNN</td>\n",
       "      <td>0.6911</td>\n",
       "      <td>0.3909</td>\n",
       "      <td>0.6137</td>\n",
       "      <td>0.4775</td>\n",
       "    </tr>\n",
       "    <tr>\n",
       "      <th>21</th>\n",
       "      <td>pca_wbal</td>\n",
       "      <td>DT</td>\n",
       "      <td>0.6405</td>\n",
       "      <td>0.4141</td>\n",
       "      <td>0.5220</td>\n",
       "      <td>0.4617</td>\n",
       "    </tr>\n",
       "    <tr>\n",
       "      <th>22</th>\n",
       "      <td>pca_wbal</td>\n",
       "      <td>MLP</td>\n",
       "      <td>0.7109</td>\n",
       "      <td>0.4524</td>\n",
       "      <td>0.4700</td>\n",
       "      <td>0.4608</td>\n",
       "    </tr>\n",
       "    <tr>\n",
       "      <th>27</th>\n",
       "      <td>pca_wbal</td>\n",
       "      <td>GNB</td>\n",
       "      <td>0.6482</td>\n",
       "      <td>0.3265</td>\n",
       "      <td>0.6375</td>\n",
       "      <td>0.4316</td>\n",
       "    </tr>\n",
       "  </tbody>\n",
       "</table>\n",
       "</div>"
      ],
      "text/plain": [
       "        Type Model  Accuracy  Precision  Recall     f1\n",
       "1   pca_wbal    GB    0.8051     0.5044  0.6651 0.5735\n",
       "3   pca_wbal   SVC    0.8066     0.4783  0.7043 0.5696\n",
       "6   pca_wbal  LSVC    0.8013     0.4645  0.7125 0.5623\n",
       "7   pca_wbal    LR    0.8012     0.4650  0.7114 0.5623\n",
       "9   pca_wbal   SGD    0.7962     0.4540  0.7066 0.5527\n",
       "12  pca_wbal    RF    0.7752     0.5563  0.5055 0.5295\n",
       "16  pca_wbal   KNN    0.6911     0.3909  0.6137 0.4775\n",
       "21  pca_wbal    DT    0.6405     0.4141  0.5220 0.4617\n",
       "22  pca_wbal   MLP    0.7109     0.4524  0.4700 0.4608\n",
       "27  pca_wbal   GNB    0.6482     0.3265  0.6375 0.4316"
      ]
     },
     "metadata": {},
     "output_type": "display_data"
    }
   ],
   "source": [
    "models_fit = pd.DataFrame({\"Type\":cat_names,\"Model\": model_names,\"Accuracy\":accuracy_scores,\"Precision\": precision_scores,\"Recall\": recall_scores,\"f1\": f1_scores,\"Accuracy\": roc_auc_scores}).sort_values(by='f1',ascending=False).reset_index(drop=True)\n",
    "display(models_fit.loc[models_fit['Type']=='pca_wbal',:])"
   ]
  },
  {
   "cell_type": "code",
   "execution_count": 64,
   "metadata": {},
   "outputs": [
    {
     "data": {
      "text/html": [
       "<div>\n",
       "<style scoped>\n",
       "    .dataframe tbody tr th:only-of-type {\n",
       "        vertical-align: middle;\n",
       "    }\n",
       "\n",
       "    .dataframe tbody tr th {\n",
       "        vertical-align: top;\n",
       "    }\n",
       "\n",
       "    .dataframe thead th {\n",
       "        text-align: right;\n",
       "    }\n",
       "</style>\n",
       "<table border=\"1\" class=\"dataframe\">\n",
       "  <thead>\n",
       "    <tr style=\"text-align: right;\">\n",
       "      <th></th>\n",
       "      <th>Type</th>\n",
       "      <th>Model</th>\n",
       "      <th>Accuracy</th>\n",
       "      <th>Precision</th>\n",
       "      <th>Recall</th>\n",
       "      <th>f1</th>\n",
       "    </tr>\n",
       "  </thead>\n",
       "  <tbody>\n",
       "    <tr>\n",
       "      <th>0</th>\n",
       "      <td>balanced</td>\n",
       "      <td>GB</td>\n",
       "      <td>0.8223</td>\n",
       "      <td>0.5919</td>\n",
       "      <td>0.5844</td>\n",
       "      <td>0.5879</td>\n",
       "    </tr>\n",
       "    <tr>\n",
       "      <th>1</th>\n",
       "      <td>pca_wbal</td>\n",
       "      <td>GB</td>\n",
       "      <td>0.8051</td>\n",
       "      <td>0.5044</td>\n",
       "      <td>0.6651</td>\n",
       "      <td>0.5735</td>\n",
       "    </tr>\n",
       "    <tr>\n",
       "      <th>2</th>\n",
       "      <td>balanced</td>\n",
       "      <td>SVC</td>\n",
       "      <td>0.8066</td>\n",
       "      <td>0.4783</td>\n",
       "      <td>0.7043</td>\n",
       "      <td>0.5696</td>\n",
       "    </tr>\n",
       "    <tr>\n",
       "      <th>3</th>\n",
       "      <td>pca_wbal</td>\n",
       "      <td>SVC</td>\n",
       "      <td>0.8066</td>\n",
       "      <td>0.4783</td>\n",
       "      <td>0.7043</td>\n",
       "      <td>0.5696</td>\n",
       "    </tr>\n",
       "    <tr>\n",
       "      <th>4</th>\n",
       "      <td>balanced</td>\n",
       "      <td>LR</td>\n",
       "      <td>0.8012</td>\n",
       "      <td>0.4651</td>\n",
       "      <td>0.7114</td>\n",
       "      <td>0.5624</td>\n",
       "    </tr>\n",
       "    <tr>\n",
       "      <th>5</th>\n",
       "      <td>balanced</td>\n",
       "      <td>LSVC</td>\n",
       "      <td>0.8013</td>\n",
       "      <td>0.4645</td>\n",
       "      <td>0.7125</td>\n",
       "      <td>0.5623</td>\n",
       "    </tr>\n",
       "    <tr>\n",
       "      <th>6</th>\n",
       "      <td>pca_wbal</td>\n",
       "      <td>LSVC</td>\n",
       "      <td>0.8013</td>\n",
       "      <td>0.4645</td>\n",
       "      <td>0.7125</td>\n",
       "      <td>0.5623</td>\n",
       "    </tr>\n",
       "    <tr>\n",
       "      <th>7</th>\n",
       "      <td>pca_wbal</td>\n",
       "      <td>LR</td>\n",
       "      <td>0.8012</td>\n",
       "      <td>0.4650</td>\n",
       "      <td>0.7114</td>\n",
       "      <td>0.5623</td>\n",
       "    </tr>\n",
       "    <tr>\n",
       "      <th>8</th>\n",
       "      <td>balanced</td>\n",
       "      <td>SGD</td>\n",
       "      <td>0.7985</td>\n",
       "      <td>0.4593</td>\n",
       "      <td>0.7104</td>\n",
       "      <td>0.5574</td>\n",
       "    </tr>\n",
       "    <tr>\n",
       "      <th>9</th>\n",
       "      <td>pca_wbal</td>\n",
       "      <td>SGD</td>\n",
       "      <td>0.7962</td>\n",
       "      <td>0.4540</td>\n",
       "      <td>0.7066</td>\n",
       "      <td>0.5527</td>\n",
       "    </tr>\n",
       "  </tbody>\n",
       "</table>\n",
       "</div>"
      ],
      "text/plain": [
       "       Type Model  Accuracy  Precision  Recall     f1\n",
       "0  balanced    GB    0.8223     0.5919  0.5844 0.5879\n",
       "1  pca_wbal    GB    0.8051     0.5044  0.6651 0.5735\n",
       "2  balanced   SVC    0.8066     0.4783  0.7043 0.5696\n",
       "3  pca_wbal   SVC    0.8066     0.4783  0.7043 0.5696\n",
       "4  balanced    LR    0.8012     0.4651  0.7114 0.5624\n",
       "5  balanced  LSVC    0.8013     0.4645  0.7125 0.5623\n",
       "6  pca_wbal  LSVC    0.8013     0.4645  0.7125 0.5623\n",
       "7  pca_wbal    LR    0.8012     0.4650  0.7114 0.5623\n",
       "8  balanced   SGD    0.7985     0.4593  0.7104 0.5574\n",
       "9  pca_wbal   SGD    0.7962     0.4540  0.7066 0.5527"
      ]
     },
     "metadata": {},
     "output_type": "display_data"
    }
   ],
   "source": [
    "display(models_fit[0:10])"
   ]
  },
  {
   "cell_type": "markdown",
   "metadata": {},
   "source": [
    "### 6. Selecting the Model"
   ]
  },
  {
   "cell_type": "markdown",
   "metadata": {},
   "source": [
    "Based on the business case, we presume that the company wants to identify the group of customers that they could target for their marketing purposes. The objective is improve the f1 score (i.e. balanced precision and recall), such that the positive class who would purchase organic products are sent marketing materials but on the other hand not to incur unecessary costs of sending marketing materials to false positives.\n",
    "\n",
    "We use grid search to make further refinements to the parameters to see if we can improve its performance\n",
    "\n",
    "Two models, Gradient Boosting Classifier and Logistic Regression are shortlisted for grid search before final selection. These were selected over SVC and LSVC due to their shorter run time."
   ]
  },
  {
   "cell_type": "markdown",
   "metadata": {},
   "source": [
    "#### Logistic Regression"
   ]
  },
  {
   "cell_type": "markdown",
   "metadata": {},
   "source": [
    "Lets see the baseline logistic regression model performance before grid search"
   ]
  },
  {
   "cell_type": "code",
   "execution_count": 65,
   "metadata": {},
   "outputs": [],
   "source": [
    "lrgr=LogisticRegression(random_state=seedno,max_iter=10000,solver='lbfgs',class_weight='balanced')\n",
    "pipeline = Pipeline([ ('pca',pca),('lrgr', lrgr)])\n",
    "scoring_list = {'Accuracy': 'accuracy', 'Precision': 'precision', 'Recall': 'recall', 'f1': 'f1', 'AUC': 'roc_auc' }\n",
    "scores = cross_validate(pipeline,X_train,y_train, cv=10, scoring =scoring_list,return_estimator=True)"
   ]
  },
  {
   "cell_type": "code",
   "execution_count": 66,
   "metadata": {},
   "outputs": [
    {
     "data": {
      "text/plain": [
       "Pipeline(memory=None,\n",
       "     steps=[('pca', PCA(copy=True, iterated_power='auto', n_components=None, random_state=18704,\n",
       "  svd_solver='auto', tol=0.0, whiten=False)), ('lrgr', LogisticRegression(C=1.0, class_weight='balanced', dual=False,\n",
       "          fit_intercept=True, intercept_scaling=1, max_iter=10000,\n",
       "          multi_class='warn', n_jobs=None, penalty='l2',\n",
       "          random_state=18704, solver='lbfgs', tol=0.0001, verbose=0,\n",
       "          warm_start=False))])"
      ]
     },
     "metadata": {},
     "output_type": "display_data"
    }
   ],
   "source": [
    "display(scores['estimator'][0])"
   ]
  },
  {
   "cell_type": "code",
   "execution_count": 67,
   "metadata": {},
   "outputs": [
    {
     "data": {
      "text/plain": [
       "0.5607168402438247"
      ]
     },
     "execution_count": 67,
     "metadata": {},
     "output_type": "execute_result"
    }
   ],
   "source": [
    "scores['test_f1'].mean()"
   ]
  },
  {
   "cell_type": "code",
   "execution_count": 68,
   "metadata": {},
   "outputs": [],
   "source": [
    "from sklearn.model_selection import GridSearchCV"
   ]
  },
  {
   "cell_type": "markdown",
   "metadata": {},
   "source": [
    "We perform grid search to find if we can tweak the model parameters to improve performance."
   ]
  },
  {
   "cell_type": "code",
   "execution_count": 69,
   "metadata": {
    "scrolled": false
   },
   "outputs": [
    {
     "data": {
      "text/plain": [
       "GridSearchCV(cv=10, error_score='raise-deprecating',\n",
       "       estimator=Pipeline(memory=None,\n",
       "     steps=[('pca', PCA(copy=True, iterated_power='auto', n_components=None, random_state=18704,\n",
       "  svd_solver='auto', tol=0.0, whiten=False)), ('lrgr', LogisticRegression(C=1.0, class_weight='balanced', dual=False,\n",
       "          fit_intercept=True, intercept_scaling=1, max_iter=10000,\n",
       "          multi_class='warn', n_jobs=None, penalty='l2',\n",
       "          random_state=18704, solver='lbfgs', tol=0.0001, verbose=0,\n",
       "          warm_start=False))]),\n",
       "       fit_params=None, iid='warn', n_jobs=None,\n",
       "       param_grid=[{'lrgr__class_weight': [None, 'balanced'], 'lrgr__max_iter': [10000], 'lrgr__penalty': ['l1'], 'lrgr__solver': ['liblinear', 'saga'], 'lrgr__multi_class': ['ovr'], 'lrgr__C': [0.001, 0.01, 0.1, 1, 10, 100, 1000]}, {'lrgr__class_weight': [None, 'balanced'], 'lrgr__max_iter': [10000], 'lrgr__penalty': ['l2'], 'lrgr__solver': ['newton-cg', 'lbfgs', 'sag'], 'lrgr__multi_class': ['ovr'], 'lrgr__C': [0.001, 0.01, 0.1, 1, 10, 100, 1000]}],\n",
       "       pre_dispatch='2*n_jobs', refit='f1', return_train_score=True,\n",
       "       scoring={'Accuracy': 'accuracy', 'Precision': 'precision', 'Recall': 'recall', 'f1': 'f1', 'AUC': 'roc_auc'},\n",
       "       verbose=0)"
      ]
     },
     "execution_count": 69,
     "metadata": {},
     "output_type": "execute_result"
    }
   ],
   "source": [
    "from sklearn.model_selection import GridSearchCV\n",
    "\n",
    "lrgr_param_grid = [\n",
    "    {'lrgr__class_weight': ['balanced'],'lrgr__max_iter':[10000],'lrgr__penalty': ['l1'], 'lrgr__solver': ['liblinear', 'saga'],'lrgr__multi_class': ['ovr'],'lrgr__class_weight': [None, 'balanced'],'lrgr__C': [0.001, 0.01, 0.1, 1, 10, 100, 1000]},\n",
    "  {'lrgr__class_weight': ['balanced'],'lrgr__max_iter':[10000],'lrgr__penalty': ['l2'], 'lrgr__solver': ['newton-cg','lbfgs','sag'],'lrgr__multi_class': ['ovr'],'lrgr__class_weight': [None, 'balanced'],'lrgr__C': [0.001, 0.01, 0.1, 1, 10, 100, 1000]}\n",
    "  ]\n",
    "\n",
    "grid_search = GridSearchCV(pipeline, lrgr_param_grid, cv=10,\n",
    "                           scoring=scoring_list, return_train_score=True, refit='f1')\n",
    "grid_search.fit(X_train, y_train)"
   ]
  },
  {
   "cell_type": "markdown",
   "metadata": {},
   "source": [
    "The best hyperparameter combination found:"
   ]
  },
  {
   "cell_type": "code",
   "execution_count": 70,
   "metadata": {},
   "outputs": [
    {
     "data": {
      "text/plain": [
       "{'lrgr__C': 0.01,\n",
       " 'lrgr__class_weight': 'balanced',\n",
       " 'lrgr__max_iter': 10000,\n",
       " 'lrgr__multi_class': 'ovr',\n",
       " 'lrgr__penalty': 'l2',\n",
       " 'lrgr__solver': 'newton-cg'}"
      ]
     },
     "execution_count": 70,
     "metadata": {},
     "output_type": "execute_result"
    }
   ],
   "source": [
    "grid_search.best_params_"
   ]
  },
  {
   "cell_type": "code",
   "execution_count": 71,
   "metadata": {},
   "outputs": [
    {
     "data": {
      "text/plain": [
       "0.7273034087073912"
      ]
     },
     "metadata": {},
     "output_type": "display_data"
    },
    {
     "data": {
      "text/plain": [
       "0.4647041280635029"
      ]
     },
     "metadata": {},
     "output_type": "display_data"
    },
    {
     "data": {
      "text/plain": [
       "0.7127202261535945"
      ]
     },
     "metadata": {},
     "output_type": "display_data"
    },
    {
     "data": {
      "text/plain": [
       "0.562518822139418"
      ]
     },
     "metadata": {},
     "output_type": "display_data"
    },
    {
     "data": {
      "text/plain": [
       "0.8031561715705802"
      ]
     },
     "metadata": {},
     "output_type": "display_data"
    }
   ],
   "source": [
    "display(grid_search.cv_results_['mean_test_Accuracy'][grid_search.best_index_])\n",
    "display(grid_search.cv_results_['mean_test_Precision'][grid_search.best_index_])\n",
    "display(grid_search.cv_results_['mean_test_Recall'][grid_search.best_index_])\n",
    "display(grid_search.cv_results_['mean_test_f1'][grid_search.best_index_])\n",
    "display(grid_search.cv_results_['mean_test_AUC'][grid_search.best_index_])"
   ]
  },
  {
   "cell_type": "code",
   "execution_count": 72,
   "metadata": {},
   "outputs": [
    {
     "data": {
      "text/plain": [
       "0.562518822139418"
      ]
     },
     "execution_count": 72,
     "metadata": {},
     "output_type": "execute_result"
    }
   ],
   "source": [
    "grid_search.best_score_"
   ]
  },
  {
   "cell_type": "markdown",
   "metadata": {},
   "source": [
    "Lets see its performance on unseen data"
   ]
  },
  {
   "cell_type": "code",
   "execution_count": 73,
   "metadata": {},
   "outputs": [],
   "source": [
    "lrgr=LogisticRegression(C=0.01,class_weight='balanced',max_iter=10000,multi_class='ovr',penalty='l2',solver='lbfgs',random_state=seedno)\n",
    "sm = SMOTE(random_state=seedno)\n",
    "pca = PCA(random_state=seedno)\n",
    "X_train_bal, y_train_bal =sm.fit_resample(X_train,y_train)\n",
    "    \n",
    "pca.fit(X_train_bal)\n",
    "lrgr.fit(pca.transform(X_train_bal),y_train_bal)\n",
    "y_pred = lrgr.predict(pca.transform(X_test))"
   ]
  },
  {
   "cell_type": "code",
   "execution_count": 74,
   "metadata": {},
   "outputs": [
    {
     "data": {
      "text/plain": [
       "(2438, 874, 314, 819)"
      ]
     },
     "execution_count": 74,
     "metadata": {},
     "output_type": "execute_result"
    }
   ],
   "source": [
    "from sklearn.metrics import confusion_matrix\n",
    "tn, fp, fn, tp = confusion_matrix(y_test, y_pred).ravel()\n",
    "(tn, fp, fn, tp)"
   ]
  },
  {
   "cell_type": "code",
   "execution_count": 75,
   "metadata": {},
   "outputs": [
    {
     "data": {
      "text/plain": [
       "0.7327334083239595"
      ]
     },
     "execution_count": 75,
     "metadata": {},
     "output_type": "execute_result"
    }
   ],
   "source": [
    "from sklearn.metrics import accuracy_score\n",
    "accuracy_score(y_test, y_pred)"
   ]
  },
  {
   "cell_type": "code",
   "execution_count": 76,
   "metadata": {},
   "outputs": [
    {
     "name": "stdout",
     "output_type": "stream",
     "text": [
      "              precision    recall  f1-score   support\n",
      "\n",
      "           0       0.89      0.74      0.80      3312\n",
      "           1       0.48      0.72      0.58      1133\n",
      "\n",
      "   micro avg       0.73      0.73      0.73      4445\n",
      "   macro avg       0.68      0.73      0.69      4445\n",
      "weighted avg       0.78      0.73      0.75      4445\n",
      "\n"
     ]
    }
   ],
   "source": [
    "print(classification_report(y_test, y_pred))"
   ]
  },
  {
   "cell_type": "code",
   "execution_count": 77,
   "metadata": {},
   "outputs": [
    {
     "data": {
      "text/plain": [
       "0.5796178343949044"
      ]
     },
     "execution_count": 77,
     "metadata": {},
     "output_type": "execute_result"
    }
   ],
   "source": [
    "from sklearn.metrics import f1_score\n",
    "f1_score(y_test, y_pred)"
   ]
  },
  {
   "cell_type": "markdown",
   "metadata": {},
   "source": [
    "#### Gradient Boosting Classifier"
   ]
  },
  {
   "cell_type": "markdown",
   "metadata": {},
   "source": [
    "Lets see the baseline gradient boosting classifier model performance before grid search"
   ]
  },
  {
   "cell_type": "code",
   "execution_count": 78,
   "metadata": {},
   "outputs": [],
   "source": [
    "gbc=GradientBoostingClassifier(random_state=seedno)\n",
    "sm = SMOTE(random_state=seedno)\n",
    "pipeline = Pipeline([ ('sm',sm), ('pca',pca),('gbc', gbc)])\n",
    "scoring_list = {'Accuracy': 'accuracy', 'Precision': 'precision', 'Recall': 'recall', 'f1': 'f1', 'AUC': 'roc_auc' }\n",
    "scores = cross_validate(pipeline,X_train,y_train, cv=10, scoring =scoring_list,return_estimator=True)"
   ]
  },
  {
   "cell_type": "code",
   "execution_count": 79,
   "metadata": {},
   "outputs": [
    {
     "data": {
      "text/plain": [
       "Pipeline(memory=None,\n",
       "     steps=[('sm', SMOTE(k_neighbors=5, kind='deprecated', m_neighbors='deprecated', n_jobs=1,\n",
       "   out_step='deprecated', random_state=18704, ratio=None,\n",
       "   sampling_strategy='auto', svm_estimator='deprecated')), ('pca', PCA(copy=True, iterated_power='auto', n_components=None, random_state=18704,\n",
       "  svd_so...    subsample=1.0, tol=0.0001, validation_fraction=0.1,\n",
       "              verbose=0, warm_start=False))])"
      ]
     },
     "metadata": {},
     "output_type": "display_data"
    }
   ],
   "source": [
    "display(scores['estimator'][0])"
   ]
  },
  {
   "cell_type": "code",
   "execution_count": 80,
   "metadata": {},
   "outputs": [
    {
     "data": {
      "text/plain": [
       "0.5735352273196355"
      ]
     },
     "execution_count": 80,
     "metadata": {},
     "output_type": "execute_result"
    }
   ],
   "source": [
    "scores['test_f1'].mean()"
   ]
  },
  {
   "cell_type": "markdown",
   "metadata": {},
   "source": [
    "Lets see if we can improve model performance with grid search"
   ]
  },
  {
   "cell_type": "code",
   "execution_count": 81,
   "metadata": {},
   "outputs": [
    {
     "data": {
      "text/plain": [
       "GridSearchCV(cv=2, error_score='raise-deprecating',\n",
       "       estimator=Pipeline(memory=None,\n",
       "     steps=[('sm', SMOTE(k_neighbors=5, kind='deprecated', m_neighbors='deprecated', n_jobs=1,\n",
       "   out_step='deprecated', random_state=18704, ratio=None,\n",
       "   sampling_strategy='auto', svm_estimator='deprecated')), ('pca', PCA(copy=True, iterated_power='auto', n_components=None, random_state=18704,\n",
       "  svd_so...    subsample=1.0, tol=0.0001, validation_fraction=0.1,\n",
       "              verbose=0, warm_start=False))]),\n",
       "       fit_params=None, iid='warn', n_jobs=None,\n",
       "       param_grid=[{'gbc__learning_rate': [0.05, 0.1, 0.2], 'gbc__min_samples_split': [2, 6, 10], 'gbc__min_samples_leaf': [1, 3, 5], 'gbc__max_depth': [3, 5, 8], 'gbc__max_features': [None], 'gbc__criterion': ['friedman_mse'], 'gbc__subsample': [0.5, 0.8, 1.0], 'gbc__n_estimators': [50, 100, 150]}],\n",
       "       pre_dispatch='2*n_jobs', refit='f1', return_train_score=True,\n",
       "       scoring={'Accuracy': 'accuracy', 'Precision': 'precision', 'Recall': 'recall', 'f1': 'f1', 'AUC': 'roc_auc'},\n",
       "       verbose=0)"
      ]
     },
     "execution_count": 81,
     "metadata": {},
     "output_type": "execute_result"
    }
   ],
   "source": [
    "from sklearn.model_selection import GridSearchCV\n",
    "\n",
    "gbc_param_grid = [\n",
    "    {\"gbc__learning_rate\": [0.05,0.1,0.2],\n",
    "    \"gbc__min_samples_split\": [2,6,10],\n",
    "    \"gbc__min_samples_leaf\": [1,3,5],\n",
    "    \"gbc__max_depth\":[3,5,8],\n",
    "    \"gbc__max_features\":[None],\n",
    "    \"gbc__criterion\": [\"friedman_mse\"],\n",
    "    \"gbc__subsample\":[0.5,0.8,1.0],\n",
    "    \"gbc__n_estimators\":[50,100,150]\n",
    "    }\n",
    "  ]\n",
    "\n",
    "grid_search = GridSearchCV(pipeline, gbc_param_grid, cv=2,\n",
    "                           scoring=scoring_list, return_train_score=True, refit='f1')\n",
    "grid_search.fit(X_train, y_train)"
   ]
  },
  {
   "cell_type": "code",
   "execution_count": 82,
   "metadata": {},
   "outputs": [
    {
     "data": {
      "text/plain": [
       "{'gbc__criterion': 'friedman_mse',\n",
       " 'gbc__learning_rate': 0.05,\n",
       " 'gbc__max_depth': 5,\n",
       " 'gbc__max_features': None,\n",
       " 'gbc__min_samples_leaf': 1,\n",
       " 'gbc__min_samples_split': 10,\n",
       " 'gbc__n_estimators': 50,\n",
       " 'gbc__subsample': 0.5}"
      ]
     },
     "execution_count": 82,
     "metadata": {},
     "output_type": "execute_result"
    }
   ],
   "source": [
    "grid_search.best_params_"
   ]
  },
  {
   "cell_type": "code",
   "execution_count": 83,
   "metadata": {},
   "outputs": [
    {
     "data": {
      "text/plain": [
       "0.7630779615254809"
      ]
     },
     "metadata": {},
     "output_type": "display_data"
    },
    {
     "data": {
      "text/plain": [
       "0.5146119789838739"
      ]
     },
     "metadata": {},
     "output_type": "display_data"
    },
    {
     "data": {
      "text/plain": [
       "0.6527904849039341"
      ]
     },
     "metadata": {},
     "output_type": "display_data"
    },
    {
     "data": {
      "text/plain": [
       "0.5754878603219945"
      ]
     },
     "metadata": {},
     "output_type": "display_data"
    },
    {
     "data": {
      "text/plain": [
       "0.8023223170682271"
      ]
     },
     "metadata": {},
     "output_type": "display_data"
    }
   ],
   "source": [
    "display(grid_search.cv_results_['mean_test_Accuracy'][grid_search.best_index_])\n",
    "display(grid_search.cv_results_['mean_test_Precision'][grid_search.best_index_])\n",
    "display(grid_search.cv_results_['mean_test_Recall'][grid_search.best_index_])\n",
    "display(grid_search.cv_results_['mean_test_f1'][grid_search.best_index_])\n",
    "display(grid_search.cv_results_['mean_test_AUC'][grid_search.best_index_])"
   ]
  },
  {
   "cell_type": "code",
   "execution_count": 84,
   "metadata": {},
   "outputs": [
    {
     "data": {
      "text/plain": [
       "0.5754878603219945"
      ]
     },
     "execution_count": 84,
     "metadata": {},
     "output_type": "execute_result"
    }
   ],
   "source": [
    "grid_search.best_score_"
   ]
  },
  {
   "cell_type": "markdown",
   "metadata": {},
   "source": [
    "Lets see its performance on unseen data"
   ]
  },
  {
   "cell_type": "code",
   "execution_count": 85,
   "metadata": {},
   "outputs": [],
   "source": [
    "gbc=GradientBoostingClassifier(criterion='friedman_mse',learning_rate=0.05,max_depth=5,max_features=None,min_samples_leaf=1,min_samples_split=10,n_estimators=50,subsample=0.5,random_state=seedno)\n",
    "sm = SMOTE(random_state=seedno)\n",
    "pca = PCA(random_state=seedno)\n",
    "X_train_bal, y_train_bal =sm.fit_resample(X_train,y_train)\n",
    "    \n",
    "pca.fit(X_train_bal)\n",
    "gbc.fit(pca.transform(X_train_bal),y_train_bal)\n",
    "y_pred = gbc.predict(pca.transform(X_test))"
   ]
  },
  {
   "cell_type": "code",
   "execution_count": 86,
   "metadata": {
    "scrolled": false
   },
   "outputs": [
    {
     "data": {
      "text/plain": [
       "(2593, 719, 369, 764)"
      ]
     },
     "execution_count": 86,
     "metadata": {},
     "output_type": "execute_result"
    }
   ],
   "source": [
    "from sklearn.metrics import confusion_matrix\n",
    "tn, fp, fn, tp = confusion_matrix(y_test, y_pred).ravel()\n",
    "(tn, fp, fn, tp)"
   ]
  },
  {
   "cell_type": "code",
   "execution_count": 87,
   "metadata": {},
   "outputs": [
    {
     "data": {
      "text/plain": [
       "0.755230596175478"
      ]
     },
     "execution_count": 87,
     "metadata": {},
     "output_type": "execute_result"
    }
   ],
   "source": [
    "from sklearn.metrics import accuracy_score\n",
    "accuracy_score(y_test, y_pred)"
   ]
  },
  {
   "cell_type": "code",
   "execution_count": 88,
   "metadata": {},
   "outputs": [
    {
     "name": "stdout",
     "output_type": "stream",
     "text": [
      "              precision    recall  f1-score   support\n",
      "\n",
      "           0       0.88      0.78      0.83      3312\n",
      "           1       0.52      0.67      0.58      1133\n",
      "\n",
      "   micro avg       0.76      0.76      0.76      4445\n",
      "   macro avg       0.70      0.73      0.71      4445\n",
      "weighted avg       0.78      0.76      0.76      4445\n",
      "\n"
     ]
    }
   ],
   "source": [
    "print(classification_report(y_test, y_pred))"
   ]
  },
  {
   "cell_type": "code",
   "execution_count": 89,
   "metadata": {},
   "outputs": [
    {
     "data": {
      "text/plain": [
       "0.5840978593272173"
      ]
     },
     "execution_count": 89,
     "metadata": {},
     "output_type": "execute_result"
    }
   ],
   "source": [
    "from sklearn.metrics import f1_score\n",
    "f1_score(y_test, y_pred)"
   ]
  },
  {
   "cell_type": "markdown",
   "metadata": {},
   "source": [
    "The End!"
   ]
  }
 ],
 "metadata": {
  "kernelspec": {
   "display_name": "Python 3",
   "language": "python",
   "name": "python3"
  },
  "language_info": {
   "codemirror_mode": {
    "name": "ipython",
    "version": 3
   },
   "file_extension": ".py",
   "mimetype": "text/x-python",
   "name": "python",
   "nbconvert_exporter": "python",
   "pygments_lexer": "ipython3",
   "version": "3.6.5"
  },
  "nav_menu": {
   "height": "279px",
   "width": "309px"
  },
  "toc": {
   "nav_menu": {},
   "number_sections": true,
   "sideBar": true,
   "skip_h1_title": false,
   "toc_cell": false,
   "toc_position": {},
   "toc_section_display": "block",
   "toc_window_display": false
  }
 },
 "nbformat": 4,
 "nbformat_minor": 1
}
